{
  "nbformat": 4,
  "nbformat_minor": 0,
  "metadata": {
    "colab": {
      "name": "FeatureSelectionPipe.ipynb",
      "provenance": [],
      "collapsed_sections": [],
      "authorship_tag": "ABX9TyNZw2HVkZnJRhX04Xvbf/RX",
      "include_colab_link": true
    },
    "kernelspec": {
      "name": "python3",
      "display_name": "Python 3"
    }
  },
  "cells": [
    {
      "cell_type": "markdown",
      "metadata": {
        "id": "view-in-github",
        "colab_type": "text"
      },
      "source": [
        "<a href=\"https://colab.research.google.com/github/tao-c/ml_notes/blob/master/FeatureSelectionPipe.ipynb\" target=\"_parent\"><img src=\"https://colab.research.google.com/assets/colab-badge.svg\" alt=\"Open In Colab\"/></a>"
      ]
    },
    {
      "cell_type": "markdown",
      "metadata": {
        "id": "xTzNNjTkwenR",
        "colab_type": "text"
      },
      "source": [
        "# Feature selection is a decisive part of a machine learning pipeline: being too conservative means introducing unnecessary noise, while being too aggressive means throwing away useful information.\n",
        "\n",
        "## In this post, we have seen how to use Boruta for performing a robust, statistically grounded feature selection on your dataset. Indeed, making substantial decisions about features is critical to ensure the success of your predictive model."
      ]
    },
    {
      "cell_type": "markdown",
      "metadata": {
        "id": "wrzo2_fSwpCs",
        "colab_type": "text"
      },
      "source": [
        "# https://miro.medium.com/max/2000/1*J-7kkseitdupEm5adCfHmw.png\n",
        "from IPython.display import Image\n",
        "from IPython.core.display import HTML \n",
        "Image(url= \"http://my_site.com/my_picture.jpg\")"
      ]
    },
    {
      "cell_type": "code",
      "metadata": {
        "id": "QZU2mlAgw29_",
        "colab_type": "code",
        "colab": {
          "base_uri": "https://localhost:8080/",
          "height": 622
        },
        "outputId": "b7c7c821-938b-40b1-95b4-33e9d58b3ed0"
      },
      "source": [
        "from IPython.display import Image\n",
        "from IPython.core.display import HTML \n",
        "Image(url= \"https://miro.medium.com/max/2000/1*J-7kkseitdupEm5adCfHmw.png\")"
      ],
      "execution_count": 20,
      "outputs": [
        {
          "output_type": "execute_result",
          "data": {
            "text/html": [
              "<img src=\"https://miro.medium.com/max/2000/1*J-7kkseitdupEm5adCfHmw.png\"/>"
            ],
            "text/plain": [
              "<IPython.core.display.Image object>"
            ]
          },
          "metadata": {
            "tags": []
          },
          "execution_count": 20
        }
      ]
    },
    {
      "cell_type": "code",
      "metadata": {
        "id": "_xvu2yxNeTp8",
        "colab_type": "code",
        "colab": {
          "base_uri": "https://localhost:8080/",
          "height": 71
        },
        "outputId": "86f6690e-1816-4c40-ce92-3c59c5c7a4df"
      },
      "source": [
        "\"\"\" ***************************************************************************\n",
        "# * File Description:                                                         *\n",
        "# * Workflow for feature selection.                                           *\n",
        "# *                                                                           *\n",
        "# * The contents of this script are:                                          *\n",
        "# * 1. Importing Libraries                                                    *\n",
        "# * 2a. Get Madelon like data                                                 *\n",
        "# * 2b. Define Helper Function to Create Skewed Distributions                 *\n",
        "# * 2c. Create Critical Features                                              *\n",
        "# * 2d. Set Critical Feature Thresholds and Create Labels                     *\n",
        "# * 2e. Visualize Critical Features                                           *\n",
        "# * 2f. Create Feature Matrix X_all and Target Column y_all                   *\n",
        "# * 2g. Create train and test set                                             *\n",
        "# * 3a. Exploratory Data Analysis: Correlation Matrix                         *\n",
        "# * 3b. Exploratory Data Analysis: Box Plots                                  *\n",
        "# * 4a. Feature Selection: Removing with a large fraction of constant values  *\n",
        "# * 4b. Feature Selection: Removing highly correlated features                *\n",
        "# * 4c. Feature Selection: Selecting relevant features                        *\n",
        "# * 4d. Feature Selection: Dangers of a model that overfits                   *\n",
        "# * 4e. Feature Selection: Tuning Estimator                                   *\n",
        "# * 4f. Feature Selection: Selecting relevant features with tuned model       *\n",
        "# * 4g. Feature Selection: Model evaluation with selected features            *\n",
        "# * 5a. Feature Selection Pipeline: Removing Highly Correlated + RFE          *\n",
        "# * 5b. Feature Selection: Model evaluation with selected features            *\n",
        "# *                                                                           *\n",
        "# * --------------------------------------------------------------------------*\n",
        "# * AUTHORS(S): Frank Ceballos <frank.ceballos89@gmail.com>                   *\n",
        "# * --------------------------------------------------------------------------*\n",
        "# * DATE CREATED: February 08, 2020                                           *\n",
        "# * --------------------------------------------------------------------------*\n",
        "# * NOTES: None                                                               *\n",
        "# * ************************************************************************\"\"\"\n",
        "\n",
        "\n",
        "###############################################################################\n",
        "#                          1. Importing Libraries                             #\n",
        "###############################################################################\n",
        "# For reading, visualizing, and preprocessing data\n",
        "import numpy as np\n",
        "import pandas as pd\n",
        "import seaborn as sns\n",
        "import matplotlib.pyplot as plt\n",
        "from sklearn.datasets import make_classification\n",
        "from sklearn.model_selection import train_test_split, GridSearchCV\n",
        "from sklearn import metrics\n",
        "from sklearn.ensemble import RandomForestClassifier\n",
        "\n",
        "\n",
        "###############################################################################\n",
        "#                        2a. Get Madelon like data                            #\n",
        "###############################################################################\n",
        "# Define the number of features for each type\n",
        "n_features = 100\n",
        "n_informative = 10\n",
        "n_redundant = 50\n",
        "n_repeated = 25\n",
        "n_useless = 15\n",
        "\n",
        "# Create Labels\n",
        "informative_labels = [f'Informative {ii}' for ii in range(1, n_informative + 1)]\n",
        "redundant_labels = [f'Redundant {ii}' for ii in range(n_informative + 1, n_informative + n_redundant + 1)]\n",
        "repeated_labels = [f'Repeated {ii}' for ii in range(n_informative + n_redundant+ 1, n_informative + n_redundant + n_repeated + 1)]\n",
        "useless_labels = [f'Useless {ii}' for ii in range(n_informative + n_redundant + n_repeated + 1, n_features + 1)]\n",
        "labels = informative_labels + redundant_labels + repeated_labels + useless_labels\n",
        "\n",
        "# Get data\n",
        "X_madelon, y_madelon = make_classification(n_samples = 1000, n_features = n_features,\n",
        "                           n_informative = n_informative,\n",
        "                           n_redundant = n_redundant , n_repeated = n_repeated,\n",
        "                           n_clusters_per_class = 2, class_sep = 0.5, flip_y = 0.05,\n",
        "                           random_state = 42, shuffle = False)\n",
        "\n",
        "\n",
        "# Numpy array to pandas dataframe and series\n",
        "X_madelon = pd.DataFrame(X_madelon, columns = labels)\n"
      ],
      "execution_count": 1,
      "outputs": [
        {
          "output_type": "stream",
          "text": [
            "/usr/local/lib/python3.6/dist-packages/statsmodels/tools/_testing.py:19: FutureWarning: pandas.util.testing is deprecated. Use the functions in the public API at pandas.testing instead.\n",
            "  import pandas.util.testing as tm\n"
          ],
          "name": "stderr"
        }
      ]
    },
    {
      "cell_type": "code",
      "metadata": {
        "id": "3j2bIfJwefd-",
        "colab_type": "code",
        "colab": {
          "base_uri": "https://localhost:8080/",
          "height": 1000
        },
        "outputId": "9a226e3e-3336-4b56-d41a-c9f4b6c2fcbc"
      },
      "source": [
        "X_madelon.info()"
      ],
      "execution_count": 2,
      "outputs": [
        {
          "output_type": "stream",
          "text": [
            "<class 'pandas.core.frame.DataFrame'>\n",
            "RangeIndex: 1000 entries, 0 to 999\n",
            "Data columns (total 100 columns):\n",
            " #   Column          Non-Null Count  Dtype  \n",
            "---  ------          --------------  -----  \n",
            " 0   Informative 1   1000 non-null   float64\n",
            " 1   Informative 2   1000 non-null   float64\n",
            " 2   Informative 3   1000 non-null   float64\n",
            " 3   Informative 4   1000 non-null   float64\n",
            " 4   Informative 5   1000 non-null   float64\n",
            " 5   Informative 6   1000 non-null   float64\n",
            " 6   Informative 7   1000 non-null   float64\n",
            " 7   Informative 8   1000 non-null   float64\n",
            " 8   Informative 9   1000 non-null   float64\n",
            " 9   Informative 10  1000 non-null   float64\n",
            " 10  Redundant 11    1000 non-null   float64\n",
            " 11  Redundant 12    1000 non-null   float64\n",
            " 12  Redundant 13    1000 non-null   float64\n",
            " 13  Redundant 14    1000 non-null   float64\n",
            " 14  Redundant 15    1000 non-null   float64\n",
            " 15  Redundant 16    1000 non-null   float64\n",
            " 16  Redundant 17    1000 non-null   float64\n",
            " 17  Redundant 18    1000 non-null   float64\n",
            " 18  Redundant 19    1000 non-null   float64\n",
            " 19  Redundant 20    1000 non-null   float64\n",
            " 20  Redundant 21    1000 non-null   float64\n",
            " 21  Redundant 22    1000 non-null   float64\n",
            " 22  Redundant 23    1000 non-null   float64\n",
            " 23  Redundant 24    1000 non-null   float64\n",
            " 24  Redundant 25    1000 non-null   float64\n",
            " 25  Redundant 26    1000 non-null   float64\n",
            " 26  Redundant 27    1000 non-null   float64\n",
            " 27  Redundant 28    1000 non-null   float64\n",
            " 28  Redundant 29    1000 non-null   float64\n",
            " 29  Redundant 30    1000 non-null   float64\n",
            " 30  Redundant 31    1000 non-null   float64\n",
            " 31  Redundant 32    1000 non-null   float64\n",
            " 32  Redundant 33    1000 non-null   float64\n",
            " 33  Redundant 34    1000 non-null   float64\n",
            " 34  Redundant 35    1000 non-null   float64\n",
            " 35  Redundant 36    1000 non-null   float64\n",
            " 36  Redundant 37    1000 non-null   float64\n",
            " 37  Redundant 38    1000 non-null   float64\n",
            " 38  Redundant 39    1000 non-null   float64\n",
            " 39  Redundant 40    1000 non-null   float64\n",
            " 40  Redundant 41    1000 non-null   float64\n",
            " 41  Redundant 42    1000 non-null   float64\n",
            " 42  Redundant 43    1000 non-null   float64\n",
            " 43  Redundant 44    1000 non-null   float64\n",
            " 44  Redundant 45    1000 non-null   float64\n",
            " 45  Redundant 46    1000 non-null   float64\n",
            " 46  Redundant 47    1000 non-null   float64\n",
            " 47  Redundant 48    1000 non-null   float64\n",
            " 48  Redundant 49    1000 non-null   float64\n",
            " 49  Redundant 50    1000 non-null   float64\n",
            " 50  Redundant 51    1000 non-null   float64\n",
            " 51  Redundant 52    1000 non-null   float64\n",
            " 52  Redundant 53    1000 non-null   float64\n",
            " 53  Redundant 54    1000 non-null   float64\n",
            " 54  Redundant 55    1000 non-null   float64\n",
            " 55  Redundant 56    1000 non-null   float64\n",
            " 56  Redundant 57    1000 non-null   float64\n",
            " 57  Redundant 58    1000 non-null   float64\n",
            " 58  Redundant 59    1000 non-null   float64\n",
            " 59  Redundant 60    1000 non-null   float64\n",
            " 60  Repeated 61     1000 non-null   float64\n",
            " 61  Repeated 62     1000 non-null   float64\n",
            " 62  Repeated 63     1000 non-null   float64\n",
            " 63  Repeated 64     1000 non-null   float64\n",
            " 64  Repeated 65     1000 non-null   float64\n",
            " 65  Repeated 66     1000 non-null   float64\n",
            " 66  Repeated 67     1000 non-null   float64\n",
            " 67  Repeated 68     1000 non-null   float64\n",
            " 68  Repeated 69     1000 non-null   float64\n",
            " 69  Repeated 70     1000 non-null   float64\n",
            " 70  Repeated 71     1000 non-null   float64\n",
            " 71  Repeated 72     1000 non-null   float64\n",
            " 72  Repeated 73     1000 non-null   float64\n",
            " 73  Repeated 74     1000 non-null   float64\n",
            " 74  Repeated 75     1000 non-null   float64\n",
            " 75  Repeated 76     1000 non-null   float64\n",
            " 76  Repeated 77     1000 non-null   float64\n",
            " 77  Repeated 78     1000 non-null   float64\n",
            " 78  Repeated 79     1000 non-null   float64\n",
            " 79  Repeated 80     1000 non-null   float64\n",
            " 80  Repeated 81     1000 non-null   float64\n",
            " 81  Repeated 82     1000 non-null   float64\n",
            " 82  Repeated 83     1000 non-null   float64\n",
            " 83  Repeated 84     1000 non-null   float64\n",
            " 84  Repeated 85     1000 non-null   float64\n",
            " 85  Useless 86      1000 non-null   float64\n",
            " 86  Useless 87      1000 non-null   float64\n",
            " 87  Useless 88      1000 non-null   float64\n",
            " 88  Useless 89      1000 non-null   float64\n",
            " 89  Useless 90      1000 non-null   float64\n",
            " 90  Useless 91      1000 non-null   float64\n",
            " 91  Useless 92      1000 non-null   float64\n",
            " 92  Useless 93      1000 non-null   float64\n",
            " 93  Useless 94      1000 non-null   float64\n",
            " 94  Useless 95      1000 non-null   float64\n",
            " 95  Useless 96      1000 non-null   float64\n",
            " 96  Useless 97      1000 non-null   float64\n",
            " 97  Useless 98      1000 non-null   float64\n",
            " 98  Useless 99      1000 non-null   float64\n",
            " 99  Useless 100     1000 non-null   float64\n",
            "dtypes: float64(100)\n",
            "memory usage: 781.4 KB\n"
          ],
          "name": "stdout"
        }
      ]
    },
    {
      "cell_type": "code",
      "metadata": {
        "id": "xq30BkQqet4J",
        "colab_type": "code",
        "colab": {}
      },
      "source": [
        "###############################################################################\n",
        "#          2b. Define Helper Function to Create Skewed Distributions          #\n",
        "###############################################################################\n",
        "def randn_skew_fast(N, alpha=0.0, loc=0, scale=1.0):\n",
        "    \"\"\"\n",
        "    Created a skewed distribution by randomly drawing from a skewed probability \n",
        "    densiy function.\n",
        "    \n",
        "    \n",
        "    Parameters\n",
        "    ----------\n",
        "     N: int\n",
        "        Number of points\n",
        "    \n",
        "    alpha: float\n",
        "        Value describing the skeweness of the distribution. \n",
        "    \n",
        "    loc: float\n",
        "        Value describing the mean value of the skewed distribution\n",
        "    \n",
        "    scale: float\n",
        "        Value describing the width of the skewed distribution\n",
        "    \n",
        "    \n",
        "    Author Information\n",
        "    ------------------\n",
        "    jamesj629: <https://stackoverflow.com/users/266208/jamesj629>\n",
        "    \n",
        "    Source to original function: \n",
        "    <https://stackoverflow.com/questions/36200913/generate-n-random-numbers-from-a-skew-normal-distribution-using-numpy>\n",
        "    \"\"\"\n",
        "    sigma = alpha / np.sqrt(1.0 + alpha**2) \n",
        "    u0 = np.random.randn(N)\n",
        "    v = np.random.randn(N)\n",
        "    u1 = (sigma*u0 + np.sqrt(1.0 - sigma**2)*v) * scale\n",
        "    u1[u0 < 0] *= -1\n",
        "    u1 = u1 + loc\n",
        "    return u1\n",
        "\n",
        "\n",
        "###############################################################################\n",
        "#                       2c. Create Critical Features                          #\n",
        "###############################################################################\n",
        "# Set critical features distribution parameters\n",
        "No_Critical_Features = 3\n",
        "NUM_SAMPLES = 1000\n",
        "SKEW_PARAMS = [0, 0, 0]\n",
        "AVERAGE = [-10, 0, 10]\n",
        "SEEDS = [42, 148, 526]\n",
        "critical_features = []\n",
        "\n",
        "# Create critical features\n",
        "for ii in range(No_Critical_Features):\n",
        "    # Set random seed\n",
        "    np.random.seed(SEEDS[ii])\n",
        "    \n",
        "    # Set skewness and average value\n",
        "    alpha_skew = SKEW_PARAMS[ii]\n",
        "    average = AVERAGE[ii]\n",
        "    \n",
        "    # Get critical feature\n",
        "    X_temp = randn_skew_fast(N = NUM_SAMPLES, alpha = alpha_skew, loc = average)\n",
        "    \n",
        "    # Append to critical feature list\n",
        "    critical_features.append(X_temp)"
      ],
      "execution_count": 0,
      "outputs": []
    },
    {
      "cell_type": "code",
      "metadata": {
        "id": "9-K79DVJgg1V",
        "colab_type": "code",
        "colab": {}
      },
      "source": [
        "###############################################################################\n",
        "#            2d. Set Critical Feature Thresholds and Create Labels            #\n",
        "###############################################################################\n",
        "# Get critical labels\n",
        "y_critical_1 = critical_features[0] < -8.3\n",
        "y_critical_2 = critical_features[1] > -1.6\n",
        "y_critical_3 = critical_features[2] > 8.3\n",
        "\n",
        "# Save targets into a list\n",
        "y_critical_targets = [y_critical_1, y_critical_2, y_critical_3]\n",
        "\n",
        "# Define y_critical \n",
        "y_critical = y_critical_1*y_critical_2*y_critical_3*1\n"
      ],
      "execution_count": 0,
      "outputs": []
    },
    {
      "cell_type": "code",
      "metadata": {
        "id": "7lXwZnj3giil",
        "colab_type": "code",
        "colab": {
          "base_uri": "https://localhost:8080/",
          "height": 799
        },
        "outputId": "b0bbc178-6008-4a66-f033-1b20ad592841"
      },
      "source": [
        "y_critical"
      ],
      "execution_count": 7,
      "outputs": [
        {
          "output_type": "execute_result",
          "data": {
            "text/plain": [
              "array([1, 1, 1, 1, 1, 1, 1, 1, 1, 0, 1, 1, 0, 1, 0, 1, 1, 1, 1, 1, 1, 0,\n",
              "       0, 1, 1, 0, 1, 1, 1, 1, 0, 1, 1, 1, 1, 1, 1, 0, 1, 1, 1, 0, 1, 1,\n",
              "       1, 1, 1, 1, 1, 1, 1, 1, 0, 1, 1, 1, 1, 1, 1, 1, 1, 0, 1, 0, 1, 1,\n",
              "       1, 1, 1, 1, 1, 1, 1, 0, 1, 1, 0, 0, 1, 1, 1, 1, 0, 1, 1, 1, 0, 1,\n",
              "       1, 1, 1, 1, 1, 1, 0, 1, 1, 1, 1, 1, 1, 0, 1, 1, 1, 1, 1, 1, 1, 0,\n",
              "       1, 1, 1, 1, 1, 1, 0, 1, 1, 0, 1, 1, 1, 0, 1, 1, 0, 1, 0, 0, 1, 1,\n",
              "       1, 1, 1, 1, 1, 1, 1, 1, 1, 1, 1, 0, 1, 1, 1, 1, 1, 1, 1, 1, 1, 1,\n",
              "       1, 1, 1, 0, 1, 1, 0, 0, 1, 1, 1, 0, 1, 1, 1, 1, 1, 1, 1, 0, 1, 0,\n",
              "       1, 1, 1, 1, 1, 1, 1, 1, 1, 1, 1, 1, 1, 1, 1, 1, 1, 1, 1, 0, 1, 1,\n",
              "       1, 1, 1, 1, 1, 1, 1, 1, 1, 1, 0, 0, 1, 1, 0, 1, 1, 1, 1, 1, 1, 0,\n",
              "       1, 1, 1, 1, 1, 1, 0, 1, 1, 0, 1, 1, 1, 1, 1, 1, 1, 1, 1, 1, 0, 1,\n",
              "       1, 1, 1, 1, 1, 1, 0, 1, 0, 1, 1, 1, 1, 1, 1, 1, 1, 1, 1, 1, 1, 1,\n",
              "       1, 1, 1, 1, 1, 1, 1, 1, 1, 1, 1, 1, 0, 1, 0, 1, 1, 1, 1, 1, 1, 1,\n",
              "       0, 1, 1, 0, 1, 0, 1, 1, 1, 1, 1, 1, 1, 1, 1, 0, 1, 1, 1, 1, 1, 1,\n",
              "       1, 1, 1, 1, 1, 1, 1, 0, 1, 1, 1, 1, 1, 1, 1, 1, 1, 0, 1, 1, 1, 0,\n",
              "       1, 0, 1, 1, 1, 1, 1, 1, 1, 1, 1, 1, 1, 1, 1, 1, 0, 1, 1, 1, 1, 1,\n",
              "       1, 1, 1, 0, 1, 1, 1, 1, 1, 0, 0, 1, 1, 1, 1, 1, 1, 1, 1, 0, 0, 0,\n",
              "       1, 1, 0, 1, 1, 1, 1, 1, 1, 1, 1, 1, 1, 1, 1, 1, 0, 1, 1, 1, 1, 1,\n",
              "       1, 1, 1, 1, 1, 1, 1, 1, 1, 1, 1, 1, 1, 1, 1, 1, 0, 0, 1, 0, 0, 1,\n",
              "       1, 1, 0, 1, 1, 1, 1, 1, 1, 1, 1, 1, 1, 1, 0, 1, 1, 1, 1, 1, 1, 1,\n",
              "       0, 1, 1, 1, 1, 1, 1, 1, 1, 1, 0, 0, 1, 0, 1, 0, 1, 0, 1, 1, 1, 1,\n",
              "       1, 1, 1, 1, 1, 1, 1, 1, 1, 1, 1, 1, 1, 1, 1, 1, 1, 1, 1, 1, 1, 1,\n",
              "       1, 1, 1, 0, 0, 1, 1, 0, 1, 1, 1, 0, 1, 1, 0, 1, 1, 1, 1, 0, 1, 1,\n",
              "       1, 1, 1, 1, 1, 1, 1, 0, 1, 1, 1, 1, 1, 0, 1, 1, 1, 1, 1, 1, 1, 1,\n",
              "       1, 1, 1, 0, 1, 1, 1, 1, 1, 1, 1, 0, 1, 1, 1, 1, 1, 1, 1, 1, 1, 1,\n",
              "       1, 1, 1, 0, 1, 1, 1, 1, 1, 1, 0, 1, 1, 1, 1, 1, 1, 1, 1, 1, 1, 0,\n",
              "       1, 0, 1, 1, 1, 1, 1, 1, 1, 1, 1, 1, 1, 1, 1, 1, 0, 1, 1, 0, 1, 1,\n",
              "       1, 1, 1, 0, 1, 1, 1, 0, 1, 1, 1, 1, 1, 1, 1, 1, 1, 1, 1, 1, 1, 0,\n",
              "       1, 1, 1, 1, 1, 1, 0, 1, 0, 1, 1, 1, 1, 1, 1, 1, 1, 1, 1, 1, 1, 1,\n",
              "       1, 1, 1, 1, 1, 0, 1, 1, 0, 1, 1, 0, 1, 1, 1, 1, 1, 1, 1, 1, 1, 1,\n",
              "       0, 1, 0, 1, 1, 1, 1, 1, 1, 1, 1, 1, 1, 1, 1, 1, 1, 1, 1, 1, 1, 1,\n",
              "       1, 1, 1, 1, 1, 1, 1, 1, 0, 1, 1, 1, 1, 1, 1, 1, 1, 1, 1, 1, 0, 1,\n",
              "       0, 1, 1, 0, 0, 1, 0, 1, 0, 0, 1, 1, 1, 1, 1, 1, 1, 1, 1, 1, 1, 1,\n",
              "       1, 1, 1, 1, 1, 0, 1, 1, 1, 0, 1, 0, 1, 0, 1, 1, 1, 1, 1, 1, 0, 0,\n",
              "       1, 1, 0, 0, 1, 1, 0, 1, 1, 1, 1, 1, 1, 1, 1, 1, 1, 1, 1, 1, 1, 1,\n",
              "       1, 1, 1, 1, 1, 1, 1, 1, 1, 1, 1, 1, 1, 1, 1, 1, 1, 1, 1, 1, 1, 1,\n",
              "       1, 1, 1, 0, 1, 1, 0, 1, 0, 1, 1, 1, 0, 1, 0, 1, 1, 1, 1, 1, 1, 1,\n",
              "       1, 1, 1, 1, 1, 1, 1, 1, 1, 1, 1, 1, 1, 1, 1, 1, 1, 1, 1, 1, 1, 1,\n",
              "       1, 1, 1, 1, 1, 0, 1, 1, 1, 1, 1, 1, 0, 1, 1, 1, 1, 0, 1, 1, 1, 1,\n",
              "       1, 0, 1, 1, 1, 1, 1, 1, 1, 0, 1, 0, 1, 1, 1, 1, 0, 1, 1, 1, 0, 1,\n",
              "       1, 1, 1, 1, 1, 1, 0, 1, 1, 1, 1, 1, 1, 1, 1, 1, 1, 0, 1, 1, 1, 1,\n",
              "       1, 1, 1, 1, 1, 1, 1, 1, 1, 0, 0, 1, 0, 1, 1, 0, 1, 1, 0, 1, 0, 1,\n",
              "       0, 1, 0, 1, 1, 1, 0, 1, 1, 1, 0, 1, 1, 1, 1, 1, 1, 1, 1, 1, 1, 1,\n",
              "       1, 1, 1, 1, 0, 1, 1, 1, 1, 1, 1, 0, 1, 1, 1, 1, 1, 1, 1, 1, 1, 1,\n",
              "       1, 1, 0, 0, 1, 1, 0, 1, 0, 1, 1, 1, 1, 1, 1, 0, 1, 1, 1, 1, 1, 1,\n",
              "       0, 1, 1, 1, 1, 1, 1, 1, 1, 1])"
            ]
          },
          "metadata": {
            "tags": []
          },
          "execution_count": 7
        }
      ]
    },
    {
      "cell_type": "markdown",
      "metadata": {
        "id": "vfS3o7QLg_vd",
        "colab_type": "text"
      },
      "source": [
        "## As a sanity check, let’s visualize the distribution of the critical features."
      ]
    },
    {
      "cell_type": "code",
      "metadata": {
        "id": "nZHEqdTig1P2",
        "colab_type": "code",
        "colab": {
          "base_uri": "https://localhost:8080/",
          "height": 280
        },
        "outputId": "553ad81b-2675-4638-f91b-5ddb0f7dcd20"
      },
      "source": [
        "###############################################################################\n",
        "#                       2e. Visualize Critical Features                       #\n",
        "###############################################################################\n",
        "# Set graph style\n",
        "sns.set(font_scale = 1.5)\n",
        "sns.set_style({'axes.facecolor': '1.0', 'axes.edgecolor': '0.85', 'grid.color': '0.85',\n",
        "               'grid.linestyle': '-', 'axes.labelcolor': '0.4', 'xtick.color': '0.4',\n",
        "               'ytick.color': '0.4', 'axes.grid': False})\n",
        "\n",
        "# Set figure size\n",
        "f, ax = plt.subplots(figsize=(12, 4))\n",
        "\n",
        "for ii in range(No_Critical_Features):\n",
        "    # Get critical features\n",
        "    X_temp = critical_features[ii]\n",
        "    y_temp = y_critical_targets[ii]\n",
        "    \n",
        "    # Get indices for true cases\n",
        "    X_true = [X_temp[jj] for jj in range(len(y_temp)) if y_temp[jj] == 1]\n",
        "    X_false = [X_temp[jj] for jj in range(len(y_temp)) if y_temp[jj] == 0]\n",
        "    \n",
        "    # Plot true values\n",
        "    sns.distplot(X_true, color = 'g',  kde=False, ax = ax)\n",
        "    sns.distplot(X_false, color = 'r',  kde=False, ax = ax)\n",
        "\n",
        "# Generate a bolded horizontal line at y = 0\n",
        "ax.axhline(y = 0, color = 'black', linewidth = 4, alpha = .7)\n",
        "\n",
        "# Turn frame off\n",
        "ax.set_frame_on(False)\n",
        "\n",
        "# Set axis labels\n",
        "plt.xlabel('Feature Value')\n",
        "plt.ylabel('Counts')\n",
        "\n",
        " # Tight layout\n",
        "plt.tight_layout()\n",
        "\n",
        "# Save figure\n",
        "plt.savefig(f'Critical Feature Distribution.png', dpi = 1080)"
      ],
      "execution_count": 8,
      "outputs": [
        {
          "output_type": "display_data",
          "data": {
            "image/png": "[encoded data removed]",
            "text/plain": [
              "<Figure size 864x288 with 1 Axes>"
            ]
          },
          "metadata": {
            "tags": []
          }
        }
      ]
    },
    {
      "cell_type": "markdown",
      "metadata": {
        "id": "Cz-Eq2qthlbM",
        "colab_type": "text"
      },
      "source": [
        "## From Figure 1, you will notice there are three distinct Gaussian distributions. The leftmost distribution represents the first critical feature, the center-most distribution represents the second critical feature, and the rightmost distribution represents the third critical feature. The regions labeled as green denote the positive class in each feature and the regions labeled as red show the negative class.\n",
        "\n",
        "# We are now ready to put everything together. In line 12 of Script 2f, we concatenate X_madelon and X_critical. Then in line 15–16, the target y_all is defined as the element-wise multiplication of y_madelon and y_critical."
      ]
    },
    {
      "cell_type": "code",
      "metadata": {
        "id": "L_7qRbB5hFho",
        "colab_type": "code",
        "colab": {
          "base_uri": "https://localhost:8080/",
          "height": 34
        },
        "outputId": "114f9646-f38c-4ff4-a2a4-bcc9f0dd2762"
      },
      "source": [
        "ls"
      ],
      "execution_count": 9,
      "outputs": [
        {
          "output_type": "stream",
          "text": [
            "'Critical Feature Distribution.png'   \u001b[0m\u001b[01;34msample_data\u001b[0m/\n"
          ],
          "name": "stdout"
        }
      ]
    },
    {
      "cell_type": "code",
      "metadata": {
        "id": "eiZHGrbehKN-",
        "colab_type": "code",
        "colab": {}
      },
      "source": [
        "###############################################################################\n",
        "#           2f. Create Feature Matrix X_all and Target Column y_all           #\n",
        "###############################################################################\n",
        "# Define critical feature labels\n",
        "critical_feature_labels =  [f'Critical {ii}' for ii in range(1, No_Critical_Features + 1)]\n",
        "\n",
        "# Convert list to numpy arrays\n",
        "X_critical = np.asarray(critical_features, dtype=np.float64).T\n",
        "X_critical = pd.DataFrame(X_critical, columns = critical_feature_labels)\n",
        "\n",
        "# Create feature matrix\n",
        "X_all = pd.concat([X_madelon, X_critical], axis = 1)\n",
        "\n",
        "# Create target\n",
        "y_all = np.array([y_madelon[ii] * y_critical[ii] for ii in range(len(y_madelon))])"
      ],
      "execution_count": 0,
      "outputs": []
    },
    {
      "cell_type": "markdown",
      "metadata": {
        "id": "TW7X3yTxnCSd",
        "colab_type": "text"
      },
      "source": [
        "Before we move on, let’s review the group of features we have created:\n",
        "\n",
        "X_madelon: This is a group of synthetic features that were created using the make_classification() class. In principle, the optimal number of features to select from this group should be the informative features (10 in total).\n",
        "\n",
        "X_critical: The critical features are 3 in total. Each has Gaussian distribution with a different mean value. Each critical feature contains 90 % positive cases and 10 % false cases. By construction, these features might be hard to select by automated method; however, to a person with domain knowledge about the data at hand, these can easily be determined to be important to the outcome.\n",
        "\n",
        "X_all: This is a group of features that contains both the X_madelon and X_critical features. The columns of this data set will be ordered as follows:\n",
        "\n",
        "    Informative features — Columns 1–10: These features are highly related to the outcome and ideally should be the features you select.\n",
        "    Redundant features — Columns 11–60: These features are made by linearly combining the informative features with different random weights. You can think of these as engineered features.\n",
        "    Repeated features — Columns 61–85: These features are drawn randomly from either the informative or redundant features.\n",
        "    Useless features — Columns 86–100: These features are filled with random noise.\n",
        "    Critically important features — Columns 101–103: These features have Gaussian distribution and we will demand that they absolutely need to be included in the selected features.\n",
        "\n",
        "Before we do anything else, let’s split our data. For each group of features, we will create a training and test set using a 70/30 split."
      ]
    },
    {
      "cell_type": "code",
      "metadata": {
        "id": "gN9vzcDhh0NY",
        "colab_type": "code",
        "colab": {}
      },
      "source": [
        "###############################################################################\n",
        "#                       2g. Create train and test set                         #\n",
        "###############################################################################\n",
        "# Split the X_all and y_all\n",
        "X_all_train, X_all_test, y_all_train, y_all_test = train_test_split(X_all, y_all, \n",
        "                                                                    test_size = 0.30,\n",
        "                                                                    random_state = 42)"
      ],
      "execution_count": 0,
      "outputs": []
    },
    {
      "cell_type": "markdown",
      "metadata": {
        "id": "xlFG_NNIndcG",
        "colab_type": "text"
      },
      "source": [
        "# Exploratory Data Analysis\n",
        "\n",
        "In this section, we will visualize the data to confirm what we already know. We will start by exploring the correlation between our features. In Script 3a, we first we calculate the Spearman’s correlation matrix which values are in the range between -1 to 1 (line 5). A value of 1 signifies a strong positive correlation and value of -1 signifies a strong negative correlation. When the correlation value is close to zero, this means that no correlation exists between the features. Since negative and positive correlation are just correlations, we then take the absolute value of the correlation matrix (line 5)and the use seaborn package to create heatmap (line 14), see Figure 2."
      ]
    },
    {
      "cell_type": "code",
      "metadata": {
        "id": "cH7F7jd-nMjz",
        "colab_type": "code",
        "colab": {
          "base_uri": "https://localhost:8080/",
          "height": 837
        },
        "outputId": "36bc2eb2-7558-44ff-b2c8-34cca28324b3"
      },
      "source": [
        "###############################################################################\n",
        "#                3a. Exploratory Data Analysis: Correlation Matrix            #\n",
        "###############################################################################\n",
        "# Make correlation matrix\n",
        "corr_matrix = X_all_train.corr(method = 'spearman').abs()\n",
        "\n",
        "# Set font scale\n",
        "sns.set(font_scale = 1)\n",
        "\n",
        "# Set the figure size\n",
        "f, ax = plt.subplots(figsize=(12, 12))\n",
        "\n",
        "# Make heatmap\n",
        "sns.heatmap(corr_matrix, cmap= 'YlGnBu', square=True, ax = ax)\n",
        "\n",
        "# Tight layout\n",
        "f.tight_layout()\n",
        "\n",
        "# Save figure\n",
        "f.savefig('correlation_matrix.png', dpi = 1080)\n"
      ],
      "execution_count": 12,
      "outputs": [
        {
          "output_type": "display_data",
          "data": {
            "image/png": "[encoded data removed]",
            "text/plain": [
              "<Figure size 864x864 with 2 Axes>"
            ]
          },
          "metadata": {
            "tags": []
          }
        }
      ]
    },
    {
      "cell_type": "code",
      "metadata": {
        "id": "uNFelh8mnp_9",
        "colab_type": "code",
        "colab": {
          "base_uri": "https://localhost:8080/",
          "height": 1000
        },
        "outputId": "bb364072-0d22-4546-e7f7-6286c318b50a"
      },
      "source": [
        "#https://miro.medium.com/max/2000/1*vuAO1Gc7WNZvvIXETaPghg.png\n",
        "from IPython.display import Image\n",
        "from IPython.core.display import HTML \n",
        "Image(url= \"https://miro.medium.com/max/2000/1*vuAO1Gc7WNZvvIXETaPghg.png\")"
      ],
      "execution_count": 14,
      "outputs": [
        {
          "output_type": "execute_result",
          "data": {
            "text/html": [
              "<img src=\"https://miro.medium.com/max/2000/1*vuAO1Gc7WNZvvIXETaPghg.png\"/>"
            ],
            "text/plain": [
              "<IPython.core.display.Image object>"
            ]
          },
          "metadata": {
            "tags": []
          },
          "execution_count": 14
        }
      ]
    },
    {
      "cell_type": "markdown",
      "metadata": {
        "id": "dzOqB5awpWjx",
        "colab_type": "text"
      },
      "source": [
        "## In Figure 2, a light color signifies a low correlation and a dark blue color a high correlation. Notice how the informative features have low correlation with each other (upper left corner). The redundant features start showing a higher correlation (the heat map turns more blue in this region) like we expect it to happen. Additionally, some of the repeated are highly correlated with other features like we expected. Finally, the useless features and the critical are not correlated with other features. We know that the useless features are filled with random noise and should be not be correlated with the outcome. In the other hand, the critical features are correlated with the outcome, although they show no correlation with other features."
      ]
    },
    {
      "cell_type": "markdown",
      "metadata": {
        "id": "W3d5XfB8phkU",
        "colab_type": "text"
      },
      "source": [
        "## Next let’s visualize the distribution of each feature using box plots. A box plot shows the quartiles of the data set and allows us to determine any anomalies and outliers in our data. In Script 3b, we first set the graph style, so that we don’t have the ugly gray default seaborn background in our figure (line 5–8). Then, we create a box plots figure for the features X_all_train (line 14)."
      ]
    },
    {
      "cell_type": "code",
      "metadata": {
        "id": "PUqZ9ic7ouSU",
        "colab_type": "code",
        "colab": {
          "base_uri": "https://localhost:8080/",
          "height": 875
        },
        "outputId": "0e5d39c8-0601-4a89-d989-0a6830724d29"
      },
      "source": [
        "###############################################################################\n",
        "#                  3b. Exploratory Data Analysis: Box Plots                   #\n",
        "###############################################################################\n",
        "# Set graph style\n",
        "sns.set(font_scale = 0.75)\n",
        "sns.set_style({'axes.facecolor': '1.0', 'axes.edgecolor': '0.85', 'grid.color': '0.85',\n",
        "               'grid.linestyle': '-', 'axes.labelcolor': '0.4', 'xtick.color': '0.4',\n",
        "               'ytick.color': '0.4', 'axes.grid': False})\n",
        "\n",
        "# Create box plots based on feature type\n",
        "\n",
        "# Set the figure size\n",
        "f, ax = plt.subplots(figsize=(9, 12))\n",
        "sns.boxplot(data=X_all_train, orient=\"h\", palette=\"Set2\")\n",
        "\n",
        "# Set axis label\n",
        "plt.xlabel('Feature Value')\n",
        "\n",
        "# Tight layout\n",
        "f.tight_layout()\n",
        "\n",
        "# Save figure\n",
        "f.savefig(f'Box Plots.png', dpi = 1080)"
      ],
      "execution_count": 15,
      "outputs": [
        {
          "output_type": "display_data",
          "data": {
            "image/png": "[encoded data removed]",
            "text/plain": [
              "<Figure size 648x864 with 1 Axes>"
            ]
          },
          "metadata": {
            "tags": []
          }
        }
      ]
    },
    {
      "cell_type": "markdown",
      "metadata": {
        "id": "bCJsTda2qLMm",
        "colab_type": "text"
      },
      "source": [
        "## In Figure 3, we can see that most features contain outliers. Moreover, all the Madelon-like features are centered around zero and most seem to have a Gaussian distribution. The critical features are centered around different mean values, like we showed before in Figure 1."
      ]
    },
    {
      "cell_type": "markdown",
      "metadata": {
        "id": "f5HS95Kyqm88",
        "colab_type": "text"
      },
      "source": [
        "# Feature Selection\n",
        "\n",
        "In this section, we will be using FeatureSelector, a tool that applies the following four feature selection methods:\n",
        "\n",
        "    A filter method that removes features with a given fraction of repeated values.\n",
        "    A filter method that removes correlated features based on Pearson or Spearman’s coefficient.\n",
        "    A recursive feature elimination algorithm with cross validation that ranks features and determines the features that maximizes a model’s performance.\n",
        "    The Boruta method which selects features that are relevant to the outcome.\n",
        "\n",
        "## This tool is designed to apply different feature selection methods in a given sequence. For example, you could first remove correlated feature and then use recursive feature elimination to further reduce the amount of selected features."
      ]
    },
    {
      "cell_type": "markdown",
      "metadata": {
        "id": "lEqu1WQnr0Xr",
        "colab_type": "text"
      },
      "source": [
        "# Removing Features with a Large Fraction of Constant Values\n",
        "\n",
        "# One can argue that a feature that exhibit little to no variation as you change the samples will not be very useful for a model.\n",
        "\n",
        "In Script 4a, we start by importing the feature selection tool. In line 7, we define a dict named step1 where we specify the feature selection method to apply and its parameters. For example, to remove features that have a large fraction of constant values (95 % or more), we set the key to 'Constant Features' and the value to {'frac_constant_values': 0.95}. In line 10, we save step1 in a list named steps, then we initiate an instance of FeatureSelector (line 13). The FeatureSelector haves a fit() and transform() method, much like Sklearn transformer. The fit() method learns which features to select from a training set (line 16) and the transform() method reduces a data set to only the selected features (line 19). The fit() method takes as input:\n",
        "\n",
        "    X_all_train: a Pandas Dataframe\n",
        "    y_all_train: a numpy array\n",
        "    steps: a list of dictionaries\n",
        "\n",
        "The transform() method takes as input:\n",
        "\n",
        "    X_all_train: a Pandas Dataframe"
      ]
    },
    {
      "cell_type": "code",
      "metadata": {
        "id": "NZRD_jeMxEYZ",
        "colab_type": "code",
        "colab": {}
      },
      "source": [
        "import numpy as np\n",
        "from sklearn.model_selection import KFold\n",
        "from sklearn.feature_selection import RFECV\n",
        "from boruta import BorutaPy\n",
        "\n",
        "class FeatureSelector:\n",
        "    \"\"\"\n",
        "    The FeatureSelector class implement the following feature selection \n",
        "    methods:\n",
        "        \n",
        "    \n",
        "    1. A method that removes features with very similar values. For example,\n",
        "    a feature that contains 0 for every instance.\n",
        "    \n",
        "    2. A filter method that removes correlated features based on Pearson or\n",
        "    Spearman's coefficient.\n",
        "    \n",
        "    3. A recursive feature elimination algorithm with cross validation.\n",
        "    \n",
        "    4. The Boruta method which uncovers features that are relevant to\n",
        "    the outcome.\n",
        "    \n",
        "    \n",
        "    Parameters\n",
        "    ----------\n",
        "    \n",
        "    None\n",
        "        \n",
        "    Example\n",
        "    -------\n",
        "    \n",
        "    # Define steps\n",
        "    step1 = {'Constant Features': {'frac_constant_values': 0.90}}\n",
        "    \n",
        "    step2 = {'Correlated Features': {'correlation_threshold': 0.95}}\n",
        "    \n",
        "    step3 = {'Relevant Features': {'estimator': estimator,\n",
        "                                   'cv': 5,\n",
        "                                    'n_estimators': 1000,\n",
        "                                    'max_iter': 100,\n",
        "                                    'verbose': 50,\n",
        "                                    'random_state': 42}}\n",
        "    \n",
        "    step4 = {'RFECV Features': {'estimator': estimator,\n",
        "                                'cv': 2,\n",
        "                                'step': 1,\n",
        "                                'scoring': 'accuracy',\n",
        "                                'verbose': 50,}}\n",
        "    \n",
        "    # Place steps in a list in the order you want them execute it\n",
        "    steps = [step1, step2, step3, step4]\n",
        "    \n",
        "    # Initialize FeatureSelector()\n",
        "    fs = FeatureSelector()\n",
        "    \n",
        "    # Apply feature selection methods\n",
        "    X_selected = fs.fit(X_all_train, y_all_train, steps)\n",
        "    \n",
        "    \n",
        "    Attributes\n",
        "    ----------\n",
        "    \n",
        "    \n",
        "    Author Information\n",
        "    ------------------\n",
        "    Frank Ceballos\n",
        "    LinkedIn: <https://www.linkedin.com/in/frank-ceballos/>\n",
        "    Date: January 31, 2020\n",
        "    \"\"\"\n",
        "    \n",
        "    \n",
        "    def __init__(self):\n",
        "        self.rfecv = None\n",
        "        self.selected_features = None\n",
        "    \n",
        "    \n",
        "    def fit(self, X, y, steps = {}):\n",
        "        \"\"\"\n",
        "        Calls the feature selection methods in the order specified in steps and\n",
        "        determines the selected features. \n",
        "        \n",
        "        \n",
        "        Parameters\n",
        "        ----------\n",
        "        X : pandas dataframe\n",
        "            A data set where each row is an observation and each column a feature.\n",
        "        \n",
        "        y: numpy array\n",
        "            A numpy array containing the targets\n",
        "            \n",
        "        steps: list\n",
        "            The list of steps that determines the order to apply the\n",
        "            feature selection algorithms. Each element in this list is a dict,\n",
        "            where key can be:\n",
        "                            'Constant Features', \n",
        "                            'Correlated Features'\n",
        "                            'Relevant Features'\n",
        "                            'RFECV Features'\n",
        "            and the value is a dict with the parameters used to execute \n",
        "            the feature selection method.\n",
        "            \n",
        "            \n",
        "        Returns\n",
        "        -------\n",
        "        None\n",
        "        \"\"\"\n",
        "        \n",
        "        # Determine if there are any methods that are not defined\n",
        "        for step in steps:\n",
        "            available_methods = ['Constant Features', 'Correlated Features', 'Relevant Features', 'RFECV Features']\n",
        "            \n",
        "            for key, value in step.items():\n",
        "                if key not in available_methods:\n",
        "                    print(f'{key} is not a valid key!')\n",
        "                    print(f'Only these are available: {available_methods}')\n",
        "                    print(f'Redefine the key in this dict/step: {step}')\n",
        "                    print('Now exiting function!')\n",
        "                    return None\n",
        "        \n",
        "        # Get the order the methods are going to be applied\n",
        "        method_order = [[*step][0] for step in steps]\n",
        "        \n",
        "        # Get methods\n",
        "        ordered_methods = self.get_methods(method_order)\n",
        "        \n",
        "        # Initiate empty list of labels to drop\n",
        "        drop_features = []\n",
        "        \n",
        "        # Temporary features\n",
        "        X_temp = X.copy()\n",
        "        \n",
        "        for method_label in method_order:\n",
        "            # Get method\n",
        "            method = ordered_methods[method_label]\n",
        "            \n",
        "            # Get method parameters\n",
        "            for step in steps:\n",
        "                if method_label in step.keys():\n",
        "                    params = step[method_label]\n",
        "            \n",
        "            \n",
        "            # Determine features to drop\n",
        "            if method_label in ['Constant Features', 'Correlated Features']:\n",
        "                 # Message to user\n",
        "                print(f'Removing {method_label}')\n",
        "                drop_features_temp = method(X_temp, **params)\n",
        "                print(drop_features_temp)\n",
        "                print('')\n",
        "                \n",
        "                # Append features to drop list\n",
        "                drop_features = drop_features + drop_features_temp\n",
        "                \n",
        "                # Update feature matrix\n",
        "                X_temp = X.drop(columns = drop_features, axis = 1)\n",
        "            \n",
        "            elif method_label in ['Relevant Features']:\n",
        "                print('Selecting relevant features')\n",
        "                relevant_features_temp = method(X_temp, y, params)\n",
        "                print(relevant_features_temp)\n",
        "                print('')\n",
        "                \n",
        "                # Update feature matrix\n",
        "                X_temp = X[relevant_features_temp]\n",
        "            \n",
        "            \n",
        "            elif method_label in ['RFECV Features']:\n",
        "                print('Selecting RFECV features')\n",
        "                rfecv_features_temp, feature_selector = method(X_temp, y, params)\n",
        "                print(rfecv_features_temp)\n",
        "                print('')\n",
        "                \n",
        "                # Save fitted rfecv \n",
        "                self.rfecv = feature_selector\n",
        "                \n",
        "                # Update feature matrix\n",
        "                X_temp = X[rfecv_features_temp]\n",
        "        \n",
        "        # Save selected features\n",
        "        self.selected_features = list(X_temp.columns)\n",
        "        \n",
        "        # Message to user\n",
        "        message = 'Done selecting features'\n",
        "        \n",
        "        return(print(message))\n",
        "    \n",
        "    def transform(self, X):\n",
        "        \"\"\"\n",
        "        Returns a dataframe with the selected features determine with fit()\n",
        "        \n",
        "        \n",
        "        Parameters\n",
        "        ----------\n",
        "        X : pandas dataframe\n",
        "            A data set where ech row is an observation and each column a feature.\n",
        "        \n",
        "        Returns\n",
        "        -------\n",
        "        X_selected : pandas dataframe\n",
        "            Dataframe with selected features\n",
        "        \"\"\"\n",
        "        \n",
        "        if self.selected_features == None:\n",
        "            message = 'You first need to use the fit() method to determine the selected features!'\n",
        "            return(print(message))\n",
        "        else:\n",
        "            # Get selected features\n",
        "            X_selected = X[self.selected_features]\n",
        "            return X_selected\n",
        "            \n",
        "        \n",
        "        \n",
        "    \n",
        "    def get_methods(self, method_order):\n",
        "        \n",
        "        # Return feature selection methods in the order specified:\n",
        "        ordered_methods = {}\n",
        "        \n",
        "        for method_label in method_order:\n",
        "            \n",
        "            if method_label == 'Constant Features':\n",
        "                ordered_methods.update({method_label: constant_features})\n",
        "            \n",
        "            elif method_label == 'Correlated Features':\n",
        "                ordered_methods.update({method_label: correlated_features})\n",
        "            \n",
        "            elif method_label == 'Relevant Features':\n",
        "                ordered_methods.update({method_label: relevant_features})\n",
        "                \n",
        "            elif method_label == 'RFECV Features':\n",
        "                ordered_methods.update({method_label: rfecv_features})\n",
        "        \n",
        "        return ordered_methods\n",
        "\n",
        "\n",
        "def constant_features(X, frac_constant_values = 0.90):\n",
        "    \"\"\"\n",
        "    Identifies features that have a large fraction of constant values.\n",
        "    \n",
        "    \n",
        "    Parameters\n",
        "    ----------\n",
        "    X : pandas dataframe\n",
        "        A data set where each row is an observation and each column a feature.\n",
        "        \n",
        "    frac_constant_values: float, optional (default = 0.90)\n",
        "        The threshold used to identify features with a large fraction of \n",
        "        constant values.\n",
        "        \n",
        "    Returns\n",
        "    -------\n",
        "    labels: list\n",
        "        A list with the labels identifying the features that contain a \n",
        "        large fraction of constant values.\n",
        "    \"\"\"\n",
        "    \n",
        "    # Get number of rows in X\n",
        "    num_rows = X.shape[0]\n",
        "    \n",
        "    # Get column labels\n",
        "    allLabels = X.columns.tolist()\n",
        "    \n",
        "    # Make a dict to store the fraction describing the value that occurs the most\n",
        "    constant_per_feature = {label: X[label].value_counts().iloc[0]/num_rows for label in allLabels}\n",
        "    \n",
        "    # Determine the features that contain a fraction of missing values greater than\n",
        "    # the specified threshold\n",
        "    labels = [label for label in allLabels if constant_per_feature [label] > frac_constant_values]\n",
        "    \n",
        "    return labels\n",
        "\n",
        "\n",
        "def correlated_features(X, correlation_threshold = 0.90):\n",
        "    \"\"\"\n",
        "    Identifies features that are highly correlated. Let's assume that if\n",
        "    two features or more are highly correlated, we can randomly select\n",
        "    one of them and discard the rest without losing much information.\n",
        "    \n",
        "    \n",
        "    Parameters\n",
        "    ----------\n",
        "    X : pandas dataframe\n",
        "        A data set where each row is an observation and each column a feature.\n",
        "        \n",
        "    correlation_threshold: float, optional (default = 0.90)\n",
        "        The threshold used to identify highly correlated features.\n",
        "        \n",
        "    Returns\n",
        "    -------\n",
        "    labels: list\n",
        "        A list with the labels identifying the features that contain a \n",
        "        large fraction of constant values.\n",
        "    \"\"\"\n",
        "    \n",
        "    # Make correlation matrix\n",
        "    corr_matrix = X.corr(method = \"spearman\").abs()\n",
        "    \n",
        "    \n",
        "    # Select upper triangle of matrix\n",
        "    upper = corr_matrix.where(np.triu(np.ones(corr_matrix.shape), k = 1).astype(np.bool))\n",
        "    \n",
        "    # Find index of feature columns with correlation greater than correlation_threshold\n",
        "    labels = [column for column in upper.columns if any(upper[column] >  correlation_threshold)]\n",
        "    \n",
        "    return labels\n",
        "\n",
        "\n",
        "def relevant_features(X, y, params):\n",
        "    \"\"\"\n",
        "    Determines the subset of features in X that are relevant to the outcome\n",
        "    using the Boruta algorithm. The result are cross validated. \n",
        "        \n",
        "    Parameters\n",
        "    ----------\n",
        "    X : pandas dataframe\n",
        "        A data set where each row is an observation and each column a feature.\n",
        "        \n",
        "    y: numpy array\n",
        "        A numpy array containing the targets\n",
        "    \n",
        "    params: dict,\n",
        "        A dictionary containing the set of parameters use to initialize BorutaPy\n",
        "        and determine the number of folds to use to validate the results.\n",
        "    \n",
        "    \n",
        "    Examples\n",
        "    --------\n",
        "    # Initialize estimator\n",
        "    estimator = RandomForestClassifier()\n",
        "    \n",
        "    # Define cv and BorutaPy parameters\n",
        "     params = {'estimator': estimator,\n",
        "               'cv': 5,\n",
        "               'n_estimators': 1000,\n",
        "               'max_iter': 100,\n",
        "               'verbose': 50,\n",
        "               'random_state': 42}\n",
        "     \n",
        "    # Get relevant feature labels\n",
        "    labels = relevant_features(X = X, y = y, params = params)\n",
        "    \n",
        "    \n",
        "    Returns\n",
        "    -----\n",
        "    labels: list\n",
        "        A list with the labels identifying the relevant features in X.\n",
        "    \n",
        "    \n",
        "    References\n",
        "    ----------\n",
        "    Find more details about Boruta here:\n",
        "    https://github.com/scikit-learn-contrib/boruta_py\n",
        "    \n",
        "    \"\"\"\n",
        "    \n",
        "    # Unpack params\n",
        "    if 'cv' in params:\n",
        "        cv = params['cv']\n",
        "    else:\n",
        "        cv = 5\n",
        "    \n",
        "    # Remove cv key from params so we can use with BorutaPy\n",
        "    del params['cv']\n",
        "    \n",
        "    # Initiate variables\n",
        "    feature_labels = list(X.columns)\n",
        "    selected_features_mask = np.ones(len(feature_labels))\n",
        "    counter = 0\n",
        "      \n",
        "    #Get K-folds indices\n",
        "    kf = KFold(n_splits = cv)\n",
        "    kf.get_n_splits(X)\n",
        "    \n",
        "    # Initiate progress bar\n",
        "    status.printProgressBar(counter, cv, prefix = 'Progress:', suffix = 'Complete', length = 50)\n",
        "    \n",
        "    # K-fold cross validation\n",
        "    for train_index, val_index in kf.split(X):\n",
        "        # Get train fold data\n",
        "        X_train_fold = X.iloc[train_index, :]\n",
        "        y_train_fold = y[train_index]\n",
        "        \n",
        "        # Define Boruta feature selection method\n",
        "        feat_selector = BorutaPy(**params)\n",
        "        \n",
        "        # Find all relevant features\n",
        "        feat_selector.fit(X_train_fold.values, y_train_fold)\n",
        "        \n",
        "        # Boruta selected feature mask\n",
        "        selected_features_temp = feat_selector.support_\n",
        "        \n",
        "        # Update selected relevant features\n",
        "        selected_features_mask = selected_features_mask*selected_features_temp\n",
        "        \n",
        "        # Update progress bar\n",
        "        counter += 1\n",
        "        status.printProgressBar(counter, cv, prefix = 'Progress:', suffix = 'Complete', length = 50)\n",
        "    \n",
        "    # Boruta selected feature labels\n",
        "    labels = [feature_labels[ii] for ii in range(len(feature_labels)) if  selected_features_mask[ii] == 1]\n",
        "    \n",
        "    return labels\n",
        "\n",
        "\n",
        "def rfecv_features(X, y, rfecv_params):\n",
        "    \"\"\"\n",
        "    Feature ranking with recursive feature elimination and cross-validated \n",
        "    selection of the best number of features. Determines the minimum number\n",
        "    of features that are needed to maxmize the model's performance. \n",
        "    \n",
        "    Parameters\n",
        "    ----------\n",
        "    X : pandas dataframe\n",
        "        A data set where each row is an observation and each column a feature.\n",
        "        \n",
        "    y: numpy array\n",
        "        A numpy array containing the targets\n",
        "    \n",
        "    rfecv_params: dict,\n",
        "        A dictionary containing the set of parameters use to initialize RFECV sklearn\n",
        "        class.\n",
        "    \n",
        "    \n",
        "    Examples\n",
        "    --------\n",
        "    # Initialize estimator\n",
        "    estimator = RandomForestClassifier()\n",
        "    \n",
        "    # Define RFECV parameters\n",
        "    rfecv_params = {'estimator': estimator,\n",
        "                    'cv': 2,\n",
        "                    'step': 1,\n",
        "                    'scoring': 'accuracy',\n",
        "                    'verbose': 50}\n",
        "    \n",
        "    # Get rfecv feature labels\n",
        "    labels = rfecv_features(X = X, y = y, rfecv_params = rfecv_params)\n",
        "    \n",
        "    \n",
        "    Returns\n",
        "    -----\n",
        "    labels: list\n",
        "        A list with the labels identifying the subset of features needed\n",
        "        to maximize the model's performance.\n",
        "    \n",
        "    feature_selector: fitted RFECV object\n",
        "    \n",
        "    \n",
        "    References\n",
        "    ----------\n",
        "    Find more details about Boruta here:\n",
        "    https://github.com/scikit-learn-contrib/boruta_py\n",
        "    \n",
        "    \"\"\"\n",
        "    \n",
        "    # Initialize RFECV object\n",
        "    feature_selector = RFECV(**rfecv_params)\n",
        "    \n",
        "    # Fit RFECV\n",
        "    feature_selector.fit(X, y)\n",
        "    \n",
        "    # Get selected features\n",
        "    feature_labels = X.columns\n",
        "    \n",
        "    # Get selected features\n",
        "    labels = feature_labels[feature_selector.support_].tolist()\n",
        "    \n",
        "    return labels, feature_selector\n",
        "\n",
        "\n",
        "class status:\n",
        "    \"\"\"  Report progress of process. \"\"\"\n",
        "    \n",
        "    def printProgressBar (iteration, total, prefix = '', suffix = '', decimals = 1, length = 100, fill = '█'):\n",
        "        \"\"\"\n",
        "        Call in a loop to create terminal progress bar\n",
        "        \n",
        "        Parameters\n",
        "        ----------\n",
        "        iteration   - Required  : current iteration (Int)\n",
        "        total       - Required  : total iterations (Int)\n",
        "        prefix      - Optional  : prefix string (Str)\n",
        "        suffix      - Optional  : suffix string (Str)\n",
        "        decimals    - Optional  : positive number of decimals in percent complete (Int)\n",
        "        length      - Optional  : character length of bar (Int)\n",
        "        fill        - Optional  : bar fill character (Str)\n",
        "            \n",
        "        Examples\n",
        "        --------\n",
        "        from time import sleep\n",
        "        # A List of Items\n",
        "        items = list(range(0, 57))\n",
        "        l = len(items)\n",
        "        \n",
        "        # Initial call to print 0% progress\n",
        "        printProgressBar(0, l, prefix = 'Progress:', suffix = 'Complete', length = 50)\n",
        "        for i, item in enumerate(items):\n",
        "            # Do stuff...\n",
        "            sleep(0.1)\n",
        "            # Update Progress Bar\n",
        "            printProgressBar(i + 1, l, prefix = 'Progress:', suffix = 'Complete', length = 50)\n",
        "            \n",
        "        References\n",
        "        ----------\n",
        "        Original Source: https://stackoverflow.com/questions/3173320/text-progress-bar-in-the-console\n",
        "        \"\"\"\n",
        "        \n",
        "        \n",
        "        percent = (\"{0:.\" + str(decimals) + \"f}\").format(100 * (iteration / float(total)))\n",
        "        filledLength = int(length * iteration // total)\n",
        "        bar = fill * filledLength + '-' * (length - filledLength)\n",
        "        print('\\r%s |%s| %s%% %s' % (prefix, bar, percent, suffix), end = '\\r')\n",
        "        # Print New Line on Complete\n",
        "        if iteration == total: \n",
        "            print()"
      ],
      "execution_count": 0,
      "outputs": []
    },
    {
      "cell_type": "code",
      "metadata": {
        "id": "Vm4yfdwvpppN",
        "colab_type": "code",
        "colab": {
          "base_uri": "https://localhost:8080/",
          "height": 85
        },
        "outputId": "a072325b-3a73-4b3a-d617-15d033ff856b"
      },
      "source": [
        "###############################################################################\n",
        "#  4a. Feature Selection: Removing with a large fraction of constant values   #\n",
        "###############################################################################\n",
        "#from tools.data_processing import FeatureSelector\n",
        "\n",
        "# Define steps\n",
        "step1 = {'Constant Features': {'frac_constant_values': 0.95}}\n",
        "\n",
        "# Place steps in a list in the order you want them execute it\n",
        "steps = [step1]\n",
        "\n",
        "# Initialize FeatureSelector()\n",
        "fs = FeatureSelector()\n",
        "\n",
        "# Apply feature selection methods in the order they appear in steps\n",
        "fs.fit(X_all_train, y_all_train, steps)\n",
        "\n",
        "# Get selected features\n",
        "X_selected = fs.transform(X_all_train)"
      ],
      "execution_count": 22,
      "outputs": [
        {
          "output_type": "stream",
          "text": [
            "Removing Constant Features\n",
            "[]\n",
            "\n",
            "Done selecting features\n"
          ],
          "name": "stdout"
        }
      ]
    },
    {
      "cell_type": "markdown",
      "metadata": {
        "id": "21ybCBsXxY6B",
        "colab_type": "text"
      },
      "source": [
        "# The output of fit will be print out to the consoles the features that were removed. In this case, you can see an empty list being displayed which signifies that no features were removed in this step.\n",
        "\n",
        "## Removing Correlated Features\n",
        "\n",
        "Let’s assume that if a group of features is highly correlated, we can randomly select one of them and discard the rest without losing much information. To measure the correlation between features, we will use Spearman’s correlation coefficient. To remove correlated features, we will again use FeatureSelector. In Script 4b, we start by defining a dict that describes feature selection method and its parameters. For example, in this case we set the key to 'Correlated Features' and the value to {'correlation_threshold': 0.95}. This algorithm will group features that share a correlation value of 0.95 or greater. Then for each group of correlated features one feature is selected and the rest are discarded. In line 8, we save step1 in a list, then initialize an instance of FeatureSelector (line 11). Finally, we fit the FeatureSelector and transform our data."
      ]
    },
    {
      "cell_type": "code",
      "metadata": {
        "id": "4MB4NLKdvwxD",
        "colab_type": "code",
        "colab": {
          "base_uri": "https://localhost:8080/",
          "height": 170
        },
        "outputId": "cad13ba2-feff-4371-b2c3-1b9a674f64f8"
      },
      "source": [
        "!pip install boruta"
      ],
      "execution_count": 16,
      "outputs": [
        {
          "output_type": "stream",
          "text": [
            "Collecting boruta\n",
            "\u001b[?25l  Downloading https://files.pythonhosted.org/packages/b2/11/583f4eac99d802c79af9217e1eff56027742a69e6c866b295cce6a5a8fc2/Boruta-0.3-py3-none-any.whl (56kB)\n",
            "\r\u001b[K     |█████▉                          | 10kB 18.4MB/s eta 0:00:01\r\u001b[K     |███████████▋                    | 20kB 6.4MB/s eta 0:00:01\r\u001b[K     |█████████████████▍              | 30kB 8.9MB/s eta 0:00:01\r\u001b[K     |███████████████████████▏        | 40kB 11.2MB/s eta 0:00:01\r\u001b[K     |█████████████████████████████   | 51kB 7.2MB/s eta 0:00:01\r\u001b[K     |████████████████████████████████| 61kB 4.5MB/s \n",
            "\u001b[?25hRequirement already satisfied: scipy>=0.17.0 in /usr/local/lib/python3.6/dist-packages (from boruta) (1.4.1)\n",
            "Requirement already satisfied: numpy>=1.10.4 in /usr/local/lib/python3.6/dist-packages (from boruta) (1.18.4)\n",
            "Requirement already satisfied: scikit-learn>=0.17.1 in /usr/local/lib/python3.6/dist-packages (from boruta) (0.22.2.post1)\n",
            "Requirement already satisfied: joblib>=0.11 in /usr/local/lib/python3.6/dist-packages (from scikit-learn>=0.17.1->boruta) (0.14.1)\n",
            "Installing collected packages: boruta\n",
            "Successfully installed boruta-0.3\n"
          ],
          "name": "stdout"
        }
      ]
    },
    {
      "cell_type": "code",
      "metadata": {
        "id": "OvWCHXMMv8-i",
        "colab_type": "code",
        "colab": {}
      },
      "source": [
        "import pandas as pd### make X and y\n",
        "X = pd.DataFrame({'age': [25, 32, 47, 51, 62],\n",
        "                  'height': [182, 176, 174, 168, 181],\n",
        "                  'weight': [75, 71, 78, 72, 86]})\n",
        "y = pd.Series([20, 32, 45, 55, 61], name = 'income')"
      ],
      "execution_count": 0,
      "outputs": []
    },
    {
      "cell_type": "code",
      "metadata": {
        "id": "16-U6S7jvxUA",
        "colab_type": "code",
        "colab": {
          "base_uri": "https://localhost:8080/",
          "height": 51
        },
        "outputId": "072cb199-52c4-4a1a-dfe7-f3bc4fa7d38a"
      },
      "source": [
        "from boruta import BorutaPy\n",
        "from sklearn.ensemble import RandomForestRegressor\n",
        "import numpy as np###initialize Boruta\n",
        "forest = RandomForestRegressor(\n",
        "   n_jobs = -1, \n",
        "   max_depth = 5\n",
        ")\n",
        "boruta = BorutaPy(\n",
        "   estimator = forest, \n",
        "   n_estimators = 'auto',\n",
        "   max_iter = 100 # number of trials to perform\n",
        ")### fit Boruta (it accepts np.array, not pd.DataFrame)\n",
        "boruta.fit(np.array(X), np.array(y))### print results\n",
        "green_area = X.columns[boruta.support_].to_list()\n",
        "blue_area = X.columns[boruta.support_weak_].to_list()\n",
        "print('features in the green area:', green_area)\n",
        "print('features in the blue area:', blue_area)"
      ],
      "execution_count": 19,
      "outputs": [
        {
          "output_type": "stream",
          "text": [
            "features in the green area: []\n",
            "features in the blue area: []\n"
          ],
          "name": "stdout"
        }
      ]
    },
    {
      "cell_type": "markdown",
      "metadata": {
        "id": "yYdqOWvejMlp",
        "colab_type": "text"
      },
      "source": [
        "# Removing Correlated Features\n",
        "\n",
        "## Let’s assume that if a group of features is highly correlated, we can randomly select one of them and discard the rest without losing much information. To measure the correlation between features, we will use Spearman’s correlation coefficient. To remove correlated features, we will again use FeatureSelector. In Script 4b, we start by defining a dict that describes feature selection method and its parameters. For example, in this case we set the key to 'Correlated Features' and the value to {'correlation_threshold': 0.95}. This algorithm will group features that share a correlation value of 0.95 or greater. Then for each group of correlated features one feature is selected and the rest are discarded. In line 8, we save step1 in a list, then initialize an instance of FeatureSelector (line 11). Finally, we fit the FeatureSelector and transform our data."
      ]
    },
    {
      "cell_type": "code",
      "metadata": {
        "id": "LvbH9Gg0v-Yu",
        "colab_type": "code",
        "colab": {
          "base_uri": "https://localhost:8080/",
          "height": 105
        },
        "outputId": "8b83a8d5-33b8-41ab-bd0b-134457f04c38"
      },
      "source": [
        "###############################################################################\n",
        "#         4b. Feature Selection: Removing highly correlated features          #\n",
        "###############################################################################\n",
        "# Define steps\n",
        "step1 = {'Correlated Features': {'correlation_threshold': 0.95}}\n",
        "\n",
        "# Place steps in a list in the order you want them execute it\n",
        "steps = [step1]\n",
        "\n",
        "# Initialize FeatureSelector()\n",
        "fs = FeatureSelector()\n",
        "\n",
        "# Apply feature selection methods in the order they appear in steps\n",
        "fs.fit(X_all_train, y_all_train, steps)\n",
        "\n",
        "# Get selected features\n",
        "X_selected = fs.transform(X_all_train)"
      ],
      "execution_count": 23,
      "outputs": [
        {
          "output_type": "stream",
          "text": [
            "Removing Correlated Features\n",
            "['Repeated 61', 'Repeated 62', 'Repeated 63', 'Repeated 64', 'Repeated 65', 'Repeated 66', 'Repeated 67', 'Repeated 68', 'Repeated 69', 'Repeated 70', 'Repeated 71', 'Repeated 72', 'Repeated 73', 'Repeated 74', 'Repeated 75', 'Repeated 76', 'Repeated 77', 'Repeated 78', 'Repeated 79', 'Repeated 80', 'Repeated 81', 'Repeated 82', 'Repeated 83', 'Repeated 84', 'Repeated 85']\n",
            "\n",
            "Done selecting features\n"
          ],
          "name": "stdout"
        }
      ]
    },
    {
      "cell_type": "code",
      "metadata": {
        "id": "4pDJQHusl9dE",
        "colab_type": "code",
        "colab": {
          "base_uri": "https://localhost:8080/",
          "height": 34
        },
        "outputId": "4889b5e5-dd4a-4c88-f453-3d40a2ea2d37"
      },
      "source": [
        "X_selected.shape"
      ],
      "execution_count": 34,
      "outputs": [
        {
          "output_type": "execute_result",
          "data": {
            "text/plain": [
              "(700, 41)"
            ]
          },
          "metadata": {
            "tags": []
          },
          "execution_count": 34
        }
      ]
    },
    {
      "cell_type": "code",
      "metadata": {
        "id": "wF3Sd0DumDgQ",
        "colab_type": "code",
        "colab": {
          "base_uri": "https://localhost:8080/",
          "height": 833
        },
        "outputId": "e19bbac9-858f-43f3-8c18-84175bf89a79"
      },
      "source": [
        "X_selected.info()"
      ],
      "execution_count": 35,
      "outputs": [
        {
          "output_type": "stream",
          "text": [
            "<class 'pandas.core.frame.DataFrame'>\n",
            "Int64Index: 700 entries, 541 to 102\n",
            "Data columns (total 41 columns):\n",
            " #   Column          Non-Null Count  Dtype  \n",
            "---  ------          --------------  -----  \n",
            " 0   Informative 1   700 non-null    float64\n",
            " 1   Informative 2   700 non-null    float64\n",
            " 2   Informative 3   700 non-null    float64\n",
            " 3   Informative 4   700 non-null    float64\n",
            " 4   Informative 5   700 non-null    float64\n",
            " 5   Informative 7   700 non-null    float64\n",
            " 6   Informative 9   700 non-null    float64\n",
            " 7   Informative 10  700 non-null    float64\n",
            " 8   Redundant 11    700 non-null    float64\n",
            " 9   Redundant 12    700 non-null    float64\n",
            " 10  Redundant 13    700 non-null    float64\n",
            " 11  Redundant 14    700 non-null    float64\n",
            " 12  Redundant 15    700 non-null    float64\n",
            " 13  Redundant 18    700 non-null    float64\n",
            " 14  Redundant 19    700 non-null    float64\n",
            " 15  Redundant 21    700 non-null    float64\n",
            " 16  Redundant 22    700 non-null    float64\n",
            " 17  Redundant 24    700 non-null    float64\n",
            " 18  Redundant 25    700 non-null    float64\n",
            " 19  Redundant 26    700 non-null    float64\n",
            " 20  Redundant 27    700 non-null    float64\n",
            " 21  Redundant 30    700 non-null    float64\n",
            " 22  Redundant 31    700 non-null    float64\n",
            " 23  Redundant 32    700 non-null    float64\n",
            " 24  Redundant 36    700 non-null    float64\n",
            " 25  Redundant 37    700 non-null    float64\n",
            " 26  Redundant 39    700 non-null    float64\n",
            " 27  Redundant 41    700 non-null    float64\n",
            " 28  Redundant 42    700 non-null    float64\n",
            " 29  Redundant 43    700 non-null    float64\n",
            " 30  Redundant 44    700 non-null    float64\n",
            " 31  Redundant 47    700 non-null    float64\n",
            " 32  Redundant 50    700 non-null    float64\n",
            " 33  Redundant 51    700 non-null    float64\n",
            " 34  Redundant 53    700 non-null    float64\n",
            " 35  Redundant 56    700 non-null    float64\n",
            " 36  Redundant 57    700 non-null    float64\n",
            " 37  Redundant 60    700 non-null    float64\n",
            " 38  Critical 1      700 non-null    float64\n",
            " 39  Critical 2      700 non-null    float64\n",
            " 40  Critical 3      700 non-null    float64\n",
            "dtypes: float64(41)\n",
            "memory usage: 229.7 KB\n"
          ],
          "name": "stdout"
        }
      ]
    },
    {
      "cell_type": "markdown",
      "metadata": {
        "id": "kCaTryI8yAes",
        "colab_type": "text"
      },
      "source": [
        "## Notice that the output of fit() shows all the repeated features were removed. Before we move on let’s end this section by inspecting the type of features in X_selected ."
      ]
    },
    {
      "cell_type": "code",
      "metadata": {
        "id": "hKiq-NKTmUOj",
        "colab_type": "code",
        "colab": {
          "base_uri": "https://localhost:8080/",
          "height": 1000
        },
        "outputId": "ecc72dd2-98c3-4d87-b456-ed9fd2e30c17"
      },
      "source": [
        "#https://miro.medium.com/max/1400/1*FFwgDMjCbA3_K_n-4XA_1w.png\n",
        "Image(url= \"https://miro.medium.com/max/1400/1*FFwgDMjCbA3_K_n-4XA_1w.png\")"
      ],
      "execution_count": 36,
      "outputs": [
        {
          "output_type": "execute_result",
          "data": {
            "text/html": [
              "<img src=\"https://miro.medium.com/max/1400/1*FFwgDMjCbA3_K_n-4XA_1w.png\"/>"
            ],
            "text/plain": [
              "<IPython.core.display.Image object>"
            ]
          },
          "metadata": {
            "tags": []
          },
          "execution_count": 36
        }
      ]
    },
    {
      "cell_type": "markdown",
      "metadata": {
        "id": "Fpx-CFV9m4Sl",
        "colab_type": "text"
      },
      "source": [
        "## In Figure 6, notice that none of the redundant or useless features was removed. In other words, if you only remove correlated features from your cohort, expect to still have redundant and useless features. In the positive side, we see that the 10 informative and 3 critical features were part of the selected features."
      ]
    },
    {
      "cell_type": "markdown",
      "metadata": {
        "id": "ZwW4XBK5nb9C",
        "colab_type": "text"
      },
      "source": [
        "## Determining the relevant features\n",
        "\n",
        "We have shown that simple feature selection methods can execute fast and can remove a large fraction of features from our cohort; however, the remaining features are not necessarily relevant to the outcome or can be redundant (see Figure 6). To overcome this limitation, the BorutaPy algorithm was developed. Simply put, it uses the feature importance attribute of tree-based models to determine features that carry usable information for predictions. However, Terrence Parr and others have raised concerns about the validity of the feature importance attribute of tree-based models."
      ]
    },
    {
      "cell_type": "markdown",
      "metadata": {
        "id": "441dnWmioBdj",
        "colab_type": "text"
      },
      "source": [
        "To select relevant features, we start by defining a tree-based Sklearn estimator (a Random Forest Classifier, Extra Trees Classifier, Gradient Boosting Classifier) with a feature_importances_ attribute. In our case, we will use a Random Forest Classifier, see line 5–7 in Script 4c. Next, in line 10–15, we define a dictionary named step1 with a key 'Relevant Features' . The key value of 'Relevant Features' is a dictionary specifying the number of times to cross-validated the results (line 10) and the BorutaPy parameters. For each training fold, the relevant features are established. Then, features that are deemed relevant in every training fold are selected as the relevant features in the training set. In line 15, we fixed random_state in order to obtain deterministic results. The rest of script should be self-explanatory by this point."
      ]
    },
    {
      "cell_type": "code",
      "metadata": {
        "id": "pM8Qqx4Jxsei",
        "colab_type": "code",
        "colab": {
          "base_uri": "https://localhost:8080/",
          "height": 122
        },
        "outputId": "f15d12f9-32de-4b61-f37f-18a0ef7bef11"
      },
      "source": [
        "###############################################################################\n",
        "#             4c. Feature Selection: Selecting relevant features              #\n",
        "###############################################################################\n",
        "# Define estimator\n",
        "estimator = RandomForestClassifier(n_estimators = 100, max_depth = 7, \n",
        "                                   min_samples_leaf = 2, min_samples_split = 2,\n",
        "                                   n_jobs = -1)\n",
        "\n",
        "# Define steps\n",
        "step1 = {'Relevant Features': {'cv': 5,\n",
        "                               'estimator': estimator,\n",
        "                                'n_estimators': 1000,\n",
        "                                'max_iter': 50,\n",
        "                                'verbose': 0,\n",
        "                                'random_state': 42}}\n",
        "\n",
        "# Place steps in a list in the order you want them execute it\n",
        "steps = [step1]\n",
        "\n",
        "# Initialize FeatureSelector()\n",
        "fs = FeatureSelector()\n",
        "\n",
        "# Apply feature selection methods in the order they appear in steps\n",
        "fs.fit(X_all_train, y_all_train, steps)\n",
        "\n",
        "# Get selected features\n",
        "X_selected = fs.transform(X_all_train)\n"
      ],
      "execution_count": 24,
      "outputs": [
        {
          "output_type": "stream",
          "text": [
            "Selecting relevant features\n",
            "Progress: |██████████████████████████████████████████████████| 100.0% Complete\n",
            "['Informative 1', 'Informative 3', 'Informative 4', 'Informative 7', 'Informative 9', 'Redundant 11', 'Redundant 12', 'Redundant 13', 'Redundant 15', 'Redundant 19', 'Redundant 21', 'Redundant 24', 'Redundant 25', 'Redundant 31', 'Redundant 36', 'Redundant 37', 'Redundant 39', 'Redundant 41', 'Redundant 42', 'Redundant 47', 'Redundant 50', 'Redundant 54', 'Redundant 55', 'Redundant 57', 'Redundant 59', 'Repeated 62', 'Repeated 66', 'Repeated 72', 'Repeated 73', 'Repeated 77', 'Repeated 78', 'Repeated 80', 'Repeated 81', 'Repeated 83', 'Critical 2', 'Critical 3']\n",
            "\n",
            "Done selecting features\n"
          ],
          "name": "stdout"
        }
      ]
    },
    {
      "cell_type": "markdown",
      "metadata": {
        "id": "_54COKjuodQC",
        "colab_type": "text"
      },
      "source": [
        "Script 4c, took about 5 minutes to execute. If you were to increase cv , n_estimators , or max_iter , expect an increase in time. Additionally, a larger data set with more samples or features will increase the time it would take to figure out the relevant features. The progress bar you see in Figure 7 will track the progress each time the relevant features have been determined in a training fold. So be patient if you don’t see it filling up at first.\n",
        "\n",
        "We are ready to examine the contents of selected features."
      ]
    },
    {
      "cell_type": "code",
      "metadata": {
        "id": "sp6EHW8-o2rP",
        "colab_type": "code",
        "colab": {
          "base_uri": "https://localhost:8080/",
          "height": 1000
        },
        "outputId": "8631d933-2ab0-4368-cce5-ec11b9b2f880"
      },
      "source": [
        "#https://miro.medium.com/max/1400/1*5CPUAYQ_dSDZktkFggvVcQ.png\n",
        "Image(url= \"https://miro.medium.com/max/1400/1*5CPUAYQ_dSDZktkFggvVcQ.png\")"
      ],
      "execution_count": 37,
      "outputs": [
        {
          "output_type": "execute_result",
          "data": {
            "text/html": [
              "<img src=\"https://miro.medium.com/max/1400/1*5CPUAYQ_dSDZktkFggvVcQ.png\"/>"
            ],
            "text/plain": [
              "<IPython.core.display.Image object>"
            ]
          },
          "metadata": {
            "tags": []
          },
          "execution_count": 37
        }
      ]
    },
    {
      "cell_type": "markdown",
      "metadata": {
        "id": "6FpFnYhdpZYd",
        "colab_type": "text"
      },
      "source": [
        "In the bar chart shown in Figure 8, notice that all the useless features were removed. This is what we expected from the Boruta algorithm. Nonetheless, we still have 20 redundant, 9 repeated, 5 informative, and 2 critical features. This means that our implementation of the Boruta algorithm couldn’t get rid of all the redundant features, kept some of the repeated features, removed half of the informative features, and discarded one of the critical features. Figure 8 shows that we can’t blindly trust the results of automated feature selection methods. Remember, we demanded that all three critical features needed to be included in our selected features. Losing one of them can lead to fatal predictions! Moreover, if we were to use a different estimator, for example, an Extra Trees Classifier, the selected features would be different (see Figure 9)."
      ]
    },
    {
      "cell_type": "markdown",
      "metadata": {
        "id": "MmVv8OCgpnVp",
        "colab_type": "text"
      },
      "source": [
        "## When using the Boruta algorithm to select features, is important to remember that the features that are selected as relevant are only significant to the specific model under inspection. Moreover, when the model used to rank the features has the capacity to overfit, it’s likely that the ranking of the features is misleading. To demonstrate the pitfalls of an over fitted Random Forest we train a model and evaluated its performance in both the training and test set, see Script 4d."
      ]
    },
    {
      "cell_type": "code",
      "metadata": {
        "id": "QNzVUlEnyp7j",
        "colab_type": "code",
        "colab": {
          "base_uri": "https://localhost:8080/",
          "height": 51
        },
        "outputId": "34ec90d3-17bf-4878-f49c-5786a3f04ed9"
      },
      "source": [
        "###############################################################################\n",
        "#          4d. Feature Selection: Dangers of a model that overfits            #\n",
        "###############################################################################\n",
        "# Initiate classifier instance\n",
        "estimator = RandomForestClassifier(n_estimators=100, random_state=42)\n",
        "\n",
        "# Fit classifier\n",
        "estimator.fit(X_all_train, y_all_train)\n",
        "\n",
        "# Make predictions\n",
        "y_pred_train = estimator.predict(X_all_train)\n",
        "y_pred_test = estimator.predict(X_all_test)\n",
        "\n",
        "# Measure performance\n",
        "accuracy_train = metrics.accuracy_score(y_all_train, y_pred_train)\n",
        "accuracy_test = metrics.accuracy_score(y_all_test, y_pred_test)\n",
        "\n",
        "# Message to user\n",
        "print(f'The accuracy of the classifier on the train set was: {accuracy_train*100}')\n",
        "print(f'The accuracy of the classifier on the test set was: {accuracy_test*100}')\n"
      ],
      "execution_count": 25,
      "outputs": [
        {
          "output_type": "stream",
          "text": [
            "The accuracy of the classifier on the train set was: 100.0\n",
            "The accuracy of the classifier on the test set was: 80.66666666666666\n"
          ],
          "name": "stdout"
        }
      ]
    },
    {
      "cell_type": "markdown",
      "metadata": {
        "id": "rn22bt6wp5wv",
        "colab_type": "text"
      },
      "source": [
        "## Here we can observe that the training accuracy of the Random Forest in the training set is 100%. When evaluating the performance in the test set we see that the accuracy drops to 80 % (obviously we’re over fitting). Inspecting the feature importance of the over fitted Random Forest reveals that a lot of the useless features (random noise) are ranked higher than informative and redundant features, see Figure 10. Ideally, the useless features should be ranked the lowest.\n"
      ]
    },
    {
      "cell_type": "code",
      "metadata": {
        "id": "-sbF9on9qAvC",
        "colab_type": "code",
        "colab": {
          "base_uri": "https://localhost:8080/",
          "height": 1000
        },
        "outputId": "8a3af337-e43f-4212-b221-b130c57a4459"
      },
      "source": [
        "#https://miro.medium.com/max/2000/1*aaetUlavAZB7l6N2ZSPzbA.png\n",
        "Image(url= \"https://miro.medium.com/max/2000/1*aaetUlavAZB7l6N2ZSPzbA.png\")"
      ],
      "execution_count": 38,
      "outputs": [
        {
          "output_type": "execute_result",
          "data": {
            "text/html": [
              "<img src=\"https://miro.medium.com/max/2000/1*aaetUlavAZB7l6N2ZSPzbA.png\"/>"
            ],
            "text/plain": [
              "<IPython.core.display.Image object>"
            ]
          },
          "metadata": {
            "tags": []
          },
          "execution_count": 38
        }
      ]
    },
    {
      "cell_type": "markdown",
      "metadata": {
        "id": "DPHsw3nhqj6T",
        "colab_type": "text"
      },
      "source": [
        "## Seeing that the ranked features of an over fitted model are unreliable, I will advise to first tuned your model, cross-validate the results, and evaluate it’s performance in the train and the test set, see Script 4e. Once you minimize the over fitting, use your model to select features."
      ]
    },
    {
      "cell_type": "code",
      "metadata": {
        "id": "7nhTvISPyuC3",
        "colab_type": "code",
        "colab": {
          "base_uri": "https://localhost:8080/",
          "height": 272
        },
        "outputId": "23c55727-b2bd-46cb-9fb7-216092b4730f"
      },
      "source": [
        "\n",
        "\n",
        "###############################################################################\n",
        "#                    4e. Feature Selection: Tuning Estimator                  #\n",
        "###############################################################################\n",
        "# Initiate classifier instance\n",
        "estimator = RandomForestClassifier(random_state=42)\n",
        "\n",
        "# Define parameter grid\n",
        "param_grid = { 'n_estimators': [200],\n",
        "                'class_weight': [None, 'balanced'],\n",
        "                'max_features': ['auto', 'sqrt', 'log2'],\n",
        "                'max_depth' : [3, 4, 5, 6, 7, 8],\n",
        "                'min_samples_split': [0.005, 0.01, 0.05, 0.10],\n",
        "                'min_samples_leaf': [0.005, 0.01, 0.05, 0.10],\n",
        "                'criterion' :['gini', 'entropy']     ,\n",
        "                'n_jobs': [-1]\n",
        "                 }\n",
        "\n",
        "# Initialize GridSearch object\n",
        "gscv = GridSearchCV(estimator, param_grid, cv = 5,  n_jobs= -1, verbose = 1, scoring = 'accuracy')\n",
        "\n",
        "# Fit gscv\n",
        "gscv.fit(X_all_train, y_all_train)\n",
        "\n",
        "# Get best parameters and score\n",
        "best_params = gscv.best_params_\n",
        "best_score = gscv.best_score_\n",
        "        \n",
        "# Update classifier parameters\n",
        "estimator.set_params(**best_params)\n",
        "\n",
        "# Fit classifier\n",
        "estimator.fit(X_all_train, y_all_train)\n",
        "\n",
        "# Make predictions\n",
        "y_pred_train = estimator.predict(X_all_train)\n",
        "y_pred_test = estimator.predict(X_all_test)\n",
        "\n",
        "# Measure performance\n",
        "accuracy_train = metrics.accuracy_score(y_all_train, y_pred_train)\n",
        "accuracy_test = metrics.accuracy_score(y_all_test, y_pred_test)\n",
        "\n",
        "# Message to user\n",
        "print(f'The accuracy of the classifier on the train set was: {accuracy_train*100}')\n",
        "print(f'The accuracy of the classifier on the test set was: {accuracy_test*100}')\n"
      ],
      "execution_count": 26,
      "outputs": [
        {
          "output_type": "stream",
          "text": [
            "Fitting 5 folds for each of 1152 candidates, totalling 5760 fits\n"
          ],
          "name": "stdout"
        },
        {
          "output_type": "stream",
          "text": [
            "[Parallel(n_jobs=-1)]: Using backend LokyBackend with 2 concurrent workers.\n",
            "[Parallel(n_jobs=-1)]: Done  46 tasks      | elapsed:   22.9s\n",
            "[Parallel(n_jobs=-1)]: Done 196 tasks      | elapsed:  1.5min\n",
            "[Parallel(n_jobs=-1)]: Done 446 tasks      | elapsed:  3.3min\n",
            "[Parallel(n_jobs=-1)]: Done 796 tasks      | elapsed:  5.9min\n",
            "[Parallel(n_jobs=-1)]: Done 1246 tasks      | elapsed:  9.5min\n",
            "[Parallel(n_jobs=-1)]: Done 1796 tasks      | elapsed: 14.4min\n",
            "[Parallel(n_jobs=-1)]: Done 2446 tasks      | elapsed: 21.1min\n",
            "[Parallel(n_jobs=-1)]: Done 3196 tasks      | elapsed: 28.0min\n",
            "[Parallel(n_jobs=-1)]: Done 4046 tasks      | elapsed: 34.6min\n",
            "[Parallel(n_jobs=-1)]: Done 4996 tasks      | elapsed: 43.1min\n",
            "[Parallel(n_jobs=-1)]: Done 5760 out of 5760 | elapsed: 51.2min finished\n"
          ],
          "name": "stderr"
        },
        {
          "output_type": "stream",
          "text": [
            "The accuracy of the classifier on the train set was: 96.85714285714285\n",
            "The accuracy of the classifier on the test set was: 81.0\n"
          ],
          "name": "stdout"
        }
      ]
    },
    {
      "cell_type": "markdown",
      "metadata": {
        "id": "yzJzz78GsHXZ",
        "colab_type": "text"
      },
      "source": [
        "## The results show that the accuracy in the training set is 96% and in the test set is 81%. God damn it, we are still over fitting! Let’s inspect how the tuned Random Forest ranks the features, see Figure 11."
      ]
    },
    {
      "cell_type": "code",
      "metadata": {
        "id": "dbBXu3T5wBi3",
        "colab_type": "code",
        "colab": {
          "base_uri": "https://localhost:8080/",
          "height": 1000
        },
        "outputId": "ef706546-36fb-4c27-9edd-07cabf007372"
      },
      "source": [
        "#https://miro.medium.com/max/2000/1*QOLjW242RFF-7haWRIw8UQ.png\n",
        "Image(url= \"https://miro.medium.com/max/2000/1*QOLjW242RFF-7haWRIw8UQ.png\")"
      ],
      "execution_count": 39,
      "outputs": [
        {
          "output_type": "execute_result",
          "data": {
            "text/html": [
              "<img src=\"https://miro.medium.com/max/2000/1*QOLjW242RFF-7haWRIw8UQ.png\"/>"
            ],
            "text/plain": [
              "<IPython.core.display.Image object>"
            ]
          },
          "metadata": {
            "tags": []
          },
          "execution_count": 39
        }
      ]
    },
    {
      "cell_type": "markdown",
      "metadata": {
        "id": "phtXrw2Twi7V",
        "colab_type": "text"
      },
      "source": [
        "# Interesting! We get much better results than what we expected. Even though the tuned Random Forest is over fitted, it does a better job at ranking features. For example, we can see that the critical features are ranked highly and most of the useless features are ranked at the bottom.\n",
        "\n",
        "## To determine the relevant features with the tuned Random Forest, run Script 4f."
      ]
    },
    {
      "cell_type": "code",
      "metadata": {
        "id": "VO_2Gm-3yyTZ",
        "colab_type": "code",
        "colab": {
          "base_uri": "https://localhost:8080/",
          "height": 122
        },
        "outputId": "ba520af8-1392-4a22-d61e-3a9d111287e6"
      },
      "source": [
        "\n",
        "###############################################################################\n",
        "#     4f. Feature Selection: Selecting relevant features with tuned model     #\n",
        "###############################################################################\n",
        "# Initiate classifier instance\n",
        "estimator = RandomForestClassifier(random_state=42)\n",
        "\n",
        "# Update classifier parameters\n",
        "estimator.set_params(**best_params)\n",
        "\n",
        "# Define steps\n",
        "step1 = {'Relevant Features': {'cv': 5,\n",
        "                               'estimator': estimator,\n",
        "                                'n_estimators': 1000,\n",
        "                                'max_iter': 50,\n",
        "                                'verbose': 0,\n",
        "                                'random_state': 42}}\n",
        "\n",
        "# Place steps in a list in the order you want them execute it\n",
        "steps = [step1]\n",
        "\n",
        "# Initialize FeatureSelector()\n",
        "fs = FeatureSelector()\n",
        "\n",
        "# Apply feature selection methods in the order they appear in steps\n",
        "fs.fit(X_all_train, y_all_train, steps)\n",
        "\n",
        "# Get selected features\n",
        "X_selected = fs.transform(X_all_train)\n"
      ],
      "execution_count": 27,
      "outputs": [
        {
          "output_type": "stream",
          "text": [
            "Selecting relevant features\n",
            "Progress: |██████████████████████████████████████████████████| 100.0% Complete\n",
            "['Informative 1', 'Informative 4', 'Informative 7', 'Informative 9', 'Redundant 11', 'Redundant 12', 'Redundant 13', 'Redundant 15', 'Redundant 19', 'Redundant 21', 'Redundant 24', 'Redundant 25', 'Redundant 31', 'Redundant 36', 'Redundant 37', 'Redundant 39', 'Redundant 42', 'Redundant 43', 'Redundant 47', 'Redundant 50', 'Redundant 54', 'Redundant 55', 'Redundant 57', 'Redundant 59', 'Repeated 62', 'Repeated 66', 'Repeated 72', 'Repeated 73', 'Repeated 77', 'Repeated 78', 'Repeated 80', 'Repeated 81', 'Repeated 83', 'Critical 1', 'Critical 2', 'Critical 3']\n",
            "\n",
            "Done selecting features\n"
          ],
          "name": "stdout"
        }
      ]
    },
    {
      "cell_type": "code",
      "metadata": {
        "id": "pQ_kZYr13Gzt",
        "colab_type": "code",
        "colab": {
          "base_uri": "https://localhost:8080/",
          "height": 1000
        },
        "outputId": "b9283f7a-939b-432b-fd77-ed533d1e0878"
      },
      "source": [
        "Image(url= \"https://miro.medium.com/max/1400/1*ZKm2Bj1ToX2qrBesKDIQbA.png\")"
      ],
      "execution_count": 40,
      "outputs": [
        {
          "output_type": "execute_result",
          "data": {
            "text/html": [
              "<img src=\"https://miro.medium.com/max/1400/1*ZKm2Bj1ToX2qrBesKDIQbA.png\"/>"
            ],
            "text/plain": [
              "<IPython.core.display.Image object>"
            ]
          },
          "metadata": {
            "tags": []
          },
          "execution_count": 40
        }
      ]
    },
    {
      "cell_type": "markdown",
      "metadata": {
        "id": "HmUC6Qn22_m4",
        "colab_type": "text"
      },
      "source": [
        "In Figure 12, we can see that the selected features contain all three critical features which are very important to us. Additionally, note that you can trust these results more than the outcome obtained with the out of tune Random Forest.\n",
        "\n",
        "Now we will train a Random Forest using only the selected features, see Script 4g. We will set the parameters of the Random Forest to be those determined earlier in Script 4e. Let me mention that it's a good idea to tuned the Random Forest using the selected features. Remember that when we tuned the Random Forest in Script 4e, we used all 103 features. Now the selected features are about 35. However, we will skip this step here but you should do it. Finally, we will evaluate its performance both in the training and test set."
      ]
    },
    {
      "cell_type": "code",
      "metadata": {
        "id": "OScRrmBDy2Cf",
        "colab_type": "code",
        "colab": {
          "base_uri": "https://localhost:8080/",
          "height": 51
        },
        "outputId": "40cbf272-a8a4-4d57-b326-550d2a64ee76"
      },
      "source": [
        "###############################################################################\n",
        "#       4g. Feature Selection: Model evaluation with selected features        #\n",
        "###############################################################################\n",
        "# Initiate classifier instance\n",
        "estimator = RandomForestClassifier(random_state=42)\n",
        "\n",
        "# Update classifier parameters\n",
        "estimator.set_params(**best_params)\n",
        "\n",
        "# Get selected features\n",
        "X_selected_train = fs.transform(X_all_train)\n",
        "X_selected_test = fs.transform(X_all_test)\n",
        "\n",
        "# Fit classifier\n",
        "estimator.fit(X_selected_train, y_all_train)\n",
        "\n",
        "# Make predictions\n",
        "y_pred_train = estimator.predict(X_selected_train)\n",
        "y_pred_test = estimator.predict(X_selected_test)\n",
        "\n",
        "# Measure performance\n",
        "accuracy_train = metrics.accuracy_score(y_all_train, y_pred_train)\n",
        "accuracy_test = metrics.accuracy_score(y_all_test, y_pred_test)\n",
        "\n",
        "# Message to user\n",
        "print(f'The accuracy of the classifier on the train set was: {accuracy_train*100}')\n",
        "print(f'The accuracy of the classifier on the test set was: {accuracy_test*100}')\n"
      ],
      "execution_count": 28,
      "outputs": [
        {
          "output_type": "stream",
          "text": [
            "The accuracy of the classifier on the train set was: 93.85714285714286\n",
            "The accuracy of the classifier on the test set was: 83.33333333333334\n"
          ],
          "name": "stdout"
        }
      ]
    },
    {
      "cell_type": "markdown",
      "metadata": {
        "id": "NAGQo_2L7IAi",
        "colab_type": "text"
      },
      "source": [
        "# Before we discuss the results, let me remind you with what we started. When training an out of tune Random Forest with all the features, we obtained an accuracy of 100 % in the training set and 80 % in the test set. Let’s call this our baselines. After “tuning” the Random Forest (to make the feature ranking more reliable), selecting features with Boruta algorithm, and then training the Random Forest with the selected features, we obtained an accuracy of 94% in the training set and accuracy of 83% in the test set (see the output of Script 4g above). We can conclude several things from these results:\n",
        "\n",
        "    \n",
        "*   Tuned your model to reduce over fitting.\n",
        "*   A tuned model ranks features more accurately.\n",
        "*   Applying feature selection methods can help reduce over fitting and increase your model’s performance.\n",
        "\n",
        "\n",
        "## Although we still have considerable over fitting, we have made some gains in performance, we have less over fitting, and have dropped the model’s complexity. I will say this is a win but it’s not good enough."
      ]
    },
    {
      "cell_type": "markdown",
      "metadata": {
        "id": "5xgn66HQ8Ttc",
        "colab_type": "text"
      },
      "source": [
        "# Determining the features that maximize a model’s performance\n",
        "\n",
        "## We can also select features by applying a recursive feature elimination (RFE) algorithm. The RFE method determines the minimal subset of features you need that will maximize a model’s performance. \n",
        "## However, you run the risk of throwing away meaningful features — so keep that in mind. Therefore, if your task is to identify relevant features that are important to the outcome using RFE might not be the way to go. \n",
        "# The algorithm basically works this way. \n",
        "* First, train a model that can rank features using all the available features in your data set. \n",
        "* Second, measure the model’s performance. \n",
        "* Third, rank the features and remove the lowest ranking feature. \n",
        "* Repeat step 1 to step 3 until all the features are exhausted. \n",
        "#By iteratively removing features while keeping track of the model’s performance, you can determine the number features you need to achieve the highest performance."
      ]
    },
    {
      "cell_type": "markdown",
      "metadata": {
        "id": "GdUPmGLZu7CU",
        "colab_type": "text"
      },
      "source": [
        "## To determine the features that will maximize a model’s performance, we start by defining a tree-based Sklearn estimator (a Random Forest Classifier, Extra Trees Classifier, Gradient Boosting Classifier) with a feature_importances_ or coef_attribute. \n",
        "## Make sure that your base estimator is not over fitting your data. \n",
        "## In our case, we will use a Random Forest Classifier with the tuned paramaters found in Script 4e, see line 5–8 in Script 4h. Next, in line 11–15, we define a dictionary named step1 with a key 'RFECV Features' . The key value of 'RFECV Features' is a dictionary specifying the number of times to cross-validated the results (line 11) and other RFECV parameters. The RFECV object is the Sklearn implementation of RFE method where the results are cross-validated. The rest of script should be self-explanatory by this point."
      ]
    },
    {
      "cell_type": "code",
      "metadata": {
        "id": "fhj8BPd3y5xm",
        "colab_type": "code",
        "colab": {
          "base_uri": "https://localhost:8080/",
          "height": 1000
        },
        "outputId": "51d5374e-28bb-46a9-d186-8978dfcc8a7b"
      },
      "source": [
        "\n",
        "###############################################################################\n",
        "#    4h. Feature Selection: Features that maximize classifier performance     #\n",
        "###############################################################################\n",
        "# Initiate classifier instance\n",
        "estimator = RandomForestClassifier(random_state = 42)\n",
        "\n",
        "# Update classifier parameters\n",
        "estimator.set_params(**best_params)\n",
        "\n",
        "# Define steps\n",
        "step1 = {'RFECV Features': {'cv': 5,\n",
        "                            'estimator': estimator,\n",
        "                            'step': 1,\n",
        "                            'scoring': 'accuracy',\n",
        "                            'verbose': 50}}\n",
        "\n",
        "# Place steps in a list in the order you want them execute it\n",
        "steps = [step1]\n",
        "\n",
        "# Initialize FeatureSelector()\n",
        "fs = FeatureSelector()\n",
        "\n",
        "# Apply feature selection methods in the order they appear in steps\n",
        "fs.fit(X_all_train, y_all_train, steps)\n",
        "\n",
        "# Get selected features\n",
        "X_selected = fs.transform(X_all_train)\n"
      ],
      "execution_count": 29,
      "outputs": [
        {
          "output_type": "stream",
          "text": [
            "Selecting RFECV features\n",
            "Fitting estimator with 103 features.\n",
            "Fitting estimator with 102 features.\n",
            "Fitting estimator with 101 features.\n",
            "Fitting estimator with 100 features.\n",
            "Fitting estimator with 99 features.\n",
            "Fitting estimator with 98 features.\n",
            "Fitting estimator with 97 features.\n",
            "Fitting estimator with 96 features.\n",
            "Fitting estimator with 95 features.\n",
            "Fitting estimator with 94 features.\n",
            "Fitting estimator with 93 features.\n",
            "Fitting estimator with 92 features.\n",
            "Fitting estimator with 91 features.\n",
            "Fitting estimator with 90 features.\n",
            "Fitting estimator with 89 features.\n",
            "Fitting estimator with 88 features.\n",
            "Fitting estimator with 87 features.\n",
            "Fitting estimator with 86 features.\n",
            "Fitting estimator with 85 features.\n",
            "Fitting estimator with 84 features.\n",
            "Fitting estimator with 83 features.\n",
            "Fitting estimator with 82 features.\n",
            "Fitting estimator with 81 features.\n",
            "Fitting estimator with 80 features.\n",
            "Fitting estimator with 79 features.\n",
            "Fitting estimator with 78 features.\n",
            "Fitting estimator with 77 features.\n",
            "Fitting estimator with 76 features.\n",
            "Fitting estimator with 75 features.\n",
            "Fitting estimator with 74 features.\n",
            "Fitting estimator with 73 features.\n",
            "Fitting estimator with 72 features.\n",
            "Fitting estimator with 71 features.\n",
            "Fitting estimator with 70 features.\n",
            "Fitting estimator with 69 features.\n",
            "Fitting estimator with 68 features.\n",
            "Fitting estimator with 67 features.\n",
            "Fitting estimator with 66 features.\n",
            "Fitting estimator with 65 features.\n",
            "Fitting estimator with 64 features.\n",
            "Fitting estimator with 63 features.\n",
            "Fitting estimator with 62 features.\n",
            "Fitting estimator with 61 features.\n",
            "Fitting estimator with 60 features.\n",
            "Fitting estimator with 59 features.\n",
            "Fitting estimator with 58 features.\n",
            "Fitting estimator with 57 features.\n",
            "Fitting estimator with 56 features.\n",
            "Fitting estimator with 55 features.\n",
            "Fitting estimator with 54 features.\n",
            "Fitting estimator with 53 features.\n",
            "Fitting estimator with 52 features.\n",
            "Fitting estimator with 51 features.\n",
            "Fitting estimator with 50 features.\n",
            "Fitting estimator with 49 features.\n",
            "Fitting estimator with 48 features.\n",
            "Fitting estimator with 47 features.\n",
            "Fitting estimator with 46 features.\n",
            "Fitting estimator with 45 features.\n",
            "Fitting estimator with 44 features.\n",
            "Fitting estimator with 43 features.\n",
            "Fitting estimator with 42 features.\n",
            "Fitting estimator with 41 features.\n",
            "Fitting estimator with 40 features.\n",
            "Fitting estimator with 39 features.\n",
            "Fitting estimator with 38 features.\n",
            "Fitting estimator with 37 features.\n",
            "Fitting estimator with 36 features.\n",
            "Fitting estimator with 35 features.\n",
            "Fitting estimator with 34 features.\n",
            "Fitting estimator with 33 features.\n",
            "Fitting estimator with 32 features.\n",
            "Fitting estimator with 31 features.\n",
            "Fitting estimator with 30 features.\n",
            "Fitting estimator with 29 features.\n",
            "Fitting estimator with 28 features.\n",
            "Fitting estimator with 27 features.\n",
            "Fitting estimator with 26 features.\n",
            "Fitting estimator with 25 features.\n",
            "Fitting estimator with 24 features.\n",
            "Fitting estimator with 23 features.\n",
            "Fitting estimator with 22 features.\n",
            "Fitting estimator with 21 features.\n",
            "Fitting estimator with 20 features.\n",
            "Fitting estimator with 19 features.\n",
            "Fitting estimator with 18 features.\n",
            "Fitting estimator with 17 features.\n",
            "Fitting estimator with 16 features.\n",
            "Fitting estimator with 15 features.\n",
            "Fitting estimator with 14 features.\n",
            "Fitting estimator with 13 features.\n",
            "Fitting estimator with 12 features.\n",
            "Fitting estimator with 11 features.\n",
            "Fitting estimator with 10 features.\n",
            "Fitting estimator with 9 features.\n",
            "Fitting estimator with 8 features.\n",
            "Fitting estimator with 7 features.\n",
            "Fitting estimator with 6 features.\n",
            "Fitting estimator with 5 features.\n",
            "Fitting estimator with 4 features.\n",
            "Fitting estimator with 3 features.\n",
            "Fitting estimator with 2 features.\n",
            "Fitting estimator with 103 features.\n",
            "Fitting estimator with 102 features.\n",
            "Fitting estimator with 101 features.\n",
            "Fitting estimator with 100 features.\n",
            "Fitting estimator with 99 features.\n",
            "Fitting estimator with 98 features.\n",
            "Fitting estimator with 97 features.\n",
            "Fitting estimator with 96 features.\n",
            "Fitting estimator with 95 features.\n",
            "Fitting estimator with 94 features.\n",
            "Fitting estimator with 93 features.\n",
            "Fitting estimator with 92 features.\n",
            "Fitting estimator with 91 features.\n",
            "Fitting estimator with 90 features.\n",
            "Fitting estimator with 89 features.\n",
            "Fitting estimator with 88 features.\n",
            "Fitting estimator with 87 features.\n",
            "Fitting estimator with 86 features.\n",
            "Fitting estimator with 85 features.\n",
            "Fitting estimator with 84 features.\n",
            "Fitting estimator with 83 features.\n",
            "Fitting estimator with 82 features.\n",
            "Fitting estimator with 81 features.\n",
            "Fitting estimator with 80 features.\n",
            "Fitting estimator with 79 features.\n",
            "Fitting estimator with 78 features.\n",
            "Fitting estimator with 77 features.\n",
            "Fitting estimator with 76 features.\n",
            "Fitting estimator with 75 features.\n",
            "Fitting estimator with 74 features.\n",
            "Fitting estimator with 73 features.\n",
            "Fitting estimator with 72 features.\n",
            "Fitting estimator with 71 features.\n",
            "Fitting estimator with 70 features.\n",
            "Fitting estimator with 69 features.\n",
            "Fitting estimator with 68 features.\n",
            "Fitting estimator with 67 features.\n",
            "Fitting estimator with 66 features.\n",
            "Fitting estimator with 65 features.\n",
            "Fitting estimator with 64 features.\n",
            "Fitting estimator with 63 features.\n",
            "Fitting estimator with 62 features.\n",
            "Fitting estimator with 61 features.\n",
            "Fitting estimator with 60 features.\n",
            "Fitting estimator with 59 features.\n",
            "Fitting estimator with 58 features.\n",
            "Fitting estimator with 57 features.\n",
            "Fitting estimator with 56 features.\n",
            "Fitting estimator with 55 features.\n",
            "Fitting estimator with 54 features.\n",
            "Fitting estimator with 53 features.\n",
            "Fitting estimator with 52 features.\n",
            "Fitting estimator with 51 features.\n",
            "Fitting estimator with 50 features.\n",
            "Fitting estimator with 49 features.\n",
            "Fitting estimator with 48 features.\n",
            "Fitting estimator with 47 features.\n",
            "Fitting estimator with 46 features.\n",
            "Fitting estimator with 45 features.\n",
            "Fitting estimator with 44 features.\n",
            "Fitting estimator with 43 features.\n",
            "Fitting estimator with 42 features.\n",
            "Fitting estimator with 41 features.\n",
            "Fitting estimator with 40 features.\n",
            "Fitting estimator with 39 features.\n",
            "Fitting estimator with 38 features.\n",
            "Fitting estimator with 37 features.\n",
            "Fitting estimator with 36 features.\n",
            "Fitting estimator with 35 features.\n",
            "Fitting estimator with 34 features.\n",
            "Fitting estimator with 33 features.\n",
            "Fitting estimator with 32 features.\n",
            "Fitting estimator with 31 features.\n",
            "Fitting estimator with 30 features.\n",
            "Fitting estimator with 29 features.\n",
            "Fitting estimator with 28 features.\n",
            "Fitting estimator with 27 features.\n",
            "Fitting estimator with 26 features.\n",
            "Fitting estimator with 25 features.\n",
            "Fitting estimator with 24 features.\n",
            "Fitting estimator with 23 features.\n",
            "Fitting estimator with 22 features.\n",
            "Fitting estimator with 21 features.\n",
            "Fitting estimator with 20 features.\n",
            "Fitting estimator with 19 features.\n",
            "Fitting estimator with 18 features.\n",
            "Fitting estimator with 17 features.\n",
            "Fitting estimator with 16 features.\n",
            "Fitting estimator with 15 features.\n",
            "Fitting estimator with 14 features.\n",
            "Fitting estimator with 13 features.\n",
            "Fitting estimator with 12 features.\n",
            "Fitting estimator with 11 features.\n",
            "Fitting estimator with 10 features.\n",
            "Fitting estimator with 9 features.\n",
            "Fitting estimator with 8 features.\n",
            "Fitting estimator with 7 features.\n",
            "Fitting estimator with 6 features.\n",
            "Fitting estimator with 5 features.\n",
            "Fitting estimator with 4 features.\n",
            "Fitting estimator with 3 features.\n",
            "Fitting estimator with 2 features.\n",
            "Fitting estimator with 103 features.\n",
            "Fitting estimator with 102 features.\n",
            "Fitting estimator with 101 features.\n",
            "Fitting estimator with 100 features.\n",
            "Fitting estimator with 99 features.\n",
            "Fitting estimator with 98 features.\n",
            "Fitting estimator with 97 features.\n",
            "Fitting estimator with 96 features.\n",
            "Fitting estimator with 95 features.\n",
            "Fitting estimator with 94 features.\n",
            "Fitting estimator with 93 features.\n",
            "Fitting estimator with 92 features.\n",
            "Fitting estimator with 91 features.\n",
            "Fitting estimator with 90 features.\n",
            "Fitting estimator with 89 features.\n",
            "Fitting estimator with 88 features.\n",
            "Fitting estimator with 87 features.\n",
            "Fitting estimator with 86 features.\n",
            "Fitting estimator with 85 features.\n",
            "Fitting estimator with 84 features.\n",
            "Fitting estimator with 83 features.\n",
            "Fitting estimator with 82 features.\n",
            "Fitting estimator with 81 features.\n",
            "Fitting estimator with 80 features.\n",
            "Fitting estimator with 79 features.\n",
            "Fitting estimator with 78 features.\n",
            "Fitting estimator with 77 features.\n",
            "Fitting estimator with 76 features.\n",
            "Fitting estimator with 75 features.\n",
            "Fitting estimator with 74 features.\n",
            "Fitting estimator with 73 features.\n",
            "Fitting estimator with 72 features.\n",
            "Fitting estimator with 71 features.\n",
            "Fitting estimator with 70 features.\n",
            "Fitting estimator with 69 features.\n",
            "Fitting estimator with 68 features.\n",
            "Fitting estimator with 67 features.\n",
            "Fitting estimator with 66 features.\n",
            "Fitting estimator with 65 features.\n",
            "Fitting estimator with 64 features.\n",
            "Fitting estimator with 63 features.\n",
            "Fitting estimator with 62 features.\n",
            "Fitting estimator with 61 features.\n",
            "Fitting estimator with 60 features.\n",
            "Fitting estimator with 59 features.\n",
            "Fitting estimator with 58 features.\n",
            "Fitting estimator with 57 features.\n",
            "Fitting estimator with 56 features.\n",
            "Fitting estimator with 55 features.\n",
            "Fitting estimator with 54 features.\n",
            "Fitting estimator with 53 features.\n",
            "Fitting estimator with 52 features.\n",
            "Fitting estimator with 51 features.\n",
            "Fitting estimator with 50 features.\n",
            "Fitting estimator with 49 features.\n",
            "Fitting estimator with 48 features.\n",
            "Fitting estimator with 47 features.\n",
            "Fitting estimator with 46 features.\n",
            "Fitting estimator with 45 features.\n",
            "Fitting estimator with 44 features.\n",
            "Fitting estimator with 43 features.\n",
            "Fitting estimator with 42 features.\n",
            "Fitting estimator with 41 features.\n",
            "Fitting estimator with 40 features.\n",
            "Fitting estimator with 39 features.\n",
            "Fitting estimator with 38 features.\n",
            "Fitting estimator with 37 features.\n",
            "Fitting estimator with 36 features.\n",
            "Fitting estimator with 35 features.\n",
            "Fitting estimator with 34 features.\n",
            "Fitting estimator with 33 features.\n",
            "Fitting estimator with 32 features.\n",
            "Fitting estimator with 31 features.\n",
            "Fitting estimator with 30 features.\n",
            "Fitting estimator with 29 features.\n",
            "Fitting estimator with 28 features.\n",
            "Fitting estimator with 27 features.\n",
            "Fitting estimator with 26 features.\n",
            "Fitting estimator with 25 features.\n",
            "Fitting estimator with 24 features.\n",
            "Fitting estimator with 23 features.\n",
            "Fitting estimator with 22 features.\n",
            "Fitting estimator with 21 features.\n",
            "Fitting estimator with 20 features.\n",
            "Fitting estimator with 19 features.\n",
            "Fitting estimator with 18 features.\n",
            "Fitting estimator with 17 features.\n",
            "Fitting estimator with 16 features.\n",
            "Fitting estimator with 15 features.\n",
            "Fitting estimator with 14 features.\n",
            "Fitting estimator with 13 features.\n",
            "Fitting estimator with 12 features.\n",
            "Fitting estimator with 11 features.\n",
            "Fitting estimator with 10 features.\n",
            "Fitting estimator with 9 features.\n",
            "Fitting estimator with 8 features.\n",
            "Fitting estimator with 7 features.\n",
            "Fitting estimator with 6 features.\n",
            "Fitting estimator with 5 features.\n",
            "Fitting estimator with 4 features.\n",
            "Fitting estimator with 3 features.\n",
            "Fitting estimator with 2 features.\n",
            "Fitting estimator with 103 features.\n",
            "Fitting estimator with 102 features.\n",
            "Fitting estimator with 101 features.\n",
            "Fitting estimator with 100 features.\n",
            "Fitting estimator with 99 features.\n",
            "Fitting estimator with 98 features.\n",
            "Fitting estimator with 97 features.\n",
            "Fitting estimator with 96 features.\n",
            "Fitting estimator with 95 features.\n",
            "Fitting estimator with 94 features.\n",
            "Fitting estimator with 93 features.\n",
            "Fitting estimator with 92 features.\n",
            "Fitting estimator with 91 features.\n",
            "Fitting estimator with 90 features.\n",
            "Fitting estimator with 89 features.\n",
            "Fitting estimator with 88 features.\n",
            "Fitting estimator with 87 features.\n",
            "Fitting estimator with 86 features.\n",
            "Fitting estimator with 85 features.\n",
            "Fitting estimator with 84 features.\n",
            "Fitting estimator with 83 features.\n",
            "Fitting estimator with 82 features.\n",
            "Fitting estimator with 81 features.\n",
            "Fitting estimator with 80 features.\n",
            "Fitting estimator with 79 features.\n",
            "Fitting estimator with 78 features.\n",
            "Fitting estimator with 77 features.\n",
            "Fitting estimator with 76 features.\n",
            "Fitting estimator with 75 features.\n",
            "Fitting estimator with 74 features.\n",
            "Fitting estimator with 73 features.\n",
            "Fitting estimator with 72 features.\n",
            "Fitting estimator with 71 features.\n",
            "Fitting estimator with 70 features.\n",
            "Fitting estimator with 69 features.\n",
            "Fitting estimator with 68 features.\n",
            "Fitting estimator with 67 features.\n",
            "Fitting estimator with 66 features.\n",
            "Fitting estimator with 65 features.\n",
            "Fitting estimator with 64 features.\n",
            "Fitting estimator with 63 features.\n",
            "Fitting estimator with 62 features.\n",
            "Fitting estimator with 61 features.\n",
            "Fitting estimator with 60 features.\n",
            "Fitting estimator with 59 features.\n",
            "Fitting estimator with 58 features.\n",
            "Fitting estimator with 57 features.\n",
            "Fitting estimator with 56 features.\n",
            "Fitting estimator with 55 features.\n",
            "Fitting estimator with 54 features.\n",
            "Fitting estimator with 53 features.\n",
            "Fitting estimator with 52 features.\n",
            "Fitting estimator with 51 features.\n",
            "Fitting estimator with 50 features.\n",
            "Fitting estimator with 49 features.\n",
            "Fitting estimator with 48 features.\n",
            "Fitting estimator with 47 features.\n",
            "Fitting estimator with 46 features.\n",
            "Fitting estimator with 45 features.\n",
            "Fitting estimator with 44 features.\n",
            "Fitting estimator with 43 features.\n",
            "Fitting estimator with 42 features.\n",
            "Fitting estimator with 41 features.\n",
            "Fitting estimator with 40 features.\n",
            "Fitting estimator with 39 features.\n",
            "Fitting estimator with 38 features.\n",
            "Fitting estimator with 37 features.\n",
            "Fitting estimator with 36 features.\n",
            "Fitting estimator with 35 features.\n",
            "Fitting estimator with 34 features.\n",
            "Fitting estimator with 33 features.\n",
            "Fitting estimator with 32 features.\n",
            "Fitting estimator with 31 features.\n",
            "Fitting estimator with 30 features.\n",
            "Fitting estimator with 29 features.\n",
            "Fitting estimator with 28 features.\n",
            "Fitting estimator with 27 features.\n",
            "Fitting estimator with 26 features.\n",
            "Fitting estimator with 25 features.\n",
            "Fitting estimator with 24 features.\n",
            "Fitting estimator with 23 features.\n",
            "Fitting estimator with 22 features.\n",
            "Fitting estimator with 21 features.\n",
            "Fitting estimator with 20 features.\n",
            "Fitting estimator with 19 features.\n",
            "Fitting estimator with 18 features.\n",
            "Fitting estimator with 17 features.\n",
            "Fitting estimator with 16 features.\n",
            "Fitting estimator with 15 features.\n",
            "Fitting estimator with 14 features.\n",
            "Fitting estimator with 13 features.\n",
            "Fitting estimator with 12 features.\n",
            "Fitting estimator with 11 features.\n",
            "Fitting estimator with 10 features.\n",
            "Fitting estimator with 9 features.\n",
            "Fitting estimator with 8 features.\n",
            "Fitting estimator with 7 features.\n",
            "Fitting estimator with 6 features.\n",
            "Fitting estimator with 5 features.\n",
            "Fitting estimator with 4 features.\n",
            "Fitting estimator with 3 features.\n",
            "Fitting estimator with 2 features.\n",
            "Fitting estimator with 103 features.\n",
            "Fitting estimator with 102 features.\n",
            "Fitting estimator with 101 features.\n",
            "Fitting estimator with 100 features.\n",
            "Fitting estimator with 99 features.\n",
            "Fitting estimator with 98 features.\n",
            "Fitting estimator with 97 features.\n",
            "Fitting estimator with 96 features.\n",
            "Fitting estimator with 95 features.\n",
            "Fitting estimator with 94 features.\n",
            "Fitting estimator with 93 features.\n",
            "Fitting estimator with 92 features.\n",
            "Fitting estimator with 91 features.\n",
            "Fitting estimator with 90 features.\n",
            "Fitting estimator with 89 features.\n",
            "Fitting estimator with 88 features.\n",
            "Fitting estimator with 87 features.\n",
            "Fitting estimator with 86 features.\n",
            "Fitting estimator with 85 features.\n",
            "Fitting estimator with 84 features.\n",
            "Fitting estimator with 83 features.\n",
            "Fitting estimator with 82 features.\n",
            "Fitting estimator with 81 features.\n",
            "Fitting estimator with 80 features.\n",
            "Fitting estimator with 79 features.\n",
            "Fitting estimator with 78 features.\n",
            "Fitting estimator with 77 features.\n",
            "Fitting estimator with 76 features.\n",
            "Fitting estimator with 75 features.\n",
            "Fitting estimator with 74 features.\n",
            "Fitting estimator with 73 features.\n",
            "Fitting estimator with 72 features.\n",
            "Fitting estimator with 71 features.\n",
            "Fitting estimator with 70 features.\n",
            "Fitting estimator with 69 features.\n",
            "Fitting estimator with 68 features.\n",
            "Fitting estimator with 67 features.\n",
            "Fitting estimator with 66 features.\n",
            "Fitting estimator with 65 features.\n",
            "Fitting estimator with 64 features.\n",
            "Fitting estimator with 63 features.\n",
            "Fitting estimator with 62 features.\n",
            "Fitting estimator with 61 features.\n",
            "Fitting estimator with 60 features.\n",
            "Fitting estimator with 59 features.\n",
            "Fitting estimator with 58 features.\n",
            "Fitting estimator with 57 features.\n",
            "Fitting estimator with 56 features.\n",
            "Fitting estimator with 55 features.\n",
            "Fitting estimator with 54 features.\n",
            "Fitting estimator with 53 features.\n",
            "Fitting estimator with 52 features.\n",
            "Fitting estimator with 51 features.\n",
            "Fitting estimator with 50 features.\n",
            "Fitting estimator with 49 features.\n",
            "Fitting estimator with 48 features.\n",
            "Fitting estimator with 47 features.\n",
            "Fitting estimator with 46 features.\n",
            "Fitting estimator with 45 features.\n",
            "Fitting estimator with 44 features.\n",
            "Fitting estimator with 43 features.\n",
            "Fitting estimator with 42 features.\n",
            "Fitting estimator with 41 features.\n",
            "Fitting estimator with 40 features.\n",
            "Fitting estimator with 39 features.\n",
            "Fitting estimator with 38 features.\n",
            "Fitting estimator with 37 features.\n",
            "Fitting estimator with 36 features.\n",
            "Fitting estimator with 35 features.\n",
            "Fitting estimator with 34 features.\n",
            "Fitting estimator with 33 features.\n",
            "Fitting estimator with 32 features.\n",
            "Fitting estimator with 31 features.\n",
            "Fitting estimator with 30 features.\n",
            "Fitting estimator with 29 features.\n",
            "Fitting estimator with 28 features.\n",
            "Fitting estimator with 27 features.\n",
            "Fitting estimator with 26 features.\n",
            "Fitting estimator with 25 features.\n",
            "Fitting estimator with 24 features.\n",
            "Fitting estimator with 23 features.\n",
            "Fitting estimator with 22 features.\n",
            "Fitting estimator with 21 features.\n",
            "Fitting estimator with 20 features.\n",
            "Fitting estimator with 19 features.\n",
            "Fitting estimator with 18 features.\n",
            "Fitting estimator with 17 features.\n",
            "Fitting estimator with 16 features.\n",
            "Fitting estimator with 15 features.\n",
            "Fitting estimator with 14 features.\n",
            "Fitting estimator with 13 features.\n",
            "Fitting estimator with 12 features.\n",
            "Fitting estimator with 11 features.\n",
            "Fitting estimator with 10 features.\n",
            "Fitting estimator with 9 features.\n",
            "Fitting estimator with 8 features.\n",
            "Fitting estimator with 7 features.\n",
            "Fitting estimator with 6 features.\n",
            "Fitting estimator with 5 features.\n",
            "Fitting estimator with 4 features.\n",
            "Fitting estimator with 3 features.\n",
            "Fitting estimator with 2 features.\n",
            "Fitting estimator with 103 features.\n",
            "Fitting estimator with 102 features.\n",
            "Fitting estimator with 101 features.\n",
            "Fitting estimator with 100 features.\n",
            "Fitting estimator with 99 features.\n",
            "Fitting estimator with 98 features.\n",
            "Fitting estimator with 97 features.\n",
            "Fitting estimator with 96 features.\n",
            "Fitting estimator with 95 features.\n",
            "Fitting estimator with 94 features.\n",
            "Fitting estimator with 93 features.\n",
            "Fitting estimator with 92 features.\n",
            "Fitting estimator with 91 features.\n",
            "Fitting estimator with 90 features.\n",
            "Fitting estimator with 89 features.\n",
            "Fitting estimator with 88 features.\n",
            "Fitting estimator with 87 features.\n",
            "Fitting estimator with 86 features.\n",
            "Fitting estimator with 85 features.\n",
            "Fitting estimator with 84 features.\n",
            "Fitting estimator with 83 features.\n",
            "Fitting estimator with 82 features.\n",
            "Fitting estimator with 81 features.\n",
            "Fitting estimator with 80 features.\n",
            "Fitting estimator with 79 features.\n",
            "Fitting estimator with 78 features.\n",
            "Fitting estimator with 77 features.\n",
            "Fitting estimator with 76 features.\n",
            "Fitting estimator with 75 features.\n",
            "['Informative 1', 'Informative 2', 'Informative 3', 'Informative 4', 'Informative 5', 'Informative 6', 'Informative 7', 'Informative 9', 'Redundant 11', 'Redundant 12', 'Redundant 13', 'Redundant 14', 'Redundant 15', 'Redundant 18', 'Redundant 19', 'Redundant 21', 'Redundant 22', 'Redundant 24', 'Redundant 25', 'Redundant 26', 'Redundant 27', 'Redundant 28', 'Redundant 29', 'Redundant 30', 'Redundant 31', 'Redundant 32', 'Redundant 33', 'Redundant 35', 'Redundant 36', 'Redundant 37', 'Redundant 38', 'Redundant 39', 'Redundant 41', 'Redundant 42', 'Redundant 43', 'Redundant 44', 'Redundant 46', 'Redundant 47', 'Redundant 48', 'Redundant 49', 'Redundant 50', 'Redundant 51', 'Redundant 52', 'Redundant 53', 'Redundant 54', 'Redundant 55', 'Redundant 56', 'Redundant 57', 'Redundant 59', 'Redundant 60', 'Repeated 61', 'Repeated 62', 'Repeated 63', 'Repeated 64', 'Repeated 66', 'Repeated 68', 'Repeated 70', 'Repeated 71', 'Repeated 72', 'Repeated 73', 'Repeated 75', 'Repeated 76', 'Repeated 77', 'Repeated 78', 'Repeated 79', 'Repeated 80', 'Repeated 81', 'Repeated 82', 'Repeated 83', 'Repeated 84', 'Repeated 85', 'Critical 1', 'Critical 2', 'Critical 3']\n",
            "\n",
            "Done selecting features\n"
          ],
          "name": "stdout"
        }
      ]
    },
    {
      "cell_type": "code",
      "metadata": {
        "id": "DOUfHdJOwLII",
        "colab_type": "code",
        "colab": {
          "base_uri": "https://localhost:8080/",
          "height": 1000
        },
        "outputId": "7802a0f4-5721-4ee3-e473-84ce0e80689d"
      },
      "source": [
        "Image(url= \"https://miro.medium.com/max/1400/1*XGseVBy9kYCulifvGN9KHQ.png\")"
      ],
      "execution_count": 41,
      "outputs": [
        {
          "output_type": "execute_result",
          "data": {
            "text/html": [
              "<img src=\"https://miro.medium.com/max/1400/1*XGseVBy9kYCulifvGN9KHQ.png\"/>"
            ],
            "text/plain": [
              "<IPython.core.display.Image object>"
            ]
          },
          "metadata": {
            "tags": []
          },
          "execution_count": 41
        }
      ]
    },
    {
      "cell_type": "markdown",
      "metadata": {
        "id": "5rmmtCkYv-wW",
        "colab_type": "text"
      },
      "source": [
        "## Figure 13 shows the selected features determined by Sklean RFECV method. Unfortunately, we still have a lot of redundant and repeated features. The FeatureSelector class, haves a rfecv attribute where the fitted RFECV Sklearn object is saved. You can look a bit more deeper into the results of the RFE features by inspecting the contents of the fitted RFECV object."
      ]
    },
    {
      "cell_type": "code",
      "metadata": {
        "id": "Jc9zUPN3y9W7",
        "colab_type": "code",
        "colab": {
          "base_uri": "https://localhost:8080/",
          "height": 454
        },
        "outputId": "74c0bcca-37c2-46c2-b1ec-11e81dd0a9ac"
      },
      "source": [
        "###############################################################################\n",
        "#                4f. Feature Selection: RFECV performance curve               #\n",
        "###############################################################################\n",
        "# Get Performance Data\n",
        "performance_curve = {'Number of Features': list(range(1, len(fs.rfecv.grid_scores_) + 1)),\n",
        "                    'Accuracy': fs.rfecv.grid_scores_}\n",
        "performance_curve = pd.DataFrame(performance_curve)\n",
        "\n",
        "# Performance vs Number of Features\n",
        "# Set graph style\n",
        "sns.set(font_scale = 1.75)\n",
        "sns.set_style({'axes.facecolor': '1.0', 'axes.edgecolor': '0.85', 'grid.color': '0.85',\n",
        "               \"grid.linestyle\": '-', 'axes.labelcolor': '0.4', 'xtick.color': '0.4',\n",
        "               'ytick.color': '0.4'})\n",
        "colors = sns.color_palette('RdYlGn', 20)\n",
        "line_color = colors[3]\n",
        "marker_colors = colors[-1]\n",
        "\n",
        "# Plot\n",
        "f, ax = plt.subplots(figsize=(13, 6.5))\n",
        "sns.lineplot(x = 'Number of Features', y = 'Accuracy', data = performance_curve,\n",
        "             color = line_color, lw = 4, ax = ax)\n",
        "sns.regplot(x = performance_curve['Number of Features'], y = performance_curve['Accuracy'],\n",
        "            color = marker_colors, fit_reg = False, scatter_kws = {\"s\": 200}, ax = ax)\n",
        "\n",
        "# Axes limits\n",
        "plt.xlim(0, len(fs.rfecv.grid_scores_)/1.5)\n",
        "plt.ylim(0.54, 0.83)\n",
        "\n",
        "# Generate a bolded horizontal line at y = 0\n",
        "ax.axhline(y = 0.55, color = 'black', linewidth = 1.3, alpha = .7)\n",
        "\n",
        "# Turn frame off\n",
        "ax.set_frame_on(False)\n",
        "\n",
        "# Tight layout\n",
        "plt.tight_layout()\n",
        "\n",
        "# Save Figure\n",
        "plt.savefig('Moderately to Highly Correated + RFECV performance_curve.png', dpi = 1080)\n"
      ],
      "execution_count": 30,
      "outputs": [
        {
          "output_type": "display_data",
          "data": {
            "image/png": "[encoded data removed]",
            "text/plain": [
              "<Figure size 936x468 with 1 Axes>"
            ]
          },
          "metadata": {
            "tags": []
          }
        }
      ]
    },
    {
      "cell_type": "markdown",
      "metadata": {
        "id": "R_Q5tosXwhbE",
        "colab_type": "text"
      },
      "source": [
        "## In Figure 14, the model’s performance as a function of a number of features is shown. As you can see, the performance peak’s around 40 features with an accuracy of about 0.80. Since the number of selected features are about 50 (see Figure 13), we can conclude that the RFECV Sklearn object overestimates the minimum number of features we need to maximize the model’s performance. In my opinion, you be better off if you simply selected the top 13 ranked features where the model’s accuracy is about 79%. However, the RFECV Skelarn object does provide you with that information. If you were eager to know what were the top 13 ranked features, you will need to write your own version of the RFE algorithm."
      ]
    },
    {
      "cell_type": "markdown",
      "metadata": {
        "id": "6duKSq6GxqKW",
        "colab_type": "text"
      },
      "source": [
        "# Building a Feature Selection Pipeline\n",
        "\n",
        "## In the previous section, we learn that we need to be cautious and alert to the dangers of automatic feature selection methods. By applying them and then trusting the results blindly you might end up making terrible miscalculation. Furthermore, not a single feature selection algorithm produced the results that we wanted — selected only informative and critical features.\n",
        "\n",
        "## To improve our feature selection, we can apply feature selection algorithms as a series of steps. For example, we can first remove moderate to highly correlated features (line 11) and then apply the RFE method as shown in Script 5a."
      ]
    },
    {
      "cell_type": "code",
      "metadata": {
        "id": "mTU-gGspzBST",
        "colab_type": "code",
        "colab": {
          "base_uri": "https://localhost:8080/",
          "height": 1000
        },
        "outputId": "c517297e-321a-4ce9-f972-befc49f410c2"
      },
      "source": [
        "###############################################################################\n",
        "#       5a. Feature Selection Pipeline: Removing Highly Correlated + RFE      #\n",
        "###############################################################################\n",
        "# Initiate classifier instance\n",
        "estimator = RandomForestClassifier(random_state = 42)\n",
        "\n",
        "# Update classifier parameters\n",
        "estimator.set_params(**best_params)\n",
        "\n",
        "# Define steps\n",
        "step1 = {'Correlated Features': {'correlation_threshold': 0.80}}\n",
        "\n",
        "step2 = {'RFECV Features': {'cv': 5,\n",
        "                            'estimator': estimator,\n",
        "                            'step': 1,\n",
        "                            'scoring': 'accuracy',\n",
        "                            'verbose': 50}}\n",
        "\n",
        "# Place steps in a list in the order you want them execute it\n",
        "steps = [step1, step2]\n",
        "\n",
        "# Initialize FeatureSelector()\n",
        "fs = FeatureSelector()\n",
        "\n",
        "# Apply feature selection methods in the order they appear in steps\n",
        "fs.fit(X_all_train, y_all_train, steps)\n",
        "\n",
        "# Get selected features\n",
        "X_selected = fs.transform(X_all_train)"
      ],
      "execution_count": 31,
      "outputs": [
        {
          "output_type": "stream",
          "text": [
            "Removing Correlated Features\n",
            "['Redundant 28', 'Redundant 29', 'Redundant 33', 'Redundant 35', 'Redundant 52', 'Redundant 54', 'Redundant 55', 'Redundant 59', 'Repeated 61', 'Repeated 62', 'Repeated 63', 'Repeated 64', 'Repeated 65', 'Repeated 66', 'Repeated 67', 'Repeated 68', 'Repeated 69', 'Repeated 70', 'Repeated 71', 'Repeated 72', 'Repeated 73', 'Repeated 74', 'Repeated 75', 'Repeated 76', 'Repeated 77', 'Repeated 78', 'Repeated 79', 'Repeated 80', 'Repeated 81', 'Repeated 82', 'Repeated 83', 'Repeated 84', 'Repeated 85']\n",
            "\n",
            "Selecting RFECV features\n",
            "Fitting estimator with 70 features.\n",
            "Fitting estimator with 69 features.\n",
            "Fitting estimator with 68 features.\n",
            "Fitting estimator with 67 features.\n",
            "Fitting estimator with 66 features.\n",
            "Fitting estimator with 65 features.\n",
            "Fitting estimator with 64 features.\n",
            "Fitting estimator with 63 features.\n",
            "Fitting estimator with 62 features.\n",
            "Fitting estimator with 61 features.\n",
            "Fitting estimator with 60 features.\n",
            "Fitting estimator with 59 features.\n",
            "Fitting estimator with 58 features.\n",
            "Fitting estimator with 57 features.\n",
            "Fitting estimator with 56 features.\n",
            "Fitting estimator with 55 features.\n",
            "Fitting estimator with 54 features.\n",
            "Fitting estimator with 53 features.\n",
            "Fitting estimator with 52 features.\n",
            "Fitting estimator with 51 features.\n",
            "Fitting estimator with 50 features.\n",
            "Fitting estimator with 49 features.\n",
            "Fitting estimator with 48 features.\n",
            "Fitting estimator with 47 features.\n",
            "Fitting estimator with 46 features.\n",
            "Fitting estimator with 45 features.\n",
            "Fitting estimator with 44 features.\n",
            "Fitting estimator with 43 features.\n",
            "Fitting estimator with 42 features.\n",
            "Fitting estimator with 41 features.\n",
            "Fitting estimator with 40 features.\n",
            "Fitting estimator with 39 features.\n",
            "Fitting estimator with 38 features.\n",
            "Fitting estimator with 37 features.\n",
            "Fitting estimator with 36 features.\n",
            "Fitting estimator with 35 features.\n",
            "Fitting estimator with 34 features.\n",
            "Fitting estimator with 33 features.\n",
            "Fitting estimator with 32 features.\n",
            "Fitting estimator with 31 features.\n",
            "Fitting estimator with 30 features.\n",
            "Fitting estimator with 29 features.\n",
            "Fitting estimator with 28 features.\n",
            "Fitting estimator with 27 features.\n",
            "Fitting estimator with 26 features.\n",
            "Fitting estimator with 25 features.\n",
            "Fitting estimator with 24 features.\n",
            "Fitting estimator with 23 features.\n",
            "Fitting estimator with 22 features.\n",
            "Fitting estimator with 21 features.\n",
            "Fitting estimator with 20 features.\n",
            "Fitting estimator with 19 features.\n",
            "Fitting estimator with 18 features.\n",
            "Fitting estimator with 17 features.\n",
            "Fitting estimator with 16 features.\n",
            "Fitting estimator with 15 features.\n",
            "Fitting estimator with 14 features.\n",
            "Fitting estimator with 13 features.\n",
            "Fitting estimator with 12 features.\n",
            "Fitting estimator with 11 features.\n",
            "Fitting estimator with 10 features.\n",
            "Fitting estimator with 9 features.\n",
            "Fitting estimator with 8 features.\n",
            "Fitting estimator with 7 features.\n",
            "Fitting estimator with 6 features.\n",
            "Fitting estimator with 5 features.\n",
            "Fitting estimator with 4 features.\n",
            "Fitting estimator with 3 features.\n",
            "Fitting estimator with 2 features.\n",
            "Fitting estimator with 70 features.\n",
            "Fitting estimator with 69 features.\n",
            "Fitting estimator with 68 features.\n",
            "Fitting estimator with 67 features.\n",
            "Fitting estimator with 66 features.\n",
            "Fitting estimator with 65 features.\n",
            "Fitting estimator with 64 features.\n",
            "Fitting estimator with 63 features.\n",
            "Fitting estimator with 62 features.\n",
            "Fitting estimator with 61 features.\n",
            "Fitting estimator with 60 features.\n",
            "Fitting estimator with 59 features.\n",
            "Fitting estimator with 58 features.\n",
            "Fitting estimator with 57 features.\n",
            "Fitting estimator with 56 features.\n",
            "Fitting estimator with 55 features.\n",
            "Fitting estimator with 54 features.\n",
            "Fitting estimator with 53 features.\n",
            "Fitting estimator with 52 features.\n",
            "Fitting estimator with 51 features.\n",
            "Fitting estimator with 50 features.\n",
            "Fitting estimator with 49 features.\n",
            "Fitting estimator with 48 features.\n",
            "Fitting estimator with 47 features.\n",
            "Fitting estimator with 46 features.\n",
            "Fitting estimator with 45 features.\n",
            "Fitting estimator with 44 features.\n",
            "Fitting estimator with 43 features.\n",
            "Fitting estimator with 42 features.\n",
            "Fitting estimator with 41 features.\n",
            "Fitting estimator with 40 features.\n",
            "Fitting estimator with 39 features.\n",
            "Fitting estimator with 38 features.\n",
            "Fitting estimator with 37 features.\n",
            "Fitting estimator with 36 features.\n",
            "Fitting estimator with 35 features.\n",
            "Fitting estimator with 34 features.\n",
            "Fitting estimator with 33 features.\n",
            "Fitting estimator with 32 features.\n",
            "Fitting estimator with 31 features.\n",
            "Fitting estimator with 30 features.\n",
            "Fitting estimator with 29 features.\n",
            "Fitting estimator with 28 features.\n",
            "Fitting estimator with 27 features.\n",
            "Fitting estimator with 26 features.\n",
            "Fitting estimator with 25 features.\n",
            "Fitting estimator with 24 features.\n",
            "Fitting estimator with 23 features.\n",
            "Fitting estimator with 22 features.\n",
            "Fitting estimator with 21 features.\n",
            "Fitting estimator with 20 features.\n",
            "Fitting estimator with 19 features.\n",
            "Fitting estimator with 18 features.\n",
            "Fitting estimator with 17 features.\n",
            "Fitting estimator with 16 features.\n",
            "Fitting estimator with 15 features.\n",
            "Fitting estimator with 14 features.\n",
            "Fitting estimator with 13 features.\n",
            "Fitting estimator with 12 features.\n",
            "Fitting estimator with 11 features.\n",
            "Fitting estimator with 10 features.\n",
            "Fitting estimator with 9 features.\n",
            "Fitting estimator with 8 features.\n",
            "Fitting estimator with 7 features.\n",
            "Fitting estimator with 6 features.\n",
            "Fitting estimator with 5 features.\n",
            "Fitting estimator with 4 features.\n",
            "Fitting estimator with 3 features.\n",
            "Fitting estimator with 2 features.\n",
            "Fitting estimator with 70 features.\n",
            "Fitting estimator with 69 features.\n",
            "Fitting estimator with 68 features.\n",
            "Fitting estimator with 67 features.\n",
            "Fitting estimator with 66 features.\n",
            "Fitting estimator with 65 features.\n",
            "Fitting estimator with 64 features.\n",
            "Fitting estimator with 63 features.\n",
            "Fitting estimator with 62 features.\n",
            "Fitting estimator with 61 features.\n",
            "Fitting estimator with 60 features.\n",
            "Fitting estimator with 59 features.\n",
            "Fitting estimator with 58 features.\n",
            "Fitting estimator with 57 features.\n",
            "Fitting estimator with 56 features.\n",
            "Fitting estimator with 55 features.\n",
            "Fitting estimator with 54 features.\n",
            "Fitting estimator with 53 features.\n",
            "Fitting estimator with 52 features.\n",
            "Fitting estimator with 51 features.\n",
            "Fitting estimator with 50 features.\n",
            "Fitting estimator with 49 features.\n",
            "Fitting estimator with 48 features.\n",
            "Fitting estimator with 47 features.\n",
            "Fitting estimator with 46 features.\n",
            "Fitting estimator with 45 features.\n",
            "Fitting estimator with 44 features.\n",
            "Fitting estimator with 43 features.\n",
            "Fitting estimator with 42 features.\n",
            "Fitting estimator with 41 features.\n",
            "Fitting estimator with 40 features.\n",
            "Fitting estimator with 39 features.\n",
            "Fitting estimator with 38 features.\n",
            "Fitting estimator with 37 features.\n",
            "Fitting estimator with 36 features.\n",
            "Fitting estimator with 35 features.\n",
            "Fitting estimator with 34 features.\n",
            "Fitting estimator with 33 features.\n",
            "Fitting estimator with 32 features.\n",
            "Fitting estimator with 31 features.\n",
            "Fitting estimator with 30 features.\n",
            "Fitting estimator with 29 features.\n",
            "Fitting estimator with 28 features.\n",
            "Fitting estimator with 27 features.\n",
            "Fitting estimator with 26 features.\n",
            "Fitting estimator with 25 features.\n",
            "Fitting estimator with 24 features.\n",
            "Fitting estimator with 23 features.\n",
            "Fitting estimator with 22 features.\n",
            "Fitting estimator with 21 features.\n",
            "Fitting estimator with 20 features.\n",
            "Fitting estimator with 19 features.\n",
            "Fitting estimator with 18 features.\n",
            "Fitting estimator with 17 features.\n",
            "Fitting estimator with 16 features.\n",
            "Fitting estimator with 15 features.\n",
            "Fitting estimator with 14 features.\n",
            "Fitting estimator with 13 features.\n",
            "Fitting estimator with 12 features.\n",
            "Fitting estimator with 11 features.\n",
            "Fitting estimator with 10 features.\n",
            "Fitting estimator with 9 features.\n",
            "Fitting estimator with 8 features.\n",
            "Fitting estimator with 7 features.\n",
            "Fitting estimator with 6 features.\n",
            "Fitting estimator with 5 features.\n",
            "Fitting estimator with 4 features.\n",
            "Fitting estimator with 3 features.\n",
            "Fitting estimator with 2 features.\n",
            "Fitting estimator with 70 features.\n",
            "Fitting estimator with 69 features.\n",
            "Fitting estimator with 68 features.\n",
            "Fitting estimator with 67 features.\n",
            "Fitting estimator with 66 features.\n",
            "Fitting estimator with 65 features.\n",
            "Fitting estimator with 64 features.\n",
            "Fitting estimator with 63 features.\n",
            "Fitting estimator with 62 features.\n",
            "Fitting estimator with 61 features.\n",
            "Fitting estimator with 60 features.\n",
            "Fitting estimator with 59 features.\n",
            "Fitting estimator with 58 features.\n",
            "Fitting estimator with 57 features.\n",
            "Fitting estimator with 56 features.\n",
            "Fitting estimator with 55 features.\n",
            "Fitting estimator with 54 features.\n",
            "Fitting estimator with 53 features.\n",
            "Fitting estimator with 52 features.\n",
            "Fitting estimator with 51 features.\n",
            "Fitting estimator with 50 features.\n",
            "Fitting estimator with 49 features.\n",
            "Fitting estimator with 48 features.\n",
            "Fitting estimator with 47 features.\n",
            "Fitting estimator with 46 features.\n",
            "Fitting estimator with 45 features.\n",
            "Fitting estimator with 44 features.\n",
            "Fitting estimator with 43 features.\n",
            "Fitting estimator with 42 features.\n",
            "Fitting estimator with 41 features.\n",
            "Fitting estimator with 40 features.\n",
            "Fitting estimator with 39 features.\n",
            "Fitting estimator with 38 features.\n",
            "Fitting estimator with 37 features.\n",
            "Fitting estimator with 36 features.\n",
            "Fitting estimator with 35 features.\n",
            "Fitting estimator with 34 features.\n",
            "Fitting estimator with 33 features.\n",
            "Fitting estimator with 32 features.\n",
            "Fitting estimator with 31 features.\n",
            "Fitting estimator with 30 features.\n",
            "Fitting estimator with 29 features.\n",
            "Fitting estimator with 28 features.\n",
            "Fitting estimator with 27 features.\n",
            "Fitting estimator with 26 features.\n",
            "Fitting estimator with 25 features.\n",
            "Fitting estimator with 24 features.\n",
            "Fitting estimator with 23 features.\n",
            "Fitting estimator with 22 features.\n",
            "Fitting estimator with 21 features.\n",
            "Fitting estimator with 20 features.\n",
            "Fitting estimator with 19 features.\n",
            "Fitting estimator with 18 features.\n",
            "Fitting estimator with 17 features.\n",
            "Fitting estimator with 16 features.\n",
            "Fitting estimator with 15 features.\n",
            "Fitting estimator with 14 features.\n",
            "Fitting estimator with 13 features.\n",
            "Fitting estimator with 12 features.\n",
            "Fitting estimator with 11 features.\n",
            "Fitting estimator with 10 features.\n",
            "Fitting estimator with 9 features.\n",
            "Fitting estimator with 8 features.\n",
            "Fitting estimator with 7 features.\n",
            "Fitting estimator with 6 features.\n",
            "Fitting estimator with 5 features.\n",
            "Fitting estimator with 4 features.\n",
            "Fitting estimator with 3 features.\n",
            "Fitting estimator with 2 features.\n",
            "Fitting estimator with 70 features.\n",
            "Fitting estimator with 69 features.\n",
            "Fitting estimator with 68 features.\n",
            "Fitting estimator with 67 features.\n",
            "Fitting estimator with 66 features.\n",
            "Fitting estimator with 65 features.\n",
            "Fitting estimator with 64 features.\n",
            "Fitting estimator with 63 features.\n",
            "Fitting estimator with 62 features.\n",
            "Fitting estimator with 61 features.\n",
            "Fitting estimator with 60 features.\n",
            "Fitting estimator with 59 features.\n",
            "Fitting estimator with 58 features.\n",
            "Fitting estimator with 57 features.\n",
            "Fitting estimator with 56 features.\n",
            "Fitting estimator with 55 features.\n",
            "Fitting estimator with 54 features.\n",
            "Fitting estimator with 53 features.\n",
            "Fitting estimator with 52 features.\n",
            "Fitting estimator with 51 features.\n",
            "Fitting estimator with 50 features.\n",
            "Fitting estimator with 49 features.\n",
            "Fitting estimator with 48 features.\n",
            "Fitting estimator with 47 features.\n",
            "Fitting estimator with 46 features.\n",
            "Fitting estimator with 45 features.\n",
            "Fitting estimator with 44 features.\n",
            "Fitting estimator with 43 features.\n",
            "Fitting estimator with 42 features.\n",
            "Fitting estimator with 41 features.\n",
            "Fitting estimator with 40 features.\n",
            "Fitting estimator with 39 features.\n",
            "Fitting estimator with 38 features.\n",
            "Fitting estimator with 37 features.\n",
            "Fitting estimator with 36 features.\n",
            "Fitting estimator with 35 features.\n",
            "Fitting estimator with 34 features.\n",
            "Fitting estimator with 33 features.\n",
            "Fitting estimator with 32 features.\n",
            "Fitting estimator with 31 features.\n",
            "Fitting estimator with 30 features.\n",
            "Fitting estimator with 29 features.\n",
            "Fitting estimator with 28 features.\n",
            "Fitting estimator with 27 features.\n",
            "Fitting estimator with 26 features.\n",
            "Fitting estimator with 25 features.\n",
            "Fitting estimator with 24 features.\n",
            "Fitting estimator with 23 features.\n",
            "Fitting estimator with 22 features.\n",
            "Fitting estimator with 21 features.\n",
            "Fitting estimator with 20 features.\n",
            "Fitting estimator with 19 features.\n",
            "Fitting estimator with 18 features.\n",
            "Fitting estimator with 17 features.\n",
            "Fitting estimator with 16 features.\n",
            "Fitting estimator with 15 features.\n",
            "Fitting estimator with 14 features.\n",
            "Fitting estimator with 13 features.\n",
            "Fitting estimator with 12 features.\n",
            "Fitting estimator with 11 features.\n",
            "Fitting estimator with 10 features.\n",
            "Fitting estimator with 9 features.\n",
            "Fitting estimator with 8 features.\n",
            "Fitting estimator with 7 features.\n",
            "Fitting estimator with 6 features.\n",
            "Fitting estimator with 5 features.\n",
            "Fitting estimator with 4 features.\n",
            "Fitting estimator with 3 features.\n",
            "Fitting estimator with 2 features.\n",
            "Fitting estimator with 70 features.\n",
            "Fitting estimator with 69 features.\n",
            "Fitting estimator with 68 features.\n",
            "Fitting estimator with 67 features.\n",
            "Fitting estimator with 66 features.\n",
            "Fitting estimator with 65 features.\n",
            "Fitting estimator with 64 features.\n",
            "Fitting estimator with 63 features.\n",
            "Fitting estimator with 62 features.\n",
            "Fitting estimator with 61 features.\n",
            "Fitting estimator with 60 features.\n",
            "Fitting estimator with 59 features.\n",
            "Fitting estimator with 58 features.\n",
            "Fitting estimator with 57 features.\n",
            "Fitting estimator with 56 features.\n",
            "Fitting estimator with 55 features.\n",
            "Fitting estimator with 54 features.\n",
            "Fitting estimator with 53 features.\n",
            "Fitting estimator with 52 features.\n",
            "Fitting estimator with 51 features.\n",
            "Fitting estimator with 50 features.\n",
            "Fitting estimator with 49 features.\n",
            "Fitting estimator with 48 features.\n",
            "Fitting estimator with 47 features.\n",
            "Fitting estimator with 46 features.\n",
            "Fitting estimator with 45 features.\n",
            "Fitting estimator with 44 features.\n",
            "Fitting estimator with 43 features.\n",
            "Fitting estimator with 42 features.\n",
            "['Informative 1', 'Informative 2', 'Informative 3', 'Informative 4', 'Informative 5', 'Informative 7', 'Informative 9', 'Informative 10', 'Redundant 11', 'Redundant 12', 'Redundant 13', 'Redundant 14', 'Redundant 15', 'Redundant 18', 'Redundant 19', 'Redundant 21', 'Redundant 22', 'Redundant 24', 'Redundant 25', 'Redundant 26', 'Redundant 27', 'Redundant 30', 'Redundant 31', 'Redundant 32', 'Redundant 36', 'Redundant 37', 'Redundant 39', 'Redundant 41', 'Redundant 42', 'Redundant 43', 'Redundant 44', 'Redundant 47', 'Redundant 50', 'Redundant 51', 'Redundant 53', 'Redundant 56', 'Redundant 57', 'Redundant 60', 'Critical 1', 'Critical 2', 'Critical 3']\n",
            "\n",
            "Done selecting features\n"
          ],
          "name": "stdout"
        }
      ]
    },
    {
      "cell_type": "code",
      "metadata": {
        "id": "QRNFocuMyYEF",
        "colab_type": "code",
        "colab": {
          "base_uri": "https://localhost:8080/",
          "height": 1000
        },
        "outputId": "48fca7d4-4bb7-421b-b4ee-c8a3daf22b99"
      },
      "source": [
        "Image(url= \"https://miro.medium.com/max/1400/1*cSmqHM0vFYwVPmJCyu70JA.png\")"
      ],
      "execution_count": 42,
      "outputs": [
        {
          "output_type": "execute_result",
          "data": {
            "text/html": [
              "<img src=\"https://miro.medium.com/max/1400/1*cSmqHM0vFYwVPmJCyu70JA.png\"/>"
            ],
            "text/plain": [
              "<IPython.core.display.Image object>"
            ]
          },
          "metadata": {
            "tags": []
          },
          "execution_count": 42
        }
      ]
    },
    {
      "cell_type": "markdown",
      "metadata": {
        "id": "HXKalq-XyooK",
        "colab_type": "text"
      },
      "source": [
        "## This time, in the selected features we have 8 informative, all 3 critical features, and 20 redundant features. These are the best results we have obtained by far but let us investigate a bit more further. Remember, that the FeatureSelector object saves the fitted RFECV object in its rfecv attribute."
      ]
    },
    {
      "cell_type": "code",
      "metadata": {
        "id": "eVV-P7xJznWb",
        "colab_type": "code",
        "colab": {
          "base_uri": "https://localhost:8080/",
          "height": 454
        },
        "outputId": "fe84b4a1-7f0c-41dc-b2b4-74c0ec1271e8"
      },
      "source": [
        "###############################################################################\n",
        "#                4f1. Feature Selection: RFECV performance curve               #\n",
        "###############################################################################\n",
        "# Get Performance Data\n",
        "performance_curve = {'Number of Features': list(range(1, len(fs.rfecv.grid_scores_) + 1)),\n",
        "                    'Accuracy': fs.rfecv.grid_scores_}\n",
        "performance_curve = pd.DataFrame(performance_curve)\n",
        "\n",
        "# Performance vs Number of Features\n",
        "# Set graph style\n",
        "sns.set(font_scale = 1.75)\n",
        "sns.set_style({'axes.facecolor': '1.0', 'axes.edgecolor': '0.85', 'grid.color': '0.85',\n",
        "               \"grid.linestyle\": '-', 'axes.labelcolor': '0.4', 'xtick.color': '0.4',\n",
        "               'ytick.color': '0.4'})\n",
        "colors = sns.color_palette('RdYlGn', 20)\n",
        "line_color = colors[3]\n",
        "marker_colors = colors[-1]\n",
        "\n",
        "# Plot\n",
        "f, ax = plt.subplots(figsize=(13, 6.5))\n",
        "sns.lineplot(x = 'Number of Features', y = 'Accuracy', data = performance_curve,\n",
        "             color = line_color, lw = 4, ax = ax)\n",
        "sns.regplot(x = performance_curve['Number of Features'], y = performance_curve['Accuracy'],\n",
        "            color = marker_colors, fit_reg = False, scatter_kws = {\"s\": 200}, ax = ax)\n",
        "\n",
        "# Axes limits\n",
        "plt.xlim(0, len(fs.rfecv.grid_scores_)/1.5)\n",
        "plt.ylim(0.54, 0.83)\n",
        "\n",
        "# Generate a bolded horizontal line at y = 0\n",
        "ax.axhline(y = 0.55, color = 'black', linewidth = 1.3, alpha = .7)\n",
        "\n",
        "# Turn frame off\n",
        "ax.set_frame_on(False)\n",
        "\n",
        "# Tight layout\n",
        "plt.tight_layout()\n",
        "\n",
        "# Save Figure\n",
        "plt.savefig('Moderately to Highly Correated + RFECV performance_curve.png', dpi = 1080)"
      ],
      "execution_count": 43,
      "outputs": [
        {
          "output_type": "display_data",
          "data": {
            "image/png": "[encoded data removed]",
            "text/plain": [
              "<Figure size 936x468 with 1 Axes>"
            ]
          },
          "metadata": {
            "tags": []
          }
        }
      ]
    },
    {
      "cell_type": "markdown",
      "metadata": {
        "id": "hfj7sBk_zRyz",
        "colab_type": "text"
      },
      "source": [
        "## So we can already see from the performance curve that model’s performance peaks around 20 features. Additionally, we can conclude that 15 features will be enough to get a high performance. We now evaluate the model’s performance using the selected features in Script 5b."
      ]
    },
    {
      "cell_type": "code",
      "metadata": {
        "id": "DkhW6UPpzEcN",
        "colab_type": "code",
        "colab": {
          "base_uri": "https://localhost:8080/",
          "height": 51
        },
        "outputId": "d4fa669e-fcb9-4424-9386-d49b5cec3494"
      },
      "source": [
        "###############################################################################\n",
        "#       5b. Feature Selection: Model evaluation with selected features        #\n",
        "###############################################################################\n",
        "# Initiate classifier instance\n",
        "estimator = RandomForestClassifier(random_state=42)\n",
        "\n",
        "# Update classifier parameters\n",
        "estimator.set_params(**best_params)\n",
        "\n",
        "# Get selected features\n",
        "X_selected_train = fs.transform(X_all_train)\n",
        "X_selected_test = fs.transform(X_all_test)\n",
        "\n",
        "# Fit classifier\n",
        "estimator.fit(X_selected_train, y_all_train)\n",
        "\n",
        "# Make predictions\n",
        "y_pred_train = estimator.predict(X_selected_train)\n",
        "y_pred_test = estimator.predict(X_selected_test)\n",
        "\n",
        "# Measure performance\n",
        "accuracy_train = metrics.accuracy_score(y_all_train, y_pred_train)\n",
        "accuracy_test = metrics.accuracy_score(y_all_test, y_pred_test)\n",
        "\n",
        "# Message to user\n",
        "print(f'The accuracy of the classifier on the train set was: {accuracy_train*100}')\n",
        "print(f'The accuracy of the classifier on the test set was: {accuracy_test*100}')\n"
      ],
      "execution_count": 32,
      "outputs": [
        {
          "output_type": "stream",
          "text": [
            "The accuracy of the classifier on the train set was: 95.14285714285714\n",
            "The accuracy of the classifier on the test set was: 84.33333333333334\n"
          ],
          "name": "stdout"
        }
      ]
    },
    {
      "cell_type": "markdown",
      "metadata": {
        "id": "6A6zmaSF0WNY",
        "colab_type": "text"
      },
      "source": [
        "## From the output of Script 5b, we can see that we increased the accuracy in the training set to 84%. Slowly but surely we have made gains. You can use Script 4e to tune the model again and see if you get any more gains in performance."
      ]
    },
    {
      "cell_type": "markdown",
      "metadata": {
        "id": "1t_6ZRGP07_1",
        "colab_type": "text"
      },
      "source": [
        "# Closing Remarks\n",
        "\n",
        "So how the hell do we design a feature selection pipeline that will yield all the informative and critical features and no redundant or useless features? Well, the short answer is that I don’t know. If you were to figure this problem out, you could take your algorithm quite literally to bank. The question you should be asking is, “Do I really need to determine the most useful features or do I want to train a model with the smallest subset of features?” If your answer is “to determine the most useful features” the methods presented here will shed some light on your search for the best features. However, if you only care about training the best possible model with a smaller subset of features, the feature selection algorithms presented here will do the job.\n",
        "\n",
        "If you will like to use the feature selection tool, make sure that you have it on your working directory like so:"
      ]
    },
    {
      "cell_type": "markdown",
      "metadata": {
        "id": "fQ3HbbHT1mOE",
        "colab_type": "text"
      },
      "source": [
        "## Before you use it to select features ensure the following conditions are met:\n",
        "\n",
        "   *  Load your data and encode all categorical variables.\n",
        "   *  Take care of any missing values or outliers. If you don’t, you might get a nasty error.\n",
        "   * Store the feature matrix X into a pandas DataFrame object. The target variable y should be a numpy array.\n",
        "\n",
        "## Once you prepare your data you can use Script 6a to guide your feature selection process. You will need to experiment to determine what feature selection algorithms to apply. In Script 6a, we start by tuning our model (line 5–29), then we define four feature selection methods and apply them (line 32–56). We then use the selected features to train a model and evaluate its performance (line 59–75)."
      ]
    },
    {
      "cell_type": "code",
      "metadata": {
        "id": "Hq6A55P9yF4a",
        "colab_type": "code",
        "colab": {
          "base_uri": "https://localhost:8080/",
          "height": 1000
        },
        "outputId": "e234e219-fdb8-4e44-a0c1-992ee71b0079"
      },
      "source": [
        "\n",
        "###############################################################################\n",
        "#    6a. Feature Selection: Tune RF, Select Features, Evaluate Performance    #\n",
        "###############################################################################\n",
        "# Initiate classifier instance\n",
        "estimator = RandomForestClassifier(random_state=42)\n",
        "\n",
        "# Define parameter grid\n",
        "param_grid = { 'n_estimators': [200],\n",
        "                'class_weight': [None, 'balanced'],\n",
        "                'max_features': ['auto', 'sqrt', 'log2'],\n",
        "                'max_depth' : [3, 4, 5, 6, 7, 8],\n",
        "                'min_samples_split': [0.005, 0.01, 0.05, 0.10],\n",
        "                'min_samples_leaf': [0.005, 0.01, 0.05, 0.10],\n",
        "                'criterion' :['gini', 'entropy']     ,\n",
        "                'n_jobs': [-1]\n",
        "                 }\n",
        "\n",
        "# Initialize GridSearch object\n",
        "gscv = GridSearchCV(estimator, param_grid, cv = 5,  n_jobs= -1, verbose = 1, scoring = 'accuracy')\n",
        "\n",
        "# Fit gscv\n",
        "gscv.fit(X_all_train, y_all_train)\n",
        "\n",
        "# Get best parameters and score\n",
        "best_params = gscv.best_params_\n",
        "best_score = gscv.best_score_\n",
        "\n",
        "# Update classifier parameters\n",
        "estimator.set_params(**best_params)\n",
        "\n",
        "# Define steps\n",
        "step1 = {'Constant Features': {'frac_constant_values': 0.95}}\n",
        "\n",
        "step2 = {'Correlated Features': {'correlation_threshold': 0.80}}\n",
        "\n",
        "step3 = {'Relevant Features': {'cv': 5,\n",
        "                               'estimator': estimator,\n",
        "                                'n_estimators': 1000,\n",
        "                                'max_iter': 50,\n",
        "                                'verbose': 0,\n",
        "                                'random_state': 42}}\n",
        "\n",
        "step4 = {'RFECV Features': {'cv': 5,\n",
        "                            'estimator': estimator,\n",
        "                            'step': 1,\n",
        "                            'scoring': 'accuracy',\n",
        "                            'verbose': 50}}\n",
        "\n",
        "# Place steps in a list in the order you want them execute it\n",
        "steps = [step1, step2, step3, step4]\n",
        "\n",
        "# Initialize FeatureSelector()\n",
        "fs = FeatureSelector()\n",
        "\n",
        "# Apply feature selection methods in the order they appear in steps\n",
        "fs.fit(X_all_train, y_all_train, steps)\n",
        "\n",
        "# Get selected features\n",
        "X_selected_train = fs.transform(X_all_train)\n",
        "X_selected_test = fs.transform(X_all_test)\n",
        "\n",
        "# Fit classifier\n",
        "estimator.fit(X_selected_train, y_all_train)\n",
        "\n",
        "# Make predictions\n",
        "y_pred_train = estimator.predict(X_selected_train)\n",
        "y_pred_test = estimator.predict(X_selected_test)\n",
        "\n",
        "# Measure performance\n",
        "accuracy_train = metrics.accuracy_score(y_all_train, y_pred_train)\n",
        "accuracy_test = metrics.accuracy_score(y_all_test, y_pred_test)\n",
        "\n",
        "# Message to user\n",
        "print(f'The accuracy of the classifier on the train set was: {accuracy_train*100}')\n",
        "print(f'The accuracy of the classifier on the test set was: {accuracy_test*100}')"
      ],
      "execution_count": 33,
      "outputs": [
        {
          "output_type": "stream",
          "text": [
            "Fitting 5 folds for each of 1152 candidates, totalling 5760 fits\n"
          ],
          "name": "stdout"
        },
        {
          "output_type": "stream",
          "text": [
            "[Parallel(n_jobs=-1)]: Using backend LokyBackend with 2 concurrent workers.\n",
            "[Parallel(n_jobs=-1)]: Done  46 tasks      | elapsed:   22.1s\n",
            "[Parallel(n_jobs=-1)]: Done 196 tasks      | elapsed:  1.4min\n",
            "[Parallel(n_jobs=-1)]: Done 446 tasks      | elapsed:  3.2min\n",
            "[Parallel(n_jobs=-1)]: Done 796 tasks      | elapsed:  5.8min\n",
            "[Parallel(n_jobs=-1)]: Done 1246 tasks      | elapsed:  9.4min\n",
            "[Parallel(n_jobs=-1)]: Done 1796 tasks      | elapsed: 14.2min\n",
            "[Parallel(n_jobs=-1)]: Done 2446 tasks      | elapsed: 20.8min\n",
            "[Parallel(n_jobs=-1)]: Done 3196 tasks      | elapsed: 27.7min\n",
            "[Parallel(n_jobs=-1)]: Done 4046 tasks      | elapsed: 34.2min\n",
            "[Parallel(n_jobs=-1)]: Done 4996 tasks      | elapsed: 42.7min\n",
            "[Parallel(n_jobs=-1)]: Done 5760 out of 5760 | elapsed: 50.7min finished\n"
          ],
          "name": "stderr"
        },
        {
          "output_type": "stream",
          "text": [
            "Removing Constant Features\n",
            "[]\n",
            "\n",
            "Removing Correlated Features\n",
            "['Redundant 28', 'Redundant 29', 'Redundant 33', 'Redundant 35', 'Redundant 52', 'Redundant 54', 'Redundant 55', 'Redundant 59', 'Repeated 61', 'Repeated 62', 'Repeated 63', 'Repeated 64', 'Repeated 65', 'Repeated 66', 'Repeated 67', 'Repeated 68', 'Repeated 69', 'Repeated 70', 'Repeated 71', 'Repeated 72', 'Repeated 73', 'Repeated 74', 'Repeated 75', 'Repeated 76', 'Repeated 77', 'Repeated 78', 'Repeated 79', 'Repeated 80', 'Repeated 81', 'Repeated 82', 'Repeated 83', 'Repeated 84', 'Repeated 85']\n",
            "\n",
            "Selecting relevant features\n",
            "Progress: |██████████████████████████████████████████████████| 100.0% Complete\n",
            "['Informative 1', 'Informative 3', 'Informative 4', 'Informative 7', 'Informative 9', 'Redundant 11', 'Redundant 12', 'Redundant 13', 'Redundant 14', 'Redundant 15', 'Redundant 19', 'Redundant 21', 'Redundant 24', 'Redundant 25', 'Redundant 31', 'Redundant 36', 'Redundant 37', 'Redundant 39', 'Redundant 41', 'Redundant 42', 'Redundant 43', 'Redundant 47', 'Redundant 50', 'Redundant 51', 'Redundant 53', 'Redundant 56', 'Redundant 57', 'Critical 1', 'Critical 2', 'Critical 3']\n",
            "\n",
            "Selecting RFECV features\n",
            "Fitting estimator with 30 features.\n",
            "Fitting estimator with 29 features.\n",
            "Fitting estimator with 28 features.\n",
            "Fitting estimator with 27 features.\n",
            "Fitting estimator with 26 features.\n",
            "Fitting estimator with 25 features.\n",
            "Fitting estimator with 24 features.\n",
            "Fitting estimator with 23 features.\n",
            "Fitting estimator with 22 features.\n",
            "Fitting estimator with 21 features.\n",
            "Fitting estimator with 20 features.\n",
            "Fitting estimator with 19 features.\n",
            "Fitting estimator with 18 features.\n",
            "Fitting estimator with 17 features.\n",
            "Fitting estimator with 16 features.\n",
            "Fitting estimator with 15 features.\n",
            "Fitting estimator with 14 features.\n",
            "Fitting estimator with 13 features.\n",
            "Fitting estimator with 12 features.\n",
            "Fitting estimator with 11 features.\n",
            "Fitting estimator with 10 features.\n",
            "Fitting estimator with 9 features.\n",
            "Fitting estimator with 8 features.\n",
            "Fitting estimator with 7 features.\n",
            "Fitting estimator with 6 features.\n",
            "Fitting estimator with 5 features.\n",
            "Fitting estimator with 4 features.\n",
            "Fitting estimator with 3 features.\n",
            "Fitting estimator with 2 features.\n",
            "Fitting estimator with 30 features.\n",
            "Fitting estimator with 29 features.\n",
            "Fitting estimator with 28 features.\n",
            "Fitting estimator with 27 features.\n",
            "Fitting estimator with 26 features.\n",
            "Fitting estimator with 25 features.\n",
            "Fitting estimator with 24 features.\n",
            "Fitting estimator with 23 features.\n",
            "Fitting estimator with 22 features.\n",
            "Fitting estimator with 21 features.\n",
            "Fitting estimator with 20 features.\n",
            "Fitting estimator with 19 features.\n",
            "Fitting estimator with 18 features.\n",
            "Fitting estimator with 17 features.\n",
            "Fitting estimator with 16 features.\n",
            "Fitting estimator with 15 features.\n",
            "Fitting estimator with 14 features.\n",
            "Fitting estimator with 13 features.\n",
            "Fitting estimator with 12 features.\n",
            "Fitting estimator with 11 features.\n",
            "Fitting estimator with 10 features.\n",
            "Fitting estimator with 9 features.\n",
            "Fitting estimator with 8 features.\n",
            "Fitting estimator with 7 features.\n",
            "Fitting estimator with 6 features.\n",
            "Fitting estimator with 5 features.\n",
            "Fitting estimator with 4 features.\n",
            "Fitting estimator with 3 features.\n",
            "Fitting estimator with 2 features.\n",
            "Fitting estimator with 30 features.\n",
            "Fitting estimator with 29 features.\n",
            "Fitting estimator with 28 features.\n",
            "Fitting estimator with 27 features.\n",
            "Fitting estimator with 26 features.\n",
            "Fitting estimator with 25 features.\n",
            "Fitting estimator with 24 features.\n",
            "Fitting estimator with 23 features.\n",
            "Fitting estimator with 22 features.\n",
            "Fitting estimator with 21 features.\n",
            "Fitting estimator with 20 features.\n",
            "Fitting estimator with 19 features.\n",
            "Fitting estimator with 18 features.\n",
            "Fitting estimator with 17 features.\n",
            "Fitting estimator with 16 features.\n",
            "Fitting estimator with 15 features.\n",
            "Fitting estimator with 14 features.\n",
            "Fitting estimator with 13 features.\n",
            "Fitting estimator with 12 features.\n",
            "Fitting estimator with 11 features.\n",
            "Fitting estimator with 10 features.\n",
            "Fitting estimator with 9 features.\n",
            "Fitting estimator with 8 features.\n",
            "Fitting estimator with 7 features.\n",
            "Fitting estimator with 6 features.\n",
            "Fitting estimator with 5 features.\n",
            "Fitting estimator with 4 features.\n",
            "Fitting estimator with 3 features.\n",
            "Fitting estimator with 2 features.\n",
            "Fitting estimator with 30 features.\n",
            "Fitting estimator with 29 features.\n",
            "Fitting estimator with 28 features.\n",
            "Fitting estimator with 27 features.\n",
            "Fitting estimator with 26 features.\n",
            "Fitting estimator with 25 features.\n",
            "Fitting estimator with 24 features.\n",
            "Fitting estimator with 23 features.\n",
            "Fitting estimator with 22 features.\n",
            "Fitting estimator with 21 features.\n",
            "Fitting estimator with 20 features.\n",
            "Fitting estimator with 19 features.\n",
            "Fitting estimator with 18 features.\n",
            "Fitting estimator with 17 features.\n",
            "Fitting estimator with 16 features.\n",
            "Fitting estimator with 15 features.\n",
            "Fitting estimator with 14 features.\n",
            "Fitting estimator with 13 features.\n",
            "Fitting estimator with 12 features.\n",
            "Fitting estimator with 11 features.\n",
            "Fitting estimator with 10 features.\n",
            "Fitting estimator with 9 features.\n",
            "Fitting estimator with 8 features.\n",
            "Fitting estimator with 7 features.\n",
            "Fitting estimator with 6 features.\n",
            "Fitting estimator with 5 features.\n",
            "Fitting estimator with 4 features.\n",
            "Fitting estimator with 3 features.\n",
            "Fitting estimator with 2 features.\n",
            "Fitting estimator with 30 features.\n",
            "Fitting estimator with 29 features.\n",
            "Fitting estimator with 28 features.\n",
            "Fitting estimator with 27 features.\n",
            "Fitting estimator with 26 features.\n",
            "Fitting estimator with 25 features.\n",
            "Fitting estimator with 24 features.\n",
            "Fitting estimator with 23 features.\n",
            "Fitting estimator with 22 features.\n",
            "Fitting estimator with 21 features.\n",
            "Fitting estimator with 20 features.\n",
            "Fitting estimator with 19 features.\n",
            "Fitting estimator with 18 features.\n",
            "Fitting estimator with 17 features.\n",
            "Fitting estimator with 16 features.\n",
            "Fitting estimator with 15 features.\n",
            "Fitting estimator with 14 features.\n",
            "Fitting estimator with 13 features.\n",
            "Fitting estimator with 12 features.\n",
            "Fitting estimator with 11 features.\n",
            "Fitting estimator with 10 features.\n",
            "Fitting estimator with 9 features.\n",
            "Fitting estimator with 8 features.\n",
            "Fitting estimator with 7 features.\n",
            "Fitting estimator with 6 features.\n",
            "Fitting estimator with 5 features.\n",
            "Fitting estimator with 4 features.\n",
            "Fitting estimator with 3 features.\n",
            "Fitting estimator with 2 features.\n",
            "Fitting estimator with 30 features.\n",
            "Fitting estimator with 29 features.\n",
            "Fitting estimator with 28 features.\n",
            "Fitting estimator with 27 features.\n",
            "Fitting estimator with 26 features.\n",
            "['Informative 1', 'Informative 3', 'Informative 4', 'Informative 7', 'Informative 9', 'Redundant 11', 'Redundant 12', 'Redundant 13', 'Redundant 14', 'Redundant 15', 'Redundant 19', 'Redundant 21', 'Redundant 25', 'Redundant 31', 'Redundant 37', 'Redundant 39', 'Redundant 41', 'Redundant 42', 'Redundant 43', 'Redundant 47', 'Redundant 50', 'Redundant 57', 'Critical 1', 'Critical 2', 'Critical 3']\n",
            "\n",
            "Done selecting features\n",
            "The accuracy of the classifier on the train set was: 93.57142857142857\n",
            "The accuracy of the classifier on the test set was: 83.0\n"
          ],
          "name": "stdout"
        }
      ]
    },
    {
      "cell_type": "code",
      "metadata": {
        "id": "yJcr7oJl4zId",
        "colab_type": "code",
        "colab": {
          "base_uri": "https://localhost:8080/",
          "height": 34
        },
        "outputId": "d0987f68-a2d0-42e7-c403-f0a86b831f98"
      },
      "source": [
        "X_selected_train.shape,X_all_train.shape"
      ],
      "execution_count": 45,
      "outputs": [
        {
          "output_type": "execute_result",
          "data": {
            "text/plain": [
              "((700, 25), (700, 103))"
            ]
          },
          "metadata": {
            "tags": []
          },
          "execution_count": 45
        }
      ]
    },
    {
      "cell_type": "code",
      "metadata": {
        "id": "stT4JYhj4j_v",
        "colab_type": "code",
        "colab": {
          "base_uri": "https://localhost:8080/",
          "height": 34
        },
        "outputId": "a8c436c8-4d1a-4cf5-ce77-7cb193bdde2e"
      },
      "source": [
        "\n",
        "X_selected_test.shape, X_all_test.shape"
      ],
      "execution_count": 44,
      "outputs": [
        {
          "output_type": "execute_result",
          "data": {
            "text/plain": [
              "((300, 25), (300, 103))"
            ]
          },
          "metadata": {
            "tags": []
          },
          "execution_count": 44
        }
      ]
    },
    {
      "cell_type": "code",
      "metadata": {
        "id": "NwOSS6c15fi1",
        "colab_type": "code",
        "colab": {
          "base_uri": "https://localhost:8080/",
          "height": 34
        },
        "outputId": "d1979006-b4fb-4fc5-b067-dec4468fd658"
      },
      "source": [
        "fs"
      ],
      "execution_count": 47,
      "outputs": [
        {
          "output_type": "execute_result",
          "data": {
            "text/plain": [
              "<__main__.FeatureSelector at 0x7f2f298b9d68>"
            ]
          },
          "metadata": {
            "tags": []
          },
          "execution_count": 47
        }
      ]
    },
    {
      "cell_type": "code",
      "metadata": {
        "id": "zVojd09W5mdh",
        "colab_type": "code",
        "colab": {
          "base_uri": "https://localhost:8080/",
          "height": 119
        },
        "outputId": "e147faaa-2581-468d-8be0-9c9ff80d2908"
      },
      "source": [
        "fs.rfecv.grid_scores_"
      ],
      "execution_count": 48,
      "outputs": [
        {
          "output_type": "execute_result",
          "data": {
            "text/plain": [
              "array([0.50857143, 0.59428571, 0.64428571, 0.65714286, 0.68857143,\n",
              "       0.70285714, 0.73142857, 0.76142857, 0.76285714, 0.77857143,\n",
              "       0.79      , 0.79142857, 0.78428571, 0.78714286, 0.79285714,\n",
              "       0.79714286, 0.8       , 0.79857143, 0.80142857, 0.79714286,\n",
              "       0.80142857, 0.80142857, 0.79571429, 0.79285714, 0.80714286,\n",
              "       0.79571429, 0.80142857, 0.80428571, 0.80285714, 0.80571429])"
            ]
          },
          "metadata": {
            "tags": []
          },
          "execution_count": 48
        }
      ]
    },
    {
      "cell_type": "code",
      "metadata": {
        "id": "DIzFL-7h52EL",
        "colab_type": "code",
        "colab": {
          "base_uri": "https://localhost:8080/",
          "height": 979
        },
        "outputId": "c2a6b972-ed15-4049-d1eb-6635ce065ee6"
      },
      "source": [
        "performance_curve"
      ],
      "execution_count": 49,
      "outputs": [
        {
          "output_type": "execute_result",
          "data": {
            "text/html": [
              "<div>\n",
              "<style scoped>\n",
              "    .dataframe tbody tr th:only-of-type {\n",
              "        vertical-align: middle;\n",
              "    }\n",
              "\n",
              "    .dataframe tbody tr th {\n",
              "        vertical-align: top;\n",
              "    }\n",
              "\n",
              "    .dataframe thead th {\n",
              "        text-align: right;\n",
              "    }\n",
              "</style>\n",
              "<table border=\"1\" class=\"dataframe\">\n",
              "  <thead>\n",
              "    <tr style=\"text-align: right;\">\n",
              "      <th></th>\n",
              "      <th>Number of Features</th>\n",
              "      <th>Accuracy</th>\n",
              "    </tr>\n",
              "  </thead>\n",
              "  <tbody>\n",
              "    <tr>\n",
              "      <th>0</th>\n",
              "      <td>1</td>\n",
              "      <td>0.508571</td>\n",
              "    </tr>\n",
              "    <tr>\n",
              "      <th>1</th>\n",
              "      <td>2</td>\n",
              "      <td>0.594286</td>\n",
              "    </tr>\n",
              "    <tr>\n",
              "      <th>2</th>\n",
              "      <td>3</td>\n",
              "      <td>0.644286</td>\n",
              "    </tr>\n",
              "    <tr>\n",
              "      <th>3</th>\n",
              "      <td>4</td>\n",
              "      <td>0.657143</td>\n",
              "    </tr>\n",
              "    <tr>\n",
              "      <th>4</th>\n",
              "      <td>5</td>\n",
              "      <td>0.688571</td>\n",
              "    </tr>\n",
              "    <tr>\n",
              "      <th>5</th>\n",
              "      <td>6</td>\n",
              "      <td>0.702857</td>\n",
              "    </tr>\n",
              "    <tr>\n",
              "      <th>6</th>\n",
              "      <td>7</td>\n",
              "      <td>0.731429</td>\n",
              "    </tr>\n",
              "    <tr>\n",
              "      <th>7</th>\n",
              "      <td>8</td>\n",
              "      <td>0.761429</td>\n",
              "    </tr>\n",
              "    <tr>\n",
              "      <th>8</th>\n",
              "      <td>9</td>\n",
              "      <td>0.762857</td>\n",
              "    </tr>\n",
              "    <tr>\n",
              "      <th>9</th>\n",
              "      <td>10</td>\n",
              "      <td>0.778571</td>\n",
              "    </tr>\n",
              "    <tr>\n",
              "      <th>10</th>\n",
              "      <td>11</td>\n",
              "      <td>0.790000</td>\n",
              "    </tr>\n",
              "    <tr>\n",
              "      <th>11</th>\n",
              "      <td>12</td>\n",
              "      <td>0.791429</td>\n",
              "    </tr>\n",
              "    <tr>\n",
              "      <th>12</th>\n",
              "      <td>13</td>\n",
              "      <td>0.784286</td>\n",
              "    </tr>\n",
              "    <tr>\n",
              "      <th>13</th>\n",
              "      <td>14</td>\n",
              "      <td>0.787143</td>\n",
              "    </tr>\n",
              "    <tr>\n",
              "      <th>14</th>\n",
              "      <td>15</td>\n",
              "      <td>0.792857</td>\n",
              "    </tr>\n",
              "    <tr>\n",
              "      <th>15</th>\n",
              "      <td>16</td>\n",
              "      <td>0.797143</td>\n",
              "    </tr>\n",
              "    <tr>\n",
              "      <th>16</th>\n",
              "      <td>17</td>\n",
              "      <td>0.800000</td>\n",
              "    </tr>\n",
              "    <tr>\n",
              "      <th>17</th>\n",
              "      <td>18</td>\n",
              "      <td>0.798571</td>\n",
              "    </tr>\n",
              "    <tr>\n",
              "      <th>18</th>\n",
              "      <td>19</td>\n",
              "      <td>0.801429</td>\n",
              "    </tr>\n",
              "    <tr>\n",
              "      <th>19</th>\n",
              "      <td>20</td>\n",
              "      <td>0.797143</td>\n",
              "    </tr>\n",
              "    <tr>\n",
              "      <th>20</th>\n",
              "      <td>21</td>\n",
              "      <td>0.801429</td>\n",
              "    </tr>\n",
              "    <tr>\n",
              "      <th>21</th>\n",
              "      <td>22</td>\n",
              "      <td>0.801429</td>\n",
              "    </tr>\n",
              "    <tr>\n",
              "      <th>22</th>\n",
              "      <td>23</td>\n",
              "      <td>0.795714</td>\n",
              "    </tr>\n",
              "    <tr>\n",
              "      <th>23</th>\n",
              "      <td>24</td>\n",
              "      <td>0.792857</td>\n",
              "    </tr>\n",
              "    <tr>\n",
              "      <th>24</th>\n",
              "      <td>25</td>\n",
              "      <td>0.807143</td>\n",
              "    </tr>\n",
              "    <tr>\n",
              "      <th>25</th>\n",
              "      <td>26</td>\n",
              "      <td>0.795714</td>\n",
              "    </tr>\n",
              "    <tr>\n",
              "      <th>26</th>\n",
              "      <td>27</td>\n",
              "      <td>0.801429</td>\n",
              "    </tr>\n",
              "    <tr>\n",
              "      <th>27</th>\n",
              "      <td>28</td>\n",
              "      <td>0.804286</td>\n",
              "    </tr>\n",
              "    <tr>\n",
              "      <th>28</th>\n",
              "      <td>29</td>\n",
              "      <td>0.802857</td>\n",
              "    </tr>\n",
              "    <tr>\n",
              "      <th>29</th>\n",
              "      <td>30</td>\n",
              "      <td>0.805714</td>\n",
              "    </tr>\n",
              "  </tbody>\n",
              "</table>\n",
              "</div>"
            ],
            "text/plain": [
              "    Number of Features  Accuracy\n",
              "0                    1  0.508571\n",
              "1                    2  0.594286\n",
              "2                    3  0.644286\n",
              "3                    4  0.657143\n",
              "4                    5  0.688571\n",
              "5                    6  0.702857\n",
              "6                    7  0.731429\n",
              "7                    8  0.761429\n",
              "8                    9  0.762857\n",
              "9                   10  0.778571\n",
              "10                  11  0.790000\n",
              "11                  12  0.791429\n",
              "12                  13  0.784286\n",
              "13                  14  0.787143\n",
              "14                  15  0.792857\n",
              "15                  16  0.797143\n",
              "16                  17  0.800000\n",
              "17                  18  0.798571\n",
              "18                  19  0.801429\n",
              "19                  20  0.797143\n",
              "20                  21  0.801429\n",
              "21                  22  0.801429\n",
              "22                  23  0.795714\n",
              "23                  24  0.792857\n",
              "24                  25  0.807143\n",
              "25                  26  0.795714\n",
              "26                  27  0.801429\n",
              "27                  28  0.804286\n",
              "28                  29  0.802857\n",
              "29                  30  0.805714"
            ]
          },
          "metadata": {
            "tags": []
          },
          "execution_count": 49
        }
      ]
    },
    {
      "cell_type": "markdown",
      "metadata": {
        "id": "7zO0SkYt7KvC",
        "colab_type": "text"
      },
      "source": [
        "# 25 features give the best CV accuracy, that's why the final selected features are 25!"
      ]
    },
    {
      "cell_type": "code",
      "metadata": {
        "id": "5CgMJzy-6KcW",
        "colab_type": "code",
        "colab": {
          "base_uri": "https://localhost:8080/",
          "height": 34
        },
        "outputId": "f88d38ca-ee41-4643-967a-ab678e3afd66"
      },
      "source": [
        "len(fs.rfecv.grid_scores_)/1.5"
      ],
      "execution_count": 50,
      "outputs": [
        {
          "output_type": "execute_result",
          "data": {
            "text/plain": [
              "20.0"
            ]
          },
          "metadata": {
            "tags": []
          },
          "execution_count": 50
        }
      ]
    },
    {
      "cell_type": "code",
      "metadata": {
        "id": "yXqqSxfm4t-V",
        "colab_type": "code",
        "colab": {
          "base_uri": "https://localhost:8080/",
          "height": 454
        },
        "outputId": "bdf36a14-3a5b-492f-f8cc-fc2612befdd5"
      },
      "source": [
        "###############################################################################\n",
        "#                 Feature Selection: RFECV performance curve               #\n",
        "###############################################################################\n",
        "# Get Performance Data\n",
        "performance_curve = {'Number of Features': list(range(1, len(fs.rfecv.grid_scores_) + 1)),\n",
        "                    'Accuracy': fs.rfecv.grid_scores_}\n",
        "performance_curve = pd.DataFrame(performance_curve)\n",
        "\n",
        "# Performance vs Number of Features\n",
        "# Set graph style\n",
        "sns.set(font_scale = 1.75)\n",
        "sns.set_style({'axes.facecolor': '1.0', 'axes.edgecolor': '0.85', 'grid.color': '0.85',\n",
        "               \"grid.linestyle\": '-', 'axes.labelcolor': '0.4', 'xtick.color': '0.4',\n",
        "               'ytick.color': '0.4'})\n",
        "colors = sns.color_palette('RdYlGn', 20)\n",
        "line_color = colors[3]\n",
        "marker_colors = colors[-1]\n",
        "\n",
        "# Plot\n",
        "f, ax = plt.subplots(figsize=(13, 6.5))\n",
        "sns.lineplot(x = 'Number of Features', y = 'Accuracy', data = performance_curve,\n",
        "             color = line_color, lw = 4, ax = ax)\n",
        "sns.regplot(x = performance_curve['Number of Features'], y = performance_curve['Accuracy'],\n",
        "            color = marker_colors, fit_reg = False, scatter_kws = {\"s\": 200}, ax = ax)\n",
        "\n",
        "# Axes limits\n",
        "plt.xlim(0, len(fs.rfecv.grid_scores_)/0.9)\n",
        "plt.ylim(0.54, 0.83)\n",
        "\n",
        "# Generate a bolded horizontal line at y = 0\n",
        "ax.axhline(y = 0.55, color = 'black', linewidth = 1.3, alpha = .7)\n",
        "\n",
        "# Turn frame off\n",
        "ax.set_frame_on(False)\n",
        "\n",
        "# Tight layout\n",
        "plt.tight_layout()\n",
        "\n",
        "# Save Figure\n",
        "plt.savefig('Moderately to Highly Correated + RFECV performance_curve.png', dpi = 1080)"
      ],
      "execution_count": 52,
      "outputs": [
        {
          "output_type": "display_data",
          "data": {
            "image/png": "[encoded data removed]",
            "text/plain": [
              "<Figure size 936x468 with 1 Axes>"
            ]
          },
          "metadata": {
            "tags": []
          }
        }
      ]
    },
    {
      "cell_type": "code",
      "metadata": {
        "id": "67QEwoQV5DIR",
        "colab_type": "code",
        "colab": {}
      },
      "source": [
        ""
      ],
      "execution_count": 0,
      "outputs": []
    }
  ]
}