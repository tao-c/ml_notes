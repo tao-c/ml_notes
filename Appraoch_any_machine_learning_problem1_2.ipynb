{
  "nbformat": 4,
  "nbformat_minor": 0,
  "metadata": {
    "colab": {
      "name": "Appraoch any machine learning problem1-2.ipynb",
      "provenance": [],
      "collapsed_sections": [
        "NojrJxRc8brD",
        "XnVUze4k8l1l",
        "tSFjVIv2Qner",
        "2-J2fUsNQ07U",
        "iE-fqvTFZnhV",
        "t3TV1NJVZ_Zp",
        "j78I-1ggaZTb",
        "VmyDs4Qwci9O",
        "k_HLXh4UdNXi",
        "cNJfqh9MhPMp",
        "f3RQAguriw61",
        "2aHo-yRQkF5a",
        "W5AN13jVl_7e",
        "oo0UMj_nnfBE",
        "cRjTwFOOoeKB",
        "t_F3IwOUoxP1",
        "GSMhHRs4o7-2",
        "qJTI8niKO1bk",
        "6SpKNAZNRD19"
      ],
      "authorship_tag": "ABX9TyMZCzAtZ8Yp246irs4uK7L1",
      "include_colab_link": true
    },
    "kernelspec": {
      "name": "python3",
      "display_name": "Python 3"
    }
  },
  "cells": [
    {
      "cell_type": "markdown",
      "metadata": {
        "id": "view-in-github",
        "colab_type": "text"
      },
      "source": [
        "<a href=\"https://colab.research.google.com/github/tao-c/ml_notes/blob/master/Appraoch_any_machine_learning_problem1_2.ipynb\" target=\"_parent\"><img src=\"https://colab.research.google.com/assets/colab-badge.svg\" alt=\"Open In Colab\"/></a>"
      ]
    },
    {
      "cell_type": "code",
      "metadata": {
        "id": "9UDElblG1xb6"
      },
      "source": [
        ""
      ],
      "execution_count": null,
      "outputs": []
    },
    {
      "cell_type": "code",
      "metadata": {
        "id": "5XNBn_Zogg3K"
      },
      "source": [
        ""
      ],
      "execution_count": null,
      "outputs": []
    },
    {
      "cell_type": "code",
      "metadata": {
        "id": "_oJG6lIa4EqX",
        "outputId": "258c16ec-c73a-452a-e6aa-e41699fb4fa7",
        "colab": {
          "base_uri": "https://localhost:8080/",
          "height": 34
        }
      },
      "source": [
        "from google.colab import drive\n",
        "drive.mount('/gdrive')"
      ],
      "execution_count": 1,
      "outputs": [
        {
          "output_type": "stream",
          "text": [
            "Mounted at /gdrive\n"
          ],
          "name": "stdout"
        }
      ]
    },
    {
      "cell_type": "code",
      "metadata": {
        "id": "1ks027zB4Rg_",
        "outputId": "56db3831-519c-4482-c405-28aac37362a5",
        "colab": {
          "base_uri": "https://localhost:8080/",
          "height": 34
        }
      },
      "source": [
        "%cd /gdrive"
      ],
      "execution_count": 2,
      "outputs": [
        {
          "output_type": "stream",
          "text": [
            "/gdrive\n"
          ],
          "name": "stdout"
        }
      ]
    },
    {
      "cell_type": "code",
      "metadata": {
        "id": "V0JRQomC4ZG2",
        "outputId": "d9384429-7f11-43e1-d140-6d4a35bebd4a",
        "colab": {
          "base_uri": "https://localhost:8080/",
          "height": 37
        }
      },
      "source": [
        "pwd"
      ],
      "execution_count": null,
      "outputs": [
        {
          "output_type": "execute_result",
          "data": {
            "application/vnd.google.colaboratory.intrinsic+json": {
              "type": "string"
            },
            "text/plain": [
              "'/gdrive'"
            ]
          },
          "metadata": {
            "tags": []
          },
          "execution_count": 3
        }
      ]
    },
    {
      "cell_type": "code",
      "metadata": {
        "id": "cEKP4VbD4Zus",
        "outputId": "93d095c3-f938-4b51-8a25-da01e3d15f8b",
        "colab": {
          "base_uri": "https://localhost:8080/",
          "height": 34
        }
      },
      "source": [
        "ls"
      ],
      "execution_count": null,
      "outputs": [
        {
          "output_type": "stream",
          "text": [
            "\u001b[0m\u001b[01;34m'My Drive'\u001b[0m/\n"
          ],
          "name": "stdout"
        }
      ]
    },
    {
      "cell_type": "code",
      "metadata": {
        "id": "-hFNHtOj4bAE",
        "outputId": "9efcf335-7f08-4a01-c20b-192748395e76",
        "colab": {
          "base_uri": "https://localhost:8080/",
          "height": 34
        }
      },
      "source": [
        "cd 'My Drive'/"
      ],
      "execution_count": 3,
      "outputs": [
        {
          "output_type": "stream",
          "text": [
            "/gdrive/My Drive\n"
          ],
          "name": "stdout"
        }
      ]
    },
    {
      "cell_type": "code",
      "metadata": {
        "id": "TGD4lKDv4eKA",
        "outputId": "ced67b9a-2722-46bd-cc5e-49db73080536",
        "colab": {
          "base_uri": "https://localhost:8080/",
          "height": 34
        }
      },
      "source": [
        "cd notes/"
      ],
      "execution_count": 4,
      "outputs": [
        {
          "output_type": "stream",
          "text": [
            "/gdrive/My Drive/notes\n"
          ],
          "name": "stdout"
        }
      ]
    },
    {
      "cell_type": "code",
      "metadata": {
        "id": "10DT4mzS4gff",
        "outputId": "2c8325b1-b03d-45d0-d843-efebe4f60c0e",
        "colab": {
          "base_uri": "https://localhost:8080/",
          "height": 80
        }
      },
      "source": [
        "!git clone https://github.com/tao-c/scikit-learn/tree/master/doc/tutorial/text_analytics"
      ],
      "execution_count": null,
      "outputs": [
        {
          "output_type": "stream",
          "text": [
            "Cloning into 'text_analytics'...\n",
            "fatal: repository 'https://github.com/tao-c/scikit-learn/tree/master/doc/tutorial/text_analytics/' not found\n"
          ],
          "name": "stdout"
        }
      ]
    },
    {
      "cell_type": "code",
      "metadata": {
        "id": "p4UpI_pZ5BnA"
      },
      "source": [
        "categories = ['alt.atheism', 'soc.religion.christian',\n",
        "...               'comp.graphics', 'sci.med']"
      ],
      "execution_count": null,
      "outputs": []
    },
    {
      "cell_type": "code",
      "metadata": {
        "id": "RiKqmH6M5qmP",
        "outputId": "f039ccb1-73cb-47d4-bb30-ea724f607c5c",
        "colab": {
          "base_uri": "https://localhost:8080/",
          "height": 51
        }
      },
      "source": [
        "from sklearn.datasets import fetch_20newsgroups\n",
        "twenty_train = fetch_20newsgroups(subset='train',categories=categories, shuffle=True, random_state=42)"
      ],
      "execution_count": null,
      "outputs": [
        {
          "output_type": "stream",
          "text": [
            "Downloading 20news dataset. This may take a few minutes.\n",
            "Downloading dataset from https://ndownloader.figshare.com/files/5975967 (14 MB)\n"
          ],
          "name": "stderr"
        }
      ]
    },
    {
      "cell_type": "code",
      "metadata": {
        "id": "1vpE86yj5tsk",
        "outputId": "824fe765-3c6c-41f0-df25-65cf251c3b29",
        "colab": {
          "base_uri": "https://localhost:8080/",
          "height": 153
        }
      },
      "source": [
        "ls"
      ],
      "execution_count": null,
      "outputs": [
        {
          "output_type": "stream",
          "text": [
            " ch02.ipynb\n",
            "'NLP in action.gdoc'\n",
            " nlp.ipynb\n",
            "'PEP 274 -- Dict Comprehensions.gdoc'\n",
            " statistics_notes.gdoc\n",
            "'Text Preprocessing in Python: Steps, Tools, and Examples.ipynb'\n",
            "'Untitled document.gdoc'\n",
            " 房东互助：从雷丁恐怖袭击，分析政府房及其区域的危害.gdoc\n"
          ],
          "name": "stdout"
        }
      ]
    },
    {
      "cell_type": "markdown",
      "metadata": {
        "id": "5GMdzHYy6VTe"
      },
      "source": [
        "#The returned dataset is a scikit-learn “bunch”: a simple holder object with fields that can be both accessed as python dict keys or object attributes for convenience, for instance the target_names holds the list of the requested category names:"
      ]
    },
    {
      "cell_type": "code",
      "metadata": {
        "id": "LlgJ1wxR5zgW",
        "outputId": "6249db79-24de-4f0b-d84d-b92f5c4c3ae2",
        "colab": {
          "base_uri": "https://localhost:8080/",
          "height": 34
        }
      },
      "source": [
        "twenty_train.target_names"
      ],
      "execution_count": null,
      "outputs": [
        {
          "output_type": "execute_result",
          "data": {
            "text/plain": [
              "['alt.atheism', 'comp.graphics', 'sci.med', 'soc.religion.christian']"
            ]
          },
          "metadata": {
            "tags": []
          },
          "execution_count": 13
        }
      ]
    },
    {
      "cell_type": "markdown",
      "metadata": {
        "id": "_irFX4dk6kad"
      },
      "source": [
        "#The files themselves are loaded in memory in the data attribute. For reference the filenames are also available:"
      ]
    },
    {
      "cell_type": "code",
      "metadata": {
        "id": "lC8KveDK56d3",
        "outputId": "ffb2c1ad-697d-43cc-fc62-f3172d2f36b9",
        "colab": {
          "base_uri": "https://localhost:8080/",
          "height": 34
        }
      },
      "source": [
        "len(twenty_train.data)"
      ],
      "execution_count": null,
      "outputs": [
        {
          "output_type": "execute_result",
          "data": {
            "text/plain": [
              "2257"
            ]
          },
          "metadata": {
            "tags": []
          },
          "execution_count": 15
        }
      ]
    },
    {
      "cell_type": "code",
      "metadata": {
        "id": "CpjBFDnH588i",
        "outputId": "f7720113-340c-4b2e-f6b2-951bcb77735d",
        "colab": {
          "base_uri": "https://localhost:8080/",
          "height": 34
        }
      },
      "source": [
        "len(twenty_train.filenames)"
      ],
      "execution_count": null,
      "outputs": [
        {
          "output_type": "execute_result",
          "data": {
            "text/plain": [
              "2257"
            ]
          },
          "metadata": {
            "tags": []
          },
          "execution_count": 16
        }
      ]
    },
    {
      "cell_type": "markdown",
      "metadata": {
        "id": "rnECL7PI6nBY"
      },
      "source": [
        "#Let’s print the first lines of the first loaded file:"
      ]
    },
    {
      "cell_type": "code",
      "metadata": {
        "id": "r6DeFipD6BF6",
        "outputId": "f938c289-0b5f-4339-cc04-0e1db169d847",
        "colab": {
          "base_uri": "https://localhost:8080/",
          "height": 68
        }
      },
      "source": [
        "print(\"\\n\".join(twenty_train.data[0].split(\"\\n\")[:3]))"
      ],
      "execution_count": null,
      "outputs": [
        {
          "output_type": "stream",
          "text": [
            "From: sd345@city.ac.uk (Michael Collier)\n",
            "Subject: Converting images to HP LaserJet III?\n",
            "Nntp-Posting-Host: hampton\n"
          ],
          "name": "stdout"
        }
      ]
    },
    {
      "cell_type": "code",
      "metadata": {
        "id": "ujq2J2fR6qsL",
        "outputId": "234a2868-57dc-4648-f424-e51d9e51b622",
        "colab": {
          "base_uri": "https://localhost:8080/",
          "height": 187
        }
      },
      "source": [
        "print(\"\\n\".join(twenty_train.data[2].split(\"\\n\")[:10]))"
      ],
      "execution_count": null,
      "outputs": [
        {
          "output_type": "stream",
          "text": [
            "From: djohnson@cs.ucsd.edu (Darin Johnson)\n",
            "Subject: Re: harrassed at work, could use some prayers\n",
            "Organization: =CSE Dept., U.C. San Diego\n",
            "Lines: 63\n",
            "\n",
            "(Well, I'll email also, but this may apply to other people, so\n",
            "I'll post also.)\n",
            "\n",
            ">I've been working at this company for eight years in various\n",
            ">engineering jobs.  I'm female.  Yesterday I counted and realized that\n"
          ],
          "name": "stdout"
        }
      ]
    },
    {
      "cell_type": "code",
      "metadata": {
        "id": "A6DrMYrO6u6h",
        "outputId": "a3b807c3-0077-4ff0-c87c-4f22af408178",
        "colab": {
          "base_uri": "https://localhost:8080/",
          "height": 68
        }
      },
      "source": [
        "print(twenty_train.target_names[twenty_train.target[0]]),print(twenty_train.target_names[twenty_train.target[2]])"
      ],
      "execution_count": null,
      "outputs": [
        {
          "output_type": "stream",
          "text": [
            "comp.graphics\n",
            "soc.religion.christian\n"
          ],
          "name": "stdout"
        },
        {
          "output_type": "execute_result",
          "data": {
            "text/plain": [
              "(None, None)"
            ]
          },
          "metadata": {
            "tags": []
          },
          "execution_count": 19
        }
      ]
    },
    {
      "cell_type": "code",
      "metadata": {
        "id": "yMT-UbDx64_M",
        "outputId": "45143317-af8e-4132-d0f0-bb0167e28ee2",
        "colab": {
          "base_uri": "https://localhost:8080/",
          "height": 34
        }
      },
      "source": [
        "print(twenty_train.target_names[twenty_train.target[2]])"
      ],
      "execution_count": null,
      "outputs": [
        {
          "output_type": "stream",
          "text": [
            "soc.religion.christian\n"
          ],
          "name": "stdout"
        }
      ]
    },
    {
      "cell_type": "markdown",
      "metadata": {
        "id": "DSLPG4587hFS"
      },
      "source": [
        "#Supervised learning algorithms will require a category label for each document in the training set. In this case the category is the name of the newsgroup which also happens to be the name of the folder holding the individual documents.\n",
        "\n",
        "#For speed and space efficiency reasons scikit-learn loads the target attribute as an array of integers that corresponds to the index of the category name in the target_names list. The category integer id of each sample is stored in the target attribute:"
      ]
    },
    {
      "cell_type": "code",
      "metadata": {
        "id": "Jf53h8eJ7AG1",
        "outputId": "a038b22d-f618-43a1-87b7-11225d6a4baf",
        "colab": {
          "base_uri": "https://localhost:8080/",
          "height": 34
        }
      },
      "source": [
        "twenty_train.target[:10]"
      ],
      "execution_count": null,
      "outputs": [
        {
          "output_type": "execute_result",
          "data": {
            "text/plain": [
              "array([1, 1, 3, 3, 3, 3, 3, 2, 2, 2])"
            ]
          },
          "metadata": {
            "tags": []
          },
          "execution_count": 21
        }
      ]
    },
    {
      "cell_type": "markdown",
      "metadata": {
        "id": "DcUqb4SB7pUH"
      },
      "source": [
        "#It is possible to get back the category names as follows:"
      ]
    },
    {
      "cell_type": "code",
      "metadata": {
        "id": "X3nJTI-W7kFx",
        "outputId": "5f481a9f-0d4d-4bb9-cab1-7d3d39b26b7e",
        "colab": {
          "base_uri": "https://localhost:8080/",
          "height": 187
        }
      },
      "source": [
        "for t in twenty_train.target[:10]:\n",
        "...     print(twenty_train.target_names[t])"
      ],
      "execution_count": null,
      "outputs": [
        {
          "output_type": "stream",
          "text": [
            "comp.graphics\n",
            "comp.graphics\n",
            "soc.religion.christian\n",
            "soc.religion.christian\n",
            "soc.religion.christian\n",
            "soc.religion.christian\n",
            "soc.religion.christian\n",
            "sci.med\n",
            "sci.med\n",
            "sci.med\n"
          ],
          "name": "stdout"
        }
      ]
    },
    {
      "cell_type": "code",
      "metadata": {
        "id": "VF8zMjyn7rkF",
        "outputId": "ddd83b58-52f2-45d4-925e-1e60ec863cb8",
        "colab": {
          "base_uri": "https://localhost:8080/",
          "height": 34
        }
      },
      "source": [
        "type(twenty_train.data)"
      ],
      "execution_count": null,
      "outputs": [
        {
          "output_type": "execute_result",
          "data": {
            "text/plain": [
              "list"
            ]
          },
          "metadata": {
            "tags": []
          },
          "execution_count": 23
        }
      ]
    },
    {
      "cell_type": "code",
      "metadata": {
        "id": "jXhaQHsg8LmB",
        "outputId": "bd3d0c44-7d82-45ac-e8e6-e7c5bae47360",
        "colab": {
          "base_uri": "https://localhost:8080/",
          "height": 34
        }
      },
      "source": [
        "from sklearn.feature_extraction.text import CountVectorizer\n",
        "count_vect = CountVectorizer()\n",
        "X_train_counts = count_vect.fit_transform(twenty_train.data)\n",
        "X_train_counts.shape"
      ],
      "execution_count": null,
      "outputs": [
        {
          "output_type": "execute_result",
          "data": {
            "text/plain": [
              "(2257, 35788)"
            ]
          },
          "metadata": {
            "tags": []
          },
          "execution_count": 24
        }
      ]
    },
    {
      "cell_type": "markdown",
      "metadata": {
        "id": "NojrJxRc8brD"
      },
      "source": [
        "#CountVectorizer supports counts of N-grams of words or consecutive characters. Once fitted, the vectorizer has built a dictionary of feature indices:"
      ]
    },
    {
      "cell_type": "code",
      "metadata": {
        "id": "xtRRUKOo8USA",
        "outputId": "1367ce04-0833-4b3e-ba9b-2c4e6006a198",
        "colab": {
          "base_uri": "https://localhost:8080/",
          "height": 34
        }
      },
      "source": [
        "count_vect.vocabulary_.get(u'algorithm')"
      ],
      "execution_count": null,
      "outputs": [
        {
          "output_type": "execute_result",
          "data": {
            "text/plain": [
              "4690"
            ]
          },
          "metadata": {
            "tags": []
          },
          "execution_count": 25
        }
      ]
    },
    {
      "cell_type": "code",
      "metadata": {
        "id": "06pheXGu-gxq",
        "outputId": "a7ff4e12-bd20-454b-9b04-2381bf44da35",
        "colab": {
          "base_uri": "https://localhost:8080/",
          "height": 34
        }
      },
      "source": [
        "count_vect.vocabulary_['algorithm']"
      ],
      "execution_count": null,
      "outputs": [
        {
          "output_type": "execute_result",
          "data": {
            "text/plain": [
              "4690"
            ]
          },
          "metadata": {
            "tags": []
          },
          "execution_count": 33
        }
      ]
    },
    {
      "cell_type": "markdown",
      "metadata": {
        "id": "XnVUze4k8l1l"
      },
      "source": [
        "#The index value of a word in the vocabulary is linked to its frequency in the whole training corpus."
      ]
    },
    {
      "cell_type": "code",
      "metadata": {
        "id": "ZlTXJkRL8e3v",
        "outputId": "7264ebe9-7b43-4dd0-c029-b296e03951b1",
        "colab": {
          "base_uri": "https://localhost:8080/",
          "height": 34
        }
      },
      "source": [
        "len(count_vect.vocabulary_)"
      ],
      "execution_count": null,
      "outputs": [
        {
          "output_type": "execute_result",
          "data": {
            "text/plain": [
              "35788"
            ]
          },
          "metadata": {
            "tags": []
          },
          "execution_count": 26
        }
      ]
    },
    {
      "cell_type": "code",
      "metadata": {
        "id": "H2zypF1C9ccj",
        "outputId": "a923aa0a-0c03-4fe9-a875-3b28eaa2cf12",
        "colab": {
          "base_uri": "https://localhost:8080/",
          "height": 34
        }
      },
      "source": [
        "for word, frequency in count_vect.vocabulary_.items():  # for name, age in dictionary.iteritems():  (for Python 2.x)\n",
        "    if frequency == 1:\n",
        "        print(word, frequency)"
      ],
      "execution_count": null,
      "outputs": [
        {
          "output_type": "stream",
          "text": [
            "000 1\n"
          ],
          "name": "stdout"
        }
      ]
    },
    {
      "cell_type": "code",
      "metadata": {
        "id": "v9BI8D3i8qtG",
        "outputId": "5665392a-6e48-4de1-ce5f-79eb48704a52",
        "colab": {
          "base_uri": "https://localhost:8080/",
          "height": 357
        }
      },
      "source": [
        "for i in range(10):\n",
        "  print(f\"=========== Frequency {i} =============\")\n",
        "  for word, frequency in count_vect.vocabulary_.items():  # for name, age in dictionary.iteritems():  (for Python 2.x)\n",
        "    if frequency == 1:\n",
        "        print(word, frequency)"
      ],
      "execution_count": null,
      "outputs": [
        {
          "output_type": "stream",
          "text": [
            "=========== Frequency 0 =============\n",
            "000 1\n",
            "=========== Frequency 1 =============\n",
            "000 1\n",
            "=========== Frequency 2 =============\n",
            "000 1\n",
            "=========== Frequency 3 =============\n",
            "000 1\n",
            "=========== Frequency 4 =============\n",
            "000 1\n",
            "=========== Frequency 5 =============\n",
            "000 1\n",
            "=========== Frequency 6 =============\n",
            "000 1\n",
            "=========== Frequency 7 =============\n",
            "000 1\n",
            "=========== Frequency 8 =============\n",
            "000 1\n",
            "=========== Frequency 9 =============\n",
            "000 1\n"
          ],
          "name": "stdout"
        }
      ]
    },
    {
      "cell_type": "code",
      "metadata": {
        "id": "J0MwT4bt826f",
        "outputId": "d8d827b7-a03e-47fc-fe69-16e932ddf8e6",
        "colab": {
          "base_uri": "https://localhost:8080/",
          "height": 357
        }
      },
      "source": [
        "for i in range(10):\n",
        "  print(f\"=========== Frequency {i} =============\")\n",
        "  for word, frequency in count_vect.vocabulary_.items():  # for name, age in dictionary.iteritems():  (for Python 2.x)\n",
        "    if frequency == i:\n",
        "        print(word, frequency)"
      ],
      "execution_count": null,
      "outputs": [
        {
          "output_type": "stream",
          "text": [
            "=========== Frequency 0 =============\n",
            "00 0\n",
            "=========== Frequency 1 =============\n",
            "000 1\n",
            "=========== Frequency 2 =============\n",
            "0000 2\n",
            "=========== Frequency 3 =============\n",
            "0000001200 3\n",
            "=========== Frequency 4 =============\n",
            "000005102000 4\n",
            "=========== Frequency 5 =============\n",
            "0001 5\n",
            "=========== Frequency 6 =============\n",
            "000100255pixel 6\n",
            "=========== Frequency 7 =============\n",
            "00014 7\n",
            "=========== Frequency 8 =============\n",
            "000406 8\n",
            "=========== Frequency 9 =============\n",
            "0007 9\n"
          ],
          "name": "stdout"
        }
      ]
    },
    {
      "cell_type": "code",
      "metadata": {
        "id": "MCRaCjsx-TCC",
        "outputId": "7181a189-e3ff-446a-8837-d113b6ffb7fb",
        "colab": {
          "base_uri": "https://localhost:8080/",
          "height": 357
        }
      },
      "source": [
        "for i in range(10):\n",
        "  print(f\"=========== Frequency {i+50} =============\")\n",
        "  for word, frequency in count_vect.vocabulary_.items():  # for name, age in dictionary.iteritems():  (for Python 2.x)\n",
        "    if frequency == i+50:\n",
        "        print(word, frequency)"
      ],
      "execution_count": null,
      "outputs": [
        {
          "output_type": "stream",
          "text": [
            "=========== Frequency 50 =============\n",
            "0131 50\n",
            "=========== Frequency 51 =============\n",
            "013423tan102 51\n",
            "=========== Frequency 52 =============\n",
            "013657 52\n",
            "=========== Frequency 53 =============\n",
            "0138 53\n",
            "=========== Frequency 54 =============\n",
            "013846 54\n",
            "=========== Frequency 55 =============\n",
            "0150 55\n",
            "=========== Frequency 56 =============\n",
            "015518 56\n",
            "=========== Frequency 57 =============\n",
            "01580 57\n",
            "=========== Frequency 58 =============\n",
            "015931 58\n",
            "=========== Frequency 59 =============\n",
            "01720 59\n"
          ],
          "name": "stdout"
        }
      ]
    },
    {
      "cell_type": "code",
      "metadata": {
        "id": "fSFLMPpB-yD6",
        "outputId": "fc96ee3b-c700-4805-fc4e-11440db88468",
        "colab": {
          "base_uri": "https://localhost:8080/",
          "height": 357
        }
      },
      "source": [
        "for i in range(10):\n",
        "  print(f\"=========== Frequency {i+4690} =============\")\n",
        "  for word, frequency in count_vect.vocabulary_.items():  # for name, age in dictionary.iteritems():  (for Python 2.x)\n",
        "    if frequency == i+4690:\n",
        "        print(word, frequency)"
      ],
      "execution_count": null,
      "outputs": [
        {
          "output_type": "stream",
          "text": [
            "=========== Frequency 4690 =============\n",
            "algorithm 4690\n",
            "=========== Frequency 4691 =============\n",
            "algorithmic 4691\n",
            "=========== Frequency 4692 =============\n",
            "algorithmically 4692\n",
            "=========== Frequency 4693 =============\n",
            "algorithms 4693\n",
            "=========== Frequency 4694 =============\n",
            "algoritmic 4694\n",
            "=========== Frequency 4695 =============\n",
            "ali 4695\n",
            "=========== Frequency 4696 =============\n",
            "alia 4696\n",
            "=========== Frequency 4697 =============\n",
            "alias 4697\n",
            "=========== Frequency 4698 =============\n",
            "aliased 4698\n",
            "=========== Frequency 4699 =============\n",
            "aliases 4699\n"
          ],
          "name": "stdout"
        }
      ]
    },
    {
      "cell_type": "code",
      "metadata": {
        "id": "YLoCag53_AXj",
        "outputId": "699cd761-79de-4ee7-d480-31b6d44d2a88",
        "colab": {
          "base_uri": "https://localhost:8080/",
          "height": 34
        }
      },
      "source": [
        "type(X_train_counts)"
      ],
      "execution_count": null,
      "outputs": [
        {
          "output_type": "execute_result",
          "data": {
            "text/plain": [
              "scipy.sparse.csr.csr_matrix"
            ]
          },
          "metadata": {
            "tags": []
          },
          "execution_count": 36
        }
      ]
    },
    {
      "cell_type": "code",
      "metadata": {
        "id": "ggaE0s8XA6MG",
        "outputId": "a84a9e44-dd34-412e-9355-b646a01f9023",
        "colab": {
          "base_uri": "https://localhost:8080/",
          "height": 51
        }
      },
      "source": [
        "X_train_counts[1]"
      ],
      "execution_count": null,
      "outputs": [
        {
          "output_type": "execute_result",
          "data": {
            "text/plain": [
              "<1x35788 sparse matrix of type '<class 'numpy.int64'>'\n",
              "\twith 102 stored elements in Compressed Sparse Row format>"
            ]
          },
          "metadata": {
            "tags": []
          },
          "execution_count": 37
        }
      ]
    },
    {
      "cell_type": "code",
      "metadata": {
        "id": "M-tNtPdWA8Vg",
        "outputId": "b51bdbb5-4f00-4822-f5c2-dc9c507b5dca",
        "colab": {
          "base_uri": "https://localhost:8080/",
          "height": 51
        }
      },
      "source": [
        "X_train_counts.toarray"
      ],
      "execution_count": null,
      "outputs": [
        {
          "output_type": "execute_result",
          "data": {
            "text/plain": [
              "<bound method _cs_matrix.toarray of <2257x35788 sparse matrix of type '<class 'numpy.int64'>'\n",
              "\twith 365886 stored elements in Compressed Sparse Row format>>"
            ]
          },
          "metadata": {
            "tags": []
          },
          "execution_count": 38
        }
      ]
    },
    {
      "cell_type": "code",
      "metadata": {
        "id": "7vWCjNKTA_xx",
        "outputId": "be897158-7432-45e0-b337-66547d1d77c6",
        "colab": {
          "base_uri": "https://localhost:8080/",
          "height": 136
        }
      },
      "source": [
        "X_train_counts.toarray()\n",
        "\n"
      ],
      "execution_count": null,
      "outputs": [
        {
          "output_type": "execute_result",
          "data": {
            "text/plain": [
              "array([[0, 0, 0, ..., 0, 0, 0],\n",
              "       [0, 0, 0, ..., 0, 0, 0],\n",
              "       [0, 0, 0, ..., 0, 0, 0],\n",
              "       ...,\n",
              "       [0, 0, 0, ..., 0, 0, 0],\n",
              "       [0, 0, 0, ..., 0, 0, 0],\n",
              "       [0, 0, 0, ..., 0, 0, 0]])"
            ]
          },
          "metadata": {
            "tags": []
          },
          "execution_count": 39
        }
      ]
    },
    {
      "cell_type": "code",
      "metadata": {
        "id": "om600NITBDx9"
      },
      "source": [
        ""
      ],
      "execution_count": null,
      "outputs": []
    },
    {
      "cell_type": "code",
      "metadata": {
        "id": "wwmVSMUsBK4i",
        "outputId": "7d3c3605-3410-4af3-ca7c-54d388ce45ec",
        "colab": {
          "base_uri": "https://localhost:8080/",
          "height": 34
        }
      },
      "source": [
        "from sklearn.feature_extraction.text import TfidfTransformer\n",
        "tfidf_transformer = TfidfTransformer()\n",
        "X_train_tfidf = tfidf_transformer.fit_transform(X_train_counts)\n",
        "X_train_tfidf.shape"
      ],
      "execution_count": null,
      "outputs": [
        {
          "output_type": "execute_result",
          "data": {
            "text/plain": [
              "(2257, 35788)"
            ]
          },
          "metadata": {
            "tags": []
          },
          "execution_count": 45
        }
      ]
    },
    {
      "cell_type": "code",
      "metadata": {
        "id": "9h_t4QMgDGSp",
        "outputId": "526cd619-f95e-4adc-fa48-129e286fa395",
        "colab": {
          "base_uri": "https://localhost:8080/",
          "height": 136
        }
      },
      "source": [
        "X_train_tfidf.toarray()"
      ],
      "execution_count": null,
      "outputs": [
        {
          "output_type": "execute_result",
          "data": {
            "text/plain": [
              "array([[0., 0., 0., ..., 0., 0., 0.],\n",
              "       [0., 0., 0., ..., 0., 0., 0.],\n",
              "       [0., 0., 0., ..., 0., 0., 0.],\n",
              "       ...,\n",
              "       [0., 0., 0., ..., 0., 0., 0.],\n",
              "       [0., 0., 0., ..., 0., 0., 0.],\n",
              "       [0., 0., 0., ..., 0., 0., 0.]])"
            ]
          },
          "metadata": {
            "tags": []
          },
          "execution_count": 46
        }
      ]
    },
    {
      "cell_type": "code",
      "metadata": {
        "id": "9hBw4WkUDX4S"
      },
      "source": [
        "from sklearn.naive_bayes import MultinomialNB\n",
        "clf = MultinomialNB().fit(X_train_tfidf, twenty_train.target)"
      ],
      "execution_count": null,
      "outputs": []
    },
    {
      "cell_type": "code",
      "metadata": {
        "id": "RqlNnctTDgGn"
      },
      "source": [
        "docs_new = ['God is love', 'OpenGL on the GPU is fast']\n",
        "X_new_counts = count_vect.transform(docs_new)\n",
        "X_new_tfidf = tfidf_transformer.transform(X_new_counts)\n",
        "\n",
        "predicted = clf.predict(X_new_tfidf)"
      ],
      "execution_count": null,
      "outputs": []
    },
    {
      "cell_type": "code",
      "metadata": {
        "id": "kLgJcCiKDnci",
        "outputId": "d116e38d-a491-4880-ee09-cffdb57041e6",
        "colab": {
          "base_uri": "https://localhost:8080/",
          "height": 51
        }
      },
      "source": [
        "for doc, category in zip(docs_new, predicted):\n",
        "...     print('%r => %s' % (doc, twenty_train.target_names[category]))"
      ],
      "execution_count": null,
      "outputs": [
        {
          "output_type": "stream",
          "text": [
            "'God is love' => soc.religion.christian\n",
            "'OpenGL on the GPU is fast' => comp.graphics\n"
          ],
          "name": "stdout"
        }
      ]
    },
    {
      "cell_type": "code",
      "metadata": {
        "id": "AvW4Vwc7DsCX"
      },
      "source": [
        "from sklearn.pipeline import Pipeline\n",
        "text_clf = Pipeline([\n",
        "     ('vect', CountVectorizer()),\n",
        "     ('tfidf', TfidfTransformer()),\n",
        "     ('clf', MultinomialNB()),\n",
        " ])"
      ],
      "execution_count": null,
      "outputs": []
    },
    {
      "cell_type": "code",
      "metadata": {
        "id": "pugzBaE0D4OG",
        "outputId": "476ab37e-66f3-4669-8710-ae150253ef5c",
        "colab": {
          "base_uri": "https://localhost:8080/",
          "height": 306
        }
      },
      "source": [
        "text_clf"
      ],
      "execution_count": null,
      "outputs": [
        {
          "output_type": "execute_result",
          "data": {
            "text/plain": [
              "Pipeline(memory=None,\n",
              "         steps=[('vect',\n",
              "                 CountVectorizer(analyzer='word', binary=False,\n",
              "                                 decode_error='strict',\n",
              "                                 dtype=<class 'numpy.int64'>, encoding='utf-8',\n",
              "                                 input='content', lowercase=True, max_df=1.0,\n",
              "                                 max_features=None, min_df=1,\n",
              "                                 ngram_range=(1, 1), preprocessor=None,\n",
              "                                 stop_words=None, strip_accents=None,\n",
              "                                 token_pattern='(?u)\\\\b\\\\w\\\\w+\\\\b',\n",
              "                                 tokenizer=None, vocabulary=None)),\n",
              "                ('tfidf',\n",
              "                 TfidfTransformer(norm='l2', smooth_idf=True,\n",
              "                                  sublinear_tf=False, use_idf=True)),\n",
              "                ('clf',\n",
              "                 MultinomialNB(alpha=1.0, class_prior=None, fit_prior=True))],\n",
              "         verbose=False)"
            ]
          },
          "metadata": {
            "tags": []
          },
          "execution_count": 52
        }
      ]
    },
    {
      "cell_type": "code",
      "metadata": {
        "id": "Y3R20jVPEAVt",
        "outputId": "9d18b6ef-e781-4281-bfff-b7065a245085",
        "colab": {
          "base_uri": "https://localhost:8080/",
          "height": 306
        }
      },
      "source": [
        "text_clf.fit(twenty_train.data, twenty_train.target)"
      ],
      "execution_count": null,
      "outputs": [
        {
          "output_type": "execute_result",
          "data": {
            "text/plain": [
              "Pipeline(memory=None,\n",
              "         steps=[('vect',\n",
              "                 CountVectorizer(analyzer='word', binary=False,\n",
              "                                 decode_error='strict',\n",
              "                                 dtype=<class 'numpy.int64'>, encoding='utf-8',\n",
              "                                 input='content', lowercase=True, max_df=1.0,\n",
              "                                 max_features=None, min_df=1,\n",
              "                                 ngram_range=(1, 1), preprocessor=None,\n",
              "                                 stop_words=None, strip_accents=None,\n",
              "                                 token_pattern='(?u)\\\\b\\\\w\\\\w+\\\\b',\n",
              "                                 tokenizer=None, vocabulary=None)),\n",
              "                ('tfidf',\n",
              "                 TfidfTransformer(norm='l2', smooth_idf=True,\n",
              "                                  sublinear_tf=False, use_idf=True)),\n",
              "                ('clf',\n",
              "                 MultinomialNB(alpha=1.0, class_prior=None, fit_prior=True))],\n",
              "         verbose=False)"
            ]
          },
          "metadata": {
            "tags": []
          },
          "execution_count": 53
        }
      ]
    },
    {
      "cell_type": "code",
      "metadata": {
        "id": "ejn1AVaREHJD",
        "outputId": "ba3a691d-c3a3-4c14-f379-0a439b523e2e",
        "colab": {
          "base_uri": "https://localhost:8080/",
          "height": 34
        }
      },
      "source": [
        "import numpy as np\n",
        "twenty_test = fetch_20newsgroups(subset='test',\n",
        "     categories=categories, shuffle=True, random_state=42)\n",
        "docs_test = twenty_test.data\n",
        "predicted = text_clf.predict(docs_test)\n",
        "np.mean(predicted == twenty_test.target)"
      ],
      "execution_count": null,
      "outputs": [
        {
          "output_type": "execute_result",
          "data": {
            "text/plain": [
              "0.8348868175765646"
            ]
          },
          "metadata": {
            "tags": []
          },
          "execution_count": 54
        }
      ]
    },
    {
      "cell_type": "code",
      "metadata": {
        "id": "V6jesyo8EQaM",
        "outputId": "0529bd20-e955-4731-b90f-2a741ab02a1e",
        "colab": {
          "base_uri": "https://localhost:8080/",
          "height": 374
        }
      },
      "source": [
        "from sklearn.linear_model import SGDClassifier\n",
        "text_clf = Pipeline([\n",
        "     ('vect', CountVectorizer()),\n",
        "     ('tfidf', TfidfTransformer()),\n",
        "     ('clf', SGDClassifier(loss='hinge', penalty='l2',\n",
        "                           alpha=1e-3, random_state=42,\n",
        "                           max_iter=5, tol=None)),\n",
        " ])\n",
        "\n",
        "text_clf.fit(twenty_train.data, twenty_train.target)"
      ],
      "execution_count": null,
      "outputs": [
        {
          "output_type": "execute_result",
          "data": {
            "text/plain": [
              "Pipeline(memory=None,\n",
              "         steps=[('vect',\n",
              "                 CountVectorizer(analyzer='word', binary=False,\n",
              "                                 decode_error='strict',\n",
              "                                 dtype=<class 'numpy.int64'>, encoding='utf-8',\n",
              "                                 input='content', lowercase=True, max_df=1.0,\n",
              "                                 max_features=None, min_df=1,\n",
              "                                 ngram_range=(1, 1), preprocessor=None,\n",
              "                                 stop_words=None, strip_accents=None,\n",
              "                                 token_pattern='(?u)\\\\b\\\\w\\\\w+\\\\b',\n",
              "                                 tokenizer=None, vocabulary=Non...\n",
              "                ('clf',\n",
              "                 SGDClassifier(alpha=0.001, average=False, class_weight=None,\n",
              "                               early_stopping=False, epsilon=0.1, eta0=0.0,\n",
              "                               fit_intercept=True, l1_ratio=0.15,\n",
              "                               learning_rate='optimal', loss='hinge',\n",
              "                               max_iter=5, n_iter_no_change=5, n_jobs=None,\n",
              "                               penalty='l2', power_t=0.5, random_state=42,\n",
              "                               shuffle=True, tol=None, validation_fraction=0.1,\n",
              "                               verbose=0, warm_start=False))],\n",
              "         verbose=False)"
            ]
          },
          "metadata": {
            "tags": []
          },
          "execution_count": 55
        }
      ]
    },
    {
      "cell_type": "code",
      "metadata": {
        "id": "pXzqEF6EEc8I",
        "outputId": "885b29e1-1be8-43f6-9424-fce43eae380a",
        "colab": {
          "base_uri": "https://localhost:8080/",
          "height": 34
        }
      },
      "source": [
        "predicted = text_clf.predict(docs_test)\n",
        "np.mean(predicted == twenty_test.target)"
      ],
      "execution_count": null,
      "outputs": [
        {
          "output_type": "execute_result",
          "data": {
            "text/plain": [
              "0.9101198402130493"
            ]
          },
          "metadata": {
            "tags": []
          },
          "execution_count": 56
        }
      ]
    },
    {
      "cell_type": "code",
      "metadata": {
        "id": "m0cLNfP5EjS4",
        "outputId": "6faa110d-e135-4800-d48c-cb18d9e20d90",
        "colab": {
          "base_uri": "https://localhost:8080/",
          "height": 204
        }
      },
      "source": [
        "from sklearn import metrics\n",
        "print(metrics.classification_report(twenty_test.target, predicted,\n",
        "    target_names=twenty_test.target_names))"
      ],
      "execution_count": null,
      "outputs": [
        {
          "output_type": "stream",
          "text": [
            "                        precision    recall  f1-score   support\n",
            "\n",
            "           alt.atheism       0.95      0.80      0.87       319\n",
            "         comp.graphics       0.87      0.98      0.92       389\n",
            "               sci.med       0.94      0.89      0.91       396\n",
            "soc.religion.christian       0.90      0.95      0.93       398\n",
            "\n",
            "              accuracy                           0.91      1502\n",
            "             macro avg       0.91      0.91      0.91      1502\n",
            "          weighted avg       0.91      0.91      0.91      1502\n",
            "\n"
          ],
          "name": "stdout"
        }
      ]
    },
    {
      "cell_type": "markdown",
      "metadata": {
        "id": "tSFjVIv2Qner"
      },
      "source": [
        "#There is a red winequality dataset2 which is quite famous. This dataset has 11 different attributes that decide the quality of red wine"
      ]
    },
    {
      "cell_type": "code",
      "metadata": {
        "id": "bKF9cWWDEmzd"
      },
      "source": [
        "import pandas as pd\n",
        "df = pd.read_csv(\"winequality-red.csv\")"
      ],
      "execution_count": null,
      "outputs": []
    },
    {
      "cell_type": "code",
      "metadata": {
        "id": "pn15xhUzQJxt",
        "outputId": "aa84e027-b77a-4942-8f58-c6bb34b2cfae",
        "colab": {
          "base_uri": "https://localhost:8080/",
          "height": 419
        }
      },
      "source": [
        "df"
      ],
      "execution_count": null,
      "outputs": [
        {
          "output_type": "execute_result",
          "data": {
            "text/html": [
              "<div>\n",
              "<style scoped>\n",
              "    .dataframe tbody tr th:only-of-type {\n",
              "        vertical-align: middle;\n",
              "    }\n",
              "\n",
              "    .dataframe tbody tr th {\n",
              "        vertical-align: top;\n",
              "    }\n",
              "\n",
              "    .dataframe thead th {\n",
              "        text-align: right;\n",
              "    }\n",
              "</style>\n",
              "<table border=\"1\" class=\"dataframe\">\n",
              "  <thead>\n",
              "    <tr style=\"text-align: right;\">\n",
              "      <th></th>\n",
              "      <th>fixed acidity</th>\n",
              "      <th>volatile acidity</th>\n",
              "      <th>citric acid</th>\n",
              "      <th>residual sugar</th>\n",
              "      <th>chlorides</th>\n",
              "      <th>free sulfur dioxide</th>\n",
              "      <th>total sulfur dioxide</th>\n",
              "      <th>density</th>\n",
              "      <th>pH</th>\n",
              "      <th>sulphates</th>\n",
              "      <th>alcohol</th>\n",
              "      <th>quality</th>\n",
              "    </tr>\n",
              "  </thead>\n",
              "  <tbody>\n",
              "    <tr>\n",
              "      <th>0</th>\n",
              "      <td>7.4</td>\n",
              "      <td>0.700</td>\n",
              "      <td>0.00</td>\n",
              "      <td>1.9</td>\n",
              "      <td>0.076</td>\n",
              "      <td>11.0</td>\n",
              "      <td>34.0</td>\n",
              "      <td>0.99780</td>\n",
              "      <td>3.51</td>\n",
              "      <td>0.56</td>\n",
              "      <td>9.4</td>\n",
              "      <td>5</td>\n",
              "    </tr>\n",
              "    <tr>\n",
              "      <th>1</th>\n",
              "      <td>7.8</td>\n",
              "      <td>0.880</td>\n",
              "      <td>0.00</td>\n",
              "      <td>2.6</td>\n",
              "      <td>0.098</td>\n",
              "      <td>25.0</td>\n",
              "      <td>67.0</td>\n",
              "      <td>0.99680</td>\n",
              "      <td>3.20</td>\n",
              "      <td>0.68</td>\n",
              "      <td>9.8</td>\n",
              "      <td>5</td>\n",
              "    </tr>\n",
              "    <tr>\n",
              "      <th>2</th>\n",
              "      <td>7.8</td>\n",
              "      <td>0.760</td>\n",
              "      <td>0.04</td>\n",
              "      <td>2.3</td>\n",
              "      <td>0.092</td>\n",
              "      <td>15.0</td>\n",
              "      <td>54.0</td>\n",
              "      <td>0.99700</td>\n",
              "      <td>3.26</td>\n",
              "      <td>0.65</td>\n",
              "      <td>9.8</td>\n",
              "      <td>5</td>\n",
              "    </tr>\n",
              "    <tr>\n",
              "      <th>3</th>\n",
              "      <td>11.2</td>\n",
              "      <td>0.280</td>\n",
              "      <td>0.56</td>\n",
              "      <td>1.9</td>\n",
              "      <td>0.075</td>\n",
              "      <td>17.0</td>\n",
              "      <td>60.0</td>\n",
              "      <td>0.99800</td>\n",
              "      <td>3.16</td>\n",
              "      <td>0.58</td>\n",
              "      <td>9.8</td>\n",
              "      <td>6</td>\n",
              "    </tr>\n",
              "    <tr>\n",
              "      <th>4</th>\n",
              "      <td>7.4</td>\n",
              "      <td>0.700</td>\n",
              "      <td>0.00</td>\n",
              "      <td>1.9</td>\n",
              "      <td>0.076</td>\n",
              "      <td>11.0</td>\n",
              "      <td>34.0</td>\n",
              "      <td>0.99780</td>\n",
              "      <td>3.51</td>\n",
              "      <td>0.56</td>\n",
              "      <td>9.4</td>\n",
              "      <td>5</td>\n",
              "    </tr>\n",
              "    <tr>\n",
              "      <th>...</th>\n",
              "      <td>...</td>\n",
              "      <td>...</td>\n",
              "      <td>...</td>\n",
              "      <td>...</td>\n",
              "      <td>...</td>\n",
              "      <td>...</td>\n",
              "      <td>...</td>\n",
              "      <td>...</td>\n",
              "      <td>...</td>\n",
              "      <td>...</td>\n",
              "      <td>...</td>\n",
              "      <td>...</td>\n",
              "    </tr>\n",
              "    <tr>\n",
              "      <th>1594</th>\n",
              "      <td>6.2</td>\n",
              "      <td>0.600</td>\n",
              "      <td>0.08</td>\n",
              "      <td>2.0</td>\n",
              "      <td>0.090</td>\n",
              "      <td>32.0</td>\n",
              "      <td>44.0</td>\n",
              "      <td>0.99490</td>\n",
              "      <td>3.45</td>\n",
              "      <td>0.58</td>\n",
              "      <td>10.5</td>\n",
              "      <td>5</td>\n",
              "    </tr>\n",
              "    <tr>\n",
              "      <th>1595</th>\n",
              "      <td>5.9</td>\n",
              "      <td>0.550</td>\n",
              "      <td>0.10</td>\n",
              "      <td>2.2</td>\n",
              "      <td>0.062</td>\n",
              "      <td>39.0</td>\n",
              "      <td>51.0</td>\n",
              "      <td>0.99512</td>\n",
              "      <td>3.52</td>\n",
              "      <td>0.76</td>\n",
              "      <td>11.2</td>\n",
              "      <td>6</td>\n",
              "    </tr>\n",
              "    <tr>\n",
              "      <th>1596</th>\n",
              "      <td>6.3</td>\n",
              "      <td>0.510</td>\n",
              "      <td>0.13</td>\n",
              "      <td>2.3</td>\n",
              "      <td>0.076</td>\n",
              "      <td>29.0</td>\n",
              "      <td>40.0</td>\n",
              "      <td>0.99574</td>\n",
              "      <td>3.42</td>\n",
              "      <td>0.75</td>\n",
              "      <td>11.0</td>\n",
              "      <td>6</td>\n",
              "    </tr>\n",
              "    <tr>\n",
              "      <th>1597</th>\n",
              "      <td>5.9</td>\n",
              "      <td>0.645</td>\n",
              "      <td>0.12</td>\n",
              "      <td>2.0</td>\n",
              "      <td>0.075</td>\n",
              "      <td>32.0</td>\n",
              "      <td>44.0</td>\n",
              "      <td>0.99547</td>\n",
              "      <td>3.57</td>\n",
              "      <td>0.71</td>\n",
              "      <td>10.2</td>\n",
              "      <td>5</td>\n",
              "    </tr>\n",
              "    <tr>\n",
              "      <th>1598</th>\n",
              "      <td>6.0</td>\n",
              "      <td>0.310</td>\n",
              "      <td>0.47</td>\n",
              "      <td>3.6</td>\n",
              "      <td>0.067</td>\n",
              "      <td>18.0</td>\n",
              "      <td>42.0</td>\n",
              "      <td>0.99549</td>\n",
              "      <td>3.39</td>\n",
              "      <td>0.66</td>\n",
              "      <td>11.0</td>\n",
              "      <td>6</td>\n",
              "    </tr>\n",
              "  </tbody>\n",
              "</table>\n",
              "<p>1599 rows × 12 columns</p>\n",
              "</div>"
            ],
            "text/plain": [
              "      fixed acidity  volatile acidity  citric acid  ...  sulphates  alcohol  quality\n",
              "0               7.4             0.700         0.00  ...       0.56      9.4        5\n",
              "1               7.8             0.880         0.00  ...       0.68      9.8        5\n",
              "2               7.8             0.760         0.04  ...       0.65      9.8        5\n",
              "3              11.2             0.280         0.56  ...       0.58      9.8        6\n",
              "4               7.4             0.700         0.00  ...       0.56      9.4        5\n",
              "...             ...               ...          ...  ...        ...      ...      ...\n",
              "1594            6.2             0.600         0.08  ...       0.58     10.5        5\n",
              "1595            5.9             0.550         0.10  ...       0.76     11.2        6\n",
              "1596            6.3             0.510         0.13  ...       0.75     11.0        6\n",
              "1597            5.9             0.645         0.12  ...       0.71     10.2        5\n",
              "1598            6.0             0.310         0.47  ...       0.66     11.0        6\n",
              "\n",
              "[1599 rows x 12 columns]"
            ]
          },
          "metadata": {
            "tags": []
          },
          "execution_count": 6
        }
      ]
    },
    {
      "cell_type": "markdown",
      "metadata": {
        "id": "2-J2fUsNQ07U"
      },
      "source": [
        "#We can treat this problem either as a classification problem or as a regression problem since wine quality is nothing but a real number between 0 and 10. For simplicity, let’s choose classification. This dataset, however, consists of only six types of quality values. We will thus map all quality values from 0 to 5."
      ]
    },
    {
      "cell_type": "code",
      "metadata": {
        "id": "U0uxY6LoQtjM",
        "outputId": "28a58f85-b0eb-4dcc-9b07-bcac262740e0",
        "colab": {
          "base_uri": "https://localhost:8080/",
          "height": 136
        }
      },
      "source": [
        "df.quality.value_counts()"
      ],
      "execution_count": null,
      "outputs": [
        {
          "output_type": "execute_result",
          "data": {
            "text/plain": [
              "5    681\n",
              "6    638\n",
              "7    199\n",
              "4     53\n",
              "8     18\n",
              "3     10\n",
              "Name: quality, dtype: int64"
            ]
          },
          "metadata": {
            "tags": []
          },
          "execution_count": 7
        }
      ]
    },
    {
      "cell_type": "code",
      "metadata": {
        "id": "vJl_B3htQ6QU"
      },
      "source": [
        "# a mapping dictionary that maps the quality values from 0 to 5\n",
        "quality_mapping = {\n",
        "3: 0,\n",
        "4: 1,\n",
        "5: 2,\n",
        "6: 3,\n",
        "7: 4,\n",
        "8: 5\n",
        "}\n",
        "# you can use the map function of pandas with\n",
        "# any dictionary to convert the values in a given\n",
        "# column to values in the dictionary\n",
        "df.loc[:, \"quality\"] = df.quality.map(quality_mapping)"
      ],
      "execution_count": null,
      "outputs": []
    },
    {
      "cell_type": "code",
      "metadata": {
        "id": "hACV0P4yRPm3",
        "outputId": "ab1d46cd-ca67-4277-8681-86722922c432",
        "colab": {
          "base_uri": "https://localhost:8080/",
          "height": 136
        }
      },
      "source": [
        "df.quality.value_counts()"
      ],
      "execution_count": null,
      "outputs": [
        {
          "output_type": "execute_result",
          "data": {
            "text/plain": [
              "2    681\n",
              "3    638\n",
              "4    199\n",
              "1     53\n",
              "5     18\n",
              "0     10\n",
              "Name: quality, dtype: int64"
            ]
          },
          "metadata": {
            "tags": []
          },
          "execution_count": 9
        }
      ]
    },
    {
      "cell_type": "markdown",
      "metadata": {
        "id": "iE-fqvTFZnhV"
      },
      "source": [
        "#Before we begin to understand what overfitting is, let’s divide the data into two parts. This dataset has 1599 samples. We keep 1000 samples for training and 599 as a separate set.\n",
        "#Splitting can be done easily by the following chunk of code:\n"
      ]
    },
    {
      "cell_type": "code",
      "metadata": {
        "id": "tCcFxCqRRTBW"
      },
      "source": [
        "# use sample with frac=1 to shuffle the dataframe\n",
        "# we reset the indices since they change after\n",
        "# shuffling the dataframe\n",
        "df = df.sample(frac=1).reset_index(drop=True)\n",
        "# top 1000 rows are selected\n",
        "# for training\n",
        "df_train = df.head(1000)\n",
        "# bottom 599 values are selected\n",
        "# for testing/validation\n",
        "df_test = df.tail(599)"
      ],
      "execution_count": null,
      "outputs": []
    },
    {
      "cell_type": "code",
      "metadata": {
        "id": "8ubXVsBwZ0hj",
        "outputId": "48fdd075-486f-45f2-e5b0-d13a3d694d87",
        "colab": {
          "base_uri": "https://localhost:8080/",
          "height": 204
        }
      },
      "source": [
        "df_train.head()"
      ],
      "execution_count": null,
      "outputs": [
        {
          "output_type": "execute_result",
          "data": {
            "text/html": [
              "<div>\n",
              "<style scoped>\n",
              "    .dataframe tbody tr th:only-of-type {\n",
              "        vertical-align: middle;\n",
              "    }\n",
              "\n",
              "    .dataframe tbody tr th {\n",
              "        vertical-align: top;\n",
              "    }\n",
              "\n",
              "    .dataframe thead th {\n",
              "        text-align: right;\n",
              "    }\n",
              "</style>\n",
              "<table border=\"1\" class=\"dataframe\">\n",
              "  <thead>\n",
              "    <tr style=\"text-align: right;\">\n",
              "      <th></th>\n",
              "      <th>fixed acidity</th>\n",
              "      <th>volatile acidity</th>\n",
              "      <th>citric acid</th>\n",
              "      <th>residual sugar</th>\n",
              "      <th>chlorides</th>\n",
              "      <th>free sulfur dioxide</th>\n",
              "      <th>total sulfur dioxide</th>\n",
              "      <th>density</th>\n",
              "      <th>pH</th>\n",
              "      <th>sulphates</th>\n",
              "      <th>alcohol</th>\n",
              "      <th>quality</th>\n",
              "    </tr>\n",
              "  </thead>\n",
              "  <tbody>\n",
              "    <tr>\n",
              "      <th>0</th>\n",
              "      <td>7.1</td>\n",
              "      <td>0.470</td>\n",
              "      <td>0.00</td>\n",
              "      <td>2.20</td>\n",
              "      <td>0.067</td>\n",
              "      <td>7.0</td>\n",
              "      <td>14.0</td>\n",
              "      <td>0.99517</td>\n",
              "      <td>3.40</td>\n",
              "      <td>0.58</td>\n",
              "      <td>10.9</td>\n",
              "      <td>1</td>\n",
              "    </tr>\n",
              "    <tr>\n",
              "      <th>1</th>\n",
              "      <td>7.7</td>\n",
              "      <td>0.580</td>\n",
              "      <td>0.01</td>\n",
              "      <td>1.80</td>\n",
              "      <td>0.088</td>\n",
              "      <td>12.0</td>\n",
              "      <td>18.0</td>\n",
              "      <td>0.99568</td>\n",
              "      <td>3.32</td>\n",
              "      <td>0.56</td>\n",
              "      <td>10.5</td>\n",
              "      <td>4</td>\n",
              "    </tr>\n",
              "    <tr>\n",
              "      <th>2</th>\n",
              "      <td>8.3</td>\n",
              "      <td>0.490</td>\n",
              "      <td>0.36</td>\n",
              "      <td>1.80</td>\n",
              "      <td>0.222</td>\n",
              "      <td>6.0</td>\n",
              "      <td>16.0</td>\n",
              "      <td>0.99800</td>\n",
              "      <td>3.18</td>\n",
              "      <td>0.60</td>\n",
              "      <td>9.5</td>\n",
              "      <td>3</td>\n",
              "    </tr>\n",
              "    <tr>\n",
              "      <th>3</th>\n",
              "      <td>7.1</td>\n",
              "      <td>0.590</td>\n",
              "      <td>0.01</td>\n",
              "      <td>2.30</td>\n",
              "      <td>0.080</td>\n",
              "      <td>27.0</td>\n",
              "      <td>43.0</td>\n",
              "      <td>0.99550</td>\n",
              "      <td>3.42</td>\n",
              "      <td>0.58</td>\n",
              "      <td>10.7</td>\n",
              "      <td>3</td>\n",
              "    </tr>\n",
              "    <tr>\n",
              "      <th>4</th>\n",
              "      <td>7.4</td>\n",
              "      <td>1.185</td>\n",
              "      <td>0.00</td>\n",
              "      <td>4.25</td>\n",
              "      <td>0.097</td>\n",
              "      <td>5.0</td>\n",
              "      <td>14.0</td>\n",
              "      <td>0.99660</td>\n",
              "      <td>3.63</td>\n",
              "      <td>0.54</td>\n",
              "      <td>10.7</td>\n",
              "      <td>0</td>\n",
              "    </tr>\n",
              "  </tbody>\n",
              "</table>\n",
              "</div>"
            ],
            "text/plain": [
              "   fixed acidity  volatile acidity  citric acid  ...  sulphates  alcohol  quality\n",
              "0            7.1             0.470         0.00  ...       0.58     10.9        1\n",
              "1            7.7             0.580         0.01  ...       0.56     10.5        4\n",
              "2            8.3             0.490         0.36  ...       0.60      9.5        3\n",
              "3            7.1             0.590         0.01  ...       0.58     10.7        3\n",
              "4            7.4             1.185         0.00  ...       0.54     10.7        0\n",
              "\n",
              "[5 rows x 12 columns]"
            ]
          },
          "metadata": {
            "tags": []
          },
          "execution_count": 11
        }
      ]
    },
    {
      "cell_type": "markdown",
      "metadata": {
        "id": "t3TV1NJVZ_Zp"
      },
      "source": [
        "#We will now train a decision tree model on the training set. For the decision tree model, I am going to use scikit-learn."
      ]
    },
    {
      "cell_type": "code",
      "metadata": {
        "id": "4q3yhSxXZ3OQ",
        "outputId": "515e3b4a-8621-4db7-ee19-80ed5c8c8b3f",
        "colab": {
          "base_uri": "https://localhost:8080/",
          "height": 119
        }
      },
      "source": [
        "# import from scikit-learn\n",
        "from sklearn import tree\n",
        "from sklearn import metrics\n",
        "# initialize decision tree classifier class\n",
        "# with a max_depth of 3\n",
        "clf = tree.DecisionTreeClassifier(max_depth=3)\n",
        "# choose the columns you want to train on\n",
        "# these are the features for the model\n",
        "cols = ['fixed acidity',\n",
        "'volatile acidity',\n",
        "'citric acid','residual sugar',\n",
        "'chlorides',\n",
        "'free sulfur dioxide',\n",
        "'total sulfur dioxide',\n",
        "'density',\n",
        "'pH',\n",
        "'sulphates',\n",
        "'alcohol']\n",
        "# train the model on the provided features\n",
        "# and mapped quality from before\n",
        "clf.fit(df_train[cols], df_train.quality)"
      ],
      "execution_count": null,
      "outputs": [
        {
          "output_type": "execute_result",
          "data": {
            "text/plain": [
              "DecisionTreeClassifier(ccp_alpha=0.0, class_weight=None, criterion='gini',\n",
              "                       max_depth=3, max_features=None, max_leaf_nodes=None,\n",
              "                       min_impurity_decrease=0.0, min_impurity_split=None,\n",
              "                       min_samples_leaf=1, min_samples_split=2,\n",
              "                       min_weight_fraction_leaf=0.0, presort='deprecated',\n",
              "                       random_state=None, splitter='best')"
            ]
          },
          "metadata": {
            "tags": []
          },
          "execution_count": 12
        }
      ]
    },
    {
      "cell_type": "markdown",
      "metadata": {
        "id": "j78I-1ggaZTb"
      },
      "source": [
        "#Note that I have used a max_depth of 3 for the decision tree classifier. I have left all other parameters of this model to its default value.\n",
        "#Now, we test the accuracy of this model on the training set and the test set:"
      ]
    },
    {
      "cell_type": "code",
      "metadata": {
        "id": "I1ph2RuoaTVO"
      },
      "source": [
        "# generate predictions on the training set\n",
        "train_predictions = clf.predict(df_train[cols])\n",
        "# generate predictions on the test set\n",
        "test_predictions = clf.predict(df_test[cols])\n",
        "# calculate the accuracy of predictions on\n",
        "# training data set\n",
        "train_accuracy = metrics.accuracy_score(\n",
        "df_train.quality, train_predictions\n",
        ")\n",
        "# calculate the accuracy of predictions on\n",
        "# test data set\n",
        "test_accuracy = metrics.accuracy_score(\n",
        "df_test.quality, test_predictions\n",
        ")"
      ],
      "execution_count": null,
      "outputs": []
    },
    {
      "cell_type": "code",
      "metadata": {
        "id": "Tbf_fGVIalVR",
        "outputId": "d194625f-a158-4e88-fc84-2821ec20e82a",
        "colab": {
          "base_uri": "https://localhost:8080/",
          "height": 34
        }
      },
      "source": [
        "train_accuracy,test_accuracy"
      ],
      "execution_count": null,
      "outputs": [
        {
          "output_type": "execute_result",
          "data": {
            "text/plain": [
              "(0.592, 0.5425709515859767)"
            ]
          },
          "metadata": {
            "tags": []
          },
          "execution_count": 14
        }
      ]
    },
    {
      "cell_type": "markdown",
      "metadata": {
        "id": "BCYMpGpba6lW"
      },
      "source": [
        "#The training and test accuracies are found to be 58.9% and 54.25%. Now we increase the max_depth to 7 and repeat the process. This gives training accuracy of 76.6% and test accuracy of 57.3%. \n",
        "#Here, we have used accuracy, mainly because it is the most straightforward metric. It might not be the best metric for this problem.\n",
        "#What about we calculate these accuracies for different values of max_depth and make a plot?"
      ]
    },
    {
      "cell_type": "code",
      "metadata": {
        "id": "3AXxiQviaveV",
        "outputId": "20a30451-b9be-4498-b96a-6c5c9299fe58",
        "colab": {
          "base_uri": "https://localhost:8080/",
          "height": 407
        }
      },
      "source": [
        "# NOTE: this code is written in a jupyter notebook\n",
        "# import scikit-learn tree and metrics\n",
        "from sklearn import tree\n",
        "from sklearn import metrics\n",
        "# import matplotlib and seaborn\n",
        "# for plotting\n",
        "import matplotlib\n",
        "import matplotlib.pyplot as plt\n",
        "import seaborn as sns\n",
        "# this is our global size of label text\n",
        "# on the plots\n",
        "matplotlib.rc('xtick', labelsize=20)\n",
        "matplotlib.rc('ytick', labelsize=20)\n",
        "# This line ensures that the plot is displayed\n",
        "# inside the notebook\n",
        "%matplotlib inline\n",
        "# initialize lists to store accuracies\n",
        "# for training and test data\n",
        "# we start with 50% accuracy\n",
        "train_accuracies = [0.5]\n",
        "test_accuracies = [0.5]\n",
        "# iterate over a few depth values\n",
        "for depth in range(1, 25):\n",
        "# init the model\n",
        "  clf = tree.DecisionTreeClassifier(max_depth=depth)\n",
        "  # columns/features for training\n",
        "  # note that, this can be done outside\n",
        "  # the loop\n",
        "  cols = [\n",
        "  'fixed acidity',\n",
        "  'volatile acidity',\n",
        "  'citric acid',\n",
        "  'residual sugar',\n",
        "  'chlorides',\n",
        "  'free sulfur dioxide',\n",
        "  'total sulfur dioxide',\n",
        "  'density',\n",
        "  'pH',\n",
        "  'sulphates','alcohol'\n",
        "  ]\n",
        "  # fit the model on given features\n",
        "  clf.fit(df_train[cols], df_train.quality)\n",
        "  # create training & test predictions\n",
        "  train_predictions = clf.predict(df_train[cols])\n",
        "  test_predictions = clf.predict(df_test[cols])\n",
        "  # calculate training & test accuracies\n",
        "  train_accuracy = metrics.accuracy_score(\n",
        "  df_train.quality, train_predictions\n",
        "  )\n",
        "  test_accuracy = metrics.accuracy_score(\n",
        "  df_test.quality, test_predictions\n",
        "  )\n",
        "  # append accuracies\n",
        "  train_accuracies.append(train_accuracy)\n",
        "  test_accuracies.append(test_accuracy)\n",
        "# create two plots using matplotlib\n",
        "# and seaborn\n",
        "plt.figure(figsize=(10, 5))\n",
        "sns.set_style(\"whitegrid\")\n",
        "plt.plot(train_accuracies, label=\"train accuracy\")\n",
        "plt.plot(test_accuracies, label=\"test accuracy\")\n",
        "plt.legend(loc=\"upper left\", prop={'size': 15})\n",
        "plt.xticks(range(0, 26, 5))\n",
        "plt.xlabel(\"max_depth\", size=20)\n",
        "plt.ylabel(\"accuracy\", size=20)\n",
        "plt.show()"
      ],
      "execution_count": null,
      "outputs": [
        {
          "output_type": "stream",
          "text": [
            "/usr/local/lib/python3.6/dist-packages/statsmodels/tools/_testing.py:19: FutureWarning: pandas.util.testing is deprecated. Use the functions in the public API at pandas.testing instead.\n",
            "  import pandas.util.testing as tm\n"
          ],
          "name": "stderr"
        },
        {
          "output_type": "display_data",
          "data": {
            "image/png": "[encoded data removed]",
            "text/plain": [
              "<Figure size 720x360 with 1 Axes>"
            ]
          },
          "metadata": {
            "tags": [],
            "needs_background": "light"
          }
        }
      ]
    },
    {
      "cell_type": "code",
      "metadata": {
        "id": "HQ5tg9i_c2Bz",
        "outputId": "c98f1c6c-8a0d-4a64-caca-58485e117a36",
        "colab": {
          "base_uri": "https://localhost:8080/",
          "height": 425
        }
      },
      "source": [
        "[depth for depth in range(1, 25)]"
      ],
      "execution_count": null,
      "outputs": [
        {
          "output_type": "execute_result",
          "data": {
            "text/plain": [
              "[1,\n",
              " 2,\n",
              " 3,\n",
              " 4,\n",
              " 5,\n",
              " 6,\n",
              " 7,\n",
              " 8,\n",
              " 9,\n",
              " 10,\n",
              " 11,\n",
              " 12,\n",
              " 13,\n",
              " 14,\n",
              " 15,\n",
              " 16,\n",
              " 17,\n",
              " 18,\n",
              " 19,\n",
              " 20,\n",
              " 21,\n",
              " 22,\n",
              " 23,\n",
              " 24]"
            ]
          },
          "metadata": {
            "tags": []
          },
          "execution_count": 19
        }
      ]
    },
    {
      "cell_type": "markdown",
      "metadata": {
        "id": "VmyDs4Qwci9O"
      },
      "source": [
        "#We see that the best score for test data is obtained when max_depth has a value of 14(not, should be 24). \n",
        "#From max_depth from 1 to 24, as we keep increasing the value of this parameter, test accuracy remains the same or gets worse, but the training accuracy keeps increasing. It means that our simple decision tree model keeps learning about the training data better and better with an increase in max_depth, but the performance on test data does not improve at all."
      ]
    },
    {
      "cell_type": "markdown",
      "metadata": {
        "id": "k_HLXh4UdNXi"
      },
      "source": [
        "#This is called overfitting.\n",
        "## The model fits perfectly on the training set and performs poorly when it comes to the test set. This means that the model will learn the training data well but will not generalize on unseen samples. In the dataset above, one can build a model with very high max_depth which will have outstanding results on training data, but that kind of model is not useful as it will not provide a similar result on the real-world samples or live data."
      ]
    },
    {
      "cell_type": "markdown",
      "metadata": {
        "id": "nlaxNimsd1Db"
      },
      "source": [
        "#One might argue that this approach isn’t overfitting as the accuracy of the test set more or less remains the same. Another definition of overfitting would be when the\n",
        "test loss increases as we keep improving training loss. This is very common when\n",
        "it comes to neural networks.\n",
        "Whenever we train a neural network, we must monitor loss during the training time\n",
        "for both training and test set. If we have a very large network for a dataset which is\n",
        "quite small (i.e. very less number of samples), we will observe that the loss for both\n",
        "training and test set will decrease as we keep training. However, at some point, test\n",
        "loss will reach its minima, and after that, it will start increasing even though training\n",
        "loss decreases further. We must stop training where the validation loss reaches its\n",
        "minimum value.\n",
        "This is the most common explanation of overfitting."
      ]
    },
    {
      "cell_type": "code",
      "metadata": {
        "id": "SZR8TAnzcJye",
        "outputId": "98bf7121-cc3e-4b9d-89b1-5256024e0dfa",
        "colab": {
          "base_uri": "https://localhost:8080/",
          "height": 34
        }
      },
      "source": [
        "test_accuracies.index(max(test_accuracies))"
      ],
      "execution_count": null,
      "outputs": [
        {
          "output_type": "execute_result",
          "data": {
            "text/plain": [
              "24"
            ]
          },
          "metadata": {
            "tags": []
          },
          "execution_count": 16
        }
      ]
    },
    {
      "cell_type": "code",
      "metadata": {
        "id": "7FRnGLC2cP9X",
        "outputId": "62b8845d-2866-43d8-de21-3b41a64b131d",
        "colab": {
          "base_uri": "https://localhost:8080/",
          "height": 34
        }
      },
      "source": [
        "test_accuracies[24],test_accuracies[15]"
      ],
      "execution_count": null,
      "outputs": [
        {
          "output_type": "execute_result",
          "data": {
            "text/plain": [
              "(0.6110183639398998, 0.5976627712854758)"
            ]
          },
          "metadata": {
            "tags": []
          },
          "execution_count": 18
        }
      ]
    },
    {
      "cell_type": "code",
      "metadata": {
        "id": "838DE1NKgGGG",
        "outputId": "998a4c38-2954-4fee-ace0-44282713821d",
        "colab": {
          "base_uri": "https://localhost:8080/",
          "height": 204
        }
      },
      "source": [
        "df_train.head()"
      ],
      "execution_count": null,
      "outputs": [
        {
          "output_type": "execute_result",
          "data": {
            "text/html": [
              "<div>\n",
              "<style scoped>\n",
              "    .dataframe tbody tr th:only-of-type {\n",
              "        vertical-align: middle;\n",
              "    }\n",
              "\n",
              "    .dataframe tbody tr th {\n",
              "        vertical-align: top;\n",
              "    }\n",
              "\n",
              "    .dataframe thead th {\n",
              "        text-align: right;\n",
              "    }\n",
              "</style>\n",
              "<table border=\"1\" class=\"dataframe\">\n",
              "  <thead>\n",
              "    <tr style=\"text-align: right;\">\n",
              "      <th></th>\n",
              "      <th>fixed acidity</th>\n",
              "      <th>volatile acidity</th>\n",
              "      <th>citric acid</th>\n",
              "      <th>residual sugar</th>\n",
              "      <th>chlorides</th>\n",
              "      <th>free sulfur dioxide</th>\n",
              "      <th>total sulfur dioxide</th>\n",
              "      <th>density</th>\n",
              "      <th>pH</th>\n",
              "      <th>sulphates</th>\n",
              "      <th>alcohol</th>\n",
              "      <th>quality</th>\n",
              "    </tr>\n",
              "  </thead>\n",
              "  <tbody>\n",
              "    <tr>\n",
              "      <th>0</th>\n",
              "      <td>7.1</td>\n",
              "      <td>0.470</td>\n",
              "      <td>0.00</td>\n",
              "      <td>2.20</td>\n",
              "      <td>0.067</td>\n",
              "      <td>7.0</td>\n",
              "      <td>14.0</td>\n",
              "      <td>0.99517</td>\n",
              "      <td>3.40</td>\n",
              "      <td>0.58</td>\n",
              "      <td>10.9</td>\n",
              "      <td>1</td>\n",
              "    </tr>\n",
              "    <tr>\n",
              "      <th>1</th>\n",
              "      <td>7.7</td>\n",
              "      <td>0.580</td>\n",
              "      <td>0.01</td>\n",
              "      <td>1.80</td>\n",
              "      <td>0.088</td>\n",
              "      <td>12.0</td>\n",
              "      <td>18.0</td>\n",
              "      <td>0.99568</td>\n",
              "      <td>3.32</td>\n",
              "      <td>0.56</td>\n",
              "      <td>10.5</td>\n",
              "      <td>4</td>\n",
              "    </tr>\n",
              "    <tr>\n",
              "      <th>2</th>\n",
              "      <td>8.3</td>\n",
              "      <td>0.490</td>\n",
              "      <td>0.36</td>\n",
              "      <td>1.80</td>\n",
              "      <td>0.222</td>\n",
              "      <td>6.0</td>\n",
              "      <td>16.0</td>\n",
              "      <td>0.99800</td>\n",
              "      <td>3.18</td>\n",
              "      <td>0.60</td>\n",
              "      <td>9.5</td>\n",
              "      <td>3</td>\n",
              "    </tr>\n",
              "    <tr>\n",
              "      <th>3</th>\n",
              "      <td>7.1</td>\n",
              "      <td>0.590</td>\n",
              "      <td>0.01</td>\n",
              "      <td>2.30</td>\n",
              "      <td>0.080</td>\n",
              "      <td>27.0</td>\n",
              "      <td>43.0</td>\n",
              "      <td>0.99550</td>\n",
              "      <td>3.42</td>\n",
              "      <td>0.58</td>\n",
              "      <td>10.7</td>\n",
              "      <td>3</td>\n",
              "    </tr>\n",
              "    <tr>\n",
              "      <th>4</th>\n",
              "      <td>7.4</td>\n",
              "      <td>1.185</td>\n",
              "      <td>0.00</td>\n",
              "      <td>4.25</td>\n",
              "      <td>0.097</td>\n",
              "      <td>5.0</td>\n",
              "      <td>14.0</td>\n",
              "      <td>0.99660</td>\n",
              "      <td>3.63</td>\n",
              "      <td>0.54</td>\n",
              "      <td>10.7</td>\n",
              "      <td>0</td>\n",
              "    </tr>\n",
              "  </tbody>\n",
              "</table>\n",
              "</div>"
            ],
            "text/plain": [
              "   fixed acidity  volatile acidity  citric acid  ...  sulphates  alcohol  quality\n",
              "0            7.1             0.470         0.00  ...       0.58     10.9        1\n",
              "1            7.7             0.580         0.01  ...       0.56     10.5        4\n",
              "2            8.3             0.490         0.36  ...       0.60      9.5        3\n",
              "3            7.1             0.590         0.01  ...       0.58     10.7        3\n",
              "4            7.4             1.185         0.00  ...       0.54     10.7        0\n",
              "\n",
              "[5 rows x 12 columns]"
            ]
          },
          "metadata": {
            "tags": []
          },
          "execution_count": 22
        }
      ]
    },
    {
      "cell_type": "code",
      "metadata": {
        "id": "Hs944yc_goX6",
        "outputId": "4bd14244-305a-4674-8960-8c0a0dd2dd3d",
        "colab": {
          "base_uri": "https://localhost:8080/",
          "height": 35
        }
      },
      "source": [
        "pwd"
      ],
      "execution_count": null,
      "outputs": [
        {
          "output_type": "execute_result",
          "data": {
            "application/vnd.google.colaboratory.intrinsic+json": {
              "type": "string"
            },
            "text/plain": [
              "'/gdrive/My Drive/notes'"
            ]
          },
          "metadata": {
            "tags": []
          },
          "execution_count": 23
        }
      ]
    },
    {
      "cell_type": "code",
      "metadata": {
        "id": "dlfzGZTwglbN"
      },
      "source": [
        "df_train.to_csv(\"train.csv\",index=False)"
      ],
      "execution_count": null,
      "outputs": []
    },
    {
      "cell_type": "markdown",
      "metadata": {
        "id": "BfLnQIwTfe6B"
      },
      "source": [
        "#We can split any data into k-equal parts using KFold from scikit-learn. Each sample is assigned a value from 0 to k-1 when using k-fold cross validation."
      ]
    },
    {
      "cell_type": "code",
      "metadata": {
        "id": "BpT24FrucWmA"
      },
      "source": [
        "# import pandas and model_selection module of scikit-learn\n",
        "import pandas as pd\n",
        "from sklearn import model_selection\n",
        "if __name__ == \"__main__\":\n",
        "  # Training data is in a CSV file called train.csv\n",
        "  df = pd.read_csv(\"train.csv\")\n",
        "  # we create a new column called kfold and fill it with -1\n",
        "  df[\"kfold\"] = -1\n",
        "  # the next step is to randomize the rows of the data\n",
        "  df = df.sample(frac=1).reset_index(drop=True)\n",
        "  # initiate the kfold class from model_selection module\n",
        "  kf = model_selection.KFold(n_splits=5)\n",
        "  # fill the new kfold column\n",
        "  for fold, (trn_, val_) in enumerate(kf.split(X=df)):\n",
        "    df.loc[val_, 'kfold'] = fold\n",
        "    # save the new csv with kfold column\n",
        "    df.to_csv(\"train_folds.csv\", index=False)"
      ],
      "execution_count": null,
      "outputs": []
    },
    {
      "cell_type": "code",
      "metadata": {
        "id": "2hnESSRagAn-",
        "outputId": "51761bb4-e2d0-443e-b4f1-e6b4a35988cd",
        "colab": {
          "base_uri": "https://localhost:8080/",
          "height": 419
        }
      },
      "source": [
        "df"
      ],
      "execution_count": null,
      "outputs": [
        {
          "output_type": "execute_result",
          "data": {
            "text/html": [
              "<div>\n",
              "<style scoped>\n",
              "    .dataframe tbody tr th:only-of-type {\n",
              "        vertical-align: middle;\n",
              "    }\n",
              "\n",
              "    .dataframe tbody tr th {\n",
              "        vertical-align: top;\n",
              "    }\n",
              "\n",
              "    .dataframe thead th {\n",
              "        text-align: right;\n",
              "    }\n",
              "</style>\n",
              "<table border=\"1\" class=\"dataframe\">\n",
              "  <thead>\n",
              "    <tr style=\"text-align: right;\">\n",
              "      <th></th>\n",
              "      <th>fixed acidity</th>\n",
              "      <th>volatile acidity</th>\n",
              "      <th>citric acid</th>\n",
              "      <th>residual sugar</th>\n",
              "      <th>chlorides</th>\n",
              "      <th>free sulfur dioxide</th>\n",
              "      <th>total sulfur dioxide</th>\n",
              "      <th>density</th>\n",
              "      <th>pH</th>\n",
              "      <th>sulphates</th>\n",
              "      <th>alcohol</th>\n",
              "      <th>quality</th>\n",
              "      <th>kfold</th>\n",
              "    </tr>\n",
              "  </thead>\n",
              "  <tbody>\n",
              "    <tr>\n",
              "      <th>0</th>\n",
              "      <td>6.5</td>\n",
              "      <td>0.530</td>\n",
              "      <td>0.06</td>\n",
              "      <td>2.0</td>\n",
              "      <td>0.063</td>\n",
              "      <td>29.0</td>\n",
              "      <td>44.0</td>\n",
              "      <td>0.99489</td>\n",
              "      <td>3.38</td>\n",
              "      <td>0.83</td>\n",
              "      <td>10.3</td>\n",
              "      <td>3</td>\n",
              "      <td>0</td>\n",
              "    </tr>\n",
              "    <tr>\n",
              "      <th>1</th>\n",
              "      <td>8.8</td>\n",
              "      <td>0.590</td>\n",
              "      <td>0.18</td>\n",
              "      <td>2.9</td>\n",
              "      <td>0.089</td>\n",
              "      <td>12.0</td>\n",
              "      <td>74.0</td>\n",
              "      <td>0.99738</td>\n",
              "      <td>3.14</td>\n",
              "      <td>0.54</td>\n",
              "      <td>9.4</td>\n",
              "      <td>2</td>\n",
              "      <td>0</td>\n",
              "    </tr>\n",
              "    <tr>\n",
              "      <th>2</th>\n",
              "      <td>6.8</td>\n",
              "      <td>0.490</td>\n",
              "      <td>0.22</td>\n",
              "      <td>2.3</td>\n",
              "      <td>0.071</td>\n",
              "      <td>13.0</td>\n",
              "      <td>24.0</td>\n",
              "      <td>0.99438</td>\n",
              "      <td>3.41</td>\n",
              "      <td>0.83</td>\n",
              "      <td>11.3</td>\n",
              "      <td>3</td>\n",
              "      <td>0</td>\n",
              "    </tr>\n",
              "    <tr>\n",
              "      <th>3</th>\n",
              "      <td>10.0</td>\n",
              "      <td>0.430</td>\n",
              "      <td>0.33</td>\n",
              "      <td>2.7</td>\n",
              "      <td>0.095</td>\n",
              "      <td>28.0</td>\n",
              "      <td>89.0</td>\n",
              "      <td>0.99840</td>\n",
              "      <td>3.22</td>\n",
              "      <td>0.68</td>\n",
              "      <td>10.0</td>\n",
              "      <td>2</td>\n",
              "      <td>0</td>\n",
              "    </tr>\n",
              "    <tr>\n",
              "      <th>4</th>\n",
              "      <td>6.6</td>\n",
              "      <td>0.840</td>\n",
              "      <td>0.03</td>\n",
              "      <td>2.3</td>\n",
              "      <td>0.059</td>\n",
              "      <td>32.0</td>\n",
              "      <td>48.0</td>\n",
              "      <td>0.99520</td>\n",
              "      <td>3.52</td>\n",
              "      <td>0.56</td>\n",
              "      <td>12.3</td>\n",
              "      <td>4</td>\n",
              "      <td>0</td>\n",
              "    </tr>\n",
              "    <tr>\n",
              "      <th>...</th>\n",
              "      <td>...</td>\n",
              "      <td>...</td>\n",
              "      <td>...</td>\n",
              "      <td>...</td>\n",
              "      <td>...</td>\n",
              "      <td>...</td>\n",
              "      <td>...</td>\n",
              "      <td>...</td>\n",
              "      <td>...</td>\n",
              "      <td>...</td>\n",
              "      <td>...</td>\n",
              "      <td>...</td>\n",
              "      <td>...</td>\n",
              "    </tr>\n",
              "    <tr>\n",
              "      <th>995</th>\n",
              "      <td>9.5</td>\n",
              "      <td>0.460</td>\n",
              "      <td>0.24</td>\n",
              "      <td>2.7</td>\n",
              "      <td>0.092</td>\n",
              "      <td>14.0</td>\n",
              "      <td>44.0</td>\n",
              "      <td>0.99800</td>\n",
              "      <td>3.12</td>\n",
              "      <td>0.74</td>\n",
              "      <td>10.0</td>\n",
              "      <td>3</td>\n",
              "      <td>4</td>\n",
              "    </tr>\n",
              "    <tr>\n",
              "      <th>996</th>\n",
              "      <td>8.3</td>\n",
              "      <td>0.430</td>\n",
              "      <td>0.30</td>\n",
              "      <td>3.4</td>\n",
              "      <td>0.079</td>\n",
              "      <td>7.0</td>\n",
              "      <td>34.0</td>\n",
              "      <td>0.99788</td>\n",
              "      <td>3.36</td>\n",
              "      <td>0.61</td>\n",
              "      <td>10.5</td>\n",
              "      <td>2</td>\n",
              "      <td>4</td>\n",
              "    </tr>\n",
              "    <tr>\n",
              "      <th>997</th>\n",
              "      <td>11.4</td>\n",
              "      <td>0.625</td>\n",
              "      <td>0.66</td>\n",
              "      <td>6.2</td>\n",
              "      <td>0.088</td>\n",
              "      <td>6.0</td>\n",
              "      <td>24.0</td>\n",
              "      <td>0.99880</td>\n",
              "      <td>3.11</td>\n",
              "      <td>0.99</td>\n",
              "      <td>13.3</td>\n",
              "      <td>3</td>\n",
              "      <td>4</td>\n",
              "    </tr>\n",
              "    <tr>\n",
              "      <th>998</th>\n",
              "      <td>7.7</td>\n",
              "      <td>0.835</td>\n",
              "      <td>0.00</td>\n",
              "      <td>2.6</td>\n",
              "      <td>0.081</td>\n",
              "      <td>6.0</td>\n",
              "      <td>14.0</td>\n",
              "      <td>0.99750</td>\n",
              "      <td>3.30</td>\n",
              "      <td>0.52</td>\n",
              "      <td>9.3</td>\n",
              "      <td>2</td>\n",
              "      <td>4</td>\n",
              "    </tr>\n",
              "    <tr>\n",
              "      <th>999</th>\n",
              "      <td>7.9</td>\n",
              "      <td>0.320</td>\n",
              "      <td>0.51</td>\n",
              "      <td>1.8</td>\n",
              "      <td>0.341</td>\n",
              "      <td>17.0</td>\n",
              "      <td>56.0</td>\n",
              "      <td>0.99690</td>\n",
              "      <td>3.04</td>\n",
              "      <td>1.08</td>\n",
              "      <td>9.2</td>\n",
              "      <td>3</td>\n",
              "      <td>4</td>\n",
              "    </tr>\n",
              "  </tbody>\n",
              "</table>\n",
              "<p>1000 rows × 13 columns</p>\n",
              "</div>"
            ],
            "text/plain": [
              "     fixed acidity  volatile acidity  citric acid  ...  alcohol  quality  kfold\n",
              "0              6.5             0.530         0.06  ...     10.3        3      0\n",
              "1              8.8             0.590         0.18  ...      9.4        2      0\n",
              "2              6.8             0.490         0.22  ...     11.3        3      0\n",
              "3             10.0             0.430         0.33  ...     10.0        2      0\n",
              "4              6.6             0.840         0.03  ...     12.3        4      0\n",
              "..             ...               ...          ...  ...      ...      ...    ...\n",
              "995            9.5             0.460         0.24  ...     10.0        3      4\n",
              "996            8.3             0.430         0.30  ...     10.5        2      4\n",
              "997           11.4             0.625         0.66  ...     13.3        3      4\n",
              "998            7.7             0.835         0.00  ...      9.3        2      4\n",
              "999            7.9             0.320         0.51  ...      9.2        3      4\n",
              "\n",
              "[1000 rows x 13 columns]"
            ]
          },
          "metadata": {
            "tags": []
          },
          "execution_count": 26
        }
      ]
    },
    {
      "cell_type": "code",
      "metadata": {
        "id": "l4fCerPugxSJ",
        "outputId": "8c47515f-fede-4b29-c5af-c0d684d122dd",
        "colab": {
          "base_uri": "https://localhost:8080/",
          "height": 119
        }
      },
      "source": [
        "df.kfold.value_counts()"
      ],
      "execution_count": null,
      "outputs": [
        {
          "output_type": "execute_result",
          "data": {
            "text/plain": [
              "4    200\n",
              "3    200\n",
              "2    200\n",
              "1    200\n",
              "0    200\n",
              "Name: kfold, dtype: int64"
            ]
          },
          "metadata": {
            "tags": []
          },
          "execution_count": 27
        }
      ]
    },
    {
      "cell_type": "markdown",
      "metadata": {
        "id": "cNJfqh9MhPMp"
      },
      "source": [
        "#You can use this process with almost all kinds of datasets. For example, when you have images, you can create a CSV with image id, image location and image labeland use the process above."
      ]
    },
    {
      "cell_type": "markdown",
      "metadata": {
        "id": "f3RQAguriw61"
      },
      "source": [
        "#Stratified k-fold cross-validation keeps the ratio of labels in each fold constant. So,in each fold, you will have the same 90% positive and 10% negative samples. Thus,whatever metric you choose to evaluate, it will give similar results across all folds."
      ]
    },
    {
      "cell_type": "markdown",
      "metadata": {
        "id": "Aczb-XUUjc2S"
      },
      "source": [
        "#It’s easy to modify the code for creating k-fold cross-validation to create stratified k-folds. We are only changing from model_selection.KFold to model_selection.StratifiedKFold and in the kf.split(...) function, we specify the target column on which we want to stratify. We assume that our CSV dataset has a column called “target” and it is a classification problem!"
      ]
    },
    {
      "cell_type": "code",
      "metadata": {
        "id": "n7LCRhunjwF3"
      },
      "source": [
        "# import pandas and model_selection module of scikit-learn\n",
        "import pandas as pd\n",
        "from sklearn import model_selection\n",
        "if __name__ == \"__main__\":\n",
        "  # Training data is in a csv file called train.csv\n",
        "  df = pd.read_csv(\"train.csv\")\n",
        "  # we create a new column called kfold and fill it with -1\n",
        "  df[\"kfold\"] = -1\n",
        "  # the next step is to randomize the rows of the data\n",
        "  df = df.sample(frac=1).reset_index(drop=True)\n",
        "  # fetch targets\n",
        "  y = df.quality.values\n",
        "  # initiate the kfold class from model_selection module\n",
        "  kf = model_selection.StratifiedKFold(n_splits=5)\n",
        "  # fill the new kfold column\n",
        "  for f, (t_, v_) in enumerate(kf.split(X=df, y=y)):\n",
        "    df.loc[v_, 'kfold'] = f\n",
        "    # save the new csv with kfold column\n",
        "    df.to_csv(\"train_folds.csv\", index=False)"
      ],
      "execution_count": null,
      "outputs": []
    },
    {
      "cell_type": "markdown",
      "metadata": {
        "id": "DBtpDyxUjLbr"
      },
      "source": [
        "#For the wine dataset, let’s look at the distribution of labels.\n",
        "═"
      ]
    },
    {
      "cell_type": "code",
      "metadata": {
        "id": "MYwTKyqjg1zw",
        "outputId": "6772b72c-dbf2-4e7e-da9e-53e58c3db493",
        "colab": {
          "base_uri": "https://localhost:8080/",
          "height": 314
        }
      },
      "source": [
        "b = sns.countplot(x='quality', data=df)\n",
        "b.set_xlabel(\"quality\", fontsize=20)\n",
        "b.set_ylabel(\"count\", fontsize=20)"
      ],
      "execution_count": null,
      "outputs": [
        {
          "output_type": "execute_result",
          "data": {
            "text/plain": [
              "Text(0, 0.5, 'count')"
            ]
          },
          "metadata": {
            "tags": []
          },
          "execution_count": 28
        },
        {
          "output_type": "display_data",
          "data": {
            "image/png": "[encoded data removed]",
            "text/plain": [
              "<Figure size 432x288 with 1 Axes>"
            ]
          },
          "metadata": {
            "tags": []
          }
        }
      ]
    },
    {
      "cell_type": "markdown",
      "metadata": {
        "id": "2aHo-yRQkF5a"
      },
      "source": [
        "#Note that we continue on the code above. So, we have converted the target values.\n",
        "#Looking at figure 6 we can say that the quality is very much skewed. Some classes have a lot of samples, and some don’t have that many. If we do a simple k-fold, we won’t have an equal distribution of targets in every fold. Thus, we choose stratified k-fold in this case."
      ]
    },
    {
      "cell_type": "markdown",
      "metadata": {
        "id": "W5AN13jVl_7e"
      },
      "source": [
        "#The rule is simple. If it’s a  standard classification problem, choose stratified k-fold  blindly. \n",
        "\n",
        " \n",
        "\n",
        "#But  what  should  we  do  if  we  have  a  large  amount  of  data?  Suppose  we  have  1 million samples. A 5 fold cross-validation would mean training on 800k samples and validating on 200k. Depending on which algorithm we choose, training and even validation can be very expensive for a dataset which is of this size. In these cases, we can opt for a hold-out based validation. \n",
        "\n",
        " \n",
        "\n",
        "#The process for creating the hold-out remains the same as stratified k-fold. For a dataset which has 1 million samples, we can create ten folds instead of 5 and keep one of those folds as hold-out. This means we will have 100k samples in the hold-out, and we will always calculate loss, accuracy and other metrics on this set and train on 900k samples.\n",
        "\n",
        "#Hold-out  is  also  used  very  frequently  with  time-series  data.  Let’s  assume  the problem we are provided with is predicting sales of a store for 2020, and you are provided all the data from 2015-2019. In this case, you can select all the data for 2019 as a hold-out and train your model on all the data from 2015 to 2018."
      ]
    },
    {
      "cell_type": "markdown",
      "metadata": {
        "id": "oo0UMj_nnfBE"
      },
      "source": [
        "#In many cases, we have to deal with small datasets and creating big validation sets means losing a lot of data for the model to learn. In those cases, we can opt for a  type of k-fold cross-validation where k=N, where N is the number of samples in the dataset.  This  means  that  in  all  folds  of  training,  we  will  be  training  on  all  data samples except 1. The number of folds for this type of cross-validation is the same as the number of samples that we have in the dataset.  \n",
        "\n",
        " \n",
        "#One should note that this type of cross-validation can be costly in terms of the time it takes if the model is not fast enough, but since it’s only preferable to use this cross-validation for small datasets, it doesn’t matter much."
      ]
    },
    {
      "cell_type": "markdown",
      "metadata": {
        "id": "cRjTwFOOoeKB"
      },
      "source": [
        "#Now we can move to regression. The good thing about regression problems is that\n",
        "we can use all the cross-validation techniques mentioned above for regression\n",
        "problems except for stratified k-fold. That is we cannot use stratified k-fold directly,\n",
        "but there are ways to change the problem a bit so that we can use stratified k-fold\n",
        "for regression problems. Mostly, simple k-fold cross-validation works for any\n",
        "regression problem. However, if you see that the distribution of targets is not\n",
        "consistent, you can use stratified k-fold."
      ]
    },
    {
      "cell_type": "markdown",
      "metadata": {
        "id": "t_F3IwOUoxP1"
      },
      "source": [
        "#To use stratified k-fold for a regression problem, we have first to divide the target\n",
        "into bins, and then we can use stratified k-fold in the same way as for classification\n",
        "problems. There are several choices for selecting the appropriate number of bins. If\n",
        "you have a lot of samples( > 10k, > 100k), then you don’t need to care about the\n",
        "number of bins. Just divide the data into 10 or 20 bins. If you do not have a lot of\n",
        "samples, you can use a simple rule like Sturge’s Rule to calculate the appropriate\n",
        "number of bins.\n",
        "Sturge’s rule:\n",
        "Number of Bins = 1 + log2(N)\n",
        "Where N is the number of samples you have in your dataset. This function is plotted\n",
        "in Figure 8.\n",
        "Figure"
      ]
    },
    {
      "cell_type": "markdown",
      "metadata": {
        "id": "GSMhHRs4o7-2"
      },
      "source": [
        "#Let’s make a sample regression dataset and try to apply stratified k-fold as shown\n",
        "in the following python snippet."
      ]
    },
    {
      "cell_type": "code",
      "metadata": {
        "id": "-aCZHBxbjPRT"
      },
      "source": [
        "# stratified-kfold for regression\n",
        "import numpy as np\n",
        "import pandas as pd\n",
        "from sklearn import datasets\n",
        "from sklearn import model_selection\n",
        "\n",
        "def create_folds(data):\n",
        "  # we create a new column called kfold and fill it with -1\n",
        "  data[\"kfold\"] = -1\n",
        "  # the next step is to randomize the rows of the data\n",
        "  data = data.sample(frac=1).reset_index(drop=True)\n",
        "  # calculate the number of bins by Sturge's rule\n",
        "  # I take the floor of the value, you can also\n",
        "  # just round it\n",
        "  num_bins = np.floor(1 + np.log2(len(data)))\n",
        "  # bin targets\n",
        "  data.loc[:, \"bins\"] = pd.cut(\n",
        "  data[\"target\"], bins=num_bins, labels=False\n",
        "  )\n",
        "  # initiate the kfold class from model_selection module\n",
        "  kf = model_selection.StratifiedKFold(n_splits=5)\n",
        "  # fill the new kfold column\n",
        "  # note that, instead of targets, we use bins!\n",
        "  for f, (t_, v_) in enumerate(kf.split(X=data, y=data.bins.values)):\n",
        "    data.loc[v_, 'kfold'] = f\n",
        "    # drop the bins column\n",
        "    data = data.drop(\"bins\", axis=1)\n",
        "  # return dataframe with folds\n",
        "  return data\n",
        "if __name__ == \"__main__\":\n",
        "  # we create a sample dataset with 15000 samples\n",
        "  # and 100 features and 1 target\n",
        "  X, y = datasets.make_regression(\n",
        "  n_samples=15000, n_features=100, n_targets=1\n",
        "  )\n",
        "  # create a dataframe out of our numpy arrays\n",
        "  df = pd.DataFrame(\n",
        "  X,\n",
        "  columns=[f\"f_{i}\" for i in range(X.shape[1])]\n",
        "  )\n",
        "  df.loc[:, \"target\"] = y\n",
        "  # create folds\n",
        "  df = create_folds(df)"
      ],
      "execution_count": null,
      "outputs": []
    },
    {
      "cell_type": "code",
      "metadata": {
        "id": "9tfpMisQrOQD"
      },
      "source": [
        "from sklearn import datasets\n",
        "# we create a sample dataset with 15000 samples\n",
        "# and 100 features and 1 target\n",
        "X, y = datasets.make_regression(\n",
        "  n_samples=15000, n_features=100, n_targets=1\n",
        "  )\n",
        "  # create a dataframe out of our numpy arrays\n",
        "df = pd.DataFrame(\n",
        "  X,\n",
        "  columns=[f\"f_{i}\" for i in range(X.shape[1])]\n",
        "  )\n",
        "df.loc[:, \"target\"] = np.array(y)"
      ],
      "execution_count": null,
      "outputs": []
    },
    {
      "cell_type": "code",
      "metadata": {
        "id": "eNCDQjDrrXs2",
        "outputId": "162c5a0c-bc1c-4770-970c-3e643095e30b",
        "colab": {
          "base_uri": "https://localhost:8080/",
          "height": 439
        }
      },
      "source": [
        "df"
      ],
      "execution_count": null,
      "outputs": [
        {
          "output_type": "execute_result",
          "data": {
            "text/html": [
              "<div>\n",
              "<style scoped>\n",
              "    .dataframe tbody tr th:only-of-type {\n",
              "        vertical-align: middle;\n",
              "    }\n",
              "\n",
              "    .dataframe tbody tr th {\n",
              "        vertical-align: top;\n",
              "    }\n",
              "\n",
              "    .dataframe thead th {\n",
              "        text-align: right;\n",
              "    }\n",
              "</style>\n",
              "<table border=\"1\" class=\"dataframe\">\n",
              "  <thead>\n",
              "    <tr style=\"text-align: right;\">\n",
              "      <th></th>\n",
              "      <th>f_0</th>\n",
              "      <th>f_1</th>\n",
              "      <th>f_2</th>\n",
              "      <th>f_3</th>\n",
              "      <th>f_4</th>\n",
              "      <th>f_5</th>\n",
              "      <th>f_6</th>\n",
              "      <th>f_7</th>\n",
              "      <th>f_8</th>\n",
              "      <th>f_9</th>\n",
              "      <th>f_10</th>\n",
              "      <th>f_11</th>\n",
              "      <th>f_12</th>\n",
              "      <th>f_13</th>\n",
              "      <th>f_14</th>\n",
              "      <th>f_15</th>\n",
              "      <th>f_16</th>\n",
              "      <th>f_17</th>\n",
              "      <th>f_18</th>\n",
              "      <th>f_19</th>\n",
              "      <th>f_20</th>\n",
              "      <th>f_21</th>\n",
              "      <th>f_22</th>\n",
              "      <th>f_23</th>\n",
              "      <th>f_24</th>\n",
              "      <th>f_25</th>\n",
              "      <th>f_26</th>\n",
              "      <th>f_27</th>\n",
              "      <th>f_28</th>\n",
              "      <th>f_29</th>\n",
              "      <th>f_30</th>\n",
              "      <th>f_31</th>\n",
              "      <th>f_32</th>\n",
              "      <th>f_33</th>\n",
              "      <th>f_34</th>\n",
              "      <th>f_35</th>\n",
              "      <th>f_36</th>\n",
              "      <th>f_37</th>\n",
              "      <th>f_38</th>\n",
              "      <th>f_39</th>\n",
              "      <th>...</th>\n",
              "      <th>f_61</th>\n",
              "      <th>f_62</th>\n",
              "      <th>f_63</th>\n",
              "      <th>f_64</th>\n",
              "      <th>f_65</th>\n",
              "      <th>f_66</th>\n",
              "      <th>f_67</th>\n",
              "      <th>f_68</th>\n",
              "      <th>f_69</th>\n",
              "      <th>f_70</th>\n",
              "      <th>f_71</th>\n",
              "      <th>f_72</th>\n",
              "      <th>f_73</th>\n",
              "      <th>f_74</th>\n",
              "      <th>f_75</th>\n",
              "      <th>f_76</th>\n",
              "      <th>f_77</th>\n",
              "      <th>f_78</th>\n",
              "      <th>f_79</th>\n",
              "      <th>f_80</th>\n",
              "      <th>f_81</th>\n",
              "      <th>f_82</th>\n",
              "      <th>f_83</th>\n",
              "      <th>f_84</th>\n",
              "      <th>f_85</th>\n",
              "      <th>f_86</th>\n",
              "      <th>f_87</th>\n",
              "      <th>f_88</th>\n",
              "      <th>f_89</th>\n",
              "      <th>f_90</th>\n",
              "      <th>f_91</th>\n",
              "      <th>f_92</th>\n",
              "      <th>f_93</th>\n",
              "      <th>f_94</th>\n",
              "      <th>f_95</th>\n",
              "      <th>f_96</th>\n",
              "      <th>f_97</th>\n",
              "      <th>f_98</th>\n",
              "      <th>f_99</th>\n",
              "      <th>target</th>\n",
              "    </tr>\n",
              "  </thead>\n",
              "  <tbody>\n",
              "    <tr>\n",
              "      <th>0</th>\n",
              "      <td>1.464094</td>\n",
              "      <td>0.709491</td>\n",
              "      <td>-2.054099</td>\n",
              "      <td>-0.944574</td>\n",
              "      <td>0.870449</td>\n",
              "      <td>0.090552</td>\n",
              "      <td>0.895403</td>\n",
              "      <td>1.275740</td>\n",
              "      <td>-0.209319</td>\n",
              "      <td>0.952506</td>\n",
              "      <td>1.552691</td>\n",
              "      <td>-0.354468</td>\n",
              "      <td>1.632768</td>\n",
              "      <td>-2.154695</td>\n",
              "      <td>0.379040</td>\n",
              "      <td>-0.063702</td>\n",
              "      <td>-0.302846</td>\n",
              "      <td>-0.327819</td>\n",
              "      <td>-0.624518</td>\n",
              "      <td>-0.598670</td>\n",
              "      <td>-0.722252</td>\n",
              "      <td>0.221149</td>\n",
              "      <td>-0.991672</td>\n",
              "      <td>-0.712171</td>\n",
              "      <td>-0.465023</td>\n",
              "      <td>1.373615</td>\n",
              "      <td>-0.802585</td>\n",
              "      <td>-0.293797</td>\n",
              "      <td>-1.422767</td>\n",
              "      <td>1.814149</td>\n",
              "      <td>-1.075575</td>\n",
              "      <td>0.090813</td>\n",
              "      <td>1.098624</td>\n",
              "      <td>-1.088580</td>\n",
              "      <td>-0.150711</td>\n",
              "      <td>0.709782</td>\n",
              "      <td>-0.045016</td>\n",
              "      <td>-0.530930</td>\n",
              "      <td>-0.555162</td>\n",
              "      <td>-0.318084</td>\n",
              "      <td>...</td>\n",
              "      <td>0.004090</td>\n",
              "      <td>-1.061833</td>\n",
              "      <td>-0.357245</td>\n",
              "      <td>-0.134812</td>\n",
              "      <td>-0.757400</td>\n",
              "      <td>-1.091686</td>\n",
              "      <td>0.155185</td>\n",
              "      <td>-0.793564</td>\n",
              "      <td>-0.359673</td>\n",
              "      <td>1.314810</td>\n",
              "      <td>0.369728</td>\n",
              "      <td>0.262699</td>\n",
              "      <td>2.198443</td>\n",
              "      <td>-0.992477</td>\n",
              "      <td>0.161088</td>\n",
              "      <td>-0.094004</td>\n",
              "      <td>-0.397900</td>\n",
              "      <td>0.142740</td>\n",
              "      <td>-0.595191</td>\n",
              "      <td>-1.258696</td>\n",
              "      <td>-0.222823</td>\n",
              "      <td>0.064831</td>\n",
              "      <td>-1.217372</td>\n",
              "      <td>0.685363</td>\n",
              "      <td>-0.731132</td>\n",
              "      <td>-0.123965</td>\n",
              "      <td>-1.007446</td>\n",
              "      <td>0.286478</td>\n",
              "      <td>-1.198299</td>\n",
              "      <td>-0.325732</td>\n",
              "      <td>1.060370</td>\n",
              "      <td>1.395708</td>\n",
              "      <td>-0.656979</td>\n",
              "      <td>0.496657</td>\n",
              "      <td>-0.707222</td>\n",
              "      <td>1.131116</td>\n",
              "      <td>0.262702</td>\n",
              "      <td>-0.364065</td>\n",
              "      <td>-1.883873</td>\n",
              "      <td>-122.301333</td>\n",
              "    </tr>\n",
              "    <tr>\n",
              "      <th>1</th>\n",
              "      <td>0.048285</td>\n",
              "      <td>0.493355</td>\n",
              "      <td>0.502420</td>\n",
              "      <td>0.793302</td>\n",
              "      <td>-0.473695</td>\n",
              "      <td>-1.444286</td>\n",
              "      <td>-2.251987</td>\n",
              "      <td>-0.564807</td>\n",
              "      <td>-0.604647</td>\n",
              "      <td>0.653389</td>\n",
              "      <td>0.666112</td>\n",
              "      <td>0.066359</td>\n",
              "      <td>0.588879</td>\n",
              "      <td>-1.543148</td>\n",
              "      <td>-0.444312</td>\n",
              "      <td>1.233920</td>\n",
              "      <td>0.572427</td>\n",
              "      <td>-0.210645</td>\n",
              "      <td>2.080004</td>\n",
              "      <td>-0.637511</td>\n",
              "      <td>-0.079178</td>\n",
              "      <td>1.750777</td>\n",
              "      <td>-0.883928</td>\n",
              "      <td>1.340708</td>\n",
              "      <td>1.562441</td>\n",
              "      <td>1.632206</td>\n",
              "      <td>-0.765785</td>\n",
              "      <td>-2.006947</td>\n",
              "      <td>1.051170</td>\n",
              "      <td>1.132981</td>\n",
              "      <td>0.115894</td>\n",
              "      <td>-0.064618</td>\n",
              "      <td>-0.254337</td>\n",
              "      <td>-2.349168</td>\n",
              "      <td>-0.030532</td>\n",
              "      <td>3.113260</td>\n",
              "      <td>-0.536025</td>\n",
              "      <td>-0.896544</td>\n",
              "      <td>0.799158</td>\n",
              "      <td>0.255625</td>\n",
              "      <td>...</td>\n",
              "      <td>1.343337</td>\n",
              "      <td>1.838339</td>\n",
              "      <td>-1.078754</td>\n",
              "      <td>-1.398824</td>\n",
              "      <td>1.955873</td>\n",
              "      <td>0.956246</td>\n",
              "      <td>1.151652</td>\n",
              "      <td>0.297026</td>\n",
              "      <td>1.239645</td>\n",
              "      <td>-1.540468</td>\n",
              "      <td>0.308906</td>\n",
              "      <td>-0.431609</td>\n",
              "      <td>-0.300472</td>\n",
              "      <td>-0.451161</td>\n",
              "      <td>-0.659919</td>\n",
              "      <td>0.469477</td>\n",
              "      <td>0.062033</td>\n",
              "      <td>-1.659795</td>\n",
              "      <td>-1.874371</td>\n",
              "      <td>0.913445</td>\n",
              "      <td>-0.808320</td>\n",
              "      <td>1.732371</td>\n",
              "      <td>0.043591</td>\n",
              "      <td>0.566802</td>\n",
              "      <td>0.068453</td>\n",
              "      <td>-0.095018</td>\n",
              "      <td>0.465620</td>\n",
              "      <td>0.012577</td>\n",
              "      <td>-0.263639</td>\n",
              "      <td>-0.228348</td>\n",
              "      <td>0.091919</td>\n",
              "      <td>-1.073425</td>\n",
              "      <td>-0.779322</td>\n",
              "      <td>0.282733</td>\n",
              "      <td>-0.568742</td>\n",
              "      <td>1.268473</td>\n",
              "      <td>-0.290083</td>\n",
              "      <td>1.091785</td>\n",
              "      <td>-1.550019</td>\n",
              "      <td>176.153125</td>\n",
              "    </tr>\n",
              "    <tr>\n",
              "      <th>2</th>\n",
              "      <td>-0.391104</td>\n",
              "      <td>0.681290</td>\n",
              "      <td>0.490506</td>\n",
              "      <td>0.676052</td>\n",
              "      <td>0.402841</td>\n",
              "      <td>-0.016840</td>\n",
              "      <td>-0.917892</td>\n",
              "      <td>-0.167514</td>\n",
              "      <td>1.347119</td>\n",
              "      <td>0.816968</td>\n",
              "      <td>1.393229</td>\n",
              "      <td>0.017734</td>\n",
              "      <td>2.651090</td>\n",
              "      <td>-1.365601</td>\n",
              "      <td>1.187361</td>\n",
              "      <td>-0.674484</td>\n",
              "      <td>-0.687129</td>\n",
              "      <td>-0.464736</td>\n",
              "      <td>0.749492</td>\n",
              "      <td>1.249619</td>\n",
              "      <td>-0.067370</td>\n",
              "      <td>-0.071682</td>\n",
              "      <td>-0.485829</td>\n",
              "      <td>1.800882</td>\n",
              "      <td>0.614962</td>\n",
              "      <td>0.403652</td>\n",
              "      <td>1.808181</td>\n",
              "      <td>0.786147</td>\n",
              "      <td>-0.286649</td>\n",
              "      <td>-0.901450</td>\n",
              "      <td>0.116837</td>\n",
              "      <td>1.706143</td>\n",
              "      <td>-1.309684</td>\n",
              "      <td>-0.094999</td>\n",
              "      <td>0.613604</td>\n",
              "      <td>-0.564455</td>\n",
              "      <td>-0.971979</td>\n",
              "      <td>0.423302</td>\n",
              "      <td>-1.088586</td>\n",
              "      <td>0.462172</td>\n",
              "      <td>...</td>\n",
              "      <td>-2.148162</td>\n",
              "      <td>0.570216</td>\n",
              "      <td>0.503088</td>\n",
              "      <td>-0.302073</td>\n",
              "      <td>-0.546844</td>\n",
              "      <td>0.229679</td>\n",
              "      <td>0.193383</td>\n",
              "      <td>1.070814</td>\n",
              "      <td>3.000255</td>\n",
              "      <td>-1.034228</td>\n",
              "      <td>0.758716</td>\n",
              "      <td>1.535114</td>\n",
              "      <td>1.564546</td>\n",
              "      <td>-1.404508</td>\n",
              "      <td>-0.032718</td>\n",
              "      <td>0.961480</td>\n",
              "      <td>0.925260</td>\n",
              "      <td>0.363097</td>\n",
              "      <td>-0.670305</td>\n",
              "      <td>0.375398</td>\n",
              "      <td>2.219655</td>\n",
              "      <td>-1.267025</td>\n",
              "      <td>-0.562530</td>\n",
              "      <td>-0.410211</td>\n",
              "      <td>-1.417569</td>\n",
              "      <td>-1.036486</td>\n",
              "      <td>-0.055885</td>\n",
              "      <td>0.207085</td>\n",
              "      <td>1.192735</td>\n",
              "      <td>0.019331</td>\n",
              "      <td>1.981386</td>\n",
              "      <td>1.144589</td>\n",
              "      <td>0.381848</td>\n",
              "      <td>1.294177</td>\n",
              "      <td>0.369602</td>\n",
              "      <td>-1.487163</td>\n",
              "      <td>0.804857</td>\n",
              "      <td>0.903420</td>\n",
              "      <td>1.499470</td>\n",
              "      <td>-68.065152</td>\n",
              "    </tr>\n",
              "    <tr>\n",
              "      <th>3</th>\n",
              "      <td>-0.719885</td>\n",
              "      <td>-0.889897</td>\n",
              "      <td>0.058613</td>\n",
              "      <td>-0.399093</td>\n",
              "      <td>0.753669</td>\n",
              "      <td>-0.199855</td>\n",
              "      <td>-1.008447</td>\n",
              "      <td>-1.744641</td>\n",
              "      <td>0.181095</td>\n",
              "      <td>-0.075441</td>\n",
              "      <td>1.096473</td>\n",
              "      <td>0.782867</td>\n",
              "      <td>-0.627074</td>\n",
              "      <td>0.523761</td>\n",
              "      <td>0.073936</td>\n",
              "      <td>0.151389</td>\n",
              "      <td>-0.470097</td>\n",
              "      <td>-1.733421</td>\n",
              "      <td>-1.317414</td>\n",
              "      <td>0.081911</td>\n",
              "      <td>0.675981</td>\n",
              "      <td>-1.398310</td>\n",
              "      <td>-1.002599</td>\n",
              "      <td>-1.204504</td>\n",
              "      <td>1.559354</td>\n",
              "      <td>-0.591018</td>\n",
              "      <td>2.297427</td>\n",
              "      <td>0.040422</td>\n",
              "      <td>-1.336666</td>\n",
              "      <td>-0.378264</td>\n",
              "      <td>-0.020471</td>\n",
              "      <td>-1.305801</td>\n",
              "      <td>0.804193</td>\n",
              "      <td>-0.082371</td>\n",
              "      <td>0.175748</td>\n",
              "      <td>-0.517907</td>\n",
              "      <td>0.966972</td>\n",
              "      <td>-0.822497</td>\n",
              "      <td>-0.223144</td>\n",
              "      <td>-0.969422</td>\n",
              "      <td>...</td>\n",
              "      <td>-0.587095</td>\n",
              "      <td>-1.051829</td>\n",
              "      <td>0.548410</td>\n",
              "      <td>-0.694777</td>\n",
              "      <td>0.687213</td>\n",
              "      <td>0.771571</td>\n",
              "      <td>0.566063</td>\n",
              "      <td>-0.494580</td>\n",
              "      <td>-1.410308</td>\n",
              "      <td>0.001335</td>\n",
              "      <td>0.427368</td>\n",
              "      <td>-0.747377</td>\n",
              "      <td>0.129508</td>\n",
              "      <td>-0.688339</td>\n",
              "      <td>1.581951</td>\n",
              "      <td>0.717288</td>\n",
              "      <td>-1.581983</td>\n",
              "      <td>-1.712351</td>\n",
              "      <td>0.359528</td>\n",
              "      <td>-0.731421</td>\n",
              "      <td>0.288311</td>\n",
              "      <td>0.672756</td>\n",
              "      <td>-0.467097</td>\n",
              "      <td>-0.549905</td>\n",
              "      <td>0.316208</td>\n",
              "      <td>0.178741</td>\n",
              "      <td>1.396324</td>\n",
              "      <td>0.801009</td>\n",
              "      <td>-1.617191</td>\n",
              "      <td>0.142715</td>\n",
              "      <td>0.056705</td>\n",
              "      <td>-0.182896</td>\n",
              "      <td>-0.528584</td>\n",
              "      <td>-0.725880</td>\n",
              "      <td>0.442389</td>\n",
              "      <td>0.970580</td>\n",
              "      <td>1.654307</td>\n",
              "      <td>1.044164</td>\n",
              "      <td>-1.362483</td>\n",
              "      <td>-71.334371</td>\n",
              "    </tr>\n",
              "    <tr>\n",
              "      <th>4</th>\n",
              "      <td>-1.144181</td>\n",
              "      <td>-0.319032</td>\n",
              "      <td>0.348945</td>\n",
              "      <td>-0.114184</td>\n",
              "      <td>-0.682886</td>\n",
              "      <td>0.250030</td>\n",
              "      <td>-0.488626</td>\n",
              "      <td>1.250046</td>\n",
              "      <td>1.375095</td>\n",
              "      <td>1.010553</td>\n",
              "      <td>0.292285</td>\n",
              "      <td>-0.094708</td>\n",
              "      <td>-1.210721</td>\n",
              "      <td>-2.189818</td>\n",
              "      <td>-0.212161</td>\n",
              "      <td>0.580827</td>\n",
              "      <td>0.353397</td>\n",
              "      <td>0.668362</td>\n",
              "      <td>0.252390</td>\n",
              "      <td>0.550159</td>\n",
              "      <td>-1.228381</td>\n",
              "      <td>-0.339964</td>\n",
              "      <td>1.141003</td>\n",
              "      <td>1.684626</td>\n",
              "      <td>1.369355</td>\n",
              "      <td>-1.052544</td>\n",
              "      <td>0.864944</td>\n",
              "      <td>0.468058</td>\n",
              "      <td>0.266212</td>\n",
              "      <td>-0.552052</td>\n",
              "      <td>1.045455</td>\n",
              "      <td>-1.391131</td>\n",
              "      <td>-1.672114</td>\n",
              "      <td>-1.027490</td>\n",
              "      <td>0.425736</td>\n",
              "      <td>0.358787</td>\n",
              "      <td>0.723373</td>\n",
              "      <td>0.244412</td>\n",
              "      <td>0.278188</td>\n",
              "      <td>-0.102053</td>\n",
              "      <td>...</td>\n",
              "      <td>-1.069598</td>\n",
              "      <td>0.761401</td>\n",
              "      <td>-0.302439</td>\n",
              "      <td>-1.089970</td>\n",
              "      <td>-0.874629</td>\n",
              "      <td>-0.221619</td>\n",
              "      <td>-0.138332</td>\n",
              "      <td>-1.484082</td>\n",
              "      <td>-0.563871</td>\n",
              "      <td>0.143567</td>\n",
              "      <td>0.167575</td>\n",
              "      <td>0.417327</td>\n",
              "      <td>0.445875</td>\n",
              "      <td>-0.818144</td>\n",
              "      <td>0.035537</td>\n",
              "      <td>-0.932450</td>\n",
              "      <td>0.090955</td>\n",
              "      <td>1.713935</td>\n",
              "      <td>0.111902</td>\n",
              "      <td>-0.830804</td>\n",
              "      <td>-0.353344</td>\n",
              "      <td>0.529086</td>\n",
              "      <td>0.896109</td>\n",
              "      <td>1.043990</td>\n",
              "      <td>-1.390438</td>\n",
              "      <td>-0.239256</td>\n",
              "      <td>-2.156437</td>\n",
              "      <td>0.062166</td>\n",
              "      <td>-0.833536</td>\n",
              "      <td>-0.047061</td>\n",
              "      <td>0.102890</td>\n",
              "      <td>-0.530058</td>\n",
              "      <td>-2.472791</td>\n",
              "      <td>-0.202770</td>\n",
              "      <td>1.249588</td>\n",
              "      <td>1.206175</td>\n",
              "      <td>-0.118433</td>\n",
              "      <td>1.006130</td>\n",
              "      <td>-0.730983</td>\n",
              "      <td>113.100727</td>\n",
              "    </tr>\n",
              "    <tr>\n",
              "      <th>...</th>\n",
              "      <td>...</td>\n",
              "      <td>...</td>\n",
              "      <td>...</td>\n",
              "      <td>...</td>\n",
              "      <td>...</td>\n",
              "      <td>...</td>\n",
              "      <td>...</td>\n",
              "      <td>...</td>\n",
              "      <td>...</td>\n",
              "      <td>...</td>\n",
              "      <td>...</td>\n",
              "      <td>...</td>\n",
              "      <td>...</td>\n",
              "      <td>...</td>\n",
              "      <td>...</td>\n",
              "      <td>...</td>\n",
              "      <td>...</td>\n",
              "      <td>...</td>\n",
              "      <td>...</td>\n",
              "      <td>...</td>\n",
              "      <td>...</td>\n",
              "      <td>...</td>\n",
              "      <td>...</td>\n",
              "      <td>...</td>\n",
              "      <td>...</td>\n",
              "      <td>...</td>\n",
              "      <td>...</td>\n",
              "      <td>...</td>\n",
              "      <td>...</td>\n",
              "      <td>...</td>\n",
              "      <td>...</td>\n",
              "      <td>...</td>\n",
              "      <td>...</td>\n",
              "      <td>...</td>\n",
              "      <td>...</td>\n",
              "      <td>...</td>\n",
              "      <td>...</td>\n",
              "      <td>...</td>\n",
              "      <td>...</td>\n",
              "      <td>...</td>\n",
              "      <td>...</td>\n",
              "      <td>...</td>\n",
              "      <td>...</td>\n",
              "      <td>...</td>\n",
              "      <td>...</td>\n",
              "      <td>...</td>\n",
              "      <td>...</td>\n",
              "      <td>...</td>\n",
              "      <td>...</td>\n",
              "      <td>...</td>\n",
              "      <td>...</td>\n",
              "      <td>...</td>\n",
              "      <td>...</td>\n",
              "      <td>...</td>\n",
              "      <td>...</td>\n",
              "      <td>...</td>\n",
              "      <td>...</td>\n",
              "      <td>...</td>\n",
              "      <td>...</td>\n",
              "      <td>...</td>\n",
              "      <td>...</td>\n",
              "      <td>...</td>\n",
              "      <td>...</td>\n",
              "      <td>...</td>\n",
              "      <td>...</td>\n",
              "      <td>...</td>\n",
              "      <td>...</td>\n",
              "      <td>...</td>\n",
              "      <td>...</td>\n",
              "      <td>...</td>\n",
              "      <td>...</td>\n",
              "      <td>...</td>\n",
              "      <td>...</td>\n",
              "      <td>...</td>\n",
              "      <td>...</td>\n",
              "      <td>...</td>\n",
              "      <td>...</td>\n",
              "      <td>...</td>\n",
              "      <td>...</td>\n",
              "      <td>...</td>\n",
              "      <td>...</td>\n",
              "    </tr>\n",
              "    <tr>\n",
              "      <th>14995</th>\n",
              "      <td>1.545114</td>\n",
              "      <td>-0.167122</td>\n",
              "      <td>-1.367842</td>\n",
              "      <td>-0.673855</td>\n",
              "      <td>0.178848</td>\n",
              "      <td>2.206777</td>\n",
              "      <td>0.244497</td>\n",
              "      <td>-1.155167</td>\n",
              "      <td>-1.704361</td>\n",
              "      <td>1.224313</td>\n",
              "      <td>-0.217844</td>\n",
              "      <td>-1.116583</td>\n",
              "      <td>0.623339</td>\n",
              "      <td>-0.962096</td>\n",
              "      <td>-1.218290</td>\n",
              "      <td>0.596774</td>\n",
              "      <td>0.246616</td>\n",
              "      <td>1.382255</td>\n",
              "      <td>1.014601</td>\n",
              "      <td>-0.812442</td>\n",
              "      <td>-1.783169</td>\n",
              "      <td>0.058534</td>\n",
              "      <td>-1.509516</td>\n",
              "      <td>0.022897</td>\n",
              "      <td>0.174287</td>\n",
              "      <td>-0.336951</td>\n",
              "      <td>0.166739</td>\n",
              "      <td>0.021835</td>\n",
              "      <td>-0.556025</td>\n",
              "      <td>0.086050</td>\n",
              "      <td>-1.038358</td>\n",
              "      <td>-2.530225</td>\n",
              "      <td>1.411084</td>\n",
              "      <td>-0.094539</td>\n",
              "      <td>-0.728083</td>\n",
              "      <td>-1.497200</td>\n",
              "      <td>0.449866</td>\n",
              "      <td>1.182965</td>\n",
              "      <td>-0.782986</td>\n",
              "      <td>-0.634949</td>\n",
              "      <td>...</td>\n",
              "      <td>1.150915</td>\n",
              "      <td>1.398881</td>\n",
              "      <td>-0.678083</td>\n",
              "      <td>0.746945</td>\n",
              "      <td>-0.777826</td>\n",
              "      <td>0.509954</td>\n",
              "      <td>0.152189</td>\n",
              "      <td>-1.432918</td>\n",
              "      <td>-0.063957</td>\n",
              "      <td>-1.608370</td>\n",
              "      <td>-1.349103</td>\n",
              "      <td>1.362261</td>\n",
              "      <td>1.910221</td>\n",
              "      <td>-0.611304</td>\n",
              "      <td>-0.294880</td>\n",
              "      <td>0.025684</td>\n",
              "      <td>-0.391341</td>\n",
              "      <td>0.263925</td>\n",
              "      <td>0.497980</td>\n",
              "      <td>-2.053597</td>\n",
              "      <td>0.350908</td>\n",
              "      <td>-0.292344</td>\n",
              "      <td>1.451974</td>\n",
              "      <td>0.147775</td>\n",
              "      <td>0.312538</td>\n",
              "      <td>0.872372</td>\n",
              "      <td>0.199461</td>\n",
              "      <td>-0.422645</td>\n",
              "      <td>-1.415882</td>\n",
              "      <td>-0.345844</td>\n",
              "      <td>-1.006833</td>\n",
              "      <td>-0.301356</td>\n",
              "      <td>-0.127034</td>\n",
              "      <td>0.153282</td>\n",
              "      <td>-0.824268</td>\n",
              "      <td>-1.196392</td>\n",
              "      <td>-2.608612</td>\n",
              "      <td>0.299099</td>\n",
              "      <td>0.724160</td>\n",
              "      <td>-137.033373</td>\n",
              "    </tr>\n",
              "    <tr>\n",
              "      <th>14996</th>\n",
              "      <td>1.163516</td>\n",
              "      <td>-0.166921</td>\n",
              "      <td>-0.276958</td>\n",
              "      <td>1.756970</td>\n",
              "      <td>0.243474</td>\n",
              "      <td>-0.286666</td>\n",
              "      <td>1.110022</td>\n",
              "      <td>-1.218195</td>\n",
              "      <td>0.692561</td>\n",
              "      <td>0.623567</td>\n",
              "      <td>-0.441170</td>\n",
              "      <td>0.642048</td>\n",
              "      <td>0.344966</td>\n",
              "      <td>-0.669358</td>\n",
              "      <td>0.146449</td>\n",
              "      <td>0.716909</td>\n",
              "      <td>0.127046</td>\n",
              "      <td>0.814435</td>\n",
              "      <td>-0.296196</td>\n",
              "      <td>2.017077</td>\n",
              "      <td>0.720872</td>\n",
              "      <td>-0.959372</td>\n",
              "      <td>-2.043443</td>\n",
              "      <td>-0.040644</td>\n",
              "      <td>-0.941572</td>\n",
              "      <td>0.154517</td>\n",
              "      <td>-0.366313</td>\n",
              "      <td>-0.417611</td>\n",
              "      <td>0.820438</td>\n",
              "      <td>0.701136</td>\n",
              "      <td>-0.948167</td>\n",
              "      <td>-1.827302</td>\n",
              "      <td>-0.231488</td>\n",
              "      <td>0.455176</td>\n",
              "      <td>0.142046</td>\n",
              "      <td>-1.043011</td>\n",
              "      <td>0.056278</td>\n",
              "      <td>-0.365349</td>\n",
              "      <td>0.885716</td>\n",
              "      <td>-1.948366</td>\n",
              "      <td>...</td>\n",
              "      <td>-0.243440</td>\n",
              "      <td>0.470649</td>\n",
              "      <td>0.850258</td>\n",
              "      <td>0.562836</td>\n",
              "      <td>1.384557</td>\n",
              "      <td>-1.117088</td>\n",
              "      <td>-1.226499</td>\n",
              "      <td>-0.750229</td>\n",
              "      <td>-0.058317</td>\n",
              "      <td>0.186255</td>\n",
              "      <td>-1.034166</td>\n",
              "      <td>-0.738177</td>\n",
              "      <td>0.269844</td>\n",
              "      <td>1.641138</td>\n",
              "      <td>-0.156426</td>\n",
              "      <td>1.103855</td>\n",
              "      <td>1.312231</td>\n",
              "      <td>0.765476</td>\n",
              "      <td>2.580312</td>\n",
              "      <td>-0.985113</td>\n",
              "      <td>1.523020</td>\n",
              "      <td>-1.344391</td>\n",
              "      <td>0.629626</td>\n",
              "      <td>0.717585</td>\n",
              "      <td>-1.270978</td>\n",
              "      <td>-0.827769</td>\n",
              "      <td>-0.007042</td>\n",
              "      <td>0.325521</td>\n",
              "      <td>0.756363</td>\n",
              "      <td>-1.621526</td>\n",
              "      <td>1.474190</td>\n",
              "      <td>-1.431877</td>\n",
              "      <td>-0.139012</td>\n",
              "      <td>-1.004274</td>\n",
              "      <td>-0.974729</td>\n",
              "      <td>0.036024</td>\n",
              "      <td>0.047508</td>\n",
              "      <td>0.006563</td>\n",
              "      <td>-0.865625</td>\n",
              "      <td>-40.816411</td>\n",
              "    </tr>\n",
              "    <tr>\n",
              "      <th>14997</th>\n",
              "      <td>-1.033274</td>\n",
              "      <td>-0.435623</td>\n",
              "      <td>0.853572</td>\n",
              "      <td>1.432407</td>\n",
              "      <td>0.513440</td>\n",
              "      <td>-0.132013</td>\n",
              "      <td>0.359568</td>\n",
              "      <td>1.482623</td>\n",
              "      <td>0.563352</td>\n",
              "      <td>-0.752640</td>\n",
              "      <td>-0.890584</td>\n",
              "      <td>0.571377</td>\n",
              "      <td>0.493287</td>\n",
              "      <td>2.343939</td>\n",
              "      <td>-0.139023</td>\n",
              "      <td>0.487771</td>\n",
              "      <td>0.020718</td>\n",
              "      <td>0.468156</td>\n",
              "      <td>0.277303</td>\n",
              "      <td>2.583147</td>\n",
              "      <td>2.262418</td>\n",
              "      <td>-0.164864</td>\n",
              "      <td>-0.171376</td>\n",
              "      <td>1.089398</td>\n",
              "      <td>0.849872</td>\n",
              "      <td>-0.175210</td>\n",
              "      <td>0.133909</td>\n",
              "      <td>-0.067360</td>\n",
              "      <td>0.126319</td>\n",
              "      <td>-0.139243</td>\n",
              "      <td>-0.689473</td>\n",
              "      <td>1.574436</td>\n",
              "      <td>-0.506444</td>\n",
              "      <td>0.801242</td>\n",
              "      <td>-0.052975</td>\n",
              "      <td>-1.678809</td>\n",
              "      <td>-1.113424</td>\n",
              "      <td>1.577680</td>\n",
              "      <td>-0.134068</td>\n",
              "      <td>-0.876387</td>\n",
              "      <td>...</td>\n",
              "      <td>0.766017</td>\n",
              "      <td>0.328752</td>\n",
              "      <td>-0.289896</td>\n",
              "      <td>-0.695213</td>\n",
              "      <td>0.284232</td>\n",
              "      <td>-0.411008</td>\n",
              "      <td>-0.490671</td>\n",
              "      <td>0.284149</td>\n",
              "      <td>0.946619</td>\n",
              "      <td>-1.045193</td>\n",
              "      <td>1.415749</td>\n",
              "      <td>-0.009919</td>\n",
              "      <td>0.659791</td>\n",
              "      <td>-0.539024</td>\n",
              "      <td>-0.339412</td>\n",
              "      <td>-0.632053</td>\n",
              "      <td>0.185367</td>\n",
              "      <td>1.413021</td>\n",
              "      <td>-1.498033</td>\n",
              "      <td>-0.935386</td>\n",
              "      <td>0.085556</td>\n",
              "      <td>-0.294534</td>\n",
              "      <td>1.145761</td>\n",
              "      <td>-0.424243</td>\n",
              "      <td>0.014264</td>\n",
              "      <td>0.733201</td>\n",
              "      <td>1.824631</td>\n",
              "      <td>-0.041434</td>\n",
              "      <td>-0.854563</td>\n",
              "      <td>-0.908474</td>\n",
              "      <td>1.411313</td>\n",
              "      <td>-1.312830</td>\n",
              "      <td>0.219216</td>\n",
              "      <td>-0.637770</td>\n",
              "      <td>-1.205861</td>\n",
              "      <td>-1.268636</td>\n",
              "      <td>1.780151</td>\n",
              "      <td>-1.239915</td>\n",
              "      <td>1.897995</td>\n",
              "      <td>14.992331</td>\n",
              "    </tr>\n",
              "    <tr>\n",
              "      <th>14998</th>\n",
              "      <td>1.259606</td>\n",
              "      <td>1.448206</td>\n",
              "      <td>0.811341</td>\n",
              "      <td>1.022531</td>\n",
              "      <td>0.428322</td>\n",
              "      <td>-1.162456</td>\n",
              "      <td>1.276411</td>\n",
              "      <td>-0.152711</td>\n",
              "      <td>-0.395997</td>\n",
              "      <td>-0.181918</td>\n",
              "      <td>-0.341960</td>\n",
              "      <td>-0.760812</td>\n",
              "      <td>0.646627</td>\n",
              "      <td>-1.714064</td>\n",
              "      <td>-1.398055</td>\n",
              "      <td>1.458554</td>\n",
              "      <td>-0.770586</td>\n",
              "      <td>0.541755</td>\n",
              "      <td>-0.158525</td>\n",
              "      <td>-0.620635</td>\n",
              "      <td>1.855892</td>\n",
              "      <td>-0.846785</td>\n",
              "      <td>0.678048</td>\n",
              "      <td>0.015501</td>\n",
              "      <td>-0.074209</td>\n",
              "      <td>1.330166</td>\n",
              "      <td>-0.051602</td>\n",
              "      <td>-0.857914</td>\n",
              "      <td>0.190565</td>\n",
              "      <td>0.602166</td>\n",
              "      <td>-0.067264</td>\n",
              "      <td>0.470888</td>\n",
              "      <td>0.782349</td>\n",
              "      <td>0.302400</td>\n",
              "      <td>0.351353</td>\n",
              "      <td>-2.065372</td>\n",
              "      <td>-0.343593</td>\n",
              "      <td>-0.812172</td>\n",
              "      <td>-0.677642</td>\n",
              "      <td>-0.352727</td>\n",
              "      <td>...</td>\n",
              "      <td>-0.800508</td>\n",
              "      <td>0.759756</td>\n",
              "      <td>1.748599</td>\n",
              "      <td>0.276593</td>\n",
              "      <td>-0.036808</td>\n",
              "      <td>0.185975</td>\n",
              "      <td>0.611435</td>\n",
              "      <td>-0.973588</td>\n",
              "      <td>-0.462930</td>\n",
              "      <td>-0.805485</td>\n",
              "      <td>0.606302</td>\n",
              "      <td>0.069062</td>\n",
              "      <td>0.085991</td>\n",
              "      <td>-0.862176</td>\n",
              "      <td>-0.891958</td>\n",
              "      <td>0.253522</td>\n",
              "      <td>-0.531128</td>\n",
              "      <td>-2.221376</td>\n",
              "      <td>0.510346</td>\n",
              "      <td>-1.003147</td>\n",
              "      <td>1.126642</td>\n",
              "      <td>-0.010658</td>\n",
              "      <td>-1.199161</td>\n",
              "      <td>0.657451</td>\n",
              "      <td>-0.100792</td>\n",
              "      <td>0.222487</td>\n",
              "      <td>-1.358077</td>\n",
              "      <td>1.648059</td>\n",
              "      <td>0.528499</td>\n",
              "      <td>1.539199</td>\n",
              "      <td>1.567961</td>\n",
              "      <td>-1.794899</td>\n",
              "      <td>0.878275</td>\n",
              "      <td>0.558930</td>\n",
              "      <td>-0.190316</td>\n",
              "      <td>0.493027</td>\n",
              "      <td>-0.137877</td>\n",
              "      <td>-0.046186</td>\n",
              "      <td>0.703378</td>\n",
              "      <td>189.993695</td>\n",
              "    </tr>\n",
              "    <tr>\n",
              "      <th>14999</th>\n",
              "      <td>0.646354</td>\n",
              "      <td>-1.150759</td>\n",
              "      <td>-0.782070</td>\n",
              "      <td>0.958161</td>\n",
              "      <td>-0.131790</td>\n",
              "      <td>-0.594893</td>\n",
              "      <td>0.917584</td>\n",
              "      <td>1.253354</td>\n",
              "      <td>1.758362</td>\n",
              "      <td>-0.687988</td>\n",
              "      <td>-0.086333</td>\n",
              "      <td>-0.062785</td>\n",
              "      <td>1.440211</td>\n",
              "      <td>0.276512</td>\n",
              "      <td>-0.522454</td>\n",
              "      <td>-0.349524</td>\n",
              "      <td>-0.190902</td>\n",
              "      <td>0.164012</td>\n",
              "      <td>-1.326302</td>\n",
              "      <td>0.381237</td>\n",
              "      <td>-0.562355</td>\n",
              "      <td>-1.062620</td>\n",
              "      <td>0.504032</td>\n",
              "      <td>-0.402480</td>\n",
              "      <td>0.732181</td>\n",
              "      <td>-1.073406</td>\n",
              "      <td>-1.149304</td>\n",
              "      <td>-0.491826</td>\n",
              "      <td>-0.702183</td>\n",
              "      <td>1.797133</td>\n",
              "      <td>-1.969432</td>\n",
              "      <td>1.383986</td>\n",
              "      <td>1.529361</td>\n",
              "      <td>2.005019</td>\n",
              "      <td>-0.041085</td>\n",
              "      <td>-1.379975</td>\n",
              "      <td>0.162023</td>\n",
              "      <td>-0.248657</td>\n",
              "      <td>-0.196309</td>\n",
              "      <td>0.429640</td>\n",
              "      <td>...</td>\n",
              "      <td>0.677118</td>\n",
              "      <td>0.442751</td>\n",
              "      <td>0.785748</td>\n",
              "      <td>-2.472052</td>\n",
              "      <td>0.088822</td>\n",
              "      <td>0.254515</td>\n",
              "      <td>-1.725288</td>\n",
              "      <td>-0.154023</td>\n",
              "      <td>-0.362389</td>\n",
              "      <td>-0.023564</td>\n",
              "      <td>-2.368821</td>\n",
              "      <td>3.229775</td>\n",
              "      <td>-0.030923</td>\n",
              "      <td>0.956017</td>\n",
              "      <td>-0.151769</td>\n",
              "      <td>-1.416129</td>\n",
              "      <td>-0.173153</td>\n",
              "      <td>1.043534</td>\n",
              "      <td>-0.454917</td>\n",
              "      <td>-0.274631</td>\n",
              "      <td>0.375069</td>\n",
              "      <td>-0.630376</td>\n",
              "      <td>-1.479524</td>\n",
              "      <td>-0.417380</td>\n",
              "      <td>-0.618551</td>\n",
              "      <td>0.121428</td>\n",
              "      <td>-0.662447</td>\n",
              "      <td>-1.267673</td>\n",
              "      <td>-0.285459</td>\n",
              "      <td>-0.073321</td>\n",
              "      <td>-0.345907</td>\n",
              "      <td>0.262940</td>\n",
              "      <td>1.525330</td>\n",
              "      <td>-0.967360</td>\n",
              "      <td>-0.934249</td>\n",
              "      <td>0.122279</td>\n",
              "      <td>-0.252035</td>\n",
              "      <td>-0.372530</td>\n",
              "      <td>-1.126846</td>\n",
              "      <td>81.004495</td>\n",
              "    </tr>\n",
              "  </tbody>\n",
              "</table>\n",
              "<p>15000 rows × 101 columns</p>\n",
              "</div>"
            ],
            "text/plain": [
              "            f_0       f_1       f_2  ...      f_98      f_99      target\n",
              "0      1.464094  0.709491 -2.054099  ... -0.364065 -1.883873 -122.301333\n",
              "1      0.048285  0.493355  0.502420  ...  1.091785 -1.550019  176.153125\n",
              "2     -0.391104  0.681290  0.490506  ...  0.903420  1.499470  -68.065152\n",
              "3     -0.719885 -0.889897  0.058613  ...  1.044164 -1.362483  -71.334371\n",
              "4     -1.144181 -0.319032  0.348945  ...  1.006130 -0.730983  113.100727\n",
              "...         ...       ...       ...  ...       ...       ...         ...\n",
              "14995  1.545114 -0.167122 -1.367842  ...  0.299099  0.724160 -137.033373\n",
              "14996  1.163516 -0.166921 -0.276958  ...  0.006563 -0.865625  -40.816411\n",
              "14997 -1.033274 -0.435623  0.853572  ... -1.239915  1.897995   14.992331\n",
              "14998  1.259606  1.448206  0.811341  ... -0.046186  0.703378  189.993695\n",
              "14999  0.646354 -1.150759 -0.782070  ... -0.372530 -1.126846   81.004495\n",
              "\n",
              "[15000 rows x 101 columns]"
            ]
          },
          "metadata": {
            "tags": []
          },
          "execution_count": 45
        }
      ]
    },
    {
      "cell_type": "code",
      "metadata": {
        "id": "oLfUfscVrmE-"
      },
      "source": [
        "import numpy as np\n",
        "data = df.copy()\n",
        "data = data.sample(frac=1).reset_index(drop=True)\n",
        "  # calculate the number of bins by Sturge's rule\n",
        "  # I take the floor of the value, you can also\n",
        "  # just round it\n",
        "num_bins = np.floor(1 + np.log2(len(data)))\n",
        " "
      ],
      "execution_count": null,
      "outputs": []
    },
    {
      "cell_type": "code",
      "metadata": {
        "id": "DNnTqjBIr1vz",
        "outputId": "8063bf33-0329-48c7-a285-1cfd61711f12",
        "colab": {
          "base_uri": "https://localhost:8080/",
          "height": 34
        }
      },
      "source": [
        "np.log2(len(data)),np.floor(1 + np.log2(len(data)))"
      ],
      "execution_count": null,
      "outputs": [
        {
          "output_type": "execute_result",
          "data": {
            "text/plain": [
              "(13.872674880270605, 14.0)"
            ]
          },
          "metadata": {
            "tags": []
          },
          "execution_count": 39
        }
      ]
    },
    {
      "cell_type": "code",
      "metadata": {
        "id": "MHNoJBfBuNtK",
        "outputId": "926161f3-1b5a-4c1f-baaf-858759dd3a62",
        "colab": {
          "base_uri": "https://localhost:8080/",
          "height": 221
        }
      },
      "source": [
        "data[\"target\"]"
      ],
      "execution_count": null,
      "outputs": [
        {
          "output_type": "execute_result",
          "data": {
            "text/plain": [
              "0        -12.633692\n",
              "1        -77.060051\n",
              "2       -103.868103\n",
              "3         33.073009\n",
              "4        110.247254\n",
              "            ...    \n",
              "14995    -88.733920\n",
              "14996    -64.968666\n",
              "14997     81.333266\n",
              "14998   -187.129530\n",
              "14999    -73.433552\n",
              "Name: target, Length: 15000, dtype: float64"
            ]
          },
          "metadata": {
            "tags": []
          },
          "execution_count": 49
        }
      ]
    },
    {
      "cell_type": "code",
      "metadata": {
        "id": "PfP0ZI9OvIt1"
      },
      "source": [
        "pd.cut()"
      ],
      "execution_count": null,
      "outputs": []
    },
    {
      "cell_type": "code",
      "metadata": {
        "id": "UTY8Z4dOu_bw",
        "outputId": "cafe53f8-7189-43c4-be41-d9a23ddb04b9",
        "colab": {
          "base_uri": "https://localhost:8080/",
          "height": 51
        }
      },
      "source": [
        "pd.cut(np.array([1, 7, 5, 4, 6, 3]), 3)"
      ],
      "execution_count": null,
      "outputs": [
        {
          "output_type": "execute_result",
          "data": {
            "text/plain": [
              "[(0.994, 3.0], (5.0, 7.0], (3.0, 5.0], (3.0, 5.0], (5.0, 7.0], (0.994, 3.0]]\n",
              "Categories (3, interval[float64]): [(0.994, 3.0] < (3.0, 5.0] < (5.0, 7.0]]"
            ]
          },
          "metadata": {
            "tags": []
          },
          "execution_count": 51
        }
      ]
    },
    {
      "cell_type": "code",
      "metadata": {
        "id": "dLMZwEDuvPGX",
        "outputId": "96f8a757-119e-49c3-d918-39fbc80cdcb5",
        "colab": {
          "base_uri": "https://localhost:8080/",
          "height": 34
        }
      },
      "source": [
        "pd.cut(np.array([1, 7, 5, 4, 6, 3]), 3,labels=False)"
      ],
      "execution_count": null,
      "outputs": [
        {
          "output_type": "execute_result",
          "data": {
            "text/plain": [
              "array([0, 2, 1, 1, 2, 0])"
            ]
          },
          "metadata": {
            "tags": []
          },
          "execution_count": 52
        }
      ]
    },
    {
      "cell_type": "code",
      "metadata": {
        "id": "GkbkT1j_u8gh"
      },
      "source": [
        "pd.cut(np.array([1, 7, 5, 4, 6, 3]), 3) ... # doctest: +ELLIPSIS [(0.994, 3.0], (5.0, 7.0], (3.0, 5.0], (3.0, 5.0], (5.0, 7.0], ... Categories (3, interval[float64]): [(0.994, 3.0] < (3.0, 5.0] ...\n",
        "\n",
        "pd.cut(np.array([1, 7, 5, 4, 6, 3]), 3, retbins=True) ... # doctest: +ELLIPSIS ([(0.994, 3.0], (5.0, 7.0], (3.0, 5.0], (3.0, 5.0], (5.0, 7.0], ... Categories (3, interval[float64]): [(0.994, 3.0] < (3.0, 5.0] ... array([0.994, 3. , 5. , 7. ]))"
      ],
      "execution_count": null,
      "outputs": []
    },
    {
      "cell_type": "code",
      "metadata": {
        "id": "QXH3xNKNuhKv"
      },
      "source": [
        "pd.cut()"
      ],
      "execution_count": null,
      "outputs": []
    },
    {
      "cell_type": "code",
      "metadata": {
        "id": "PWgyqkQFuKQU",
        "outputId": "12a7f7f6-8fa2-4daa-900c-b03e45983f3a",
        "colab": {
          "base_uri": "https://localhost:8080/",
          "height": 460
        }
      },
      "source": [
        "pd.cut(data[\"target\"], bins=num_bins, labels=False)"
      ],
      "execution_count": null,
      "outputs": [
        {
          "output_type": "error",
          "ename": "TypeError",
          "evalue": "ignored",
          "traceback": [
            "\u001b[0;31m---------------------------------------------------------------------------\u001b[0m",
            "\u001b[0;31mTypeError\u001b[0m                                 Traceback (most recent call last)",
            "\u001b[0;32m/usr/local/lib/python3.6/dist-packages/numpy/core/function_base.py\u001b[0m in \u001b[0;36mlinspace\u001b[0;34m(start, stop, num, endpoint, retstep, dtype, axis)\u001b[0m\n\u001b[1;32m    116\u001b[0m     \u001b[0;32mtry\u001b[0m\u001b[0;34m:\u001b[0m\u001b[0;34m\u001b[0m\u001b[0;34m\u001b[0m\u001b[0m\n\u001b[0;32m--> 117\u001b[0;31m         \u001b[0mnum\u001b[0m \u001b[0;34m=\u001b[0m \u001b[0moperator\u001b[0m\u001b[0;34m.\u001b[0m\u001b[0mindex\u001b[0m\u001b[0;34m(\u001b[0m\u001b[0mnum\u001b[0m\u001b[0;34m)\u001b[0m\u001b[0;34m\u001b[0m\u001b[0;34m\u001b[0m\u001b[0m\n\u001b[0m\u001b[1;32m    118\u001b[0m     \u001b[0;32mexcept\u001b[0m \u001b[0mTypeError\u001b[0m\u001b[0;34m:\u001b[0m\u001b[0;34m\u001b[0m\u001b[0;34m\u001b[0m\u001b[0m\n",
            "\u001b[0;31mTypeError\u001b[0m: 'numpy.float64' object cannot be interpreted as an integer",
            "\nDuring handling of the above exception, another exception occurred:\n",
            "\u001b[0;31mTypeError\u001b[0m                                 Traceback (most recent call last)",
            "\u001b[0;32m<ipython-input-48-7ed6558b0edb>\u001b[0m in \u001b[0;36m<module>\u001b[0;34m()\u001b[0m\n\u001b[0;32m----> 1\u001b[0;31m \u001b[0mpd\u001b[0m\u001b[0;34m.\u001b[0m\u001b[0mcut\u001b[0m\u001b[0;34m(\u001b[0m\u001b[0mdata\u001b[0m\u001b[0;34m[\u001b[0m\u001b[0;34m\"target\"\u001b[0m\u001b[0;34m]\u001b[0m\u001b[0;34m,\u001b[0m \u001b[0mbins\u001b[0m\u001b[0;34m=\u001b[0m\u001b[0mnum_bins\u001b[0m\u001b[0;34m,\u001b[0m \u001b[0mlabels\u001b[0m\u001b[0;34m=\u001b[0m\u001b[0;32mFalse\u001b[0m\u001b[0;34m)\u001b[0m\u001b[0;34m\u001b[0m\u001b[0;34m\u001b[0m\u001b[0m\n\u001b[0m",
            "\u001b[0;32m/usr/local/lib/python3.6/dist-packages/pandas/core/reshape/tile.py\u001b[0m in \u001b[0;36mcut\u001b[0;34m(x, bins, right, labels, retbins, precision, include_lowest, duplicates)\u001b[0m\n\u001b[1;32m    233\u001b[0m             \u001b[0mbins\u001b[0m \u001b[0;34m=\u001b[0m \u001b[0mnp\u001b[0m\u001b[0;34m.\u001b[0m\u001b[0mlinspace\u001b[0m\u001b[0;34m(\u001b[0m\u001b[0mmn\u001b[0m\u001b[0;34m,\u001b[0m \u001b[0mmx\u001b[0m\u001b[0;34m,\u001b[0m \u001b[0mbins\u001b[0m \u001b[0;34m+\u001b[0m \u001b[0;36m1\u001b[0m\u001b[0;34m,\u001b[0m \u001b[0mendpoint\u001b[0m\u001b[0;34m=\u001b[0m\u001b[0;32mTrue\u001b[0m\u001b[0;34m)\u001b[0m\u001b[0;34m\u001b[0m\u001b[0;34m\u001b[0m\u001b[0m\n\u001b[1;32m    234\u001b[0m         \u001b[0;32melse\u001b[0m\u001b[0;34m:\u001b[0m  \u001b[0;31m# adjust end points after binning\u001b[0m\u001b[0;34m\u001b[0m\u001b[0;34m\u001b[0m\u001b[0m\n\u001b[0;32m--> 235\u001b[0;31m             \u001b[0mbins\u001b[0m \u001b[0;34m=\u001b[0m \u001b[0mnp\u001b[0m\u001b[0;34m.\u001b[0m\u001b[0mlinspace\u001b[0m\u001b[0;34m(\u001b[0m\u001b[0mmn\u001b[0m\u001b[0;34m,\u001b[0m \u001b[0mmx\u001b[0m\u001b[0;34m,\u001b[0m \u001b[0mbins\u001b[0m \u001b[0;34m+\u001b[0m \u001b[0;36m1\u001b[0m\u001b[0;34m,\u001b[0m \u001b[0mendpoint\u001b[0m\u001b[0;34m=\u001b[0m\u001b[0;32mTrue\u001b[0m\u001b[0;34m)\u001b[0m\u001b[0;34m\u001b[0m\u001b[0;34m\u001b[0m\u001b[0m\n\u001b[0m\u001b[1;32m    236\u001b[0m             \u001b[0madj\u001b[0m \u001b[0;34m=\u001b[0m \u001b[0;34m(\u001b[0m\u001b[0mmx\u001b[0m \u001b[0;34m-\u001b[0m \u001b[0mmn\u001b[0m\u001b[0;34m)\u001b[0m \u001b[0;34m*\u001b[0m \u001b[0;36m0.001\u001b[0m  \u001b[0;31m# 0.1% of the range\u001b[0m\u001b[0;34m\u001b[0m\u001b[0;34m\u001b[0m\u001b[0m\n\u001b[1;32m    237\u001b[0m             \u001b[0;32mif\u001b[0m \u001b[0mright\u001b[0m\u001b[0;34m:\u001b[0m\u001b[0;34m\u001b[0m\u001b[0;34m\u001b[0m\u001b[0m\n",
            "\u001b[0;32m<__array_function__ internals>\u001b[0m in \u001b[0;36mlinspace\u001b[0;34m(*args, **kwargs)\u001b[0m\n",
            "\u001b[0;32m/usr/local/lib/python3.6/dist-packages/numpy/core/function_base.py\u001b[0m in \u001b[0;36mlinspace\u001b[0;34m(start, stop, num, endpoint, retstep, dtype, axis)\u001b[0m\n\u001b[1;32m    119\u001b[0m         raise TypeError(\n\u001b[1;32m    120\u001b[0m             \u001b[0;34m\"object of type {} cannot be safely interpreted as an integer.\"\u001b[0m\u001b[0;34m\u001b[0m\u001b[0;34m\u001b[0m\u001b[0m\n\u001b[0;32m--> 121\u001b[0;31m                 .format(type(num)))\n\u001b[0m\u001b[1;32m    122\u001b[0m \u001b[0;34m\u001b[0m\u001b[0m\n\u001b[1;32m    123\u001b[0m     \u001b[0;32mif\u001b[0m \u001b[0mnum\u001b[0m \u001b[0;34m<\u001b[0m \u001b[0;36m0\u001b[0m\u001b[0;34m:\u001b[0m\u001b[0;34m\u001b[0m\u001b[0;34m\u001b[0m\u001b[0m\n",
            "\u001b[0;31mTypeError\u001b[0m: object of type <class 'numpy.float64'> cannot be safely interpreted as an integer."
          ]
        }
      ]
    },
    {
      "cell_type": "code",
      "metadata": {
        "id": "5nu2ezUnsOXP",
        "outputId": "efdff42f-8b9d-436b-e1f3-3d345bd9d07c",
        "colab": {
          "base_uri": "https://localhost:8080/",
          "height": 460
        }
      },
      "source": [
        " # bin targets\n",
        "data.loc[:, \"bins\"] = pd.cut(data[\"target\"], bins=num_bins, labels=False)"
      ],
      "execution_count": null,
      "outputs": [
        {
          "output_type": "error",
          "ename": "TypeError",
          "evalue": "ignored",
          "traceback": [
            "\u001b[0;31m---------------------------------------------------------------------------\u001b[0m",
            "\u001b[0;31mTypeError\u001b[0m                                 Traceback (most recent call last)",
            "\u001b[0;32m/usr/local/lib/python3.6/dist-packages/numpy/core/function_base.py\u001b[0m in \u001b[0;36mlinspace\u001b[0;34m(start, stop, num, endpoint, retstep, dtype, axis)\u001b[0m\n\u001b[1;32m    116\u001b[0m     \u001b[0;32mtry\u001b[0m\u001b[0;34m:\u001b[0m\u001b[0;34m\u001b[0m\u001b[0;34m\u001b[0m\u001b[0m\n\u001b[0;32m--> 117\u001b[0;31m         \u001b[0mnum\u001b[0m \u001b[0;34m=\u001b[0m \u001b[0moperator\u001b[0m\u001b[0;34m.\u001b[0m\u001b[0mindex\u001b[0m\u001b[0;34m(\u001b[0m\u001b[0mnum\u001b[0m\u001b[0;34m)\u001b[0m\u001b[0;34m\u001b[0m\u001b[0;34m\u001b[0m\u001b[0m\n\u001b[0m\u001b[1;32m    118\u001b[0m     \u001b[0;32mexcept\u001b[0m \u001b[0mTypeError\u001b[0m\u001b[0;34m:\u001b[0m\u001b[0;34m\u001b[0m\u001b[0;34m\u001b[0m\u001b[0m\n",
            "\u001b[0;31mTypeError\u001b[0m: 'numpy.float64' object cannot be interpreted as an integer",
            "\nDuring handling of the above exception, another exception occurred:\n",
            "\u001b[0;31mTypeError\u001b[0m                                 Traceback (most recent call last)",
            "\u001b[0;32m<ipython-input-47-3fa981b036b9>\u001b[0m in \u001b[0;36m<module>\u001b[0;34m()\u001b[0m\n\u001b[1;32m      1\u001b[0m \u001b[0;31m# bin targets\u001b[0m\u001b[0;34m\u001b[0m\u001b[0;34m\u001b[0m\u001b[0;34m\u001b[0m\u001b[0m\n\u001b[0;32m----> 2\u001b[0;31m \u001b[0mdata\u001b[0m\u001b[0;34m.\u001b[0m\u001b[0mloc\u001b[0m\u001b[0;34m[\u001b[0m\u001b[0;34m:\u001b[0m\u001b[0;34m,\u001b[0m \u001b[0;34m\"bins\"\u001b[0m\u001b[0;34m]\u001b[0m \u001b[0;34m=\u001b[0m \u001b[0mpd\u001b[0m\u001b[0;34m.\u001b[0m\u001b[0mcut\u001b[0m\u001b[0;34m(\u001b[0m\u001b[0mdata\u001b[0m\u001b[0;34m[\u001b[0m\u001b[0;34m\"target\"\u001b[0m\u001b[0;34m]\u001b[0m\u001b[0;34m,\u001b[0m \u001b[0mbins\u001b[0m\u001b[0;34m=\u001b[0m\u001b[0mnum_bins\u001b[0m\u001b[0;34m,\u001b[0m \u001b[0mlabels\u001b[0m\u001b[0;34m=\u001b[0m\u001b[0;32mFalse\u001b[0m\u001b[0;34m)\u001b[0m\u001b[0;34m\u001b[0m\u001b[0;34m\u001b[0m\u001b[0m\n\u001b[0m",
            "\u001b[0;32m/usr/local/lib/python3.6/dist-packages/pandas/core/reshape/tile.py\u001b[0m in \u001b[0;36mcut\u001b[0;34m(x, bins, right, labels, retbins, precision, include_lowest, duplicates)\u001b[0m\n\u001b[1;32m    233\u001b[0m             \u001b[0mbins\u001b[0m \u001b[0;34m=\u001b[0m \u001b[0mnp\u001b[0m\u001b[0;34m.\u001b[0m\u001b[0mlinspace\u001b[0m\u001b[0;34m(\u001b[0m\u001b[0mmn\u001b[0m\u001b[0;34m,\u001b[0m \u001b[0mmx\u001b[0m\u001b[0;34m,\u001b[0m \u001b[0mbins\u001b[0m \u001b[0;34m+\u001b[0m \u001b[0;36m1\u001b[0m\u001b[0;34m,\u001b[0m \u001b[0mendpoint\u001b[0m\u001b[0;34m=\u001b[0m\u001b[0;32mTrue\u001b[0m\u001b[0;34m)\u001b[0m\u001b[0;34m\u001b[0m\u001b[0;34m\u001b[0m\u001b[0m\n\u001b[1;32m    234\u001b[0m         \u001b[0;32melse\u001b[0m\u001b[0;34m:\u001b[0m  \u001b[0;31m# adjust end points after binning\u001b[0m\u001b[0;34m\u001b[0m\u001b[0;34m\u001b[0m\u001b[0m\n\u001b[0;32m--> 235\u001b[0;31m             \u001b[0mbins\u001b[0m \u001b[0;34m=\u001b[0m \u001b[0mnp\u001b[0m\u001b[0;34m.\u001b[0m\u001b[0mlinspace\u001b[0m\u001b[0;34m(\u001b[0m\u001b[0mmn\u001b[0m\u001b[0;34m,\u001b[0m \u001b[0mmx\u001b[0m\u001b[0;34m,\u001b[0m \u001b[0mbins\u001b[0m \u001b[0;34m+\u001b[0m \u001b[0;36m1\u001b[0m\u001b[0;34m,\u001b[0m \u001b[0mendpoint\u001b[0m\u001b[0;34m=\u001b[0m\u001b[0;32mTrue\u001b[0m\u001b[0;34m)\u001b[0m\u001b[0;34m\u001b[0m\u001b[0;34m\u001b[0m\u001b[0m\n\u001b[0m\u001b[1;32m    236\u001b[0m             \u001b[0madj\u001b[0m \u001b[0;34m=\u001b[0m \u001b[0;34m(\u001b[0m\u001b[0mmx\u001b[0m \u001b[0;34m-\u001b[0m \u001b[0mmn\u001b[0m\u001b[0;34m)\u001b[0m \u001b[0;34m*\u001b[0m \u001b[0;36m0.001\u001b[0m  \u001b[0;31m# 0.1% of the range\u001b[0m\u001b[0;34m\u001b[0m\u001b[0;34m\u001b[0m\u001b[0m\n\u001b[1;32m    237\u001b[0m             \u001b[0;32mif\u001b[0m \u001b[0mright\u001b[0m\u001b[0;34m:\u001b[0m\u001b[0;34m\u001b[0m\u001b[0;34m\u001b[0m\u001b[0m\n",
            "\u001b[0;32m<__array_function__ internals>\u001b[0m in \u001b[0;36mlinspace\u001b[0;34m(*args, **kwargs)\u001b[0m\n",
            "\u001b[0;32m/usr/local/lib/python3.6/dist-packages/numpy/core/function_base.py\u001b[0m in \u001b[0;36mlinspace\u001b[0;34m(start, stop, num, endpoint, retstep, dtype, axis)\u001b[0m\n\u001b[1;32m    119\u001b[0m         raise TypeError(\n\u001b[1;32m    120\u001b[0m             \u001b[0;34m\"object of type {} cannot be safely interpreted as an integer.\"\u001b[0m\u001b[0;34m\u001b[0m\u001b[0;34m\u001b[0m\u001b[0m\n\u001b[0;32m--> 121\u001b[0;31m                 .format(type(num)))\n\u001b[0m\u001b[1;32m    122\u001b[0m \u001b[0;34m\u001b[0m\u001b[0m\n\u001b[1;32m    123\u001b[0m     \u001b[0;32mif\u001b[0m \u001b[0mnum\u001b[0m \u001b[0;34m<\u001b[0m \u001b[0;36m0\u001b[0m\u001b[0;34m:\u001b[0m\u001b[0;34m\u001b[0m\u001b[0;34m\u001b[0m\u001b[0m\n",
            "\u001b[0;31mTypeError\u001b[0m: object of type <class 'numpy.float64'> cannot be safely interpreted as an integer."
          ]
        }
      ]
    },
    {
      "cell_type": "markdown",
      "metadata": {
        "id": "qJTI8niKO1bk"
      },
      "source": [
        "#Cross-validation is the first and most essential step when it comes to building\n",
        "machine learning models. If you want to do feature engineering, split your data first.\n",
        "If you're going to build models, split your data first. If you have a good crossvalidation\n",
        "scheme in which validation data is representative of training and realworld\n",
        "data, you will be able to build a good machine learning model which is highly\n",
        "generalizable."
      ]
    },
    {
      "cell_type": "markdown",
      "metadata": {
        "id": "6SpKNAZNRD19"
      },
      "source": [
        "#The types of cross-validation presented in this chapter can be applied to almost any\n",
        "machine learning problem. Still, you must keep in mind that cross-validation also\n",
        "depends a lot on the data and you might need to adopt new forms of cross-validation\n",
        "depending on your problem and data.\n",
        "#For example, let’s say we have a problem in which we would like to build a model to detect skin cancer from skin images of patients. Our task is to build a binary classifier which takes an input image and predicts the probability for it being benign or malignant.\n",
        "#In these kinds of datasets, you might have multiple images for the same patient in\n",
        "the training dataset. So, to build a good cross-validation system here, you must have\n",
        "stratified k-folds, but you must also make sure that patients in training data do not\n",
        "appear in validation data. Fortunately, scikit-learn offers a type of cross-validation\n",
        "known as GroupKFold. Here the patients can be considered as groups. But\n",
        "unfortunately, there is no way to combine GroupKFold with StratifiedKFold in\n",
        "scikit-learn. So you need to do that yourself. I’ll leave it as an exercise for the reader."
      ]
    },
    {
      "cell_type": "markdown",
      "metadata": {
        "id": "lebUMSIMSy-b"
      },
      "source": [
        "#Evaluation metrics\n",
        "#Knowing about how the aforementioned metrics work is not the only thing we have to understand. We must also know when to use which metrics, and that depends on what kind of data and targets you have. I think it’s more about the targets and less about the data."
      ]
    },
    {
      "cell_type": "code",
      "metadata": {
        "id": "JHhhZmEksgd4",
        "outputId": "ed5a3c59-0910-4fbb-a80b-f0ae7b5efd1a",
        "colab": {
          "base_uri": "https://localhost:8080/",
          "height": 35
        }
      },
      "source": [
        "pwd"
      ],
      "execution_count": 5,
      "outputs": [
        {
          "output_type": "execute_result",
          "data": {
            "application/vnd.google.colaboratory.intrinsic+json": {
              "type": "string"
            },
            "text/plain": [
              "'/gdrive/My Drive/notes'"
            ]
          },
          "metadata": {
            "tags": []
          },
          "execution_count": 5
        }
      ]
    },
    {
      "cell_type": "markdown",
      "metadata": {
        "id": "_5aVIqgnW6-4"
      },
      "source": [
        "#When we have an equal number of positive and negative samples in a binary\n",
        "classification metric, we generally use accuracy, precision, recall and f1.\n",
        "#Accuracy: It is one of the most straightforward metrics used in machine learning.\n",
        "#It defines how accurate your model is. For the problem described above, if you build\n",
        "a model that classifies 90 images accurately, your accuracy is 90% or 0.90. If only\n",
        "83 images are classified correctly, the accuracy of your model is 83% or 0.83.\n",
        "Simple.\n",
        "#Python code for calculating accuracy is also quite simple."
      ]
    },
    {
      "cell_type": "code",
      "metadata": {
        "id": "jNWY09pMSxOj"
      },
      "source": [
        "def accuracy(y_true, y_pred):\n",
        "  \"\"\"\n",
        "  Function to calculate accuracy\n",
        "  :param y_true: list of true values\n",
        "  :param y_pred: list of predicted values\n",
        "  :return: accuracy score\n",
        "  \"\"\"\n",
        "  # initialize a simple counter for correct predictions\n",
        "  correct_counter = 0\n",
        "  # loop over all elements of y_true\n",
        "  # and y_pred \"together\"\n",
        "  for yt, yp in zip(y_true, y_pred):\n",
        "    if yt == yp:\n",
        "      # if prediction is equal to truth, increase the counter\n",
        "      correct_counter += 1\n",
        "  # return accuracy\n",
        "  # which is correct predictions over the number of samples\n",
        "  return correct_counter / len(y_true)"
      ],
      "execution_count": 7,
      "outputs": []
    },
    {
      "cell_type": "markdown",
      "metadata": {
        "id": "HMIsORVzX3fn"
      },
      "source": [
        "#We can also calculate accuracy using scikit-learn."
      ]
    },
    {
      "cell_type": "code",
      "metadata": {
        "id": "wsHERSQbXbdZ",
        "outputId": "1d093635-d381-45ea-ad2c-60841ad47d0d",
        "colab": {
          "base_uri": "https://localhost:8080/",
          "height": 34
        }
      },
      "source": [
        "from sklearn import metrics\n",
        "l1 = [0,1,1,1,0,0,0,1]\n",
        "l2 = [0,1,0,1,0,1,0,0]\n",
        "metrics.accuracy_score(l1, l2)"
      ],
      "execution_count": 8,
      "outputs": [
        {
          "output_type": "execute_result",
          "data": {
            "text/plain": [
              "0.625"
            ]
          },
          "metadata": {
            "tags": []
          },
          "execution_count": 8
        }
      ]
    },
    {
      "cell_type": "code",
      "metadata": {
        "id": "AwXcKKZEX8fN",
        "outputId": "c506a142-6089-415e-b185-e9c11677dca2",
        "colab": {
          "base_uri": "https://localhost:8080/",
          "height": 34
        }
      },
      "source": [
        "accuracy(l1, l2)"
      ],
      "execution_count": 9,
      "outputs": [
        {
          "output_type": "execute_result",
          "data": {
            "text/plain": [
              "0.625"
            ]
          },
          "metadata": {
            "tags": []
          },
          "execution_count": 9
        }
      ]
    },
    {
      "cell_type": "markdown",
      "metadata": {
        "id": "CCPKJx2QYlpH"
      },
      "source": [
        "#Now, let’s say we change the dataset a bit such that there are 180 chest x-ray images which do not have pneumothorax and only 20 with pneumothorax. Even in this case, we will create the training and validation sets with the same ratio of positive to negative (pneumothorax to non- pneumothorax) targets. In each set, we have 90 non- pneumothorax and 10 pneumothorax images. If you say that all images in the validation set are non-pneumothorax, what would your accuracy be? Let’s see; you classified 90% of the images correctly. So, your accuracy is 90%.\n",
        "#But look at it one more time.\n",
        "#You didn’t even build a model and got an accuracy of 90%. That seems kind of useless. If we look carefully, we will see that the dataset is skewed, i.e., the number of samples in one class outnumber the number of samples in other class by a lot. In these kinds of cases, it is not advisable to use accuracy as an evaluation metric as it is not representative of the data. So, you might get high accuracy, but your model will probably not perform that well when it comes to real-world samples, and you won’t be able to explain to your managers why.\n",
        "\n",
        "#In these cases, it’s better to look at other metrics such as precision.\n",
        "#Before learning about precision, we need to know a few terms. Here we have\n",
        "assumed that chest x-ray images with pneumothorax are positive class (1) and\n",
        "without pneumothorax are negative class (0).\n",
        "#True positive (TP): Given an image, if your model predicts the image has\n",
        "pneumothorax, and the actual target for that image has pneumothorax, it is\n",
        "considered a true positive.\n",
        "#True negative (TN): Given an image, if your model predicts that the image does not\n",
        "have pneumothorax and the actual target says that it is a non-pneumothorax image,\n",
        "it is considered a true negative.\n",
        "#In simple words, if your model correctly predicts positive class, it is true positive, and if your model accurately predicts negative class, it is a true negative.\n",
        "\n",
        "#False positive (FP): Given an image, if your model predicts pneumothorax and the actual target for that image is non- pneumothorax, it a false positive.\n",
        "\n",
        "\n",
        "#False negative (FN): Given an image, if your model predicts non-pneumothorax\n",
        "and the actual target for that image is pneumothorax, it is a false negative.\n",
        "#In simple words, if your model incorrectly (or falsely) predicts positive class, it is a false positive. If your model incorrectly (or falsely) predicts negative class, it is a false negative.\n",
        "#Let’s look at implementations of these, one at a time."
      ]
    },
    {
      "cell_type": "code",
      "metadata": {
        "id": "BcLNN_nJX_sy"
      },
      "source": [
        "def true_positive(y_true, y_pred):\n",
        "  \"\"\"\n",
        "  Function to calculate True Positives\n",
        "  :param y_true: list of true values\n",
        "  :param y_pred: list of predicted values\n",
        "  :return: number of true positives\n",
        "  \"\"\"\n",
        "  # initialize\n",
        "  tp = 0\n",
        "  for yt, yp in zip(y_true, y_pred):\n",
        "    if yt == 1 and yp == 1:\n",
        "      tp += 1\n",
        "  return tp\n",
        "\n",
        "def true_negative(y_true, y_pred):\n",
        "  \"\"\"\n",
        "  Function to calculate True Negatives\n",
        "  :param y_true: list of true values\n",
        "  :param y_pred: list of predicted values\n",
        "  :return: number of true negatives\n",
        "  \"\"\"\n",
        "  # initialize\n",
        "  tn = 0\n",
        "  for yt, yp in zip(y_true, y_pred):\n",
        "      if yt == 0 and yp == 0:\n",
        "        tn += 1\n",
        "  return tn\n",
        "\n",
        "def false_positive(y_true, y_pred):\n",
        "  \"\"\"\n",
        "  Function to calculate False Positives\n",
        "  :param y_true: list of true values\n",
        "  :param y_pred: list of predicted values\n",
        "  :return: number of false positives\n",
        "  \"\"\"\n",
        "  # initialize\n",
        "  35\n",
        "  fp = 0\n",
        "  for yt, yp in zip(y_true, y_pred):\n",
        "      if yt == 0 and yp == 1:\n",
        "        fp += 1\n",
        "  return fp\n",
        "\n",
        "def false_negative(y_true, y_pred):\n",
        "  \"\"\"\n",
        "  Function to calculate False Negatives\n",
        "  :param y_true: list of true values\n",
        "  :param y_pred: list of predicted values\n",
        "  :return: number of false negatives\n",
        "  \"\"\"\n",
        "  # initialize\n",
        "  fn = 0\n",
        "  for yt, yp in zip(y_true, y_pred):\n",
        "      if yt == 1 and yp == 0:\n",
        "        fn += 1\n",
        "  return fn"
      ],
      "execution_count": 12,
      "outputs": []
    },
    {
      "cell_type": "markdown",
      "metadata": {
        "id": "b6ikRgfEakqM"
      },
      "source": [
        "#The way I have implemented these here is quite simple and works only for binary classification. Let’s check these functions."
      ]
    },
    {
      "cell_type": "code",
      "metadata": {
        "id": "RLxL1-Vlaabi"
      },
      "source": [
        "l1 = [0,1,1,1,0,0,0,1]\n",
        "l2 = [0,1,0,1,0,1,0,0]"
      ],
      "execution_count": 13,
      "outputs": []
    },
    {
      "cell_type": "code",
      "metadata": {
        "id": "RQb1U3ZoaptJ",
        "outputId": "cc013d8b-a0b4-476a-a4f6-11f7c9243f30",
        "colab": {
          "base_uri": "https://localhost:8080/",
          "height": 34
        }
      },
      "source": [
        "true_positive(l1, l2)"
      ],
      "execution_count": 14,
      "outputs": [
        {
          "output_type": "execute_result",
          "data": {
            "text/plain": [
              "2"
            ]
          },
          "metadata": {
            "tags": []
          },
          "execution_count": 14
        }
      ]
    },
    {
      "cell_type": "code",
      "metadata": {
        "id": "MiS5tFR9arQ_",
        "outputId": "b6010af4-5fe4-491e-a2f5-239c3133bd5d",
        "colab": {
          "base_uri": "https://localhost:8080/",
          "height": 34
        }
      },
      "source": [
        "false_positive(l1, l2)"
      ],
      "execution_count": 15,
      "outputs": [
        {
          "output_type": "execute_result",
          "data": {
            "text/plain": [
              "1"
            ]
          },
          "metadata": {
            "tags": []
          },
          "execution_count": 15
        }
      ]
    },
    {
      "cell_type": "code",
      "metadata": {
        "id": "R0x3EGifaumU",
        "outputId": "c15a9923-c4b3-4615-d348-f396bb39f094",
        "colab": {
          "base_uri": "https://localhost:8080/",
          "height": 34
        }
      },
      "source": [
        "false_negative(l1, l2)"
      ],
      "execution_count": 16,
      "outputs": [
        {
          "output_type": "execute_result",
          "data": {
            "text/plain": [
              "2"
            ]
          },
          "metadata": {
            "tags": []
          },
          "execution_count": 16
        }
      ]
    },
    {
      "cell_type": "code",
      "metadata": {
        "id": "iAqZzNZVawJf",
        "outputId": "f8f5b0ae-fa92-4201-de28-0e77ecfe3f48",
        "colab": {
          "base_uri": "https://localhost:8080/",
          "height": 34
        }
      },
      "source": [
        "true_negative(l1, l2)"
      ],
      "execution_count": 17,
      "outputs": [
        {
          "output_type": "execute_result",
          "data": {
            "text/plain": [
              "3"
            ]
          },
          "metadata": {
            "tags": []
          },
          "execution_count": 17
        }
      ]
    },
    {
      "cell_type": "markdown",
      "metadata": {
        "id": "zUeYoWKua7d5"
      },
      "source": [
        "#If we have to define accuracy using the terms described above, we can write:\n",
        "#Accuracy Score = (TP + TN) / (TP + TN + FP + FN)"
      ]
    },
    {
      "cell_type": "markdown",
      "metadata": {
        "id": "khsQGVTLbH3x"
      },
      "source": [
        "#We can now quickly implement accuracy score using TP, TN, FP and FN in python.\n",
        "#Let’s call it accuracy_v2."
      ]
    },
    {
      "cell_type": "code",
      "metadata": {
        "id": "EqCDxRVXa1XY"
      },
      "source": [
        "def accuracy_v2(y_true, y_pred):\n",
        "  \"\"\"\n",
        "  Function to calculate accuracy using tp/tn/fp/fn\n",
        "  :param y_true: list of true values\n",
        "  :param y_pred: list of predicted values\n",
        "  :return: accuracy score\n",
        "  \"\"\"\n",
        "  tp = true_positive(y_true, y_pred)\n",
        "  fp = false_positive(y_true, y_pred)\n",
        "  fn = false_negative(y_true, y_pred)\n",
        "  tn = true_negative(y_true, y_pred)\n",
        "  accuracy_score = (tp + tn) / (tp + tn + fp + fn)\n",
        "  return accuracy_score"
      ],
      "execution_count": 18,
      "outputs": []
    },
    {
      "cell_type": "code",
      "metadata": {
        "id": "T78kyoV3bQJ0",
        "outputId": "006945b6-359b-4720-c179-6dd88dade2b3",
        "colab": {
          "base_uri": "https://localhost:8080/",
          "height": 34
        }
      },
      "source": [
        "accuracy(l1, l2),accuracy_v2(l1,l2),metrics.accuracy_score(l1, l2)\n"
      ],
      "execution_count": 20,
      "outputs": [
        {
          "output_type": "execute_result",
          "data": {
            "text/plain": [
              "(0.625, 0.625, 0.625)"
            ]
          },
          "metadata": {
            "tags": []
          },
          "execution_count": 20
        }
      ]
    },
    {
      "cell_type": "markdown",
      "metadata": {
        "id": "ODfhsyOYb8l1"
      },
      "source": [
        "#Impliment other metrics\n",
        "#Precison = TP/(TP+FP)"
      ]
    },
    {
      "cell_type": "code",
      "metadata": {
        "id": "-Srr5UADbZNz"
      },
      "source": [
        "def precision(y_true, y_pred):\n",
        "  \"\"\"\n",
        "  Function to calculate precision\n",
        "  :param y_true: list of true values\n",
        "  :param y_pred: list of predicted values\n",
        "  :return: precision score\n",
        "  \"\"\"\n",
        "  tp = true_positive(y_true, y_pred)\n",
        "  fp = false_positive(y_true, y_pred)\n",
        "  precision = tp / (tp + fp)\n",
        "  return precision"
      ],
      "execution_count": 21,
      "outputs": []
    },
    {
      "cell_type": "code",
      "metadata": {
        "id": "KENDY3aqcND-",
        "outputId": "99bb1324-6324-480f-e180-97eefc66a625",
        "colab": {
          "base_uri": "https://localhost:8080/",
          "height": 34
        }
      },
      "source": [
        "precision(l1, l2)"
      ],
      "execution_count": 22,
      "outputs": [
        {
          "output_type": "execute_result",
          "data": {
            "text/plain": [
              "0.6666666666666666"
            ]
          },
          "metadata": {
            "tags": []
          },
          "execution_count": 22
        }
      ]
    },
    {
      "cell_type": "markdown",
      "metadata": {
        "id": "RxKW_GmAcTRz"
      },
      "source": [
        "#we come to recall. Recall is defined as:\n",
        "#Recall = TP / (TP + FN)"
      ]
    },
    {
      "cell_type": "code",
      "metadata": {
        "id": "gDA3tUgbcQol"
      },
      "source": [
        "def recall(y_true, y_pred):\n",
        "  \"\"\"\n",
        "  Function to calculate recall\n",
        "  :param y_true: list of true values\n",
        "  :param y_pred: list of predicted values\n",
        "  :return: recall score\n",
        "  \"\"\"\n",
        "  tp = true_positive(y_true, y_pred)\n",
        "  fn = false_negative(y_true, y_pred)\n",
        "  recall = tp / (tp + fn)\n",
        "  return recall"
      ],
      "execution_count": 23,
      "outputs": []
    },
    {
      "cell_type": "code",
      "metadata": {
        "id": "P0GcM0WBcYPj",
        "outputId": "5d2fcfc6-4779-41bd-cd1b-ec4174271418",
        "colab": {
          "base_uri": "https://localhost:8080/",
          "height": 34
        }
      },
      "source": [
        "recall(l1, l2)"
      ],
      "execution_count": 24,
      "outputs": [
        {
          "output_type": "execute_result",
          "data": {
            "text/plain": [
              "0.5"
            ]
          },
          "metadata": {
            "tags": []
          },
          "execution_count": 24
        }
      ]
    },
    {
      "cell_type": "markdown",
      "metadata": {
        "id": "WjezpDXXcxtQ"
      },
      "source": [
        "#For a “good” model, our precision and recall values should be high. \n",
        "#We see that in the above example, the precison value is NOT quite high. However, reall is very low!\n",
        "#Our model produces quite a lot of **false positives** but less false negatives. \n",
        "#Fewer false negatives are good in this type of problem because you don’t want to say that patients do not have pneumothorax when they do. That is going to be more harmful. But we do have a lot of false positives, and that’s not good either.\n"
      ]
    },
    {
      "cell_type": "markdown",
      "metadata": {
        "id": "0I0ktdmLdm2v"
      },
      "source": [
        "# Most of the models predict a probability, and when we predict, we usually choose this threshold to be 0.5. This threshold is not always ideal, and depending on this threshold, your value of precision and recall can change drastically. If for every threshold we choose, we calculate the precision and recall values, we can create a plot between these sets of values. This plot or curve is known as the precision-recall curve.\n",
        "#Before looking into the precision-recall curve, let’s assume two lists."
      ]
    },
    {
      "cell_type": "code",
      "metadata": {
        "id": "99D1CBb4cbHj"
      },
      "source": [
        "y_true = [0, 0, 0, 1, 0, 0, 0, 0, 0, 0,1, 0, 0, 0, 0, 0, 0, 0, 1, 0]\n",
        "y_pred = [0.02638412, 0.11114267, 0.31620708,\n",
        " 0.0490937, 0.0191491, 0.17554844,\n",
        " 0.15952202, 0.03819563, 0.11639273,\n",
        " 0.079377, 0.08584789, 0.39095342,\n",
        " 0.27259048, 0.03447096, 0.04644807,\n",
        " 0.03543574, 0.18521942, 0.05934905,\n",
        " 0.61977213, 0.33056815]"
      ],
      "execution_count": 26,
      "outputs": []
    },
    {
      "cell_type": "markdown",
      "metadata": {
        "id": "MRmyjoO-eZmI"
      },
      "source": [
        "# So, y_true is our targets, and y_pred is the probability values for a sample being assigned a value of 1. So, now, we look at probabilities in prediction instead of the predicted value (which is most of the time calculated with a threshold at 0.5)."
      ]
    },
    {
      "cell_type": "code",
      "metadata": {
        "id": "0t4FbRU0eF1k",
        "outputId": "40ade053-46aa-4ec0-9b14-d879c7420f51",
        "colab": {
          "base_uri": "https://localhost:8080/",
          "height": 473
        }
      },
      "source": [
        "# NOTE: this code is written in a jupyter notebook\n",
        "# import scikit-learn tree and metrics\n",
        "from sklearn import tree\n",
        "from sklearn import metrics\n",
        "# import matplotlib and seaborn\n",
        "# for plotting\n",
        "import matplotlib\n",
        "import matplotlib.pyplot as plt\n",
        "import seaborn as sns\n",
        "# this is our global size of label text\n",
        "# on the plots\n",
        "matplotlib.rc('xtick', labelsize=20)\n",
        "matplotlib.rc('ytick', labelsize=20)\n",
        "# This line ensures that the plot is displayed\n",
        "# inside the notebook\n",
        "%matplotlib inline\n",
        "precisions = []\n",
        "recalls = []\n",
        "# how we assumed these thresholds is a long story\n",
        "thresholds = [0.0490937 , 0.05934905, 0.079377,\n",
        "0.08584789, 0.11114267, 0.11639273,\n",
        "0.15952202, 0.17554844, 0.18521942,\n",
        "0.27259048, 0.31620708, 0.33056815,\n",
        "0.39095342, 0.61977213]\n",
        "# for every threshold, calculate predictions in binary\n",
        "# and append calculated precisions and recalls\n",
        "# to their respective lists\n",
        "for i in thresholds:\n",
        "  temp_prediction = [1 if x >= i else 0 for x in y_pred]\n",
        "  p = precision(y_true, temp_prediction)\n",
        "  r = recall(y_true, temp_prediction)\n",
        "  precisions.append(p)\n",
        "  recalls.append(r)\n",
        "\n",
        "#Now, we can plot these values of precisions and recalls.\n",
        "\n",
        "plt.figure(figsize=(7, 7))\n",
        "plt.plot(recalls, precisions)\n",
        "plt.xlabel('Recall', fontsize=15)\n",
        "plt.ylabel('Precision', fontsize=15)"
      ],
      "execution_count": 28,
      "outputs": [
        {
          "output_type": "execute_result",
          "data": {
            "text/plain": [
              "Text(0, 0.5, 'Precision')"
            ]
          },
          "metadata": {
            "tags": []
          },
          "execution_count": 28
        },
        {
          "output_type": "display_data",
          "data": {
            "image/png": "[encoded data removed]",
            "text/plain": [
              "<Figure size 504x504 with 1 Axes>"
            ]
          },
          "metadata": {
            "tags": [],
            "needs_background": "light"
          }
        }
      ]
    },
    {
      "cell_type": "markdown",
      "metadata": {
        "id": "HXWR9nXmfzF4"
      },
      "source": [
        "#This precision-recall curve looks very different from what you might have seen on the internet. It’s because we had only 20 samples, and only 3 of them were positive samples. But there’s nothing to worry. It’s the same old precision-recall curve."
      ]
    },
    {
      "cell_type": "markdown",
      "metadata": {
        "id": "rVVOJU1egZTW"
      },
      "source": [
        "#Both precision and recall range from 0 to 1 and a value closer to 1 is better.\n",
        "#F1 score is a metric that combines both precision and recall. It is defined as a simple weighted average (harmonic mean) of precision and recall. If we denote precisionusing P and recall using R, we can represent \n",
        "#the F1 score as: F1 = 2PR / (P + R)"
      ]
    },
    {
      "cell_type": "code",
      "metadata": {
        "id": "W1R7vDMMfLPZ"
      },
      "source": [
        "def f1(y_true, y_pred):\n",
        "  \"\"\"\n",
        "  Function to calculate f1 score\n",
        "  :param y_true: list of true values\n",
        "  :param y_pred: list of predicted values\n",
        "  :return: f1 score\n",
        "  \"\"\"\n",
        "  p = precision(y_true, y_pred)\n",
        "  r = recall(y_true, y_pred)\n",
        "  score = 2 * p * r / (p + r)\n",
        "  return score"
      ],
      "execution_count": 29,
      "outputs": []
    },
    {
      "cell_type": "markdown",
      "metadata": {
        "id": "XDJPcyo-g4QZ"
      },
      "source": [
        "#Let’s see the results of this and compare it with scikit-learn."
      ]
    },
    {
      "cell_type": "code",
      "metadata": {
        "id": "9YNdxsfqg0SN",
        "outputId": "dd1583b4-d115-4d53-b0db-f02ca6fcba21",
        "colab": {
          "base_uri": "https://localhost:8080/",
          "height": 34
        }
      },
      "source": [
        "from sklearn import metrics\n",
        "y_true = [0, 0, 0, 1, 0, 0, 0, 0, 0, 0,1, 0, 0, 0, 0, 0, 0, 0, 1, 0]\n",
        "y_pred = [0, 0, 1, 0, 0, 0, 1, 0, 0, 0, 1, 0, 0, 0, 0, 0, 0, 0, 1, 0]\n",
        "f1(y_true, y_pred),metrics.f1_score(y_true,y_pred)"
      ],
      "execution_count": 31,
      "outputs": [
        {
          "output_type": "execute_result",
          "data": {
            "text/plain": [
              "(0.5714285714285715, 0.5714285714285715)"
            ]
          },
          "metadata": {
            "tags": []
          },
          "execution_count": 31
        }
      ]
    },
    {
      "cell_type": "markdown",
      "metadata": {
        "id": "8XxDD4i5haG9"
      },
      "source": [
        "#Instead of looking at precision and recall individually, you can also just look at F1 score. Same as for precision, recall and accuracy, F1 score also ranges from 0 to 1, and a perfect prediction model has an F1 of 1. When dealing with datasets that have skewed targets, we should look at F1 (or precision and recall) instead of accuracy."
      ]
    },
    {
      "cell_type": "markdown",
      "metadata": {
        "id": "JIajKadPiSIn"
      },
      "source": [
        "#The first one is TPR or True Positive Rate, which is the same as recall.\n",
        "#TPR = TP / (TP + FN)\n",
        "#Even though it is same as recall, we will make a python function for it for further use with this name.\n",
        "#TPR or recall is also known as sensitivity."
      ]
    },
    {
      "cell_type": "code",
      "metadata": {
        "id": "Mza6GtkrhHdG"
      },
      "source": [
        "def tpr(y_true, y_pred):\n",
        "  \"\"\"\n",
        "  Function to calculate tpr\n",
        "  :param y_true: list of true values\n",
        "  :param y_pred: list of predicted values\n",
        "  :return: tpr/recall\n",
        "  \"\"\"\n",
        "  return recall(y_true, y_pred)"
      ],
      "execution_count": 34,
      "outputs": []
    },
    {
      "cell_type": "markdown",
      "metadata": {
        "id": "AxKXl__tig7A"
      },
      "source": [
        "#And FPR or False Positive Rate, which is defined as:\n",
        "#FPR = FP / (TN + FP)"
      ]
    },
    {
      "cell_type": "code",
      "metadata": {
        "id": "B9X1Sx6HiijD"
      },
      "source": [
        "def fpr(y_true, y_pred):\n",
        "  \"\"\"\n",
        "  Function to calculate fpr\n",
        "  :param y_true: list of true values\n",
        "  :param y_pred: list of predicted values\n",
        "  :return: fpr\n",
        "  \"\"\"\n",
        "  fp = false_positive(y_true, y_pred)\n",
        "  tn = true_negative(y_true, y_pred)\n",
        "  return fp / (tn + fp)"
      ],
      "execution_count": 32,
      "outputs": []
    },
    {
      "cell_type": "markdown",
      "metadata": {
        "id": "FeQDxmGAi3q0"
      },
      "source": [
        "#And 1 - FPR is known as specificity or True Negative Rate or TNR.\n",
        "#These are a lot of terms, but the most important ones out of these are only TPR and FPR."
      ]
    },
    {
      "cell_type": "markdown",
      "metadata": {
        "id": "LGsq1Jn-jK0_"
      },
      "source": [
        "#Let’s calculate only two values, though: TPR and FPR."
      ]
    },
    {
      "cell_type": "code",
      "metadata": {
        "id": "kM6skQFDipKp"
      },
      "source": [
        "# empty lists to store tpr\n",
        "# and fpr values\n",
        "tpr_list = []\n",
        "fpr_list = []\n",
        "# actual targets\n",
        "y_true = [0, 0, 0, 0, 1, 0, 1,\n",
        "0, 0, 1, 0, 1, 0, 0, 1]\n",
        "# predicted probabilities of a sample being 1\n",
        "y_pred = [0.1, 0.3, 0.2, 0.6, 0.8, 0.05,\n",
        "0.9, 0.5, 0.3, 0.66, 0.3, 0.2,\n",
        "0.85, 0.15, 0.99]\n",
        "# handmade thresholds\n",
        "thresholds = [0, 0.1, 0.2, 0.3, 0.4, 0.5,\n",
        "0.6, 0.7, 0.8, 0.85, 0.9, 0.99, 1.0]\n",
        "# loop over all thresholds\n",
        "for thresh in thresholds:\n",
        "  # calculate predictions for a given threshold\n",
        "  temp_pred = [1 if x >= thresh else 0 for x in y_pred]\n",
        "  # calculate tpr\n",
        "  temp_tpr = tpr(y_true, temp_pred)\n",
        "  # calculate fpr\n",
        "  temp_fpr = fpr(y_true, temp_pred)\n",
        "  # append tpr and fpr to lists\n",
        "  tpr_list.append(temp_tpr)\n",
        "  fpr_list.append(temp_fpr)"
      ],
      "execution_count": 35,
      "outputs": []
    },
    {
      "cell_type": "code",
      "metadata": {
        "id": "uf8S1Lq-ji6y",
        "outputId": "373f8085-a117-4d8b-f006-ca832f10c2cc",
        "colab": {
          "base_uri": "https://localhost:8080/",
          "height": 464
        }
      },
      "source": [
        "plt.figure(figsize=(7, 7))\n",
        "plt.fill_between(fpr_list, tpr_list, alpha=0.4)\n",
        "plt.plot(fpr_list, tpr_list, lw=3)\n",
        "plt.xlim(0, 1.0)\n",
        "plt.ylim(0, 1.0)\n",
        "plt.xlabel('FPR', fontsize=15)\n",
        "plt.ylabel('TPR', fontsize=15)\n",
        "plt.show()"
      ],
      "execution_count": 36,
      "outputs": [
        {
          "output_type": "display_data",
          "data": {
            "image/png": "[encoded data removed]",
            "text/plain": [
              "<Figure size 504x504 with 1 Axes>"
            ]
          },
          "metadata": {
            "tags": [],
            "needs_background": "light"
          }
        }
      ]
    },
    {
      "cell_type": "markdown",
      "metadata": {
        "id": "jIJWpqGskFq9"
      },
      "source": [
        "#This curve is also known as the Receiver Operating Characteristic (ROC). And if we calculate the area under this ROC curve, we are calculating another metric which is used very often when you have a dataset which has skewed binary targets.\n",
        "#This metric is known as the Area Under ROC Curve or Area Under Curve or just simply AUC. There are many ways to calculate the area under the ROC curve.\n",
        "#or this particular purpose, we will stick to the fantastic implementation by scikitlearn."
      ]
    },
    {
      "cell_type": "code",
      "metadata": {
        "id": "TGdfuo3kjyUQ",
        "outputId": "8fcaa193-d7d3-4c75-f9f4-317ae4a0239e",
        "colab": {
          "base_uri": "https://localhost:8080/",
          "height": 34
        }
      },
      "source": [
        "from sklearn import metrics\n",
        "metrics.roc_auc_score(y_true, y_pred)"
      ],
      "execution_count": 37,
      "outputs": [
        {
          "output_type": "execute_result",
          "data": {
            "text/plain": [
              "0.8300000000000001"
            ]
          },
          "metadata": {
            "tags": []
          },
          "execution_count": 37
        }
      ]
    },
    {
      "cell_type": "markdown",
      "metadata": {
        "id": "UXKGmNJxpK_0"
      },
      "source": [
        "#But what does AUC say about our model?\n",
        "##Now you get an AUC of 0.83 when you build a model to detect pneumothorax from chest x-ray images. This means that if you select a random image from your dataset with pneumothorax (positive sample) and another random image without pneumothorax (negative sample), then the pneumothorax image will rank higher than a non-pneumothorax image with a probability of 0.83."
      ]
    },
    {
      "cell_type": "markdown",
      "metadata": {
        "id": "JCHN_hW7p0dh"
      },
      "source": [
        "#AUC is a widely used metric for skewed binary classification tasks in the industry,and a metric everyone should know about. Once you understand the idea behind AUC, as explained in the paragraphs above, it is also easy to explain it to nontechnical people who would probably be assessing your models in the industry.\n",
        "#Another important metric you should learn after learning AUC is log loss. In case of a binary classification problem, we define log loss as:\n",
        "#Log Loss = - 1.0 * ( target * log(prediction) + (1 - target) * log(1 - prediction) )\n",
        "#Where target is either 0 or 1 and prediction is a probability of a sample belongingto class 1."
      ]
    },
    {
      "cell_type": "markdown",
      "metadata": {
        "id": "c8Vxc9llquL3"
      },
      "source": [
        "#For multiple samples in the dataset, the log-loss over all samples is a mere average of all individual log losses. \n",
        "#One thing to remember is that log loss penalizes quite high for an incorrect or a far-off prediction, i.e. log loss punishes you for being very sure and very wrong."
      ]
    },
    {
      "cell_type": "code",
      "metadata": {
        "id": "SS7_YhT0keMX"
      },
      "source": [
        "import numpy as np\n",
        "def log_loss(y_true, y_proba):\n",
        "  \"\"\"\n",
        "  Function to calculate log_loss\n",
        "  :param y_true: list of true values\n",
        "  :param y_proba: list of probabilities for 1\n",
        "  :return: overall log loss\n",
        "  \"\"\"\n",
        "  # define an epsilon value\n",
        "  # this can also be an input\n",
        "  # this value is used to clip probabilities\n",
        "  epsilon = 1e-15\n",
        "  # initialize empty list to store\n",
        "  # individual losses\n",
        "  loss = []\n",
        "  # loop over all true and predicted probability values\n",
        "  for yt, yp in zip(y_true, y_proba):\n",
        "    # adjust probability\n",
        "    # 0 gets converted to 1e-15\n",
        "    # 1 gets converted to 1-1e-15\n",
        "    # Why? Think about it!\n",
        "    yp = np.clip(yp, epsilon, 1 - epsilon)\n",
        "    # calculate loss for one sample\n",
        "    temp_loss = - 1.0 * (\n",
        "    yt * np.log(yp)\n",
        "    + (1 - yt) * np.log(1 - yp)\n",
        "    )\n",
        "    # add to loss list\n",
        "    loss.append(temp_loss)\n",
        "    # return mean loss over all samples\n",
        "  return np.mean(loss)"
      ],
      "execution_count": 39,
      "outputs": []
    },
    {
      "cell_type": "markdown",
      "metadata": {
        "id": "pE4PHOYbryRU"
      },
      "source": [
        "#Let’s test our implementation and compare with scikit-learn:"
      ]
    },
    {
      "cell_type": "code",
      "metadata": {
        "id": "KSi5P6KZr4Bj",
        "outputId": "e16e6d17-008d-4b42-9f12-aa093916f3d5",
        "colab": {
          "base_uri": "https://localhost:8080/",
          "height": 34
        }
      },
      "source": [
        "y_true = [0, 0, 0, 0, 1, 0, 1,0, 0, 1, 0, 1, 0, 0, 1]\n",
        "y_proba = [0.1, 0.3, 0.2, 0.6, 0.8, 0.05,0.9, 0.5, 0.3, 0.66, 0.3, 0.2,0.85, 0.15, 0.99]\n",
        "log_loss(y_true, y_proba),metrics.log_loss(y_true, y_proba)"
      ],
      "execution_count": 42,
      "outputs": [
        {
          "output_type": "execute_result",
          "data": {
            "text/plain": [
              "(0.49882711861432294, 0.49882711861432294)"
            ]
          },
          "metadata": {
            "tags": []
          },
          "execution_count": 42
        }
      ]
    },
    {
      "cell_type": "markdown",
      "metadata": {
        "id": "qXfcuf6lsXAE"
      },
      "source": [
        "#Implementation of log loss is easy.\n",
        "#Interpretation may seem a bit difficult. You must remember that log loss penalizes a lot more than other metrics.\n",
        "#For example, if you are 51% sure about a sample belonging to class 1, log losswould be:"
      ]
    },
    {
      "cell_type": "code",
      "metadata": {
        "id": "xNZRgmVXselE",
        "outputId": "9f13c951-5926-4f69-9f49-959d4ec79d2d",
        "colab": {
          "base_uri": "https://localhost:8080/",
          "height": 34
        }
      },
      "source": [
        "-1.0 *(1 * np.log(0.51) + (1-1) * np.log(1 -0.51))  #= 0.67"
      ],
      "execution_count": 48,
      "outputs": [
        {
          "output_type": "execute_result",
          "data": {
            "text/plain": [
              "0.6733445532637656"
            ]
          },
          "metadata": {
            "tags": []
          },
          "execution_count": 48
        }
      ]
    },
    {
      "cell_type": "markdown",
      "metadata": {
        "id": "VqB3Q0bttZCs"
      },
      "source": [
        "#And if you are 49% sure for a sample belonging to class 0, log loss would be:"
      ]
    },
    {
      "cell_type": "code",
      "metadata": {
        "id": "VRlE1HyItcSw",
        "outputId": "ef71beba-24cc-49be-93e2-cb0db133f6d2",
        "colab": {
          "base_uri": "https://localhost:8080/",
          "height": 34
        }
      },
      "source": [
        "-1.0 *(0 * np.log(0.49) + (1-0) * np.log(1 -0.49))  #= 0.67"
      ],
      "execution_count": 49,
      "outputs": [
        {
          "output_type": "execute_result",
          "data": {
            "text/plain": [
              "0.6733445532637656"
            ]
          },
          "metadata": {
            "tags": []
          },
          "execution_count": 49
        }
      ]
    },
    {
      "cell_type": "markdown",
      "metadata": {
        "id": "3yJsRS1uugvJ"
      },
      "source": [
        "#So, even though we can choose a cut off at 0.5 and get perfect predictions, we willstill have a very high log loss. So, when dealing with log loss, you need to be very careful; any non-confident prediction will have a very high log loss."
      ]
    },
    {
      "cell_type": "markdown",
      "metadata": {
        "id": "MuS9V6YjoHEg"
      },
      "source": [
        "#Most of the time, the top-left value on ROC curve should give you a quite good threshold"
      ]
    },
    {
      "cell_type": "markdown",
      "metadata": {
        "id": "mQr1b-7tvt7-"
      },
      "source": [
        "#This seems complicated but is easy to understand by python implementations. Let’ssee how macro-averaged precision is implemented."
      ]
    },
    {
      "cell_type": "code",
      "metadata": {
        "id": "SMKYNuaWomzN"
      },
      "source": [
        "import numpy as np\n",
        "def macro_precision(y_true, y_pred):\n",
        "  \"\"\"\n",
        "  Function to calculate macro averaged precision\n",
        "  :param y_true: list of true values\n",
        "  :param y_proba: list of predicted values\n",
        "  :return: macro precision score\n",
        "  \"\"\"\n",
        "  # find the number of classes by taking\n",
        "  # length of unique values in true list\n",
        "  num_classes = len(np.unique(y_true))\n",
        "  # initialize precision to 0\n",
        "  precision = 0\n",
        "  # loop over all classes\n",
        "  for class_ in range(num_classes):\n",
        "    # all classes except current are considered negative\n",
        "    temp_true = [1 if p == class_ else 0 for p in y_true]\n",
        "    temp_pred = [1 if p == class_ else 0 for p in y_pred]\n",
        "    # calculate true positive for current class\n",
        "    tp = true_positive(temp_true, temp_pred)\n",
        "    # calculate false positive for current class\n",
        "    fp = false_positive(temp_true, temp_pred)\n",
        "    # calculate precision for current class\n",
        "    temp_precision = tp / (tp + fp)\n",
        "    # keep adding precision for all classes\n",
        "    precision += temp_precision\n",
        "  # calculate and return average precision over all classes\n",
        "  precision /= num_classes\n",
        "  return precision"
      ],
      "execution_count": 50,
      "outputs": []
    },
    {
      "cell_type": "markdown",
      "metadata": {
        "id": "E6iIp-gWwizz"
      },
      "source": [
        "#You will notice that it wasn’t so difficult. Similarly, we have micro-averaged precision score."
      ]
    },
    {
      "cell_type": "code",
      "metadata": {
        "id": "MEneI070weWH"
      },
      "source": [
        "def micro_precision(y_true, y_pred):\n",
        "  \"\"\"\n",
        "  Function to calculate micro averaged precision\n",
        "  :param y_true: list of true values\n",
        "  :param y_proba: list of predicted values\n",
        "  :return: micro precision score\n",
        "  \"\"\"\n",
        "  # find the number of classes by taking\n",
        "  # length of unique values in true list\n",
        "  num_classes = len(np.unique(y_true))\n",
        "  # initialize tp and fp to 0\n",
        "  tp = 0\n",
        "  fp = 0\n",
        "  # loop over all classes\n",
        "  for class_ in range(num_classes):\n",
        "    # all classes except current are considered negative\n",
        "    temp_true = [1 if p == class_ else 0 for p in y_true]\n",
        "    temp_pred = [1 if p == class_ else 0 for p in y_pred]\n",
        "    # calculate true positive for current class\n",
        "    # and update overall tp\n",
        "    tp += true_positive(temp_true, temp_pred)\n",
        "    # calculate false positive for current class\n",
        "    # and update overall tp\n",
        "    fp += false_positive(temp_true, temp_pred)\n",
        "  # calculate and return overall precision\n",
        "  precision = tp / (tp + fp)\n",
        "  return precision"
      ],
      "execution_count": 51,
      "outputs": []
    },
    {
      "cell_type": "markdown",
      "metadata": {
        "id": "PUIGci02yKQL"
      },
      "source": [
        "#This isn’t difficult, either. Then what is? Nothing. Machine learning is easy.\n",
        "#Now, let’s look at the implementation of weighted precision"
      ]
    },
    {
      "cell_type": "code",
      "metadata": {
        "id": "CN4vlQbTyDQH"
      },
      "source": [
        "from collections import Counter\n",
        "import numpy as np\n",
        "def weighted_precision(y_true, y_pred):\n",
        "  \"\"\"\n",
        "  Function to calculate weighted averaged precision\n",
        "  :param y_true: list of true values\n",
        "  :param y_proba: list of predicted values\n",
        "  :return: weighted precision score\n",
        "  \"\"\"\n",
        "  # find the number of classes by taking\n",
        "  # length of unique values in true list\n",
        "  num_classes = len(np.unique(y_true))\n",
        "  # create class:sample count dictionary\n",
        "  # it looks something like this:\n",
        "  # {0: 20, 1:15, 2:21}\n",
        "  class_counts = Counter(y_true)\n",
        "  # initialize precision to 0\n",
        "  precision = 0\n",
        "  # loop over all classes\n",
        "  for class_ in range(num_classes):\n",
        "    # all classes except current are considered negative\n",
        "    temp_true = [1 if p == class_ else 0 for p in y_true]\n",
        "    temp_pred = [1 if p == class_ else 0 for p in y_pred]\n",
        "    # calculate tp and fp for class\n",
        "    tp = true_positive(temp_true, temp_pred)\n",
        "    fp = false_positive(temp_true, temp_pred)\n",
        "    # calculate precision of class\n",
        "    temp_precision = tp / (tp + fp)\n",
        "    # multiply precision with count of samples in class\n",
        "    weighted_precision = class_counts[class_] * temp_precision\n",
        "    # add to overall precision\n",
        "    precision += weighted_precision\n",
        "  # calculate overall precision by dividing by\n",
        "  # total number of samples\n",
        "  overall_precision = precision / len(y_true)\n",
        "  return overall_precision"
      ],
      "execution_count": 57,
      "outputs": []
    },
    {
      "cell_type": "markdown",
      "metadata": {
        "id": "C19oRg_tyJn8"
      },
      "source": [
        "#Let’s compare our implementations with scikit-learn to know if we implemented it right."
      ]
    },
    {
      "cell_type": "code",
      "metadata": {
        "id": "sc1OiIHpzDum"
      },
      "source": [
        "from sklearn import metrics\n",
        "y_true = [0, 1, 2, 0, 1, 2, 0, 2, 2]\n",
        "y_pred = [0, 2, 1, 0, 2, 1, 0, 0, 2]"
      ],
      "execution_count": 53,
      "outputs": []
    },
    {
      "cell_type": "code",
      "metadata": {
        "id": "zUEf-244zRBL",
        "outputId": "75563f21-6e94-4ca0-e528-7bd59d57755b",
        "colab": {
          "base_uri": "https://localhost:8080/",
          "height": 34
        }
      },
      "source": [
        "macro_precision(y_true, y_pred),metrics.precision_score(y_true, y_pred, average=\"macro\")"
      ],
      "execution_count": 54,
      "outputs": [
        {
          "output_type": "execute_result",
          "data": {
            "text/plain": [
              "(0.3611111111111111, 0.3611111111111111)"
            ]
          },
          "metadata": {
            "tags": []
          },
          "execution_count": 54
        }
      ]
    },
    {
      "cell_type": "code",
      "metadata": {
        "id": "kgnNCSlMzUsr",
        "outputId": "6d21c323-5d93-4335-893d-a3e3ec617e06",
        "colab": {
          "base_uri": "https://localhost:8080/",
          "height": 34
        }
      },
      "source": [
        "micro_precision(y_true, y_pred),metrics.precision_score(y_true, y_pred, average=\"micro\")"
      ],
      "execution_count": 55,
      "outputs": [
        {
          "output_type": "execute_result",
          "data": {
            "text/plain": [
              "(0.4444444444444444, 0.4444444444444444)"
            ]
          },
          "metadata": {
            "tags": []
          },
          "execution_count": 55
        }
      ]
    },
    {
      "cell_type": "code",
      "metadata": {
        "id": "5H-2J_DZzZA7",
        "outputId": "3003dad2-236e-4a88-a6e9-fc0e16d0096e",
        "colab": {
          "base_uri": "https://localhost:8080/",
          "height": 34
        }
      },
      "source": [
        "weighted_precision(y_true, y_pred),metrics.precision_score(y_true, y_pred, average=\"weighted\")"
      ],
      "execution_count": 58,
      "outputs": [
        {
          "output_type": "execute_result",
          "data": {
            "text/plain": [
              "(0.39814814814814814, 0.39814814814814814)"
            ]
          },
          "metadata": {
            "tags": []
          },
          "execution_count": 58
        }
      ]
    },
    {
      "cell_type": "code",
      "metadata": {
        "id": "CIHiD8VNzcrZ",
        "outputId": "8253bb9c-4a14-49fa-d76e-c61e0ea15771",
        "colab": {
          "base_uri": "https://localhost:8080/",
          "height": 34
        }
      },
      "source": [
        "class_counts = Counter(y_true)\n",
        "class_counts"
      ],
      "execution_count": 59,
      "outputs": [
        {
          "output_type": "execute_result",
          "data": {
            "text/plain": [
              "Counter({0: 3, 1: 2, 2: 4})"
            ]
          },
          "metadata": {
            "tags": []
          },
          "execution_count": 59
        }
      ]
    },
    {
      "cell_type": "code",
      "metadata": {
        "id": "rOT-o709zm3g"
      },
      "source": [
        "from collections import Counter\n",
        "import numpy as np\n",
        "def weighted_f1(y_true, y_pred):\n",
        "  \"\"\"\n",
        "  Function to calculate weighted f1 score\n",
        "  :param y_true: list of true values\n",
        "  :param y_proba: list of predicted values\n",
        "  :return: weighted f1 score\n",
        "  \"\"\"\n",
        "  # find the number of classes by taking\n",
        "  # length of unique values in true list\n",
        "  num_classes = len(np.unique(y_true))\n",
        "  # create class:sample count dictionary\n",
        "  # it looks something like this:\n",
        "  # {0: 20, 1:15, 2:21}\n",
        "  class_counts = Counter(y_true)\n",
        "  # initialize f1 to 0\n",
        "  f1 = 0\n",
        "  # loop over all classes\n",
        "  for class_ in range(num_classes):\n",
        "    # all classes except current are considered negative\n",
        "    temp_true = [1 if p == class_ else 0 for p in y_true]\n",
        "    temp_pred = [1 if p == class_ else 0 for p in y_pred]\n",
        "    # calculate precision and recall for class\n",
        "    p = precision(temp_true, temp_pred)\n",
        "    r = recall(temp_true, temp_pred)\n",
        "    # calculate f1 of class\n",
        "    if p + r != 0:\n",
        "      temp_f1 = 2 * p * r / (p + r)\n",
        "    else:\n",
        "      temp_f1 = 0\n",
        "    # multiply f1 with count of samples in class\n",
        "    weighted_f1 = class_counts[class_] * temp_f1\n",
        "    # add to f1 precision\n",
        "    f1 += weighted_f1\n",
        "  # calculate overall F1 by dividing by\n",
        "  # total number of samples\n",
        "  overall_f1 = f1 / len(y_true)\n",
        "  return overall_f1"
      ],
      "execution_count": 61,
      "outputs": []
    },
    {
      "cell_type": "code",
      "metadata": {
        "id": "V1jasCUp1B4g",
        "outputId": "901e80d0-d83a-4dca-ed0e-f3f10edd5984",
        "colab": {
          "base_uri": "https://localhost:8080/",
          "height": 34
        }
      },
      "source": [
        "weighted_f1(y_true, y_pred),metrics.f1_score(y_true, y_pred, average=\"weighted\")"
      ],
      "execution_count": 62,
      "outputs": [
        {
          "output_type": "execute_result",
          "data": {
            "text/plain": [
              "(0.41269841269841273, 0.41269841269841273)"
            ]
          },
          "metadata": {
            "tags": []
          },
          "execution_count": 62
        }
      ]
    },
    {
      "cell_type": "code",
      "metadata": {
        "id": "GgtQQ5w01lgu"
      },
      "source": [
        "def f1(y_true, y_pred):\n",
        "  \"\"\"\n",
        "  Function to calculate f1 score\n",
        "  :param y_true: list of true values\n",
        "  :param y_pred: list of predicted values\n",
        "  :return: f1 score\n",
        "  \"\"\"\n",
        "  p = precision(y_true, y_pred)\n",
        "  r = recall(y_true, y_pred)\n",
        "  if p + r != 0:\n",
        "    score = 2 * p * r / (p + r)\n",
        "  else:\n",
        "    score = 0\n",
        "  return score"
      ],
      "execution_count": 64,
      "outputs": []
    },
    {
      "cell_type": "code",
      "metadata": {
        "id": "JL0hN-qU11d2",
        "outputId": "de57d414-48c2-4d76-b9c5-2222061af256",
        "colab": {
          "base_uri": "https://localhost:8080/",
          "height": 290
        }
      },
      "source": [
        "f1(y_true, y_pred)"
      ],
      "execution_count": 66,
      "outputs": [
        {
          "output_type": "error",
          "ename": "ZeroDivisionError",
          "evalue": "ignored",
          "traceback": [
            "\u001b[0;31m---------------------------------------------------------------------------\u001b[0m",
            "\u001b[0;31mZeroDivisionError\u001b[0m                         Traceback (most recent call last)",
            "\u001b[0;32m<ipython-input-66-ff40971e720d>\u001b[0m in \u001b[0;36m<module>\u001b[0;34m()\u001b[0m\n\u001b[0;32m----> 1\u001b[0;31m \u001b[0mf1\u001b[0m\u001b[0;34m(\u001b[0m\u001b[0my_true\u001b[0m\u001b[0;34m,\u001b[0m \u001b[0my_pred\u001b[0m\u001b[0;34m)\u001b[0m\u001b[0;34m\u001b[0m\u001b[0;34m\u001b[0m\u001b[0m\n\u001b[0m",
            "\u001b[0;32m<ipython-input-64-b9b299598654>\u001b[0m in \u001b[0;36mf1\u001b[0;34m(y_true, y_pred)\u001b[0m\n\u001b[1;32m      6\u001b[0m   \u001b[0;34m:\u001b[0m\u001b[0;32mreturn\u001b[0m\u001b[0;34m:\u001b[0m \u001b[0mf1\u001b[0m \u001b[0mscore\u001b[0m\u001b[0;34m\u001b[0m\u001b[0;34m\u001b[0m\u001b[0m\n\u001b[1;32m      7\u001b[0m   \"\"\"\n\u001b[0;32m----> 8\u001b[0;31m   \u001b[0mp\u001b[0m \u001b[0;34m=\u001b[0m \u001b[0mprecision\u001b[0m\u001b[0;34m(\u001b[0m\u001b[0my_true\u001b[0m\u001b[0;34m,\u001b[0m \u001b[0my_pred\u001b[0m\u001b[0;34m)\u001b[0m\u001b[0;34m\u001b[0m\u001b[0;34m\u001b[0m\u001b[0m\n\u001b[0m\u001b[1;32m      9\u001b[0m   \u001b[0mr\u001b[0m \u001b[0;34m=\u001b[0m \u001b[0mrecall\u001b[0m\u001b[0;34m(\u001b[0m\u001b[0my_true\u001b[0m\u001b[0;34m,\u001b[0m \u001b[0my_pred\u001b[0m\u001b[0;34m)\u001b[0m\u001b[0;34m\u001b[0m\u001b[0;34m\u001b[0m\u001b[0m\n\u001b[1;32m     10\u001b[0m   \u001b[0;32mif\u001b[0m \u001b[0mp\u001b[0m \u001b[0;34m+\u001b[0m \u001b[0mr\u001b[0m \u001b[0;34m!=\u001b[0m \u001b[0;36m0\u001b[0m\u001b[0;34m:\u001b[0m\u001b[0;34m\u001b[0m\u001b[0;34m\u001b[0m\u001b[0m\n",
            "\u001b[0;32m<ipython-input-21-1009491ea755>\u001b[0m in \u001b[0;36mprecision\u001b[0;34m(y_true, y_pred)\u001b[0m\n\u001b[1;32m      8\u001b[0m   \u001b[0mtp\u001b[0m \u001b[0;34m=\u001b[0m \u001b[0mtrue_positive\u001b[0m\u001b[0;34m(\u001b[0m\u001b[0my_true\u001b[0m\u001b[0;34m,\u001b[0m \u001b[0my_pred\u001b[0m\u001b[0;34m)\u001b[0m\u001b[0;34m\u001b[0m\u001b[0;34m\u001b[0m\u001b[0m\n\u001b[1;32m      9\u001b[0m   \u001b[0mfp\u001b[0m \u001b[0;34m=\u001b[0m \u001b[0mfalse_positive\u001b[0m\u001b[0;34m(\u001b[0m\u001b[0my_true\u001b[0m\u001b[0;34m,\u001b[0m \u001b[0my_pred\u001b[0m\u001b[0;34m)\u001b[0m\u001b[0;34m\u001b[0m\u001b[0;34m\u001b[0m\u001b[0m\n\u001b[0;32m---> 10\u001b[0;31m   \u001b[0mprecision\u001b[0m \u001b[0;34m=\u001b[0m \u001b[0mtp\u001b[0m \u001b[0;34m/\u001b[0m \u001b[0;34m(\u001b[0m\u001b[0mtp\u001b[0m \u001b[0;34m+\u001b[0m \u001b[0mfp\u001b[0m\u001b[0;34m)\u001b[0m\u001b[0;34m\u001b[0m\u001b[0;34m\u001b[0m\u001b[0m\n\u001b[0m\u001b[1;32m     11\u001b[0m   \u001b[0;32mreturn\u001b[0m \u001b[0mprecision\u001b[0m\u001b[0;34m\u001b[0m\u001b[0;34m\u001b[0m\u001b[0m\n",
            "\u001b[0;31mZeroDivisionError\u001b[0m: division by zero"
          ]
        }
      ]
    },
    {
      "cell_type": "code",
      "metadata": {
        "id": "aLOTLdL71OJ0",
        "outputId": "9709a87c-4bf5-4f9f-94c9-ba840ae8762a",
        "colab": {
          "base_uri": "https://localhost:8080/",
          "height": 290
        }
      },
      "source": [
        "f1(y_true, y_pred),metrics.f1_score(y_true, y_pred)"
      ],
      "execution_count": 65,
      "outputs": [
        {
          "output_type": "error",
          "ename": "ZeroDivisionError",
          "evalue": "ignored",
          "traceback": [
            "\u001b[0;31m---------------------------------------------------------------------------\u001b[0m",
            "\u001b[0;31mZeroDivisionError\u001b[0m                         Traceback (most recent call last)",
            "\u001b[0;32m<ipython-input-65-17f8977ff759>\u001b[0m in \u001b[0;36m<module>\u001b[0;34m()\u001b[0m\n\u001b[0;32m----> 1\u001b[0;31m \u001b[0mf1\u001b[0m\u001b[0;34m(\u001b[0m\u001b[0my_true\u001b[0m\u001b[0;34m,\u001b[0m \u001b[0my_pred\u001b[0m\u001b[0;34m)\u001b[0m\u001b[0;34m,\u001b[0m\u001b[0mmetrics\u001b[0m\u001b[0;34m.\u001b[0m\u001b[0mf1_score\u001b[0m\u001b[0;34m(\u001b[0m\u001b[0my_true\u001b[0m\u001b[0;34m,\u001b[0m \u001b[0my_pred\u001b[0m\u001b[0;34m)\u001b[0m\u001b[0;34m\u001b[0m\u001b[0;34m\u001b[0m\u001b[0m\n\u001b[0m",
            "\u001b[0;32m<ipython-input-64-b9b299598654>\u001b[0m in \u001b[0;36mf1\u001b[0;34m(y_true, y_pred)\u001b[0m\n\u001b[1;32m      6\u001b[0m   \u001b[0;34m:\u001b[0m\u001b[0;32mreturn\u001b[0m\u001b[0;34m:\u001b[0m \u001b[0mf1\u001b[0m \u001b[0mscore\u001b[0m\u001b[0;34m\u001b[0m\u001b[0;34m\u001b[0m\u001b[0m\n\u001b[1;32m      7\u001b[0m   \"\"\"\n\u001b[0;32m----> 8\u001b[0;31m   \u001b[0mp\u001b[0m \u001b[0;34m=\u001b[0m \u001b[0mprecision\u001b[0m\u001b[0;34m(\u001b[0m\u001b[0my_true\u001b[0m\u001b[0;34m,\u001b[0m \u001b[0my_pred\u001b[0m\u001b[0;34m)\u001b[0m\u001b[0;34m\u001b[0m\u001b[0;34m\u001b[0m\u001b[0m\n\u001b[0m\u001b[1;32m      9\u001b[0m   \u001b[0mr\u001b[0m \u001b[0;34m=\u001b[0m \u001b[0mrecall\u001b[0m\u001b[0;34m(\u001b[0m\u001b[0my_true\u001b[0m\u001b[0;34m,\u001b[0m \u001b[0my_pred\u001b[0m\u001b[0;34m)\u001b[0m\u001b[0;34m\u001b[0m\u001b[0;34m\u001b[0m\u001b[0m\n\u001b[1;32m     10\u001b[0m   \u001b[0;32mif\u001b[0m \u001b[0mp\u001b[0m \u001b[0;34m+\u001b[0m \u001b[0mr\u001b[0m \u001b[0;34m!=\u001b[0m \u001b[0;36m0\u001b[0m\u001b[0;34m:\u001b[0m\u001b[0;34m\u001b[0m\u001b[0;34m\u001b[0m\u001b[0m\n",
            "\u001b[0;32m<ipython-input-21-1009491ea755>\u001b[0m in \u001b[0;36mprecision\u001b[0;34m(y_true, y_pred)\u001b[0m\n\u001b[1;32m      8\u001b[0m   \u001b[0mtp\u001b[0m \u001b[0;34m=\u001b[0m \u001b[0mtrue_positive\u001b[0m\u001b[0;34m(\u001b[0m\u001b[0my_true\u001b[0m\u001b[0;34m,\u001b[0m \u001b[0my_pred\u001b[0m\u001b[0;34m)\u001b[0m\u001b[0;34m\u001b[0m\u001b[0;34m\u001b[0m\u001b[0m\n\u001b[1;32m      9\u001b[0m   \u001b[0mfp\u001b[0m \u001b[0;34m=\u001b[0m \u001b[0mfalse_positive\u001b[0m\u001b[0;34m(\u001b[0m\u001b[0my_true\u001b[0m\u001b[0;34m,\u001b[0m \u001b[0my_pred\u001b[0m\u001b[0;34m)\u001b[0m\u001b[0;34m\u001b[0m\u001b[0;34m\u001b[0m\u001b[0m\n\u001b[0;32m---> 10\u001b[0;31m   \u001b[0mprecision\u001b[0m \u001b[0;34m=\u001b[0m \u001b[0mtp\u001b[0m \u001b[0;34m/\u001b[0m \u001b[0;34m(\u001b[0m\u001b[0mtp\u001b[0m \u001b[0;34m+\u001b[0m \u001b[0mfp\u001b[0m\u001b[0;34m)\u001b[0m\u001b[0;34m\u001b[0m\u001b[0;34m\u001b[0m\u001b[0m\n\u001b[0m\u001b[1;32m     11\u001b[0m   \u001b[0;32mreturn\u001b[0m \u001b[0mprecision\u001b[0m\u001b[0;34m\u001b[0m\u001b[0;34m\u001b[0m\u001b[0m\n",
            "\u001b[0;31mZeroDivisionError\u001b[0m: division by zero"
          ]
        }
      ]
    },
    {
      "cell_type": "code",
      "metadata": {
        "id": "P-zBP0EL1ZdA",
        "outputId": "8944e9b4-4ad6-40b4-87f8-38c03a148824",
        "colab": {
          "base_uri": "https://localhost:8080/",
          "height": 652
        }
      },
      "source": [
        "import matplotlib.pyplot as plt\n",
        "import seaborn as sns\n",
        "from sklearn import metrics\n",
        "# some targets\n",
        "y_true = [0, 1, 2, 0, 1, 2, 0, 2, 2]\n",
        "#some predictions\n",
        "y_pred = [0, 2, 1, 0, 2, 1, 0, 0, 2]\n",
        "# get confusion matrix from sklearn\n",
        "cm = metrics.confusion_matrix(y_true, y_pred)\n",
        "# plot using matplotlib and seaborn\n",
        "plt.figure(figsize=(10, 10))\n",
        "cmap = sns.cubehelix_palette(50, hue=0.05, rot=0, light=0.9, dark=0,\n",
        "as_cmap=True)\n",
        "sns.set(font_scale=2.5)\n",
        "sns.heatmap(cm, annot=True, cmap=cmap, cbar=False)\n",
        "plt.ylabel('Actual Labels', fontsize=20)\n",
        "plt.xlabel('Predicted Labels', fontsize=20)"
      ],
      "execution_count": 68,
      "outputs": [
        {
          "output_type": "execute_result",
          "data": {
            "text/plain": [
              "Text(0.5, 48.5, 'Predicted Labels')"
            ]
          },
          "metadata": {
            "tags": []
          },
          "execution_count": 68
        },
        {
          "output_type": "display_data",
          "data": {
            "image/png": "[encoded data removed]",
            "text/plain": [
              "<Figure size 720x720 with 1 Axes>"
            ]
          },
          "metadata": {
            "tags": []
          }
        }
      ]
    },
    {
      "cell_type": "markdown",
      "metadata": {
        "id": "DfGDAOfodLEv"
      },
      "source": [
        "#Writing good, understandable code is an essential quality one can have, and many data scientists ignore it. \n",
        "#If you work on a project that others can understand and use without consulting you, you save their time and your own time and can invest that time to improve your project or work on a new one."
      ]
    },
    {
      "cell_type": "code",
      "metadata": {
        "id": "zJTiIibz27-s"
      },
      "source": [
        ""
      ],
      "execution_count": null,
      "outputs": []
    }
  ]
}